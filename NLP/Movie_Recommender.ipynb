{
  "nbformat": 4,
  "nbformat_minor": 0,
  "metadata": {
    "colab": {
      "name": " Movie Recommender.ipynb",
      "provenance": [],
      "collapsed_sections": [],
      "include_colab_link": true
    },
    "kernelspec": {
      "name": "python3",
      "display_name": "Python 3"
    }
  },
  "cells": [
    {
      "cell_type": "markdown",
      "metadata": {
        "id": "view-in-github",
        "colab_type": "text"
      },
      "source": [
        "<a href=\"https://colab.research.google.com/github/ramapriyakp/Portfolio/blob/master/NLP/Movie_Recommender.ipynb\" target=\"_parent\"><img src=\"https://colab.research.google.com/assets/colab-badge.svg\" alt=\"Open In Colab\"/></a>"
      ]
    },
    {
      "cell_type": "markdown",
      "metadata": {
        "id": "0eNfc-GQHqE1",
        "colab_type": "text"
      },
      "source": [
        "# Movie Recommendations with Document Similarity"
      ]
    },
    {
      "cell_type": "markdown",
      "metadata": {
        "id": "fpYK83hIHySb",
        "colab_type": "text"
      },
      "source": [
        "Recommender systems are one of the popular and most adopted applications of machine learning. They are typically used to recommend entities to users and these entites can be anything like products, movies, services and so on.\n",
        "\n",
        "Popular examples of recommendations include,\n",
        "\n",
        "\n",
        "*   Amazon suggesting products on its website\n",
        "*   Amazon Prime, Netflix, Hotstar recommending movies\\shows\n",
        "*   YouTube recommending videos to watch\n",
        "\n",
        "Typically recommender systems can be implemented in three ways:\n",
        "\n",
        "*   **Simple Rule-based Recommenders**: Typically based on specific global metrics and thresholds like movie popularity, global ratings etc.\n",
        "*  **Content-based Recommenders**: This is based on providing similar entities based on a specific entity of interest. Content metadata can be used here like movie descriptions, genre, cast, director and so on\n",
        "*   **Collaborative filtering Recommenders**: Here we don't need metadata but we try to predict recommendations and ratings based on past ratings of different users and specific items.\n",
        "\n",
        "<p>\n",
        "We will be building a movie recommendation system here where based on data\\metadata pertaining to different movies, we try and recommend similar movies of interest!</p>\n",
        "\n",
        "Since our focus in not really recommendation engines but NLP, we will be leveraging the text-based metadata for each movie to try and recommend similar movies based on specific movies of interest. This falls under content-based recommenders.\n",
        "\n",
        "\n",
        "\n",
        "\n"
      ]
    },
    {
      "cell_type": "code",
      "metadata": {
        "id": "CfdCd8KC_jJF",
        "colab_type": "code",
        "outputId": "8f65f264-dc21-4a35-e0cb-ff8c315ed2af",
        "colab": {
          "base_uri": "https://localhost:8080/",
          "height": 122
        }
      },
      "source": [
        "from google.colab import drive\n",
        "drive.mount('/content/drive')"
      ],
      "execution_count": 0,
      "outputs": [
        {
          "output_type": "stream",
          "text": [
            "Go to this URL in a browser: https://accounts.google.com/o/oauth2/auth?client_id=947318989803-6bn6qk8qdgf4n4g3pfee6491hc0brc4i.apps.googleusercontent.com&redirect_uri=urn%3Aietf%3Awg%3Aoauth%3A2.0%3Aoob&scope=email%20https%3A%2F%2Fwww.googleapis.com%2Fauth%2Fdocs.test%20https%3A%2F%2Fwww.googleapis.com%2Fauth%2Fdrive%20https%3A%2F%2Fwww.googleapis.com%2Fauth%2Fdrive.photos.readonly%20https%3A%2F%2Fwww.googleapis.com%2Fauth%2Fpeopleapi.readonly&response_type=code\n",
            "\n",
            "Enter your authorization code:\n",
            "··········\n",
            "Mounted at /content/drive\n"
          ],
          "name": "stdout"
        }
      ]
    },
    {
      "cell_type": "code",
      "metadata": {
        "id": "xCCz9Dvf_xi7",
        "colab_type": "code",
        "outputId": "f6dc0578-dc58-48d9-9648-070d966d7880",
        "colab": {
          "base_uri": "https://localhost:8080/",
          "height": 34
        }
      },
      "source": [
        "cd /content/drive/My Drive/NLP"
      ],
      "execution_count": 0,
      "outputs": [
        {
          "output_type": "stream",
          "text": [
            "/content/drive/My Drive/NLP\n"
          ],
          "name": "stdout"
        }
      ]
    },
    {
      "cell_type": "markdown",
      "metadata": {
        "id": "uZUqF_EpJEYG",
        "colab_type": "text"
      },
      "source": [
        "## Load Dataset"
      ]
    },
    {
      "cell_type": "code",
      "metadata": {
        "id": "zyTa0KYe_9ZF",
        "colab_type": "code",
        "outputId": "7cc1d941-7313-4b92-eb4a-1a89053c25f9",
        "colab": {
          "base_uri": "https://localhost:8080/",
          "height": 224
        }
      },
      "source": [
        "#!wget https://github.com/dipanjanS/nlp_workshop_dhs18/blob/master/Solutions/tmdb_5000_movies.csv.gz"
      ],
      "execution_count": 0,
      "outputs": [
        {
          "output_type": "stream",
          "text": [
            "--2019-09-06 05:16:59--  https://github.com/dipanjanS/nlp_workshop_dhs18/blob/master/Solutions/tmdb_5000_movies.csv.gz\n",
            "Resolving github.com (github.com)... 140.82.114.3\n",
            "Connecting to github.com (github.com)|140.82.114.3|:443... connected.\n",
            "HTTP request sent, awaiting response... 200 OK\n",
            "Length: unspecified [text/html]\n",
            "Saving to: ‘tmdb_5000_movies.csv.gz’\n",
            "\n",
            "tmdb_5000_movies.cs     [ <=>                ]  62.68K  --.-KB/s    in 0.1s    \n",
            "\n",
            "2019-09-06 05:17:00 (490 KB/s) - ‘tmdb_5000_movies.csv.gz’ saved [64180]\n",
            "\n"
          ],
          "name": "stdout"
        }
      ]
    },
    {
      "cell_type": "code",
      "metadata": {
        "id": "V_EWFEAbFQC3",
        "colab_type": "code",
        "colab": {}
      },
      "source": [
        "#!gzip -d  tmdb_5000_movies.csv.gz"
      ],
      "execution_count": 0,
      "outputs": []
    },
    {
      "cell_type": "code",
      "metadata": {
        "id": "GfzWjDZhAY0u",
        "colab_type": "code",
        "outputId": "e16ed153-ff8c-49e5-f642-4904fe72e2ec",
        "colab": {
          "base_uri": "https://localhost:8080/",
          "height": 442
        }
      },
      "source": [
        "import pandas as pd\n",
        "\n",
        "df = pd.read_csv('tmdb_5000_movies.csv')\n",
        "df.info()"
      ],
      "execution_count": 0,
      "outputs": [
        {
          "output_type": "stream",
          "text": [
            "<class 'pandas.core.frame.DataFrame'>\n",
            "RangeIndex: 4803 entries, 0 to 4802\n",
            "Data columns (total 20 columns):\n",
            "budget                  4803 non-null int64\n",
            "genres                  4803 non-null object\n",
            "homepage                1712 non-null object\n",
            "id                      4803 non-null int64\n",
            "keywords                4803 non-null object\n",
            "original_language       4803 non-null object\n",
            "original_title          4803 non-null object\n",
            "overview                4800 non-null object\n",
            "popularity              4803 non-null float64\n",
            "production_companies    4803 non-null object\n",
            "production_countries    4803 non-null object\n",
            "release_date            4802 non-null object\n",
            "revenue                 4803 non-null int64\n",
            "runtime                 4801 non-null float64\n",
            "spoken_languages        4803 non-null object\n",
            "status                  4803 non-null object\n",
            "tagline                 3959 non-null object\n",
            "title                   4803 non-null object\n",
            "vote_average            4803 non-null float64\n",
            "vote_count              4803 non-null int64\n",
            "dtypes: float64(3), int64(4), object(13)\n",
            "memory usage: 750.5+ KB\n"
          ],
          "name": "stdout"
        }
      ]
    },
    {
      "cell_type": "code",
      "metadata": {
        "id": "uMLCfULlH7_K",
        "colab_type": "code",
        "outputId": "3e965efd-6754-45dd-ef8d-af20247a6950",
        "colab": {
          "base_uri": "https://localhost:8080/",
          "height": 417
        }
      },
      "source": [
        "df.head(3)"
      ],
      "execution_count": 0,
      "outputs": [
        {
          "output_type": "execute_result",
          "data": {
            "text/html": [
              "<div>\n",
              "<style scoped>\n",
              "    .dataframe tbody tr th:only-of-type {\n",
              "        vertical-align: middle;\n",
              "    }\n",
              "\n",
              "    .dataframe tbody tr th {\n",
              "        vertical-align: top;\n",
              "    }\n",
              "\n",
              "    .dataframe thead th {\n",
              "        text-align: right;\n",
              "    }\n",
              "</style>\n",
              "<table border=\"1\" class=\"dataframe\">\n",
              "  <thead>\n",
              "    <tr style=\"text-align: right;\">\n",
              "      <th></th>\n",
              "      <th>budget</th>\n",
              "      <th>genres</th>\n",
              "      <th>homepage</th>\n",
              "      <th>id</th>\n",
              "      <th>keywords</th>\n",
              "      <th>original_language</th>\n",
              "      <th>original_title</th>\n",
              "      <th>overview</th>\n",
              "      <th>popularity</th>\n",
              "      <th>production_companies</th>\n",
              "      <th>production_countries</th>\n",
              "      <th>release_date</th>\n",
              "      <th>revenue</th>\n",
              "      <th>runtime</th>\n",
              "      <th>spoken_languages</th>\n",
              "      <th>status</th>\n",
              "      <th>tagline</th>\n",
              "      <th>title</th>\n",
              "      <th>vote_average</th>\n",
              "      <th>vote_count</th>\n",
              "    </tr>\n",
              "  </thead>\n",
              "  <tbody>\n",
              "    <tr>\n",
              "      <th>0</th>\n",
              "      <td>237000000</td>\n",
              "      <td>[{\"id\": 28, \"name\": \"Action\"}, {\"id\": 12, \"nam...</td>\n",
              "      <td>http://www.avatarmovie.com/</td>\n",
              "      <td>19995</td>\n",
              "      <td>[{\"id\": 1463, \"name\": \"culture clash\"}, {\"id\":...</td>\n",
              "      <td>en</td>\n",
              "      <td>Avatar</td>\n",
              "      <td>In the 22nd century, a paraplegic Marine is di...</td>\n",
              "      <td>150.437577</td>\n",
              "      <td>[{\"name\": \"Ingenious Film Partners\", \"id\": 289...</td>\n",
              "      <td>[{\"iso_3166_1\": \"US\", \"name\": \"United States o...</td>\n",
              "      <td>2009-12-10</td>\n",
              "      <td>2787965087</td>\n",
              "      <td>162.0</td>\n",
              "      <td>[{\"iso_639_1\": \"en\", \"name\": \"English\"}, {\"iso...</td>\n",
              "      <td>Released</td>\n",
              "      <td>Enter the World of Pandora.</td>\n",
              "      <td>Avatar</td>\n",
              "      <td>7.2</td>\n",
              "      <td>11800</td>\n",
              "    </tr>\n",
              "    <tr>\n",
              "      <th>1</th>\n",
              "      <td>300000000</td>\n",
              "      <td>[{\"id\": 12, \"name\": \"Adventure\"}, {\"id\": 14, \"...</td>\n",
              "      <td>http://disney.go.com/disneypictures/pirates/</td>\n",
              "      <td>285</td>\n",
              "      <td>[{\"id\": 270, \"name\": \"ocean\"}, {\"id\": 726, \"na...</td>\n",
              "      <td>en</td>\n",
              "      <td>Pirates of the Caribbean: At World's End</td>\n",
              "      <td>Captain Barbossa, long believed to be dead, ha...</td>\n",
              "      <td>139.082615</td>\n",
              "      <td>[{\"name\": \"Walt Disney Pictures\", \"id\": 2}, {\"...</td>\n",
              "      <td>[{\"iso_3166_1\": \"US\", \"name\": \"United States o...</td>\n",
              "      <td>2007-05-19</td>\n",
              "      <td>961000000</td>\n",
              "      <td>169.0</td>\n",
              "      <td>[{\"iso_639_1\": \"en\", \"name\": \"English\"}]</td>\n",
              "      <td>Released</td>\n",
              "      <td>At the end of the world, the adventure begins.</td>\n",
              "      <td>Pirates of the Caribbean: At World's End</td>\n",
              "      <td>6.9</td>\n",
              "      <td>4500</td>\n",
              "    </tr>\n",
              "    <tr>\n",
              "      <th>2</th>\n",
              "      <td>245000000</td>\n",
              "      <td>[{\"id\": 28, \"name\": \"Action\"}, {\"id\": 12, \"nam...</td>\n",
              "      <td>http://www.sonypictures.com/movies/spectre/</td>\n",
              "      <td>206647</td>\n",
              "      <td>[{\"id\": 470, \"name\": \"spy\"}, {\"id\": 818, \"name...</td>\n",
              "      <td>en</td>\n",
              "      <td>Spectre</td>\n",
              "      <td>A cryptic message from Bond’s past sends him o...</td>\n",
              "      <td>107.376788</td>\n",
              "      <td>[{\"name\": \"Columbia Pictures\", \"id\": 5}, {\"nam...</td>\n",
              "      <td>[{\"iso_3166_1\": \"GB\", \"name\": \"United Kingdom\"...</td>\n",
              "      <td>2015-10-26</td>\n",
              "      <td>880674609</td>\n",
              "      <td>148.0</td>\n",
              "      <td>[{\"iso_639_1\": \"fr\", \"name\": \"Fran\\u00e7ais\"},...</td>\n",
              "      <td>Released</td>\n",
              "      <td>A Plan No One Escapes</td>\n",
              "      <td>Spectre</td>\n",
              "      <td>6.3</td>\n",
              "      <td>4466</td>\n",
              "    </tr>\n",
              "  </tbody>\n",
              "</table>\n",
              "</div>"
            ],
            "text/plain": [
              "      budget  ... vote_count\n",
              "0  237000000  ...      11800\n",
              "1  300000000  ...       4500\n",
              "2  245000000  ...       4466\n",
              "\n",
              "[3 rows x 20 columns]"
            ]
          },
          "metadata": {
            "tags": []
          },
          "execution_count": 4
        }
      ]
    },
    {
      "cell_type": "code",
      "metadata": {
        "id": "SzSqzYPeOfnM",
        "colab_type": "code",
        "outputId": "eb680f95-64e8-40ff-b230-1eb1b45cf209",
        "colab": {
          "base_uri": "https://localhost:8080/",
          "height": 204
        }
      },
      "source": [
        "df = df[['title', 'tagline', 'overview', 'genres', 'popularity']]\n",
        "df.tagline.fillna('', inplace=True)\n",
        "df['description'] = df['tagline'].map(str) + ' ' + df['overview']\n",
        "df.dropna(inplace=True)\n",
        "df.info()"
      ],
      "execution_count": 0,
      "outputs": [
        {
          "output_type": "stream",
          "text": [
            "<class 'pandas.core.frame.DataFrame'>\n",
            "Int64Index: 4800 entries, 0 to 4802\n",
            "Data columns (total 6 columns):\n",
            "title          4800 non-null object\n",
            "tagline        4800 non-null object\n",
            "overview       4800 non-null object\n",
            "genres         4800 non-null object\n",
            "popularity     4800 non-null float64\n",
            "description    4800 non-null object\n",
            "dtypes: float64(1), object(5)\n",
            "memory usage: 262.5+ KB\n"
          ],
          "name": "stdout"
        }
      ]
    },
    {
      "cell_type": "code",
      "metadata": {
        "id": "vSFhAFFNgKuh",
        "colab_type": "code",
        "outputId": "c4ff6a49-6048-462a-c412-2ddcb6e53c41",
        "colab": {
          "base_uri": "https://localhost:8080/",
          "height": 391
        }
      },
      "source": [
        "df.head()"
      ],
      "execution_count": 0,
      "outputs": [
        {
          "output_type": "execute_result",
          "data": {
            "text/html": [
              "<div>\n",
              "<style scoped>\n",
              "    .dataframe tbody tr th:only-of-type {\n",
              "        vertical-align: middle;\n",
              "    }\n",
              "\n",
              "    .dataframe tbody tr th {\n",
              "        vertical-align: top;\n",
              "    }\n",
              "\n",
              "    .dataframe thead th {\n",
              "        text-align: right;\n",
              "    }\n",
              "</style>\n",
              "<table border=\"1\" class=\"dataframe\">\n",
              "  <thead>\n",
              "    <tr style=\"text-align: right;\">\n",
              "      <th></th>\n",
              "      <th>title</th>\n",
              "      <th>tagline</th>\n",
              "      <th>overview</th>\n",
              "      <th>genres</th>\n",
              "      <th>popularity</th>\n",
              "      <th>description</th>\n",
              "    </tr>\n",
              "  </thead>\n",
              "  <tbody>\n",
              "    <tr>\n",
              "      <th>0</th>\n",
              "      <td>Avatar</td>\n",
              "      <td>Enter the World of Pandora.</td>\n",
              "      <td>In the 22nd century, a paraplegic Marine is di...</td>\n",
              "      <td>[{\"id\": 28, \"name\": \"Action\"}, {\"id\": 12, \"nam...</td>\n",
              "      <td>150.437577</td>\n",
              "      <td>Enter the World of Pandora. In the 22nd centur...</td>\n",
              "    </tr>\n",
              "    <tr>\n",
              "      <th>1</th>\n",
              "      <td>Pirates of the Caribbean: At World's End</td>\n",
              "      <td>At the end of the world, the adventure begins.</td>\n",
              "      <td>Captain Barbossa, long believed to be dead, ha...</td>\n",
              "      <td>[{\"id\": 12, \"name\": \"Adventure\"}, {\"id\": 14, \"...</td>\n",
              "      <td>139.082615</td>\n",
              "      <td>At the end of the world, the adventure begins....</td>\n",
              "    </tr>\n",
              "    <tr>\n",
              "      <th>2</th>\n",
              "      <td>Spectre</td>\n",
              "      <td>A Plan No One Escapes</td>\n",
              "      <td>A cryptic message from Bond’s past sends him o...</td>\n",
              "      <td>[{\"id\": 28, \"name\": \"Action\"}, {\"id\": 12, \"nam...</td>\n",
              "      <td>107.376788</td>\n",
              "      <td>A Plan No One Escapes A cryptic message from B...</td>\n",
              "    </tr>\n",
              "    <tr>\n",
              "      <th>3</th>\n",
              "      <td>The Dark Knight Rises</td>\n",
              "      <td>The Legend Ends</td>\n",
              "      <td>Following the death of District Attorney Harve...</td>\n",
              "      <td>[{\"id\": 28, \"name\": \"Action\"}, {\"id\": 80, \"nam...</td>\n",
              "      <td>112.312950</td>\n",
              "      <td>The Legend Ends Following the death of Distric...</td>\n",
              "    </tr>\n",
              "    <tr>\n",
              "      <th>4</th>\n",
              "      <td>John Carter</td>\n",
              "      <td>Lost in our world, found in another.</td>\n",
              "      <td>John Carter is a war-weary, former military ca...</td>\n",
              "      <td>[{\"id\": 28, \"name\": \"Action\"}, {\"id\": 12, \"nam...</td>\n",
              "      <td>43.926995</td>\n",
              "      <td>Lost in our world, found in another. John Cart...</td>\n",
              "    </tr>\n",
              "  </tbody>\n",
              "</table>\n",
              "</div>"
            ],
            "text/plain": [
              "                                      title  ...                                        description\n",
              "0                                    Avatar  ...  Enter the World of Pandora. In the 22nd centur...\n",
              "1  Pirates of the Caribbean: At World's End  ...  At the end of the world, the adventure begins....\n",
              "2                                   Spectre  ...  A Plan No One Escapes A cryptic message from B...\n",
              "3                     The Dark Knight Rises  ...  The Legend Ends Following the death of Distric...\n",
              "4                               John Carter  ...  Lost in our world, found in another. John Cart...\n",
              "\n",
              "[5 rows x 6 columns]"
            ]
          },
          "metadata": {
            "tags": []
          },
          "execution_count": 6
        }
      ]
    },
    {
      "cell_type": "markdown",
      "metadata": {
        "id": "EZU-92z3JQI-",
        "colab_type": "text"
      },
      "source": [
        "## Your Turn: Build a Movie Recommender System\n",
        "Here you will build your own movie recommender system. We will use the following pipeline:\n",
        "\n",
        "\n",
        "*   Text pre-processing\n",
        "*   Feature Engineering\n",
        "*   Document Similarity Computation\n",
        "*   Find top similar movies\n",
        "*   Build a movie recommendation function\n",
        "\n",
        "\n",
        "\n",
        "\n",
        "\n",
        "\n",
        "\n",
        "\n",
        "\n",
        "\n"
      ]
    },
    {
      "cell_type": "markdown",
      "metadata": {
        "id": "YAfjJyogKCaU",
        "colab_type": "text"
      },
      "source": [
        "##Document Similarity\n",
        "\n",
        "Recommendations are about understanding the underlying features which make us favour one choice over the other. Similarity between items(in this case movies) is one way to understanding why we choose one movie over another. There are different ways to calculate similarity between two items. One of the most widely used measures is cosine similarity which we have already used in the previous unit."
      ]
    },
    {
      "cell_type": "markdown",
      "metadata": {
        "id": "re3xdJuqKK3G",
        "colab_type": "text"
      },
      "source": [
        "##Cosine Similarity\n",
        "\n",
        "Cosine Similarity is used to calculate a numeric score to denote the similarity between two text documents.<br>\n",
        "![coine](https://render.githubusercontent.com/render/math?math=cosine%28x%2Cy%29%20%3D%20%5Cfrac%7Bx.%20y%5E%5Cintercal%7D%7B%7C%7Cx%7C%7C.%7C%7Cy%7C%7C%7D&mode=display)\n",
        " "
      ]
    },
    {
      "cell_type": "code",
      "metadata": {
        "id": "0tqf2x9GIaIv",
        "colab_type": "code",
        "outputId": "256085ac-3892-4704-bceb-5ffc62fa57f5",
        "colab": {
          "base_uri": "https://localhost:8080/",
          "height": 102
        }
      },
      "source": [
        "import nltk\n",
        "nltk.data.path.append('/content/drive/My Drive/NLP')\n",
        "nltk.download('stopwords')\n",
        "stop_words = nltk.corpus.stopwords.words('english')\n",
        "nltk.download('punkt')"
      ],
      "execution_count": 0,
      "outputs": [
        {
          "output_type": "stream",
          "text": [
            "[nltk_data] Downloading package stopwords to /root/nltk_data...\n",
            "[nltk_data]   Unzipping corpora/stopwords.zip.\n",
            "[nltk_data] Downloading package punkt to /root/nltk_data...\n",
            "[nltk_data]   Unzipping tokenizers/punkt.zip.\n"
          ],
          "name": "stdout"
        },
        {
          "output_type": "execute_result",
          "data": {
            "text/plain": [
              "True"
            ]
          },
          "metadata": {
            "tags": []
          },
          "execution_count": 7
        }
      ]
    },
    {
      "cell_type": "markdown",
      "metadata": {
        "id": "uWtTLP9lMmpD",
        "colab_type": "text"
      },
      "source": [
        "##Text pre-processing\n",
        "\n",
        "We will do some basic text pre-processing on our movie descriptions before we build our features"
      ]
    },
    {
      "cell_type": "code",
      "metadata": {
        "id": "hQoup_FTINX4",
        "colab_type": "code",
        "outputId": "281c59a3-68bd-41c7-e5bb-f200b9552314",
        "colab": {
          "base_uri": "https://localhost:8080/",
          "height": 34
        }
      },
      "source": [
        "\n",
        "import re\n",
        "import numpy as np\n",
        "\n",
        "stop_words = nltk.corpus.stopwords.words('english')\n",
        "\n",
        "def normalize_document(doc):\n",
        "    # lower case and remove special characters\\whitespaces\n",
        "    doc = re.sub(r'[^a-zA-Z0-9\\s]', '', doc, re.I|re.A)\n",
        "    doc = doc.lower()\n",
        "    doc = doc.strip()\n",
        "    # tokenize document\n",
        "    tokens = nltk.word_tokenize(doc)\n",
        "    # filter stopwords out of document\n",
        "    filtered_tokens = [token for token in tokens if token not in stop_words]\n",
        "    # re-create document from filtered tokens\n",
        "    doc = ' '.join(filtered_tokens)\n",
        "    return doc\n",
        "\n",
        "  \n",
        "normalize_corpus = np.vectorize(normalize_document)\n",
        "\n",
        "norm_corpus = normalize_corpus(list(df['overview']))\n",
        "len(norm_corpus)"
      ],
      "execution_count": 0,
      "outputs": [
        {
          "output_type": "execute_result",
          "data": {
            "text/plain": [
              "4800"
            ]
          },
          "metadata": {
            "tags": []
          },
          "execution_count": 8
        }
      ]
    },
    {
      "cell_type": "markdown",
      "metadata": {
        "id": "lh12MHi3Myiv",
        "colab_type": "text"
      },
      "source": [
        "## Extract TF-IDF Features"
      ]
    },
    {
      "cell_type": "code",
      "metadata": {
        "id": "glX7WcxsgYEG",
        "colab_type": "code",
        "outputId": "a7e66f2b-399c-45a5-b346-f158f371fce8",
        "colab": {
          "base_uri": "https://localhost:8080/",
          "height": 34
        }
      },
      "source": [
        "from sklearn.feature_extraction.text import TfidfVectorizer\n",
        "\n",
        "tf = TfidfVectorizer(ngram_range=(1, 2), min_df=2,stop_words='english')\n",
        "tfidf_matrix = tf.fit_transform(df['description'])\n",
        "tfidf_matrix.shape"
      ],
      "execution_count": 0,
      "outputs": [
        {
          "output_type": "execute_result",
          "data": {
            "text/plain": [
              "(4800, 19029)"
            ]
          },
          "metadata": {
            "tags": []
          },
          "execution_count": 9
        }
      ]
    },
    {
      "cell_type": "markdown",
      "metadata": {
        "id": "dwgpqAXkM8lz",
        "colab_type": "text"
      },
      "source": [
        "## Compute Pairwise Document Similarity\n",
        "The similarity between\n",
        "two documents is a\n",
        "function of the angle\n",
        "between their vectors in\n",
        "the term vector space."
      ]
    },
    {
      "cell_type": "code",
      "metadata": {
        "id": "h8GVW6NVgfME",
        "colab_type": "code",
        "outputId": "cc8468c9-4071-4d0b-f5e6-f5276fb5b8de",
        "colab": {
          "base_uri": "https://localhost:8080/",
          "height": 253
        }
      },
      "source": [
        "from sklearn.metrics.pairwise import cosine_similarity\n",
        "\n",
        "doc_sim = cosine_similarity(tfidf_matrix)\n",
        "doc_sim_df = pd.DataFrame(doc_sim)\n",
        "doc_sim_df.head()"
      ],
      "execution_count": 0,
      "outputs": [
        {
          "output_type": "execute_result",
          "data": {
            "text/html": [
              "<div>\n",
              "<style scoped>\n",
              "    .dataframe tbody tr th:only-of-type {\n",
              "        vertical-align: middle;\n",
              "    }\n",
              "\n",
              "    .dataframe tbody tr th {\n",
              "        vertical-align: top;\n",
              "    }\n",
              "\n",
              "    .dataframe thead th {\n",
              "        text-align: right;\n",
              "    }\n",
              "</style>\n",
              "<table border=\"1\" class=\"dataframe\">\n",
              "  <thead>\n",
              "    <tr style=\"text-align: right;\">\n",
              "      <th></th>\n",
              "      <th>0</th>\n",
              "      <th>1</th>\n",
              "      <th>2</th>\n",
              "      <th>3</th>\n",
              "      <th>4</th>\n",
              "      <th>5</th>\n",
              "      <th>6</th>\n",
              "      <th>7</th>\n",
              "      <th>8</th>\n",
              "      <th>9</th>\n",
              "      <th>10</th>\n",
              "      <th>11</th>\n",
              "      <th>12</th>\n",
              "      <th>13</th>\n",
              "      <th>14</th>\n",
              "      <th>15</th>\n",
              "      <th>16</th>\n",
              "      <th>17</th>\n",
              "      <th>18</th>\n",
              "      <th>19</th>\n",
              "      <th>20</th>\n",
              "      <th>21</th>\n",
              "      <th>22</th>\n",
              "      <th>23</th>\n",
              "      <th>24</th>\n",
              "      <th>25</th>\n",
              "      <th>26</th>\n",
              "      <th>27</th>\n",
              "      <th>28</th>\n",
              "      <th>29</th>\n",
              "      <th>30</th>\n",
              "      <th>31</th>\n",
              "      <th>32</th>\n",
              "      <th>33</th>\n",
              "      <th>34</th>\n",
              "      <th>35</th>\n",
              "      <th>36</th>\n",
              "      <th>37</th>\n",
              "      <th>38</th>\n",
              "      <th>39</th>\n",
              "      <th>...</th>\n",
              "      <th>4760</th>\n",
              "      <th>4761</th>\n",
              "      <th>4762</th>\n",
              "      <th>4763</th>\n",
              "      <th>4764</th>\n",
              "      <th>4765</th>\n",
              "      <th>4766</th>\n",
              "      <th>4767</th>\n",
              "      <th>4768</th>\n",
              "      <th>4769</th>\n",
              "      <th>4770</th>\n",
              "      <th>4771</th>\n",
              "      <th>4772</th>\n",
              "      <th>4773</th>\n",
              "      <th>4774</th>\n",
              "      <th>4775</th>\n",
              "      <th>4776</th>\n",
              "      <th>4777</th>\n",
              "      <th>4778</th>\n",
              "      <th>4779</th>\n",
              "      <th>4780</th>\n",
              "      <th>4781</th>\n",
              "      <th>4782</th>\n",
              "      <th>4783</th>\n",
              "      <th>4784</th>\n",
              "      <th>4785</th>\n",
              "      <th>4786</th>\n",
              "      <th>4787</th>\n",
              "      <th>4788</th>\n",
              "      <th>4789</th>\n",
              "      <th>4790</th>\n",
              "      <th>4791</th>\n",
              "      <th>4792</th>\n",
              "      <th>4793</th>\n",
              "      <th>4794</th>\n",
              "      <th>4795</th>\n",
              "      <th>4796</th>\n",
              "      <th>4797</th>\n",
              "      <th>4798</th>\n",
              "      <th>4799</th>\n",
              "    </tr>\n",
              "  </thead>\n",
              "  <tbody>\n",
              "    <tr>\n",
              "      <th>0</th>\n",
              "      <td>1.000000</td>\n",
              "      <td>0.010900</td>\n",
              "      <td>0.0</td>\n",
              "      <td>0.017381</td>\n",
              "      <td>0.014895</td>\n",
              "      <td>0.020905</td>\n",
              "      <td>0.000000</td>\n",
              "      <td>0.027303</td>\n",
              "      <td>0.000000</td>\n",
              "      <td>0.006796</td>\n",
              "      <td>0.000000</td>\n",
              "      <td>0.013663</td>\n",
              "      <td>0.000000</td>\n",
              "      <td>0.0</td>\n",
              "      <td>0.008540</td>\n",
              "      <td>0.000000</td>\n",
              "      <td>0.008047</td>\n",
              "      <td>0.000000</td>\n",
              "      <td>0.000000</td>\n",
              "      <td>0.000000</td>\n",
              "      <td>0.000000</td>\n",
              "      <td>0.000000</td>\n",
              "      <td>0.0</td>\n",
              "      <td>0.000000</td>\n",
              "      <td>0.008298</td>\n",
              "      <td>0.000000</td>\n",
              "      <td>0.035638</td>\n",
              "      <td>0.043384</td>\n",
              "      <td>0.007492</td>\n",
              "      <td>0.026091</td>\n",
              "      <td>0.000000</td>\n",
              "      <td>0.053908</td>\n",
              "      <td>0.006067</td>\n",
              "      <td>0.0</td>\n",
              "      <td>0.0</td>\n",
              "      <td>0.000000</td>\n",
              "      <td>0.059387</td>\n",
              "      <td>0.0</td>\n",
              "      <td>0.000000</td>\n",
              "      <td>0.007564</td>\n",
              "      <td>...</td>\n",
              "      <td>0.000000</td>\n",
              "      <td>0.000000</td>\n",
              "      <td>0.000000</td>\n",
              "      <td>0.0</td>\n",
              "      <td>0.000000</td>\n",
              "      <td>0.0</td>\n",
              "      <td>0.000000</td>\n",
              "      <td>0.000000</td>\n",
              "      <td>0.0</td>\n",
              "      <td>0.000000</td>\n",
              "      <td>0.0</td>\n",
              "      <td>0.047855</td>\n",
              "      <td>0.000000</td>\n",
              "      <td>0.000000</td>\n",
              "      <td>0.005291</td>\n",
              "      <td>0.000000</td>\n",
              "      <td>0.000000</td>\n",
              "      <td>0.0</td>\n",
              "      <td>0.000000</td>\n",
              "      <td>0.000000</td>\n",
              "      <td>0.000000</td>\n",
              "      <td>0.000000</td>\n",
              "      <td>0.000000</td>\n",
              "      <td>0.000000</td>\n",
              "      <td>0.0</td>\n",
              "      <td>0.000000</td>\n",
              "      <td>0.0</td>\n",
              "      <td>0.0</td>\n",
              "      <td>0.000000</td>\n",
              "      <td>0.0</td>\n",
              "      <td>0.011336</td>\n",
              "      <td>0.0</td>\n",
              "      <td>0.022451</td>\n",
              "      <td>0.033565</td>\n",
              "      <td>0.000000</td>\n",
              "      <td>0.000000</td>\n",
              "      <td>0.0</td>\n",
              "      <td>0.006380</td>\n",
              "      <td>0.000000</td>\n",
              "      <td>0.000000</td>\n",
              "    </tr>\n",
              "    <tr>\n",
              "      <th>1</th>\n",
              "      <td>0.010900</td>\n",
              "      <td>1.000000</td>\n",
              "      <td>0.0</td>\n",
              "      <td>0.000000</td>\n",
              "      <td>0.046851</td>\n",
              "      <td>0.000000</td>\n",
              "      <td>0.013986</td>\n",
              "      <td>0.048842</td>\n",
              "      <td>0.036272</td>\n",
              "      <td>0.008119</td>\n",
              "      <td>0.000000</td>\n",
              "      <td>0.000000</td>\n",
              "      <td>0.041431</td>\n",
              "      <td>0.0</td>\n",
              "      <td>0.032665</td>\n",
              "      <td>0.005338</td>\n",
              "      <td>0.028153</td>\n",
              "      <td>0.038403</td>\n",
              "      <td>0.005539</td>\n",
              "      <td>0.031881</td>\n",
              "      <td>0.025883</td>\n",
              "      <td>0.000000</td>\n",
              "      <td>0.0</td>\n",
              "      <td>0.024763</td>\n",
              "      <td>0.009912</td>\n",
              "      <td>0.030826</td>\n",
              "      <td>0.041082</td>\n",
              "      <td>0.035680</td>\n",
              "      <td>0.008950</td>\n",
              "      <td>0.007050</td>\n",
              "      <td>0.000000</td>\n",
              "      <td>0.012648</td>\n",
              "      <td>0.007247</td>\n",
              "      <td>0.0</td>\n",
              "      <td>0.0</td>\n",
              "      <td>0.008790</td>\n",
              "      <td>0.018041</td>\n",
              "      <td>0.0</td>\n",
              "      <td>0.018382</td>\n",
              "      <td>0.009036</td>\n",
              "      <td>...</td>\n",
              "      <td>0.014591</td>\n",
              "      <td>0.000000</td>\n",
              "      <td>0.000000</td>\n",
              "      <td>0.0</td>\n",
              "      <td>0.016982</td>\n",
              "      <td>0.0</td>\n",
              "      <td>0.000000</td>\n",
              "      <td>0.000000</td>\n",
              "      <td>0.0</td>\n",
              "      <td>0.000000</td>\n",
              "      <td>0.0</td>\n",
              "      <td>0.000000</td>\n",
              "      <td>0.007424</td>\n",
              "      <td>0.010514</td>\n",
              "      <td>0.016610</td>\n",
              "      <td>0.035169</td>\n",
              "      <td>0.008152</td>\n",
              "      <td>0.0</td>\n",
              "      <td>0.009869</td>\n",
              "      <td>0.007231</td>\n",
              "      <td>0.014142</td>\n",
              "      <td>0.019248</td>\n",
              "      <td>0.009004</td>\n",
              "      <td>0.005798</td>\n",
              "      <td>0.0</td>\n",
              "      <td>0.000000</td>\n",
              "      <td>0.0</td>\n",
              "      <td>0.0</td>\n",
              "      <td>0.009477</td>\n",
              "      <td>0.0</td>\n",
              "      <td>0.013542</td>\n",
              "      <td>0.0</td>\n",
              "      <td>0.005337</td>\n",
              "      <td>0.000000</td>\n",
              "      <td>0.000000</td>\n",
              "      <td>0.014553</td>\n",
              "      <td>0.0</td>\n",
              "      <td>0.024862</td>\n",
              "      <td>0.014993</td>\n",
              "      <td>0.000000</td>\n",
              "    </tr>\n",
              "    <tr>\n",
              "      <th>2</th>\n",
              "      <td>0.000000</td>\n",
              "      <td>0.000000</td>\n",
              "      <td>1.0</td>\n",
              "      <td>0.000000</td>\n",
              "      <td>0.000000</td>\n",
              "      <td>0.000000</td>\n",
              "      <td>0.000000</td>\n",
              "      <td>0.026555</td>\n",
              "      <td>0.016419</td>\n",
              "      <td>0.000000</td>\n",
              "      <td>0.000000</td>\n",
              "      <td>0.134325</td>\n",
              "      <td>0.000000</td>\n",
              "      <td>0.0</td>\n",
              "      <td>0.000000</td>\n",
              "      <td>0.000000</td>\n",
              "      <td>0.000000</td>\n",
              "      <td>0.038649</td>\n",
              "      <td>0.025757</td>\n",
              "      <td>0.000000</td>\n",
              "      <td>0.000000</td>\n",
              "      <td>0.000000</td>\n",
              "      <td>0.0</td>\n",
              "      <td>0.017114</td>\n",
              "      <td>0.000000</td>\n",
              "      <td>0.000000</td>\n",
              "      <td>0.000000</td>\n",
              "      <td>0.000000</td>\n",
              "      <td>0.000000</td>\n",
              "      <td>0.124928</td>\n",
              "      <td>0.000000</td>\n",
              "      <td>0.000000</td>\n",
              "      <td>0.022071</td>\n",
              "      <td>0.0</td>\n",
              "      <td>0.0</td>\n",
              "      <td>0.060224</td>\n",
              "      <td>0.014304</td>\n",
              "      <td>0.0</td>\n",
              "      <td>0.011407</td>\n",
              "      <td>0.000000</td>\n",
              "      <td>...</td>\n",
              "      <td>0.016081</td>\n",
              "      <td>0.017824</td>\n",
              "      <td>0.025515</td>\n",
              "      <td>0.0</td>\n",
              "      <td>0.057629</td>\n",
              "      <td>0.0</td>\n",
              "      <td>0.000000</td>\n",
              "      <td>0.000000</td>\n",
              "      <td>0.0</td>\n",
              "      <td>0.000000</td>\n",
              "      <td>0.0</td>\n",
              "      <td>0.000000</td>\n",
              "      <td>0.000000</td>\n",
              "      <td>0.000000</td>\n",
              "      <td>0.000000</td>\n",
              "      <td>0.045249</td>\n",
              "      <td>0.000000</td>\n",
              "      <td>0.0</td>\n",
              "      <td>0.000000</td>\n",
              "      <td>0.000000</td>\n",
              "      <td>0.018116</td>\n",
              "      <td>0.000000</td>\n",
              "      <td>0.000000</td>\n",
              "      <td>0.000000</td>\n",
              "      <td>0.0</td>\n",
              "      <td>0.024311</td>\n",
              "      <td>0.0</td>\n",
              "      <td>0.0</td>\n",
              "      <td>0.000000</td>\n",
              "      <td>0.0</td>\n",
              "      <td>0.041340</td>\n",
              "      <td>0.0</td>\n",
              "      <td>0.000000</td>\n",
              "      <td>0.000000</td>\n",
              "      <td>0.017991</td>\n",
              "      <td>0.000000</td>\n",
              "      <td>0.0</td>\n",
              "      <td>0.013308</td>\n",
              "      <td>0.000000</td>\n",
              "      <td>0.000000</td>\n",
              "    </tr>\n",
              "    <tr>\n",
              "      <th>3</th>\n",
              "      <td>0.017381</td>\n",
              "      <td>0.000000</td>\n",
              "      <td>0.0</td>\n",
              "      <td>1.000000</td>\n",
              "      <td>0.008594</td>\n",
              "      <td>0.003440</td>\n",
              "      <td>0.013215</td>\n",
              "      <td>0.023328</td>\n",
              "      <td>0.024011</td>\n",
              "      <td>0.129431</td>\n",
              "      <td>0.000000</td>\n",
              "      <td>0.000000</td>\n",
              "      <td>0.000000</td>\n",
              "      <td>0.0</td>\n",
              "      <td>0.000000</td>\n",
              "      <td>0.005828</td>\n",
              "      <td>0.015224</td>\n",
              "      <td>0.000000</td>\n",
              "      <td>0.004603</td>\n",
              "      <td>0.009242</td>\n",
              "      <td>0.005352</td>\n",
              "      <td>0.026179</td>\n",
              "      <td>0.0</td>\n",
              "      <td>0.000000</td>\n",
              "      <td>0.013980</td>\n",
              "      <td>0.027135</td>\n",
              "      <td>0.015355</td>\n",
              "      <td>0.000000</td>\n",
              "      <td>0.006054</td>\n",
              "      <td>0.021185</td>\n",
              "      <td>0.014182</td>\n",
              "      <td>0.022524</td>\n",
              "      <td>0.018967</td>\n",
              "      <td>0.0</td>\n",
              "      <td>0.0</td>\n",
              "      <td>0.000000</td>\n",
              "      <td>0.023523</td>\n",
              "      <td>0.0</td>\n",
              "      <td>0.022488</td>\n",
              "      <td>0.008728</td>\n",
              "      <td>...</td>\n",
              "      <td>0.010891</td>\n",
              "      <td>0.014990</td>\n",
              "      <td>0.029758</td>\n",
              "      <td>0.0</td>\n",
              "      <td>0.026441</td>\n",
              "      <td>0.0</td>\n",
              "      <td>0.005819</td>\n",
              "      <td>0.009617</td>\n",
              "      <td>0.0</td>\n",
              "      <td>0.017402</td>\n",
              "      <td>0.0</td>\n",
              "      <td>0.000000</td>\n",
              "      <td>0.000000</td>\n",
              "      <td>0.000000</td>\n",
              "      <td>0.004275</td>\n",
              "      <td>0.000000</td>\n",
              "      <td>0.000000</td>\n",
              "      <td>0.0</td>\n",
              "      <td>0.033549</td>\n",
              "      <td>0.000000</td>\n",
              "      <td>0.009128</td>\n",
              "      <td>0.009251</td>\n",
              "      <td>0.000000</td>\n",
              "      <td>0.019550</td>\n",
              "      <td>0.0</td>\n",
              "      <td>0.000000</td>\n",
              "      <td>0.0</td>\n",
              "      <td>0.0</td>\n",
              "      <td>0.000000</td>\n",
              "      <td>0.0</td>\n",
              "      <td>0.000000</td>\n",
              "      <td>0.0</td>\n",
              "      <td>0.009462</td>\n",
              "      <td>0.000000</td>\n",
              "      <td>0.000000</td>\n",
              "      <td>0.000000</td>\n",
              "      <td>0.0</td>\n",
              "      <td>0.027134</td>\n",
              "      <td>0.034467</td>\n",
              "      <td>0.028035</td>\n",
              "    </tr>\n",
              "    <tr>\n",
              "      <th>4</th>\n",
              "      <td>0.014895</td>\n",
              "      <td>0.046851</td>\n",
              "      <td>0.0</td>\n",
              "      <td>0.008594</td>\n",
              "      <td>1.000000</td>\n",
              "      <td>0.000000</td>\n",
              "      <td>0.008966</td>\n",
              "      <td>0.031135</td>\n",
              "      <td>0.000000</td>\n",
              "      <td>0.020320</td>\n",
              "      <td>0.017168</td>\n",
              "      <td>0.000000</td>\n",
              "      <td>0.028309</td>\n",
              "      <td>0.0</td>\n",
              "      <td>0.013940</td>\n",
              "      <td>0.000000</td>\n",
              "      <td>0.091171</td>\n",
              "      <td>0.015654</td>\n",
              "      <td>0.013326</td>\n",
              "      <td>0.015671</td>\n",
              "      <td>0.007845</td>\n",
              "      <td>0.015258</td>\n",
              "      <td>0.0</td>\n",
              "      <td>0.000000</td>\n",
              "      <td>0.027581</td>\n",
              "      <td>0.000000</td>\n",
              "      <td>0.055140</td>\n",
              "      <td>0.051313</td>\n",
              "      <td>0.027138</td>\n",
              "      <td>0.019616</td>\n",
              "      <td>0.000000</td>\n",
              "      <td>0.017284</td>\n",
              "      <td>0.026499</td>\n",
              "      <td>0.0</td>\n",
              "      <td>0.0</td>\n",
              "      <td>0.012268</td>\n",
              "      <td>0.045677</td>\n",
              "      <td>0.0</td>\n",
              "      <td>0.000000</td>\n",
              "      <td>0.025142</td>\n",
              "      <td>...</td>\n",
              "      <td>0.000000</td>\n",
              "      <td>0.000000</td>\n",
              "      <td>0.000000</td>\n",
              "      <td>0.0</td>\n",
              "      <td>0.000000</td>\n",
              "      <td>0.0</td>\n",
              "      <td>0.000000</td>\n",
              "      <td>0.000000</td>\n",
              "      <td>0.0</td>\n",
              "      <td>0.023107</td>\n",
              "      <td>0.0</td>\n",
              "      <td>0.000000</td>\n",
              "      <td>0.000000</td>\n",
              "      <td>0.000000</td>\n",
              "      <td>0.008636</td>\n",
              "      <td>0.000000</td>\n",
              "      <td>0.000000</td>\n",
              "      <td>0.0</td>\n",
              "      <td>0.000000</td>\n",
              "      <td>0.000000</td>\n",
              "      <td>0.014930</td>\n",
              "      <td>0.007985</td>\n",
              "      <td>0.000000</td>\n",
              "      <td>0.000000</td>\n",
              "      <td>0.0</td>\n",
              "      <td>0.000000</td>\n",
              "      <td>0.0</td>\n",
              "      <td>0.0</td>\n",
              "      <td>0.000000</td>\n",
              "      <td>0.0</td>\n",
              "      <td>0.018505</td>\n",
              "      <td>0.0</td>\n",
              "      <td>0.000000</td>\n",
              "      <td>0.000000</td>\n",
              "      <td>0.000000</td>\n",
              "      <td>0.000000</td>\n",
              "      <td>0.0</td>\n",
              "      <td>0.023291</td>\n",
              "      <td>0.000000</td>\n",
              "      <td>0.000000</td>\n",
              "    </tr>\n",
              "  </tbody>\n",
              "</table>\n",
              "<p>5 rows × 4800 columns</p>\n",
              "</div>"
            ],
            "text/plain": [
              "       0         1     2         3     ...  4796      4797      4798      4799\n",
              "0  1.000000  0.010900   0.0  0.017381  ...   0.0  0.006380  0.000000  0.000000\n",
              "1  0.010900  1.000000   0.0  0.000000  ...   0.0  0.024862  0.014993  0.000000\n",
              "2  0.000000  0.000000   1.0  0.000000  ...   0.0  0.013308  0.000000  0.000000\n",
              "3  0.017381  0.000000   0.0  1.000000  ...   0.0  0.027134  0.034467  0.028035\n",
              "4  0.014895  0.046851   0.0  0.008594  ...   0.0  0.023291  0.000000  0.000000\n",
              "\n",
              "[5 rows x 4800 columns]"
            ]
          },
          "metadata": {
            "tags": []
          },
          "execution_count": 10
        }
      ]
    },
    {
      "cell_type": "markdown",
      "metadata": {
        "id": "H2vkHwmmNGn-",
        "colab_type": "text"
      },
      "source": [
        "## Get List of Movie Titles"
      ]
    },
    {
      "cell_type": "code",
      "metadata": {
        "id": "7IyilU-pgkUW",
        "colab_type": "code",
        "outputId": "e7890ce7-92c7-4c02-f790-65818408dd15",
        "colab": {
          "base_uri": "https://localhost:8080/",
          "height": 68
        }
      },
      "source": [
        "movies_list = df['title'].values\n",
        "movies_list, movies_list.shape"
      ],
      "execution_count": 0,
      "outputs": [
        {
          "output_type": "execute_result",
          "data": {
            "text/plain": [
              "(array(['Avatar', \"Pirates of the Caribbean: At World's End\", 'Spectre',\n",
              "        ..., 'Signed, Sealed, Delivered', 'Shanghai Calling',\n",
              "        'My Date with Drew'], dtype=object), (4800,))"
            ]
          },
          "metadata": {
            "tags": []
          },
          "execution_count": 11
        }
      ]
    },
    {
      "cell_type": "markdown",
      "metadata": {
        "id": "84AWhTIYNNe0",
        "colab_type": "text"
      },
      "source": [
        "## Sort Dataset by Popular Movies"
      ]
    },
    {
      "cell_type": "code",
      "metadata": {
        "id": "p023N4Dygoc9",
        "colab_type": "code",
        "outputId": "eb06dcf8-38e1-456d-c384-7bfd524eda9f",
        "colab": {
          "base_uri": "https://localhost:8080/",
          "height": 869
        }
      },
      "source": [
        "pop_movies = df.sort_values(by='popularity', ascending=False)\n",
        "pop_movies.head(10)"
      ],
      "execution_count": 0,
      "outputs": [
        {
          "output_type": "execute_result",
          "data": {
            "text/html": [
              "<div>\n",
              "<style scoped>\n",
              "    .dataframe tbody tr th:only-of-type {\n",
              "        vertical-align: middle;\n",
              "    }\n",
              "\n",
              "    .dataframe tbody tr th {\n",
              "        vertical-align: top;\n",
              "    }\n",
              "\n",
              "    .dataframe thead th {\n",
              "        text-align: right;\n",
              "    }\n",
              "</style>\n",
              "<table border=\"1\" class=\"dataframe\">\n",
              "  <thead>\n",
              "    <tr style=\"text-align: right;\">\n",
              "      <th></th>\n",
              "      <th>title</th>\n",
              "      <th>tagline</th>\n",
              "      <th>overview</th>\n",
              "      <th>genres</th>\n",
              "      <th>popularity</th>\n",
              "      <th>description</th>\n",
              "    </tr>\n",
              "  </thead>\n",
              "  <tbody>\n",
              "    <tr>\n",
              "      <th>546</th>\n",
              "      <td>Minions</td>\n",
              "      <td>Before Gru, they had a history of bad bosses</td>\n",
              "      <td>Minions Stuart, Kevin and Bob are recruited by...</td>\n",
              "      <td>[{\"id\": 10751, \"name\": \"Family\"}, {\"id\": 16, \"...</td>\n",
              "      <td>875.581305</td>\n",
              "      <td>Before Gru, they had a history of bad bosses M...</td>\n",
              "    </tr>\n",
              "    <tr>\n",
              "      <th>95</th>\n",
              "      <td>Interstellar</td>\n",
              "      <td>Mankind was born on Earth. It was never meant ...</td>\n",
              "      <td>Interstellar chronicles the adventures of a gr...</td>\n",
              "      <td>[{\"id\": 12, \"name\": \"Adventure\"}, {\"id\": 18, \"...</td>\n",
              "      <td>724.247784</td>\n",
              "      <td>Mankind was born on Earth. It was never meant ...</td>\n",
              "    </tr>\n",
              "    <tr>\n",
              "      <th>788</th>\n",
              "      <td>Deadpool</td>\n",
              "      <td>Witness the beginning of a happy ending</td>\n",
              "      <td>Deadpool tells the origin story of former Spec...</td>\n",
              "      <td>[{\"id\": 28, \"name\": \"Action\"}, {\"id\": 12, \"nam...</td>\n",
              "      <td>514.569956</td>\n",
              "      <td>Witness the beginning of a happy ending Deadpo...</td>\n",
              "    </tr>\n",
              "    <tr>\n",
              "      <th>94</th>\n",
              "      <td>Guardians of the Galaxy</td>\n",
              "      <td>All heroes start somewhere.</td>\n",
              "      <td>Light years from Earth, 26 years after being a...</td>\n",
              "      <td>[{\"id\": 28, \"name\": \"Action\"}, {\"id\": 878, \"na...</td>\n",
              "      <td>481.098624</td>\n",
              "      <td>All heroes start somewhere. Light years from E...</td>\n",
              "    </tr>\n",
              "    <tr>\n",
              "      <th>127</th>\n",
              "      <td>Mad Max: Fury Road</td>\n",
              "      <td>What a Lovely Day.</td>\n",
              "      <td>An apocalyptic story set in the furthest reach...</td>\n",
              "      <td>[{\"id\": 28, \"name\": \"Action\"}, {\"id\": 12, \"nam...</td>\n",
              "      <td>434.278564</td>\n",
              "      <td>What a Lovely Day. An apocalyptic story set in...</td>\n",
              "    </tr>\n",
              "    <tr>\n",
              "      <th>28</th>\n",
              "      <td>Jurassic World</td>\n",
              "      <td>The park is open.</td>\n",
              "      <td>Twenty-two years after the events of Jurassic ...</td>\n",
              "      <td>[{\"id\": 28, \"name\": \"Action\"}, {\"id\": 12, \"nam...</td>\n",
              "      <td>418.708552</td>\n",
              "      <td>The park is open. Twenty-two years after the e...</td>\n",
              "    </tr>\n",
              "    <tr>\n",
              "      <th>199</th>\n",
              "      <td>Pirates of the Caribbean: The Curse of the Bla...</td>\n",
              "      <td>Prepare to be blown out of the water.</td>\n",
              "      <td>Jack Sparrow, a freewheeling 17th-century pira...</td>\n",
              "      <td>[{\"id\": 12, \"name\": \"Adventure\"}, {\"id\": 14, \"...</td>\n",
              "      <td>271.972889</td>\n",
              "      <td>Prepare to be blown out of the water. Jack Spa...</td>\n",
              "    </tr>\n",
              "    <tr>\n",
              "      <th>82</th>\n",
              "      <td>Dawn of the Planet of the Apes</td>\n",
              "      <td>One last chance for peace.</td>\n",
              "      <td>A group of scientists in San Francisco struggl...</td>\n",
              "      <td>[{\"id\": 878, \"name\": \"Science Fiction\"}, {\"id\"...</td>\n",
              "      <td>243.791743</td>\n",
              "      <td>One last chance for peace. A group of scientis...</td>\n",
              "    </tr>\n",
              "    <tr>\n",
              "      <th>200</th>\n",
              "      <td>The Hunger Games: Mockingjay - Part 1</td>\n",
              "      <td>Fire burns brighter in the darkness</td>\n",
              "      <td>Katniss Everdeen reluctantly becomes the symbo...</td>\n",
              "      <td>[{\"id\": 878, \"name\": \"Science Fiction\"}, {\"id\"...</td>\n",
              "      <td>206.227151</td>\n",
              "      <td>Fire burns brighter in the darkness Katniss Ev...</td>\n",
              "    </tr>\n",
              "    <tr>\n",
              "      <th>88</th>\n",
              "      <td>Big Hero 6</td>\n",
              "      <td>From the creators of Wreck-it Ralph and Frozen</td>\n",
              "      <td>The special bond that develops between plus-si...</td>\n",
              "      <td>[{\"id\": 12, \"name\": \"Adventure\"}, {\"id\": 10751...</td>\n",
              "      <td>203.734590</td>\n",
              "      <td>From the creators of Wreck-it Ralph and Frozen...</td>\n",
              "    </tr>\n",
              "  </tbody>\n",
              "</table>\n",
              "</div>"
            ],
            "text/plain": [
              "                                                 title  ...                                        description\n",
              "546                                            Minions  ...  Before Gru, they had a history of bad bosses M...\n",
              "95                                        Interstellar  ...  Mankind was born on Earth. It was never meant ...\n",
              "788                                           Deadpool  ...  Witness the beginning of a happy ending Deadpo...\n",
              "94                             Guardians of the Galaxy  ...  All heroes start somewhere. Light years from E...\n",
              "127                                 Mad Max: Fury Road  ...  What a Lovely Day. An apocalyptic story set in...\n",
              "28                                      Jurassic World  ...  The park is open. Twenty-two years after the e...\n",
              "199  Pirates of the Caribbean: The Curse of the Bla...  ...  Prepare to be blown out of the water. Jack Spa...\n",
              "82                      Dawn of the Planet of the Apes  ...  One last chance for peace. A group of scientis...\n",
              "200              The Hunger Games: Mockingjay - Part 1  ...  Fire burns brighter in the darkness Katniss Ev...\n",
              "88                                          Big Hero 6  ...  From the creators of Wreck-it Ralph and Frozen...\n",
              "\n",
              "[10 rows x 6 columns]"
            ]
          },
          "metadata": {
            "tags": []
          },
          "execution_count": 12
        }
      ]
    },
    {
      "cell_type": "markdown",
      "metadata": {
        "id": "bl3FgswoNYFK",
        "colab_type": "text"
      },
      "source": [
        "## Find Top Similar Movies for a Sample Movie\n",
        "\n",
        "Let's take **Minions** the most popular movie the the dataframe above and try and find the most similar movies which can be recommended\n",
        "\n",
        "###Find movie ID"
      ]
    },
    {
      "cell_type": "code",
      "metadata": {
        "id": "08pEqjktgvNf",
        "colab_type": "code",
        "outputId": "33f50060-158c-4f71-b7e9-f0d538b6f4c6",
        "colab": {
          "base_uri": "https://localhost:8080/",
          "height": 34
        }
      },
      "source": [
        "movie_idx = np.where(movies_list == 'Minions')[0][0]\n",
        "movie_idx"
      ],
      "execution_count": 0,
      "outputs": [
        {
          "output_type": "execute_result",
          "data": {
            "text/plain": [
              "546"
            ]
          },
          "metadata": {
            "tags": []
          },
          "execution_count": 13
        }
      ]
    },
    {
      "cell_type": "markdown",
      "metadata": {
        "id": "y1tBSF1rNn6Q",
        "colab_type": "text"
      },
      "source": [
        "###Get movie similarities"
      ]
    },
    {
      "cell_type": "code",
      "metadata": {
        "id": "TVcr6Y1ogziP",
        "colab_type": "code",
        "outputId": "6468f862-f51f-430f-ce1f-87e4c5673187",
        "colab": {
          "base_uri": "https://localhost:8080/",
          "height": 51
        }
      },
      "source": [
        "movie_similarities = doc_sim_df.iloc[movie_idx].values\n",
        "movie_similarities"
      ],
      "execution_count": 0,
      "outputs": [
        {
          "output_type": "execute_result",
          "data": {
            "text/plain": [
              "array([0.00980645, 0.01171429, 0.        , ..., 0.00685701, 0.        ,\n",
              "       0.        ])"
            ]
          },
          "metadata": {
            "tags": []
          },
          "execution_count": 14
        }
      ]
    },
    {
      "cell_type": "markdown",
      "metadata": {
        "id": "TUmCMTzaN2Vy",
        "colab_type": "text"
      },
      "source": [
        "###Get top 5 similar movie IDs"
      ]
    },
    {
      "cell_type": "code",
      "metadata": {
        "id": "ppp7TnxWg3Lc",
        "colab_type": "code",
        "outputId": "7c7bd6eb-d542-433a-bf5e-a1900f0f4ac6",
        "colab": {
          "base_uri": "https://localhost:8080/",
          "height": 34
        }
      },
      "source": [
        "similar_movie_idxs = np.argsort(-movie_similarities)[1:6]\n",
        "similar_movie_idxs"
      ],
      "execution_count": 0,
      "outputs": [
        {
          "output_type": "execute_result",
          "data": {
            "text/plain": [
              "array([ 506,  614, 3943,  221, 2511])"
            ]
          },
          "metadata": {
            "tags": []
          },
          "execution_count": 16
        }
      ]
    },
    {
      "cell_type": "markdown",
      "metadata": {
        "id": "Qbe2dR6COCj5",
        "colab_type": "text"
      },
      "source": [
        "###Get top 5 similar movies"
      ]
    },
    {
      "cell_type": "code",
      "metadata": {
        "id": "aBxRWxpsg7Go",
        "colab_type": "code",
        "outputId": "7082a7ef-ea73-47ef-a126-45968df1d679",
        "colab": {
          "base_uri": "https://localhost:8080/",
          "height": 51
        }
      },
      "source": [
        "similar_movies = movies_list[similar_movie_idxs]\n",
        "similar_movies"
      ],
      "execution_count": 0,
      "outputs": [
        {
          "output_type": "execute_result",
          "data": {
            "text/plain": [
              "array(['Despicable Me 2', 'Despicable Me', 'Freeway', 'Stuart Little 2',\n",
              "       'Home Alone'], dtype=object)"
            ]
          },
          "metadata": {
            "tags": []
          },
          "execution_count": 17
        }
      ]
    },
    {
      "cell_type": "markdown",
      "metadata": {
        "id": "V5Eooym1OPsu",
        "colab_type": "text"
      },
      "source": [
        "##Build a movie recommender function to recommend top 5 similar movies for any movie\n",
        "\n",
        "The movie title, movie title list and document similarity matrix dataframe will be given as inputs to the function"
      ]
    },
    {
      "cell_type": "code",
      "metadata": {
        "id": "ePUdTQzZhF-f",
        "colab_type": "code",
        "colab": {}
      },
      "source": [
        "def movie_recommender(movie_title, movies=movies_list, doc_sims=doc_sim_df):\n",
        "    # find movie id\n",
        "    movie_idx = np.where(movies == movie_title)[0][0]\n",
        "    # get movie similarities\n",
        "    movie_similarities = doc_sims.iloc[movie_idx].values\n",
        "    # get top 5 similar movie IDs\n",
        "    similar_movie_idxs = np.argsort(-movie_similarities)[1:6]\n",
        "    # get top 5 movies\n",
        "    similar_movies = movies[similar_movie_idxs]\n",
        "    # return the top 5 movies\n",
        "    return similar_movies"
      ],
      "execution_count": 0,
      "outputs": []
    },
    {
      "cell_type": "markdown",
      "metadata": {
        "id": "fkB7N1qHT-xd",
        "colab_type": "text"
      },
      "source": [
        "##Now use this function on the top 20 popular movies\n",
        "\n",
        "Hint:  get first 20 titles from the popular_movies dataframe"
      ]
    },
    {
      "cell_type": "code",
      "metadata": {
        "id": "mPoACTzmhLkn",
        "colab_type": "code",
        "colab": {}
      },
      "source": [
        "popular_movies = pop_movies['title'].values[:20]"
      ],
      "execution_count": 0,
      "outputs": []
    },
    {
      "cell_type": "code",
      "metadata": {
        "id": "bouU_qDGhRkf",
        "colab_type": "code",
        "outputId": "ccf4ddbe-d695-4eaa-de13-137c0cfec3ae",
        "colab": {
          "base_uri": "https://localhost:8080/",
          "height": 1000
        }
      },
      "source": [
        "for movie in popular_movies:\n",
        "    print('Movie:', movie)\n",
        "    print('Top 5 recommended Movies:', movie_recommender(movie_title=movie))\n",
        "    print()"
      ],
      "execution_count": 0,
      "outputs": [
        {
          "output_type": "stream",
          "text": [
            "Movie: Minions\n",
            "Top 5 recommended Movies: ['Despicable Me 2' 'Despicable Me' 'Freeway' 'Stuart Little 2'\n",
            " 'Home Alone']\n",
            "\n",
            "Movie: Interstellar\n",
            "Top 5 recommended Movies: ['Gattaca' 'Space Pirate Captain Harlock' 'Space Cowboys'\n",
            " 'Final Destination 2' 'Starship Troopers']\n",
            "\n",
            "Movie: Deadpool\n",
            "Top 5 recommended Movies: ['Don Jon' 'Shaft' 'Mars Attacks!' 'Bronson' 'Underworld: Evolution']\n",
            "\n",
            "Movie: Guardians of the Galaxy\n",
            "Top 5 recommended Movies: ['Krull' 'E.T. the Extra-Terrestrial' 'American Sniper' 'Due Date'\n",
            " 'Space Battleship Yamato']\n",
            "\n",
            "Movie: Mad Max: Fury Road\n",
            "Top 5 recommended Movies: ['Star Trek Beyond' 'The 6th Day' 'Kites' 'The Notebook'\n",
            " 'Killing Them Softly']\n",
            "\n",
            "Movie: Jurassic World\n",
            "Top 5 recommended Movies: ['The Lost World: Jurassic Park' 'Jurassic Park' 'The Nut Job'\n",
            " \"National Lampoon's Vacation\" 'Vacation']\n",
            "\n",
            "Movie: Pirates of the Caribbean: The Curse of the Black Pearl\n",
            "Top 5 recommended Movies: [\"Pirates of the Caribbean: Dead Man's Chest\" 'The Pirate'\n",
            " 'Pirates of the Caribbean: On Stranger Tides'\n",
            " 'The Pirates! In an Adventure with Scientists!' 'The New World']\n",
            "\n",
            "Movie: Dawn of the Planet of the Apes\n",
            "Top 5 recommended Movies: ['Battle for the Planet of the Apes' 'Groove' 'The Other End of the Line'\n",
            " 'Crank: High Voltage' 'Conquest of the Planet of the Apes']\n",
            "\n",
            "Movie: The Hunger Games: Mockingjay - Part 1\n",
            "Top 5 recommended Movies: ['The Hunger Games: Catching Fire' 'The Hunger Games: Mockingjay - Part 2'\n",
            " 'For Greater Glory - The True Story of Cristiada' 'The Proposition'\n",
            " 'Circumstance']\n",
            "\n",
            "Movie: Big Hero 6\n",
            "Top 5 recommended Movies: ['Phat Girlz' 'Wreck-It Ralph' 'Bandslam' 'A Home at the End of the World'\n",
            " 'The Stepford Wives']\n",
            "\n",
            "Movie: Terminator Genisys\n",
            "Top 5 recommended Movies: ['Terminator 2: Judgment Day' 'Terminator 3: Rise of the Machines'\n",
            " 'Terminator Salvation' 'X-Men: Days of Future Past' 'Sound of My Voice']\n",
            "\n",
            "Movie: Captain America: Civil War\n",
            "Top 5 recommended Movies: ['Captain America: The Winter Soldier' 'This Means War'\n",
            " 'Avengers: Age of Ultron' 'Escape from Tomorrow' 'Iron Man 2']\n",
            "\n",
            "Movie: Whiplash\n",
            "Top 5 recommended Movies: ['An American in Hollywood' 'R100' 'Grace Unplugged' 'Drumline'\n",
            " 'Kung Fu Jungle']\n",
            "\n",
            "Movie: The Dark Knight\n",
            "Top 5 recommended Movies: ['The Dark Knight Rises' 'Batman Forever' 'Batman Returns'\n",
            " 'Batman: The Dark Knight Returns, Part 2' 'Batman']\n",
            "\n",
            "Movie: The Martian\n",
            "Top 5 recommended Movies: ['The Last Days on Mars' 'Alive' 'All Is Lost' 'Brothers'\n",
            " 'Escape from Planet Earth']\n",
            "\n",
            "Movie: Inception\n",
            "Top 5 recommended Movies: ['Renaissance' 'Cypher' 'Closer to the Moon' 'Lone Star' 'Pitch Perfect 2']\n",
            "\n",
            "Movie: Frozen\n",
            "Top 5 recommended Movies: ['Serendipity' \"Winter's Tale\" 'Lars and the Real Girl' 'Housefull'\n",
            " 'Leap Year']\n",
            "\n",
            "Movie: Batman v Superman: Dawn of Justice\n",
            "Top 5 recommended Movies: ['Defendor' 'Batman' 'Batman: The Dark Knight Returns, Part 2'\n",
            " 'Batman Returns' 'The Dark Knight Rises']\n",
            "\n",
            "Movie: Avatar\n",
            "Top 5 recommended Movies: ['The Inhabited Island' 'The Matrix' 'Tears of the Sun' 'Apollo 18'\n",
            " 'Green Zone']\n",
            "\n",
            "Movie: Fight Club\n",
            "Top 5 recommended Movies: ['Raging Bull' 'UHF' 'Never Back Down' \"What's Eating Gilbert Grape\"\n",
            " 'Unleashed']\n",
            "\n"
          ],
          "name": "stdout"
        }
      ]
    }
  ]
}