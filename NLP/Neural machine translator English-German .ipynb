{
  "nbformat": 4,
  "nbformat_minor": 0,
  "metadata": {
    "colab": {
      "name": "german_to_english_translate.ipynb",
      "provenance": [],
      "collapsed_sections": [],
      "include_colab_link": true
    },
    "kernelspec": {
      "name": "python3",
      "display_name": "Python 3"
    },
    "accelerator": "GPU"
  },
  "cells": [
    {
      "cell_type": "markdown",
      "metadata": {
        "id": "view-in-github",
        "colab_type": "text"
      },
      "source": [
        "<a href=\"https://colab.research.google.com/github/ramapriyakp/Portfolio/blob/master/NLP/Neural%20machine%20translator%20English-German%20.ipynb\" target=\"_parent\"><img src=\"https://colab.research.google.com/assets/colab-badge.svg\" alt=\"Open In Colab\"/></a>"
      ]
    },
    {
      "cell_type": "markdown",
      "metadata": {
        "id": "YdiqXVo-w9o2",
        "colab_type": "text"
      },
      "source": [
        "# Language Translation with Word Level seq2seq DL Models\n",
        "\n",
        "The objective is to convert a German sentence (sequence of words) to English using a Neural Machine Translation (NMT) system based on word level encoder-decoder models.\n",
        "\n",
        "![](https://i.imgur.com/So32H7U.png)\n",
        "\n",
        "We will use German-English sentence pairs data from http://www.manythings.org/anki/\n",
        "\n",
        "\n",
        "Sequence-to-Sequence (seq2seq) models are used for a variety of NLP tasks, such as text summarization, speech recognition, language translation, text-to-speech, speech-to-text among others. Our aim is to translate german to english sentences.\n",
        "\n",
        "Here, both, the input and output are sentences. In other words, these sentences are a sequence of words going in and out of our model.\n",
        "\n",
        "![](https://i.imgur.com/Uk1tCPo.png)\n",
        "\n",
        "A typical seq2seq model is also known as an encoder-decoder model and has 2 major components:\n",
        "- The encoder \n",
        "- The decoder\n",
        "\n",
        "Both these parts are essentially two different sequential models like RNNs\\LSTMs which are combined together.\n",
        "\n",
        "![](https://i.imgur.com/bT6PAtv.png)"
      ]
    },
    {
      "cell_type": "code",
      "metadata": {
        "id": "XcMK6bJZyIWj",
        "colab_type": "code",
        "outputId": "f8b792bb-cdfe-4c49-80dc-e59ac3f38979",
        "colab": {
          "base_uri": "https://localhost:8080/",
          "height": 122
        }
      },
      "source": [
        "from google.colab import drive\n",
        "drive.mount('/content/drive')"
      ],
      "execution_count": 0,
      "outputs": [
        {
          "output_type": "stream",
          "text": [
            "Go to this URL in a browser: https://accounts.google.com/o/oauth2/auth?client_id=947318989803-6bn6qk8qdgf4n4g3pfee6491hc0brc4i.apps.googleusercontent.com&redirect_uri=urn%3Aietf%3Awg%3Aoauth%3A2.0%3Aoob&scope=email%20https%3A%2F%2Fwww.googleapis.com%2Fauth%2Fdocs.test%20https%3A%2F%2Fwww.googleapis.com%2Fauth%2Fdrive%20https%3A%2F%2Fwww.googleapis.com%2Fauth%2Fdrive.photos.readonly%20https%3A%2F%2Fwww.googleapis.com%2Fauth%2Fpeopleapi.readonly&response_type=code\n",
            "\n",
            "Enter your authorization code:\n",
            "··········\n",
            "Mounted at /content/drive\n"
          ],
          "name": "stdout"
        }
      ]
    },
    {
      "cell_type": "code",
      "metadata": {
        "id": "dEZydXjxx2Kk",
        "colab_type": "code",
        "outputId": "e17f4649-7f1d-47ed-f3bb-8ab3c35af073",
        "colab": {
          "base_uri": "https://localhost:8080/",
          "height": 34
        }
      },
      "source": [
        "cd /content/drive/My Drive/NLP"
      ],
      "execution_count": 0,
      "outputs": [
        {
          "output_type": "stream",
          "text": [
            "/content/drive/My Drive/NLP\n"
          ],
          "name": "stdout"
        }
      ]
    },
    {
      "cell_type": "markdown",
      "metadata": {
        "id": "MjvGuKHWBP5b",
        "colab_type": "text"
      },
      "source": [
        "Download the data and extract \"deu.txt\" in your working directory."
      ]
    },
    {
      "cell_type": "code",
      "metadata": {
        "id": "RkbaVx0fzFFL",
        "colab_type": "code",
        "outputId": "e572283f-ed1e-49ae-9fbc-4f69249754ad",
        "colab": {
          "base_uri": "https://localhost:8080/",
          "height": 224
        }
      },
      "source": [
        "!wget http://www.manythings.org/anki/deu-eng.zip"
      ],
      "execution_count": 0,
      "outputs": [
        {
          "output_type": "stream",
          "text": [
            "--2019-09-09 07:30:59--  http://www.manythings.org/anki/deu-eng.zip\n",
            "Resolving www.manythings.org (www.manythings.org)... 104.24.108.196, 104.24.109.196, 2606:4700:30::6818:6cc4, ...\n",
            "Connecting to www.manythings.org (www.manythings.org)|104.24.108.196|:80... connected.\n",
            "HTTP request sent, awaiting response... 200 OK\n",
            "Length: 4541707 (4.3M) [application/zip]\n",
            "Saving to: ‘deu-eng.zip.1’\n",
            "\n",
            "\rdeu-eng.zip.1         0%[                    ]       0  --.-KB/s               \rdeu-eng.zip.1        23%[===>                ]   1.01M  5.08MB/s               \rdeu-eng.zip.1       100%[===================>]   4.33M  15.1MB/s    in 0.3s    \n",
            "\n",
            "2019-09-09 07:31:00 (15.1 MB/s) - ‘deu-eng.zip.1’ saved [4541707/4541707]\n",
            "\n"
          ],
          "name": "stdout"
        }
      ]
    },
    {
      "cell_type": "code",
      "metadata": {
        "id": "zOzR3_pdzJdP",
        "colab_type": "code",
        "outputId": "ce89c8b3-5820-4776-9e2d-4d0f6794a39b",
        "colab": {
          "base_uri": "https://localhost:8080/",
          "height": 51
        }
      },
      "source": [
        "!unzip deu-eng.zip"
      ],
      "execution_count": 0,
      "outputs": [
        {
          "output_type": "stream",
          "text": [
            "Archive:  deu-eng.zip\n",
            "replace deu.txt? [y]es, [n]o, [A]ll, [N]one, [r]ename: N\n"
          ],
          "name": "stdout"
        }
      ]
    },
    {
      "cell_type": "markdown",
      "metadata": {
        "id": "3REBlmShA7po",
        "colab_type": "text"
      },
      "source": [
        "##Import Required Libraries"
      ]
    },
    {
      "cell_type": "code",
      "metadata": {
        "id": "j0s913AiyrrM",
        "colab_type": "code",
        "outputId": "c1752d10-4411-4ed5-a804-779f20186cb0",
        "colab": {
          "base_uri": "https://localhost:8080/",
          "height": 34
        }
      },
      "source": [
        "import string\n",
        "import re\n",
        "from numpy import array, argmax, random, take\n",
        "import pandas as pd\n",
        "from keras.models import Sequential\n",
        "from keras.layers import Dense, LSTM, Embedding, Bidirectional, RepeatVector, TimeDistributed\n",
        "from keras.preprocessing.text import Tokenizer\n",
        "from keras.callbacks import ModelCheckpoint\n",
        "from keras.preprocessing.sequence import pad_sequences\n",
        "from keras.models import load_model\n",
        "from keras import optimizers\n",
        "import matplotlib.pyplot as plt\n",
        "% matplotlib inline\n",
        "pd.set_option('display.max_colwidth', 200)"
      ],
      "execution_count": 0,
      "outputs": [
        {
          "output_type": "stream",
          "text": [
            "Using TensorFlow backend.\n"
          ],
          "name": "stderr"
        }
      ]
    },
    {
      "cell_type": "markdown",
      "metadata": {
        "id": "ASP4ouTHyzyz",
        "colab_type": "text"
      },
      "source": [
        "# Load up the dataset\n",
        "\n",
        "Our data is a text file of English-German sentence pairs. First we will read the file using the function defined below."
      ]
    },
    {
      "cell_type": "code",
      "metadata": {
        "id": "fbke9p8fy56W",
        "colab_type": "code",
        "colab": {}
      },
      "source": [
        "# function to read raw text file\n",
        "def read_text(filename):\n",
        "    # open the file\n",
        "    file = open(filename, mode='rt', encoding='utf-8')\n",
        "    # read all text\n",
        "    text = file.read()\n",
        "    file.close()\n",
        "    return text"
      ],
      "execution_count": 0,
      "outputs": []
    },
    {
      "cell_type": "markdown",
      "metadata": {
        "id": "GnN1TkQ3zV8V",
        "colab_type": "text"
      },
      "source": [
        "Now let's define a function to split the text into English-German pairs separated by '\\n' and then split these pairs into English sentences and German sentences."
      ]
    },
    {
      "cell_type": "code",
      "metadata": {
        "id": "1r_Cuct6zagq",
        "colab_type": "code",
        "colab": {}
      },
      "source": [
        "# split a text into sentences\n",
        "def to_lines(text):\n",
        "    sents = text.strip().split('\\n')\n",
        "    sents = [i.split('\\t') for i in sents]\n",
        "    return sents"
      ],
      "execution_count": 0,
      "outputs": []
    },
    {
      "cell_type": "code",
      "metadata": {
        "id": "pWm7Jpw3zi0w",
        "colab_type": "code",
        "colab": {}
      },
      "source": [
        "data = read_text(\"deu.txt\")\n",
        "deu_eng = to_lines(data)\n",
        "deu_eng = array(deu_eng)"
      ],
      "execution_count": 0,
      "outputs": []
    },
    {
      "cell_type": "markdown",
      "metadata": {
        "id": "03mBoij8znIo",
        "colab_type": "text"
      },
      "source": [
        "The actual data contains over 150,000 sentence-pairs. However, we will use the first 50,000 sentence pairs only to reduce the training time of the model. You can change this number as per you system computation power."
      ]
    },
    {
      "cell_type": "code",
      "metadata": {
        "id": "O4UrE8LIzpUe",
        "colab_type": "code",
        "colab": {}
      },
      "source": [
        "deu_eng = deu_eng[:50000,:]"
      ],
      "execution_count": 0,
      "outputs": []
    },
    {
      "cell_type": "markdown",
      "metadata": {
        "id": "rmzKAtcXzxK-",
        "colab_type": "text"
      },
      "source": [
        "# Text Pre-Processing"
      ]
    },
    {
      "cell_type": "markdown",
      "metadata": {
        "id": "t7f9Gra8z12S",
        "colab_type": "text"
      },
      "source": [
        "**Text Cleaning**\n",
        "\n",
        "Let's take a look at our data, then we will decide which pre-processing steps to adopt."
      ]
    },
    {
      "cell_type": "code",
      "metadata": {
        "id": "CZ_9Fm5iz8Ib",
        "colab_type": "code",
        "outputId": "2b701e60-5555-4054-8a7f-896547c43d65",
        "colab": {
          "base_uri": "https://localhost:8080/",
          "height": 153
        }
      },
      "source": [
        "deu_eng"
      ],
      "execution_count": 0,
      "outputs": [
        {
          "output_type": "execute_result",
          "data": {
            "text/plain": [
              "array([['Hi.', 'Hallo!'],\n",
              "       ['Hi.', 'Grüß Gott!'],\n",
              "       ['Run!', 'Lauf!'],\n",
              "       ...,\n",
              "       ['The man died of cancer.', 'Der Mann starb an Krebs.'],\n",
              "       ['The man lay motionless.', 'Der Mann lag bewegungslos da.'],\n",
              "       ['The man must be insane.', 'Der Mann muss geistesgestört sein.']],\n",
              "      dtype='<U537')"
            ]
          },
          "metadata": {
            "tags": []
          },
          "execution_count": 10
        }
      ]
    },
    {
      "cell_type": "markdown",
      "metadata": {
        "id": "dDOD_csO0DNg",
        "colab_type": "text"
      },
      "source": [
        "We will get rid of the punctuation marks, and then convert the text to lower case."
      ]
    },
    {
      "cell_type": "code",
      "metadata": {
        "id": "1ZQS4iHk0HiT",
        "colab_type": "code",
        "colab": {}
      },
      "source": [
        "# Remove punctuation\n",
        "deu_eng[:,0] = [s.translate(str.maketrans('', '', string.punctuation)) for s in deu_eng[:,0]]\n",
        "deu_eng[:,1] = [s.translate(str.maketrans('', '', string.punctuation)) for s in deu_eng[:,1]]"
      ],
      "execution_count": 0,
      "outputs": []
    },
    {
      "cell_type": "code",
      "metadata": {
        "id": "jdy8VDxk0LPo",
        "colab_type": "code",
        "outputId": "d38112ab-8c6e-4100-d2fc-0af6d6474900",
        "colab": {
          "base_uri": "https://localhost:8080/",
          "height": 153
        }
      },
      "source": [
        "deu_eng"
      ],
      "execution_count": 0,
      "outputs": [
        {
          "output_type": "execute_result",
          "data": {
            "text/plain": [
              "array([['Hi', 'Hallo'],\n",
              "       ['Hi', 'Grüß Gott'],\n",
              "       ['Run', 'Lauf'],\n",
              "       ...,\n",
              "       ['The man died of cancer', 'Der Mann starb an Krebs'],\n",
              "       ['The man lay motionless', 'Der Mann lag bewegungslos da'],\n",
              "       ['The man must be insane', 'Der Mann muss geistesgestört sein']],\n",
              "      dtype='<U537')"
            ]
          },
          "metadata": {
            "tags": []
          },
          "execution_count": 12
        }
      ]
    },
    {
      "cell_type": "code",
      "metadata": {
        "id": "8Mfqf1Tk0Q9L",
        "colab_type": "code",
        "colab": {}
      },
      "source": [
        "# convert to lowercase\n",
        "for i in range(len(deu_eng)):\n",
        "    deu_eng[i,0] = deu_eng[i,0].lower()\n",
        "    \n",
        "    deu_eng[i,1] = deu_eng[i,1].lower()"
      ],
      "execution_count": 0,
      "outputs": []
    },
    {
      "cell_type": "code",
      "metadata": {
        "id": "7EOv-Upq0URl",
        "colab_type": "code",
        "outputId": "b1e2f9c4-a095-4089-9c15-5e2d406f76b9",
        "colab": {
          "base_uri": "https://localhost:8080/",
          "height": 153
        }
      },
      "source": [
        "deu_eng"
      ],
      "execution_count": 0,
      "outputs": [
        {
          "output_type": "execute_result",
          "data": {
            "text/plain": [
              "array([['hi', 'hallo'],\n",
              "       ['hi', 'grüß gott'],\n",
              "       ['run', 'lauf'],\n",
              "       ...,\n",
              "       ['the man died of cancer', 'der mann starb an krebs'],\n",
              "       ['the man lay motionless', 'der mann lag bewegungslos da'],\n",
              "       ['the man must be insane', 'der mann muss geistesgestört sein']],\n",
              "      dtype='<U537')"
            ]
          },
          "metadata": {
            "tags": []
          },
          "execution_count": 14
        }
      ]
    },
    {
      "cell_type": "markdown",
      "metadata": {
        "id": "E2CQpoIR0aLT",
        "colab_type": "text"
      },
      "source": [
        "##Text to Sequence Conversion\n",
        "\n",
        "To feed our data in a Seq2Seq model, we will have to convert both the input and the output sentences into integer sequences of fixed length. Before that, let's visualise the length of the sentences. We will capture the lengths of all the sentences in two separate lists for English and German, respectively.\n",
        "\n",
        "\n",
        "\n"
      ]
    },
    {
      "cell_type": "code",
      "metadata": {
        "id": "NFwVvzZg0rJK",
        "colab_type": "code",
        "colab": {}
      },
      "source": [
        "# empty lists\n",
        "eng_l = []\n",
        "deu_l = []\n",
        "\n",
        "# populate the lists with sentence lengths\n",
        "for i in deu_eng[:,0]:\n",
        "    eng_l.append(len(i.split()))\n",
        "\n",
        "for i in deu_eng[:,1]:\n",
        "    deu_l.append(len(i.split()))"
      ],
      "execution_count": 0,
      "outputs": []
    },
    {
      "cell_type": "code",
      "metadata": {
        "id": "_sIwCE_h0ySL",
        "colab_type": "code",
        "colab": {}
      },
      "source": [
        "length_df = pd.DataFrame({'eng':eng_l, 'deu':deu_l})"
      ],
      "execution_count": 0,
      "outputs": []
    },
    {
      "cell_type": "code",
      "metadata": {
        "id": "3beEzQ4P02rR",
        "colab_type": "code",
        "outputId": "d147faea-81dd-4f2b-adfe-a0cdb0432973",
        "colab": {
          "base_uri": "https://localhost:8080/",
          "height": 281
        }
      },
      "source": [
        "\n",
        "length_df.hist(bins = 30)\n",
        "plt.show()"
      ],
      "execution_count": 0,
      "outputs": [
        {
          "output_type": "display_data",
          "data": {
            "image/png": "[encoded data removed]",
            "text/plain": [
              "<Figure size 432x288 with 2 Axes>"
            ]
          },
          "metadata": {
            "tags": []
          }
        }
      ]
    },
    {
      "cell_type": "markdown",
      "metadata": {
        "id": "QBFU5Dq607-2",
        "colab_type": "text"
      },
      "source": [
        "The maximum length of the German sentences is 11 and that of the English phrases is 8.\n",
        "\n",
        "Let's vectorize our text data by using Keras's Tokenizer() class. It will turn our sentences into sequences of integers. Then we will pad those sequences with zeros to make all the sequences of same length"
      ]
    },
    {
      "cell_type": "code",
      "metadata": {
        "id": "IKNGr1jG1BMe",
        "colab_type": "code",
        "colab": {}
      },
      "source": [
        "# function to build a tokenizer\n",
        "def tokenization(lines):\n",
        "    tokenizer = Tokenizer()\n",
        "    tokenizer.fit_on_texts(lines)\n",
        "    return tokenizer"
      ],
      "execution_count": 0,
      "outputs": []
    },
    {
      "cell_type": "code",
      "metadata": {
        "id": "2rU0BxBU1FWV",
        "colab_type": "code",
        "outputId": "ede3c343-8cd7-4391-e1ee-0b13992caeb1",
        "colab": {
          "base_uri": "https://localhost:8080/",
          "height": 34
        }
      },
      "source": [
        "# prepare english tokenizer\n",
        "eng_tokenizer = tokenization(deu_eng[:, 0])\n",
        "eng_vocab_size = len(eng_tokenizer.word_index) + 1\n",
        "\n",
        "eng_length = 8\n",
        "print('English Vocabulary Size: %d' % eng_vocab_size)"
      ],
      "execution_count": 0,
      "outputs": [
        {
          "output_type": "stream",
          "text": [
            "English Vocabulary Size: 6352\n"
          ],
          "name": "stdout"
        }
      ]
    },
    {
      "cell_type": "code",
      "metadata": {
        "id": "VC8wRdTl1LOi",
        "colab_type": "code",
        "outputId": "5bb4a4e1-d493-41d4-ac95-075c6e1a5b85",
        "colab": {
          "base_uri": "https://localhost:8080/",
          "height": 34
        }
      },
      "source": [
        "# prepare Deutch tokenizer\n",
        "deu_tokenizer = tokenization(deu_eng[:, 1])\n",
        "deu_vocab_size = len(deu_tokenizer.word_index) + 1\n",
        "\n",
        "deu_length = 8\n",
        "print('Deutch Vocabulary Size: %d' % deu_vocab_size)"
      ],
      "execution_count": 0,
      "outputs": [
        {
          "output_type": "stream",
          "text": [
            "Deutch Vocabulary Size: 10678\n"
          ],
          "name": "stdout"
        }
      ]
    },
    {
      "cell_type": "markdown",
      "metadata": {
        "id": "DiwImp8x1PA9",
        "colab_type": "text"
      },
      "source": [
        "Given below is a function to prepare the sequences. It will also perform sequence padding to a maximum sentence length as mentioned above."
      ]
    },
    {
      "cell_type": "code",
      "metadata": {
        "id": "utZzSCli1TDa",
        "colab_type": "code",
        "colab": {}
      },
      "source": [
        "# encode and pad sequences\n",
        "def encode_sequences(tokenizer, length, lines):\n",
        "    # integer encode sequences\n",
        "    seq = tokenizer.texts_to_sequences(lines)\n",
        "    # pad sequences with 0 values\n",
        "    seq = pad_sequences(seq, maxlen=length, padding='post')\n",
        "    return seq"
      ],
      "execution_count": 0,
      "outputs": []
    },
    {
      "cell_type": "markdown",
      "metadata": {
        "id": "oZ5mT8fM1ZVI",
        "colab_type": "text"
      },
      "source": [
        "##Model Building\n",
        "\n",
        "We will now split the data into train and test set for model training and evaluation, respectively."
      ]
    },
    {
      "cell_type": "code",
      "metadata": {
        "id": "x8nYBu4z1d5x",
        "colab_type": "code",
        "colab": {}
      },
      "source": [
        "from sklearn.model_selection import train_test_split\n",
        "train, test = train_test_split(deu_eng, test_size=0.2, random_state = 12)"
      ],
      "execution_count": 0,
      "outputs": []
    },
    {
      "cell_type": "markdown",
      "metadata": {
        "id": "8yP8W1Gz1l02",
        "colab_type": "text"
      },
      "source": [
        "It's time to encode the sentences. We will encode German sentences as the input sequences and English sentences as the target sequences. It will be done for both train and test datasets."
      ]
    },
    {
      "cell_type": "code",
      "metadata": {
        "id": "YKCdVAuk1nbH",
        "colab_type": "code",
        "colab": {}
      },
      "source": [
        "# prepare training data\n",
        "trainX = encode_sequences(deu_tokenizer, deu_length, train[:, 1])\n",
        "trainY = encode_sequences(eng_tokenizer, eng_length, train[:, 0])"
      ],
      "execution_count": 0,
      "outputs": []
    },
    {
      "cell_type": "code",
      "metadata": {
        "id": "hptKVNuv1ubj",
        "colab_type": "code",
        "colab": {}
      },
      "source": [
        "# prepare validation data\n",
        "testX = encode_sequences(deu_tokenizer, deu_length, test[:, 1])\n",
        "testY = encode_sequences(eng_tokenizer, eng_length, test[:, 0])"
      ],
      "execution_count": 0,
      "outputs": []
    },
    {
      "cell_type": "markdown",
      "metadata": {
        "id": "owSXTr7ryKEW",
        "colab_type": "text"
      },
      "source": [
        "# Build seq2seq Model Architecture\n",
        "​\n",
        "![](https://i.imgur.com/3ZVi97s.png)\n",
        "​\n",
        "- For the encoder, we will use an embedding layer and an LSTM layer\n",
        "- For the decoder, we will use another LSTM layer followed by a dense layer\n",
        "- Repeat Vector helps pass the output sequence from encoder to all LSTM cells in the decoder\n",
        "​\n",
        "We leverage the full power of GPUs by using the CUDA variant of the LSTM models."
      ]
    },
    {
      "cell_type": "markdown",
      "metadata": {
        "id": "gZgnw9N91yJ6",
        "colab_type": "text"
      },
      "source": [
        "\n",
        "Now comes the exciting part! Let us define our Seq2Seq model architecture. We are using an Embedding layer and an LSTM layer as our encoder and another LSTM layer followed by a Dense layer as the decoder."
      ]
    },
    {
      "cell_type": "markdown",
      "metadata": {
        "id": "KRLdksqbDen8",
        "colab_type": "text"
      },
      "source": [
        "##Seq2seq:\n",
        "Seq2seq was introduced for machine translation, by Google. Before that, translation worked in a very naïve way. Each word typed was converted to its target language giving no regard to its grammar and sentence structure. Seq2seq revolutionized the process of translation by making use of deep learning. It not only takes the current word/input into account while translating but also its neighborhood.\n",
        "\n",
        "Nowadays, it is used for a variety of different applications such as image captioning, conversational models, text summarization etc.\n",
        "\n",
        "##Seq2seq Working:\n",
        "As the name suggests, seq2seq takes as input a sequence of words(sentence or sentences) and generates an output sequence of words. It does so by use of the recurrent neural network (RNN). Although the vanilla version of RNN is rarely used, its more advanced version i.e. LSTM or GRU are used. This is because RNN suffers from the problem of vanishing gradient. LSTM is used in the version proposed by Google. It develops the context of the word by taking 2 inputs at each point of time. One from the user and other from its previous output, hence the name recurrent (output goes as input).\n",
        "\n",
        "It mainly has two components i.e encoder and decoder, and hence sometimes it is called the Encoder-Decoder Network.\n",
        "\n",
        "*  __Encoder__: It uses deep neural network layers and converts the input words to corresponding hidden vectors. Each vector represents the current word  \n",
        "* __Decoder__: It is similar to the encoder. It takes as input the hidden vector generated by encoder, its own hidden states and current word to produce the next hidden vector and finally predict the next word."
      ]
    },
    {
      "cell_type": "markdown",
      "metadata": {
        "id": "nuRUOV3uEp4a",
        "colab_type": "text"
      },
      "source": [
        "Apart from these two, many optimizations have lead to other components of seq2seq:\n",
        "\n",
        "**Attention:** The input to the decoder is a single vector which has to store all the information about the context. This becomes a problem with large sequences. Hence the attention mechanism is applied which allows the decoder to look at the input sequence selectively."
      ]
    },
    {
      "cell_type": "code",
      "metadata": {
        "id": "ImlcYuaI10Dg",
        "colab_type": "code",
        "colab": {}
      },
      "source": [
        "# build NMT model\n",
        "def build_model(in_vocab, out_vocab, in_timesteps, out_timesteps, units):\n",
        "    model = Sequential()\n",
        "    model.add(Embedding(in_vocab, units, input_length=in_timesteps, mask_zero=True))\n",
        "    model.add(LSTM(units))\n",
        "    model.add(RepeatVector(out_timesteps))\n",
        "    model.add(LSTM(units, return_sequences=True))\n",
        "    model.add(Dense(out_vocab, activation='softmax'))\n",
        "    return model"
      ],
      "execution_count": 0,
      "outputs": []
    },
    {
      "cell_type": "markdown",
      "metadata": {
        "id": "E0crCEcL1677",
        "colab_type": "text"
      },
      "source": [
        "We are using RMSprop optimizer in this model as it is usually a good choice for recurrent neural networks."
      ]
    },
    {
      "cell_type": "code",
      "metadata": {
        "id": "5OfGMUVc18pQ",
        "colab_type": "code",
        "outputId": "acc18fb8-ffc1-405e-bf6e-39e9756a0357",
        "colab": {
          "base_uri": "https://localhost:8080/",
          "height": 258
        }
      },
      "source": [
        "model = build_model(deu_vocab_size, eng_vocab_size, deu_length, eng_length, 512)\n",
        "rms = optimizers.RMSprop(lr=0.001)\n",
        "model.compile(optimizer=rms, loss='sparse_categorical_crossentropy')"
      ],
      "execution_count": 0,
      "outputs": [
        {
          "output_type": "stream",
          "text": [
            "WARNING:tensorflow:From /usr/local/lib/python3.6/dist-packages/keras/backend/tensorflow_backend.py:66: The name tf.get_default_graph is deprecated. Please use tf.compat.v1.get_default_graph instead.\n",
            "\n",
            "WARNING:tensorflow:From /usr/local/lib/python3.6/dist-packages/keras/backend/tensorflow_backend.py:541: The name tf.placeholder is deprecated. Please use tf.compat.v1.placeholder instead.\n",
            "\n",
            "WARNING:tensorflow:From /usr/local/lib/python3.6/dist-packages/keras/backend/tensorflow_backend.py:4432: The name tf.random_uniform is deprecated. Please use tf.random.uniform instead.\n",
            "\n",
            "WARNING:tensorflow:From /usr/local/lib/python3.6/dist-packages/keras/backend/tensorflow_backend.py:3239: add_dispatch_support.<locals>.wrapper (from tensorflow.python.ops.array_ops) is deprecated and will be removed in a future version.\n",
            "Instructions for updating:\n",
            "Use tf.where in 2.0, which has the same broadcast rule as np.where\n",
            "WARNING:tensorflow:From /usr/local/lib/python3.6/dist-packages/keras/optimizers.py:793: The name tf.train.Optimizer is deprecated. Please use tf.compat.v1.train.Optimizer instead.\n",
            "\n",
            "WARNING:tensorflow:From /usr/local/lib/python3.6/dist-packages/keras/backend/tensorflow_backend.py:3622: The name tf.log is deprecated. Please use tf.math.log instead.\n",
            "\n"
          ],
          "name": "stdout"
        }
      ]
    },
    {
      "cell_type": "markdown",
      "metadata": {
        "id": "umcLmBTZ2Dm2",
        "colab_type": "text"
      },
      "source": [
        "Please note that we have used **'sparse_categorical_crossentropy'** as the loss function because it allows us to use the target sequence as it is instead of one hot encoded format. One hot encoding the target sequences with such a huge vocabulary might consume our system's entire memory.\n",
        "\n",
        "Now we are all set to start training our model. We will train it for 30 epochs and with a batch size of 512. You may change and play these hyperparameters. We  also  use **ModelCheckpoint()** to save the best model with lowest validation loss. I personally prefer this method over early stopping."
      ]
    },
    {
      "cell_type": "markdown",
      "metadata": {
        "id": "K14c71YZyfeu",
        "colab_type": "text"
      },
      "source": [
        "# Model Training\n",
        "\n",
        "We save the model with minimum loss here also with checkpointing"
      ]
    },
    {
      "cell_type": "code",
      "metadata": {
        "id": "Fye0jDck2P1c",
        "colab_type": "code",
        "outputId": "eb3e9ac2-5b18-4336-cba8-d9bb7be2e853",
        "colab": {
          "base_uri": "https://localhost:8080/",
          "height": 1000
        }
      },
      "source": [
        "filename = 'model.ge_en'\n",
        "checkpoint = ModelCheckpoint(filename, monitor='val_loss', verbose=1, save_best_only=True, mode='min')\n",
        "\n",
        "history = model.fit(trainX, trainY.reshape(trainY.shape[0], trainY.shape[1], 1), \n",
        "          epochs=30, batch_size=512, \n",
        "          validation_split = 0.2,\n",
        "          callbacks=[checkpoint], verbose=1)"
      ],
      "execution_count": 0,
      "outputs": [
        {
          "output_type": "stream",
          "text": [
            "WARNING:tensorflow:From /usr/local/lib/python3.6/dist-packages/keras/backend/tensorflow_backend.py:1033: The name tf.assign_add is deprecated. Please use tf.compat.v1.assign_add instead.\n",
            "\n",
            "Train on 32000 samples, validate on 8000 samples\n",
            "Epoch 1/30\n",
            "32000/32000 [==============================] - 21s 663us/step - loss: 3.5739 - val_loss: 3.0018\n",
            "\n",
            "Epoch 00001: val_loss improved from inf to 3.00182, saving model to model.ge_en\n",
            "Epoch 2/30\n",
            "32000/32000 [==============================] - 15s 475us/step - loss: 2.9078 - val_loss: 2.8995\n",
            "\n",
            "Epoch 00002: val_loss improved from 3.00182 to 2.89952, saving model to model.ge_en\n",
            "Epoch 3/30\n",
            "32000/32000 [==============================] - 15s 474us/step - loss: 2.7349 - val_loss: 2.6755\n",
            "\n",
            "Epoch 00003: val_loss improved from 2.89952 to 2.67547, saving model to model.ge_en\n",
            "Epoch 4/30\n",
            "32000/32000 [==============================] - 15s 475us/step - loss: 2.5431 - val_loss: 2.5531\n",
            "\n",
            "Epoch 00004: val_loss improved from 2.67547 to 2.55309, saving model to model.ge_en\n",
            "Epoch 5/30\n",
            "32000/32000 [==============================] - 15s 473us/step - loss: 2.3790 - val_loss: 2.4252\n",
            "\n",
            "Epoch 00005: val_loss improved from 2.55309 to 2.42524, saving model to model.ge_en\n",
            "Epoch 6/30\n",
            "32000/32000 [==============================] - 15s 474us/step - loss: 2.2357 - val_loss: 2.3029\n",
            "\n",
            "Epoch 00006: val_loss improved from 2.42524 to 2.30291, saving model to model.ge_en\n",
            "Epoch 7/30\n",
            "32000/32000 [==============================] - 15s 474us/step - loss: 2.1077 - val_loss: 2.2109\n",
            "\n",
            "Epoch 00007: val_loss improved from 2.30291 to 2.21088, saving model to model.ge_en\n",
            "Epoch 8/30\n",
            "32000/32000 [==============================] - 15s 473us/step - loss: 1.9869 - val_loss: 2.1276\n",
            "\n",
            "Epoch 00008: val_loss improved from 2.21088 to 2.12760, saving model to model.ge_en\n",
            "Epoch 9/30\n",
            "32000/32000 [==============================] - 15s 472us/step - loss: 1.8744 - val_loss: 2.0714\n",
            "\n",
            "Epoch 00009: val_loss improved from 2.12760 to 2.07139, saving model to model.ge_en\n",
            "Epoch 10/30\n",
            "32000/32000 [==============================] - 15s 472us/step - loss: 1.7674 - val_loss: 1.9917\n",
            "\n",
            "Epoch 00010: val_loss improved from 2.07139 to 1.99171, saving model to model.ge_en\n",
            "Epoch 11/30\n",
            "32000/32000 [==============================] - 15s 473us/step - loss: 1.6651 - val_loss: 1.9414\n",
            "\n",
            "Epoch 00011: val_loss improved from 1.99171 to 1.94140, saving model to model.ge_en\n",
            "Epoch 12/30\n",
            "32000/32000 [==============================] - 15s 474us/step - loss: 1.5648 - val_loss: 1.8674\n",
            "\n",
            "Epoch 00012: val_loss improved from 1.94140 to 1.86743, saving model to model.ge_en\n",
            "Epoch 13/30\n",
            "32000/32000 [==============================] - 15s 472us/step - loss: 1.4708 - val_loss: 1.8095\n",
            "\n",
            "Epoch 00013: val_loss improved from 1.86743 to 1.80950, saving model to model.ge_en\n",
            "Epoch 14/30\n",
            "32000/32000 [==============================] - 15s 471us/step - loss: 1.3797 - val_loss: 1.7492\n",
            "\n",
            "Epoch 00014: val_loss improved from 1.80950 to 1.74921, saving model to model.ge_en\n",
            "Epoch 15/30\n",
            "32000/32000 [==============================] - 15s 473us/step - loss: 1.2926 - val_loss: 1.7301\n",
            "\n",
            "Epoch 00015: val_loss improved from 1.74921 to 1.73012, saving model to model.ge_en\n",
            "Epoch 16/30\n",
            "32000/32000 [==============================] - 15s 473us/step - loss: 1.2102 - val_loss: 1.6635\n",
            "\n",
            "Epoch 00016: val_loss improved from 1.73012 to 1.66351, saving model to model.ge_en\n",
            "Epoch 17/30\n",
            "32000/32000 [==============================] - 15s 473us/step - loss: 1.1313 - val_loss: 1.6262\n",
            "\n",
            "Epoch 00017: val_loss improved from 1.66351 to 1.62618, saving model to model.ge_en\n",
            "Epoch 18/30\n",
            "32000/32000 [==============================] - 15s 473us/step - loss: 1.0561 - val_loss: 1.5896\n",
            "\n",
            "Epoch 00018: val_loss improved from 1.62618 to 1.58962, saving model to model.ge_en\n",
            "Epoch 19/30\n",
            "32000/32000 [==============================] - 15s 474us/step - loss: 0.9862 - val_loss: 1.5809\n",
            "\n",
            "Epoch 00019: val_loss improved from 1.58962 to 1.58095, saving model to model.ge_en\n",
            "Epoch 20/30\n",
            "32000/32000 [==============================] - 15s 474us/step - loss: 0.9177 - val_loss: 1.5300\n",
            "\n",
            "Epoch 00020: val_loss improved from 1.58095 to 1.52998, saving model to model.ge_en\n",
            "Epoch 21/30\n",
            "32000/32000 [==============================] - 15s 472us/step - loss: 0.8539 - val_loss: 1.5094\n",
            "\n",
            "Epoch 00021: val_loss improved from 1.52998 to 1.50944, saving model to model.ge_en\n",
            "Epoch 22/30\n",
            "32000/32000 [==============================] - 15s 472us/step - loss: 0.7918 - val_loss: 1.4904\n",
            "\n",
            "Epoch 00022: val_loss improved from 1.50944 to 1.49038, saving model to model.ge_en\n",
            "Epoch 23/30\n",
            "32000/32000 [==============================] - 15s 473us/step - loss: 0.7349 - val_loss: 1.4666\n",
            "\n",
            "Epoch 00023: val_loss improved from 1.49038 to 1.46661, saving model to model.ge_en\n",
            "Epoch 24/30\n",
            "32000/32000 [==============================] - 15s 473us/step - loss: 0.6792 - val_loss: 1.4575\n",
            "\n",
            "Epoch 00024: val_loss improved from 1.46661 to 1.45747, saving model to model.ge_en\n",
            "Epoch 25/30\n",
            "32000/32000 [==============================] - 15s 474us/step - loss: 0.6280 - val_loss: 1.4374\n",
            "\n",
            "Epoch 00025: val_loss improved from 1.45747 to 1.43740, saving model to model.ge_en\n",
            "Epoch 26/30\n",
            "32000/32000 [==============================] - 15s 473us/step - loss: 0.5776 - val_loss: 1.4311\n",
            "\n",
            "Epoch 00026: val_loss improved from 1.43740 to 1.43107, saving model to model.ge_en\n",
            "Epoch 27/30\n",
            "32000/32000 [==============================] - 15s 474us/step - loss: 0.5346 - val_loss: 1.4213\n",
            "\n",
            "Epoch 00027: val_loss improved from 1.43107 to 1.42127, saving model to model.ge_en\n",
            "Epoch 28/30\n",
            "32000/32000 [==============================] - 15s 473us/step - loss: 0.4888 - val_loss: 1.4183\n",
            "\n",
            "Epoch 00028: val_loss improved from 1.42127 to 1.41830, saving model to model.ge_en\n",
            "Epoch 29/30\n",
            "32000/32000 [==============================] - 15s 472us/step - loss: 0.4490 - val_loss: 1.4102\n",
            "\n",
            "Epoch 00029: val_loss improved from 1.41830 to 1.41025, saving model to model.ge_en\n",
            "Epoch 30/30\n",
            "32000/32000 [==============================] - 15s 473us/step - loss: 0.4124 - val_loss: 1.4095\n",
            "\n",
            "Epoch 00030: val_loss improved from 1.41025 to 1.40954, saving model to model.ge_en\n"
          ],
          "name": "stdout"
        }
      ]
    },
    {
      "cell_type": "markdown",
      "metadata": {
        "id": "-AKNcATUCARh",
        "colab_type": "text"
      },
      "source": [
        "Let's compare the training loss and the validation loss."
      ]
    },
    {
      "cell_type": "code",
      "metadata": {
        "id": "2my-LkT62VQo",
        "colab_type": "code",
        "outputId": "7790b37f-144d-40d3-e874-be67672dd908",
        "colab": {
          "base_uri": "https://localhost:8080/",
          "height": 269
        }
      },
      "source": [
        "plt.plot(history.history['loss'])\n",
        "plt.plot(history.history['val_loss'])\n",
        "plt.legend(['train','validation'])\n",
        "plt.show()"
      ],
      "execution_count": 0,
      "outputs": [
        {
          "output_type": "display_data",
          "data": {
            "image/png": "[encoded data removed]",
            "text/plain": [
              "<Figure size 432x288 with 1 Axes>"
            ]
          },
          "metadata": {
            "tags": []
          }
        }
      ]
    },
    {
      "cell_type": "markdown",
      "metadata": {
        "id": "VVmWTIZz2bCE",
        "colab_type": "text"
      },
      "source": [
        "##Make Predictions\n",
        "\n",
        "Let's load the saved model to make predictions."
      ]
    },
    {
      "cell_type": "code",
      "metadata": {
        "id": "CxzbqHre3CIO",
        "colab_type": "code",
        "colab": {}
      },
      "source": [
        "model = load_model('model.ge_en')\n",
        "preds = model.predict_classes(testX.reshape((testX.shape[0],testX.shape[1])))"
      ],
      "execution_count": 0,
      "outputs": []
    },
    {
      "cell_type": "code",
      "metadata": {
        "id": "03hQwavR3F7N",
        "colab_type": "code",
        "colab": {}
      },
      "source": [
        "def get_word(n, tokenizer):\n",
        "    for word, index in tokenizer.word_index.items():\n",
        "        if index == n:\n",
        "            return word\n",
        "    return None"
      ],
      "execution_count": 0,
      "outputs": []
    },
    {
      "cell_type": "code",
      "metadata": {
        "id": "7dg1upaC3JYZ",
        "colab_type": "code",
        "colab": {}
      },
      "source": [
        "# convert predictions into text (English)\n",
        "preds_text = []\n",
        "for i in preds:\n",
        "    temp = []\n",
        "    for j in range(len(i)):\n",
        "        t = get_word(i[j], eng_tokenizer)\n",
        "        if j > 0:\n",
        "            if (t == get_word(i[j-1], eng_tokenizer)) or (t == None):\n",
        "                temp.append('')\n",
        "            else:\n",
        "                temp.append(t)\n",
        "             \n",
        "        else:\n",
        "            if(t == None):\n",
        "                temp.append('')\n",
        "            else:\n",
        "                temp.append(t)            \n",
        "        \n",
        "    preds_text.append(' '.join(temp))"
      ],
      "execution_count": 0,
      "outputs": []
    },
    {
      "cell_type": "code",
      "metadata": {
        "id": "QTPaSyUX3OzN",
        "colab_type": "code",
        "colab": {}
      },
      "source": [
        "pred_df = pd.DataFrame({'actual' : test[:,0], 'predicted' : preds_text})"
      ],
      "execution_count": 0,
      "outputs": []
    },
    {
      "cell_type": "code",
      "metadata": {
        "id": "diCykH253Wex",
        "colab_type": "code",
        "outputId": "cd019dc3-9626-4b75-e302-f62d41f5b91f",
        "colab": {
          "base_uri": "https://localhost:8080/",
          "height": 514
        }
      },
      "source": [
        "pred_df.head(15)"
      ],
      "execution_count": 0,
      "outputs": [
        {
          "output_type": "execute_result",
          "data": {
            "text/html": [
              "<div>\n",
              "<style scoped>\n",
              "    .dataframe tbody tr th:only-of-type {\n",
              "        vertical-align: middle;\n",
              "    }\n",
              "\n",
              "    .dataframe tbody tr th {\n",
              "        vertical-align: top;\n",
              "    }\n",
              "\n",
              "    .dataframe thead th {\n",
              "        text-align: right;\n",
              "    }\n",
              "</style>\n",
              "<table border=\"1\" class=\"dataframe\">\n",
              "  <thead>\n",
              "    <tr style=\"text-align: right;\">\n",
              "      <th></th>\n",
              "      <th>actual</th>\n",
              "      <th>predicted</th>\n",
              "    </tr>\n",
              "  </thead>\n",
              "  <tbody>\n",
              "    <tr>\n",
              "      <th>0</th>\n",
              "      <td>he wanted to be rich</td>\n",
              "      <td>he wanted to rich</td>\n",
              "    </tr>\n",
              "    <tr>\n",
              "      <th>1</th>\n",
              "      <td>i love tom</td>\n",
              "      <td>i love tom</td>\n",
              "    </tr>\n",
              "    <tr>\n",
              "      <th>2</th>\n",
              "      <td>let us go home</td>\n",
              "      <td>lets go home</td>\n",
              "    </tr>\n",
              "    <tr>\n",
              "      <th>3</th>\n",
              "      <td>i love driving</td>\n",
              "      <td>i love like my</td>\n",
              "    </tr>\n",
              "    <tr>\n",
              "      <th>4</th>\n",
              "      <td>this is my dictionary</td>\n",
              "      <td>thats my dictionary</td>\n",
              "    </tr>\n",
              "    <tr>\n",
              "      <th>5</th>\n",
              "      <td>hi tom good morning</td>\n",
              "      <td>hi tom over</td>\n",
              "    </tr>\n",
              "    <tr>\n",
              "      <th>6</th>\n",
              "      <td>why is she so popular</td>\n",
              "      <td>why is so  popular</td>\n",
              "    </tr>\n",
              "    <tr>\n",
              "      <th>7</th>\n",
              "      <td>ill show you my room</td>\n",
              "      <td>ill show you my room</td>\n",
              "    </tr>\n",
              "    <tr>\n",
              "      <th>8</th>\n",
              "      <td>did tom oversleep</td>\n",
              "      <td>did tom satisfied</td>\n",
              "    </tr>\n",
              "    <tr>\n",
              "      <th>9</th>\n",
              "      <td>keep up the good work</td>\n",
              "      <td>look  good do</td>\n",
              "    </tr>\n",
              "    <tr>\n",
              "      <th>10</th>\n",
              "      <td>what happened</td>\n",
              "      <td>what happened</td>\n",
              "    </tr>\n",
              "    <tr>\n",
              "      <th>11</th>\n",
              "      <td>toms weak</td>\n",
              "      <td>tom is weak</td>\n",
              "    </tr>\n",
              "    <tr>\n",
              "      <th>12</th>\n",
              "      <td>take tom home</td>\n",
              "      <td>take tom home</td>\n",
              "    </tr>\n",
              "    <tr>\n",
              "      <th>13</th>\n",
              "      <td>school is out</td>\n",
              "      <td>dinners is over</td>\n",
              "    </tr>\n",
              "    <tr>\n",
              "      <th>14</th>\n",
              "      <td>it is pitch dark</td>\n",
              "      <td>its rush hour</td>\n",
              "    </tr>\n",
              "  </tbody>\n",
              "</table>\n",
              "</div>"
            ],
            "text/plain": [
              "                   actual                 predicted\n",
              "0    he wanted to be rich     he wanted to rich    \n",
              "1              i love tom           i love tom     \n",
              "2          let us go home         lets go home     \n",
              "3          i love driving        i love like my    \n",
              "4   this is my dictionary  thats my dictionary     \n",
              "5     hi tom good morning          hi tom over     \n",
              "6   why is she so popular     why is so  popular   \n",
              "7    ill show you my room   ill show you my room   \n",
              "8       did tom oversleep    did tom satisfied     \n",
              "9   keep up the good work         look  good do    \n",
              "10          what happened       what happened      \n",
              "11              toms weak          tom is weak     \n",
              "12          take tom home        take tom home     \n",
              "13          school is out      dinners is over     \n",
              "14       it is pitch dark        its rush hour     "
            ]
          },
          "metadata": {
            "tags": []
          },
          "execution_count": 34
        }
      ]
    },
    {
      "cell_type": "code",
      "metadata": {
        "id": "zJYWQ4Ko3dde",
        "colab_type": "code",
        "outputId": "494b8b29-5483-48a8-a300-59c4b7d9868e",
        "colab": {
          "base_uri": "https://localhost:8080/",
          "height": 514
        }
      },
      "source": [
        "pred_df.tail(15)"
      ],
      "execution_count": 0,
      "outputs": [
        {
          "output_type": "execute_result",
          "data": {
            "text/html": [
              "<div>\n",
              "<style scoped>\n",
              "    .dataframe tbody tr th:only-of-type {\n",
              "        vertical-align: middle;\n",
              "    }\n",
              "\n",
              "    .dataframe tbody tr th {\n",
              "        vertical-align: top;\n",
              "    }\n",
              "\n",
              "    .dataframe thead th {\n",
              "        text-align: right;\n",
              "    }\n",
              "</style>\n",
              "<table border=\"1\" class=\"dataframe\">\n",
              "  <thead>\n",
              "    <tr style=\"text-align: right;\">\n",
              "      <th></th>\n",
              "      <th>actual</th>\n",
              "      <th>predicted</th>\n",
              "    </tr>\n",
              "  </thead>\n",
              "  <tbody>\n",
              "    <tr>\n",
              "      <th>9985</th>\n",
              "      <td>i didnt notice it</td>\n",
              "      <td>i wont care that</td>\n",
              "    </tr>\n",
              "    <tr>\n",
              "      <th>9986</th>\n",
              "      <td>she rode a camel</td>\n",
              "      <td>she took on a</td>\n",
              "    </tr>\n",
              "    <tr>\n",
              "      <th>9987</th>\n",
              "      <td>trust me he said</td>\n",
              "      <td>tell as i was</td>\n",
              "    </tr>\n",
              "    <tr>\n",
              "      <th>9988</th>\n",
              "      <td>tom grabbed his bag</td>\n",
              "      <td>tom has his hair</td>\n",
              "    </tr>\n",
              "    <tr>\n",
              "      <th>9989</th>\n",
              "      <td>what was tom like</td>\n",
              "      <td>how did tom like</td>\n",
              "    </tr>\n",
              "    <tr>\n",
              "      <th>9990</th>\n",
              "      <td>it looks like snow</td>\n",
              "      <td>it looks fine</td>\n",
              "    </tr>\n",
              "    <tr>\n",
              "      <th>9991</th>\n",
              "      <td>tom works slowly</td>\n",
              "      <td>tom works slowly</td>\n",
              "    </tr>\n",
              "    <tr>\n",
              "      <th>9992</th>\n",
              "      <td>i love rock</td>\n",
              "      <td>i like reading</td>\n",
              "    </tr>\n",
              "    <tr>\n",
              "      <th>9993</th>\n",
              "      <td>our tv isnt working</td>\n",
              "      <td>the  door</td>\n",
              "    </tr>\n",
              "    <tr>\n",
              "      <th>9994</th>\n",
              "      <td>youre a racist</td>\n",
              "      <td>youre a workaholic</td>\n",
              "    </tr>\n",
              "    <tr>\n",
              "      <th>9995</th>\n",
              "      <td>i have one question</td>\n",
              "      <td>answer i missed</td>\n",
              "    </tr>\n",
              "    <tr>\n",
              "      <th>9996</th>\n",
              "      <td>i find swimming fun</td>\n",
              "      <td>is  fun me</td>\n",
              "    </tr>\n",
              "    <tr>\n",
              "      <th>9997</th>\n",
              "      <td>tom usually wins</td>\n",
              "      <td>tom rarely fishing</td>\n",
              "    </tr>\n",
              "    <tr>\n",
              "      <th>9998</th>\n",
              "      <td>he deserves the prize</td>\n",
              "      <td>he denied the meal</td>\n",
              "    </tr>\n",
              "    <tr>\n",
              "      <th>9999</th>\n",
              "      <td>ill explain later</td>\n",
              "      <td>ill show it later</td>\n",
              "    </tr>\n",
              "  </tbody>\n",
              "</table>\n",
              "</div>"
            ],
            "text/plain": [
              "                     actual                predicted\n",
              "9985      i didnt notice it     i wont care that    \n",
              "9986       she rode a camel        she took on a    \n",
              "9987       trust me he said        tell as i was    \n",
              "9988    tom grabbed his bag     tom has his hair    \n",
              "9989      what was tom like     how did tom like    \n",
              "9990     it looks like snow       it looks fine     \n",
              "9991       tom works slowly    tom works slowly     \n",
              "9992            i love rock      i like reading     \n",
              "9993    our tv isnt working           the  door     \n",
              "9994         youre a racist  youre a workaholic     \n",
              "9995    i have one question     answer i missed     \n",
              "9996    i find swimming fun           is  fun me    \n",
              "9997       tom usually wins  tom rarely fishing     \n",
              "9998  he deserves the prize   he denied the meal    \n",
              "9999      ill explain later    ill show it later    "
            ]
          },
          "metadata": {
            "tags": []
          },
          "execution_count": 35
        }
      ]
    },
    {
      "cell_type": "code",
      "metadata": {
        "id": "1HOFQkz93hWd",
        "colab_type": "code",
        "outputId": "3ff50264-7a12-4ea4-f2b0-af0db7d61d75",
        "colab": {
          "base_uri": "https://localhost:8080/",
          "height": 514
        }
      },
      "source": [
        "pred_df.sample(15)"
      ],
      "execution_count": 0,
      "outputs": [
        {
          "output_type": "execute_result",
          "data": {
            "text/html": [
              "<div>\n",
              "<style scoped>\n",
              "    .dataframe tbody tr th:only-of-type {\n",
              "        vertical-align: middle;\n",
              "    }\n",
              "\n",
              "    .dataframe tbody tr th {\n",
              "        vertical-align: top;\n",
              "    }\n",
              "\n",
              "    .dataframe thead th {\n",
              "        text-align: right;\n",
              "    }\n",
              "</style>\n",
              "<table border=\"1\" class=\"dataframe\">\n",
              "  <thead>\n",
              "    <tr style=\"text-align: right;\">\n",
              "      <th></th>\n",
              "      <th>actual</th>\n",
              "      <th>predicted</th>\n",
              "    </tr>\n",
              "  </thead>\n",
              "  <tbody>\n",
              "    <tr>\n",
              "      <th>1816</th>\n",
              "      <td>i come here every year</td>\n",
              "      <td>i come the every house</td>\n",
              "    </tr>\n",
              "    <tr>\n",
              "      <th>5200</th>\n",
              "      <td>we love this school</td>\n",
              "      <td>we love school</td>\n",
              "    </tr>\n",
              "    <tr>\n",
              "      <th>6612</th>\n",
              "      <td>step inside</td>\n",
              "      <td>go inside</td>\n",
              "    </tr>\n",
              "    <tr>\n",
              "      <th>6334</th>\n",
              "      <td>what can i do to help</td>\n",
              "      <td>how can i help you</td>\n",
              "    </tr>\n",
              "    <tr>\n",
              "      <th>4439</th>\n",
              "      <td>tom was sarcastic</td>\n",
              "      <td>tom went moving</td>\n",
              "    </tr>\n",
              "    <tr>\n",
              "      <th>1885</th>\n",
              "      <td>tom wasnt funny</td>\n",
              "      <td>tom wasnt funny</td>\n",
              "    </tr>\n",
              "    <tr>\n",
              "      <th>6710</th>\n",
              "      <td>dinner is ready</td>\n",
              "      <td>dinners is ready</td>\n",
              "    </tr>\n",
              "    <tr>\n",
              "      <th>3860</th>\n",
              "      <td>it sure is cold today</td>\n",
              "      <td>its all cold today</td>\n",
              "    </tr>\n",
              "    <tr>\n",
              "      <th>8954</th>\n",
              "      <td>whats your hobby</td>\n",
              "      <td>whats your hobby</td>\n",
              "    </tr>\n",
              "    <tr>\n",
              "      <th>781</th>\n",
              "      <td>im very forgetful</td>\n",
              "      <td>im very broadminded</td>\n",
              "    </tr>\n",
              "    <tr>\n",
              "      <th>8864</th>\n",
              "      <td>come forward</td>\n",
              "      <td>green are</td>\n",
              "    </tr>\n",
              "    <tr>\n",
              "      <th>8991</th>\n",
              "      <td>i need new shoes</td>\n",
              "      <td>i need a shoes</td>\n",
              "    </tr>\n",
              "    <tr>\n",
              "      <th>3539</th>\n",
              "      <td>this makes me so mad</td>\n",
              "      <td>this makes me that</td>\n",
              "    </tr>\n",
              "    <tr>\n",
              "      <th>4777</th>\n",
              "      <td>our store isnt open</td>\n",
              "      <td>those are  here</td>\n",
              "    </tr>\n",
              "    <tr>\n",
              "      <th>5874</th>\n",
              "      <td>he turned traitor</td>\n",
              "      <td>he was having to</td>\n",
              "    </tr>\n",
              "  </tbody>\n",
              "</table>\n",
              "</div>"
            ],
            "text/plain": [
              "                      actual                  predicted\n",
              "1816  i come here every year  i come the every house   \n",
              "5200     we love this school        we love school     \n",
              "6612             step inside            go inside      \n",
              "6334   what can i do to help      how can i help you   \n",
              "4439       tom was sarcastic       tom went moving     \n",
              "1885         tom wasnt funny       tom wasnt funny     \n",
              "6710         dinner is ready      dinners is ready     \n",
              "3860   it sure is cold today     its all cold today    \n",
              "8954        whats your hobby      whats your hobby     \n",
              "781        im very forgetful   im very broadminded     \n",
              "8864            come forward            green are      \n",
              "8991        i need new shoes         i need a shoes    \n",
              "3539    this makes me so mad     this makes me that    \n",
              "4777     our store isnt open        those are  here    \n",
              "5874       he turned traitor       he was having to    "
            ]
          },
          "metadata": {
            "tags": []
          },
          "execution_count": 36
        }
      ]
    }
  ]
}