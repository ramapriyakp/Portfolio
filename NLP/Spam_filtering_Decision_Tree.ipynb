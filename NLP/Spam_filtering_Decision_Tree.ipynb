{
  "nbformat": 4,
  "nbformat_minor": 0,
  "metadata": {
    "colab": {
      "name": "Spam_filtering_Decision_Tree.ipynb",
      "provenance": [],
      "collapsed_sections": [],
      "include_colab_link": true
    },
    "kernelspec": {
      "name": "python3",
      "display_name": "Python 3"
    }
  },
  "cells": [
    {
      "cell_type": "markdown",
      "metadata": {
        "id": "view-in-github",
        "colab_type": "text"
      },
      "source": [
        "<a href=\"https://colab.research.google.com/github/ramapriyakp/Portfolio/blob/master/NLP/Spam_filtering_Decision_Tree.ipynb\" target=\"_parent\"><img src=\"https://colab.research.google.com/assets/colab-badge.svg\" alt=\"Open In Colab\"/></a>"
      ]
    },
    {
      "cell_type": "markdown",
      "metadata": {
        "id": "ZRu04p2tQhXC",
        "colab_type": "text"
      },
      "source": [
        "**Description**\n",
        "\n",
        "Our goal is to predict whether the new e-mail is spam or not-spam. Notspam is also called ham. We have a dataset that contains a bunch of emails and those emails already have a class label, which is either spam or non-spam. So,\n",
        "our dataset is categorized into two classes--spam and non-spam.\n",
        "<br> Now if we get a new email, then can we categorize that particular e-mail into the spam or not-spam class? The\n",
        "answer is yes. So, to classify the new e-mail we use our dataset and ML algorithm and\n",
        "provide the best suited class for the new mail. The algorithm that implements the\n",
        "classification is called a ***classifier***. "
      ]
    },
    {
      "cell_type": "code",
      "metadata": {
        "id": "vAPxklOYs2Oo",
        "colab_type": "code",
        "outputId": "8aa52e02-c8b9-456c-9ba3-4119b4afd48c",
        "colab": {
          "base_uri": "https://localhost:8080/",
          "height": 34
        }
      },
      "source": [
        "from google.colab import drive\n",
        "drive.mount('/content/drive')"
      ],
      "execution_count": 0,
      "outputs": [
        {
          "output_type": "stream",
          "text": [
            "Drive already mounted at /content/drive; to attempt to forcibly remount, call drive.mount(\"/content/drive\", force_remount=True).\n"
          ],
          "name": "stdout"
        }
      ]
    },
    {
      "cell_type": "code",
      "metadata": {
        "id": "7elsQW2NJ8df",
        "colab_type": "code",
        "outputId": "93d8c5ec-e7fc-4b4a-ee17-d346fc546853",
        "colab": {
          "base_uri": "https://localhost:8080/",
          "height": 34
        }
      },
      "source": [
        "cd '/content/drive/My Drive/NLP'"
      ],
      "execution_count": 0,
      "outputs": [
        {
          "output_type": "stream",
          "text": [
            "/content/drive/My Drive/NLP\n"
          ],
          "name": "stdout"
        }
      ]
    },
    {
      "cell_type": "code",
      "metadata": {
        "id": "A-EEX_ALte2t",
        "colab_type": "code",
        "colab": {}
      },
      "source": [
        "from __future__ import print_function\n",
        "import pandas as pd\n",
        "import numpy as np"
      ],
      "execution_count": 0,
      "outputs": []
    },
    {
      "cell_type": "code",
      "metadata": {
        "id": "aqh2Ed_fuNhF",
        "colab_type": "code",
        "outputId": "1371584c-4057-454d-e23a-69d02b8367e3",
        "colab": {
          "base_uri": "https://localhost:8080/",
          "height": 71
        }
      },
      "source": [
        "# read file into pandas using a relative path\n",
        "#path = 'data/sms.tsv'\n",
        "path = 'sms.tsv'\n",
        "sms = pd.read_table(path, header=None, names=['label', 'message'])"
      ],
      "execution_count": 0,
      "outputs": [
        {
          "output_type": "stream",
          "text": [
            "/usr/local/lib/python3.6/dist-packages/ipykernel_launcher.py:2: FutureWarning: read_table is deprecated, use read_csv instead, passing sep='\\t'.\n",
            "  \n"
          ],
          "name": "stderr"
        }
      ]
    },
    {
      "cell_type": "code",
      "metadata": {
        "id": "QuiJeW1dlI6k",
        "colab_type": "code",
        "outputId": "54df6ae9-c63e-47ec-8d83-fe69a7382855",
        "colab": {
          "base_uri": "https://localhost:8080/",
          "height": 34
        }
      },
      "source": [
        "# examine the shape\n",
        "sms.shape"
      ],
      "execution_count": 0,
      "outputs": [
        {
          "output_type": "execute_result",
          "data": {
            "text/plain": [
              "(5572, 2)"
            ]
          },
          "metadata": {
            "tags": []
          },
          "execution_count": 5
        }
      ]
    },
    {
      "cell_type": "code",
      "metadata": {
        "id": "F9y0XxWblNhT",
        "colab_type": "code",
        "outputId": "4391890f-65fe-4857-cc72-2c60990f8e7e",
        "colab": {
          "base_uri": "https://localhost:8080/",
          "height": 359
        }
      },
      "source": [
        "# examine the first 10 rows\n",
        "sms.head(10)"
      ],
      "execution_count": 0,
      "outputs": [
        {
          "output_type": "execute_result",
          "data": {
            "text/html": [
              "<div>\n",
              "<style scoped>\n",
              "    .dataframe tbody tr th:only-of-type {\n",
              "        vertical-align: middle;\n",
              "    }\n",
              "\n",
              "    .dataframe tbody tr th {\n",
              "        vertical-align: top;\n",
              "    }\n",
              "\n",
              "    .dataframe thead th {\n",
              "        text-align: right;\n",
              "    }\n",
              "</style>\n",
              "<table border=\"1\" class=\"dataframe\">\n",
              "  <thead>\n",
              "    <tr style=\"text-align: right;\">\n",
              "      <th></th>\n",
              "      <th>label</th>\n",
              "      <th>message</th>\n",
              "    </tr>\n",
              "  </thead>\n",
              "  <tbody>\n",
              "    <tr>\n",
              "      <th>0</th>\n",
              "      <td>ham</td>\n",
              "      <td>Go until jurong point, crazy.. Available only ...</td>\n",
              "    </tr>\n",
              "    <tr>\n",
              "      <th>1</th>\n",
              "      <td>ham</td>\n",
              "      <td>Ok lar... Joking wif u oni...</td>\n",
              "    </tr>\n",
              "    <tr>\n",
              "      <th>2</th>\n",
              "      <td>spam</td>\n",
              "      <td>Free entry in 2 a wkly comp to win FA Cup fina...</td>\n",
              "    </tr>\n",
              "    <tr>\n",
              "      <th>3</th>\n",
              "      <td>ham</td>\n",
              "      <td>U dun say so early hor... U c already then say...</td>\n",
              "    </tr>\n",
              "    <tr>\n",
              "      <th>4</th>\n",
              "      <td>ham</td>\n",
              "      <td>Nah I don't think he goes to usf, he lives aro...</td>\n",
              "    </tr>\n",
              "    <tr>\n",
              "      <th>5</th>\n",
              "      <td>spam</td>\n",
              "      <td>FreeMsg Hey there darling it's been 3 week's n...</td>\n",
              "    </tr>\n",
              "    <tr>\n",
              "      <th>6</th>\n",
              "      <td>ham</td>\n",
              "      <td>Even my brother is not like to speak with me. ...</td>\n",
              "    </tr>\n",
              "    <tr>\n",
              "      <th>7</th>\n",
              "      <td>ham</td>\n",
              "      <td>As per your request 'Melle Melle (Oru Minnamin...</td>\n",
              "    </tr>\n",
              "    <tr>\n",
              "      <th>8</th>\n",
              "      <td>spam</td>\n",
              "      <td>WINNER!! As a valued network customer you have...</td>\n",
              "    </tr>\n",
              "    <tr>\n",
              "      <th>9</th>\n",
              "      <td>spam</td>\n",
              "      <td>Had your mobile 11 months or more? U R entitle...</td>\n",
              "    </tr>\n",
              "  </tbody>\n",
              "</table>\n",
              "</div>"
            ],
            "text/plain": [
              "  label                                            message\n",
              "0   ham  Go until jurong point, crazy.. Available only ...\n",
              "1   ham                      Ok lar... Joking wif u oni...\n",
              "2  spam  Free entry in 2 a wkly comp to win FA Cup fina...\n",
              "3   ham  U dun say so early hor... U c already then say...\n",
              "4   ham  Nah I don't think he goes to usf, he lives aro...\n",
              "5  spam  FreeMsg Hey there darling it's been 3 week's n...\n",
              "6   ham  Even my brother is not like to speak with me. ...\n",
              "7   ham  As per your request 'Melle Melle (Oru Minnamin...\n",
              "8  spam  WINNER!! As a valued network customer you have...\n",
              "9  spam  Had your mobile 11 months or more? U R entitle..."
            ]
          },
          "metadata": {
            "tags": []
          },
          "execution_count": 6
        }
      ]
    },
    {
      "cell_type": "code",
      "metadata": {
        "id": "bMVOaUYClTuF",
        "colab_type": "code",
        "outputId": "f2ee1e5d-cc82-4acc-a932-7be78d6d1de1",
        "colab": {
          "base_uri": "https://localhost:8080/",
          "height": 68
        }
      },
      "source": [
        "# examine the class distribution\n",
        "sms.label.value_counts()"
      ],
      "execution_count": 0,
      "outputs": [
        {
          "output_type": "execute_result",
          "data": {
            "text/plain": [
              "ham     4825\n",
              "spam     747\n",
              "Name: label, dtype: int64"
            ]
          },
          "metadata": {
            "tags": []
          },
          "execution_count": 7
        }
      ]
    },
    {
      "cell_type": "code",
      "metadata": {
        "id": "PQo6Vt77lYiM",
        "colab_type": "code",
        "colab": {}
      },
      "source": [
        "# convert label to a numerical variable\n",
        "sms['label_num'] = sms.label.map({'ham':0, 'spam':1})"
      ],
      "execution_count": 0,
      "outputs": []
    },
    {
      "cell_type": "code",
      "metadata": {
        "id": "wRBwfZJAloZ9",
        "colab_type": "code",
        "outputId": "ec430e39-1b5b-430c-c9c7-ae95551cafab",
        "colab": {
          "base_uri": "https://localhost:8080/",
          "height": 359
        }
      },
      "source": [
        "# check that the conversion worked\n",
        "sms.head(10)"
      ],
      "execution_count": 0,
      "outputs": [
        {
          "output_type": "execute_result",
          "data": {
            "text/html": [
              "<div>\n",
              "<style scoped>\n",
              "    .dataframe tbody tr th:only-of-type {\n",
              "        vertical-align: middle;\n",
              "    }\n",
              "\n",
              "    .dataframe tbody tr th {\n",
              "        vertical-align: top;\n",
              "    }\n",
              "\n",
              "    .dataframe thead th {\n",
              "        text-align: right;\n",
              "    }\n",
              "</style>\n",
              "<table border=\"1\" class=\"dataframe\">\n",
              "  <thead>\n",
              "    <tr style=\"text-align: right;\">\n",
              "      <th></th>\n",
              "      <th>label</th>\n",
              "      <th>message</th>\n",
              "      <th>label_num</th>\n",
              "    </tr>\n",
              "  </thead>\n",
              "  <tbody>\n",
              "    <tr>\n",
              "      <th>0</th>\n",
              "      <td>ham</td>\n",
              "      <td>Go until jurong point, crazy.. Available only ...</td>\n",
              "      <td>0</td>\n",
              "    </tr>\n",
              "    <tr>\n",
              "      <th>1</th>\n",
              "      <td>ham</td>\n",
              "      <td>Ok lar... Joking wif u oni...</td>\n",
              "      <td>0</td>\n",
              "    </tr>\n",
              "    <tr>\n",
              "      <th>2</th>\n",
              "      <td>spam</td>\n",
              "      <td>Free entry in 2 a wkly comp to win FA Cup fina...</td>\n",
              "      <td>1</td>\n",
              "    </tr>\n",
              "    <tr>\n",
              "      <th>3</th>\n",
              "      <td>ham</td>\n",
              "      <td>U dun say so early hor... U c already then say...</td>\n",
              "      <td>0</td>\n",
              "    </tr>\n",
              "    <tr>\n",
              "      <th>4</th>\n",
              "      <td>ham</td>\n",
              "      <td>Nah I don't think he goes to usf, he lives aro...</td>\n",
              "      <td>0</td>\n",
              "    </tr>\n",
              "    <tr>\n",
              "      <th>5</th>\n",
              "      <td>spam</td>\n",
              "      <td>FreeMsg Hey there darling it's been 3 week's n...</td>\n",
              "      <td>1</td>\n",
              "    </tr>\n",
              "    <tr>\n",
              "      <th>6</th>\n",
              "      <td>ham</td>\n",
              "      <td>Even my brother is not like to speak with me. ...</td>\n",
              "      <td>0</td>\n",
              "    </tr>\n",
              "    <tr>\n",
              "      <th>7</th>\n",
              "      <td>ham</td>\n",
              "      <td>As per your request 'Melle Melle (Oru Minnamin...</td>\n",
              "      <td>0</td>\n",
              "    </tr>\n",
              "    <tr>\n",
              "      <th>8</th>\n",
              "      <td>spam</td>\n",
              "      <td>WINNER!! As a valued network customer you have...</td>\n",
              "      <td>1</td>\n",
              "    </tr>\n",
              "    <tr>\n",
              "      <th>9</th>\n",
              "      <td>spam</td>\n",
              "      <td>Had your mobile 11 months or more? U R entitle...</td>\n",
              "      <td>1</td>\n",
              "    </tr>\n",
              "  </tbody>\n",
              "</table>\n",
              "</div>"
            ],
            "text/plain": [
              "  label                                            message  label_num\n",
              "0   ham  Go until jurong point, crazy.. Available only ...          0\n",
              "1   ham                      Ok lar... Joking wif u oni...          0\n",
              "2  spam  Free entry in 2 a wkly comp to win FA Cup fina...          1\n",
              "3   ham  U dun say so early hor... U c already then say...          0\n",
              "4   ham  Nah I don't think he goes to usf, he lives aro...          0\n",
              "5  spam  FreeMsg Hey there darling it's been 3 week's n...          1\n",
              "6   ham  Even my brother is not like to speak with me. ...          0\n",
              "7   ham  As per your request 'Melle Melle (Oru Minnamin...          0\n",
              "8  spam  WINNER!! As a valued network customer you have...          1\n",
              "9  spam  Had your mobile 11 months or more? U R entitle...          1"
            ]
          },
          "metadata": {
            "tags": []
          },
          "execution_count": 9
        }
      ]
    },
    {
      "cell_type": "code",
      "metadata": {
        "id": "8aFIzU_llxNv",
        "colab_type": "code",
        "outputId": "61bd1cfe-9701-42ae-9352-2eb1fb48b0ef",
        "colab": {
          "base_uri": "https://localhost:8080/",
          "height": 51
        }
      },
      "source": [
        "# how to define X and y (from the SMS data) for use with COUNTVECTORIZER\n",
        "X = sms.message\n",
        "y = sms.label_num\n",
        "print(X.shape)\n",
        "print(y.shape)"
      ],
      "execution_count": 0,
      "outputs": [
        {
          "output_type": "stream",
          "text": [
            "(5572,)\n",
            "(5572,)\n"
          ],
          "name": "stdout"
        }
      ]
    },
    {
      "cell_type": "code",
      "metadata": {
        "id": "dNzWZT25l3Vq",
        "colab_type": "code",
        "outputId": "f9abb386-2e9c-41f1-86f9-efe03fee5be0",
        "colab": {
          "base_uri": "https://localhost:8080/",
          "height": 85
        }
      },
      "source": [
        "# split X and y into training and testing sets\n",
        "from sklearn.model_selection import train_test_split\n",
        "X_train, X_test, y_train, y_test = train_test_split(X, y, random_state=1)\n",
        "print(X_train.shape)\n",
        "print(X_test.shape)\n",
        "print(y_train.shape)\n",
        "print(y_test.shape)"
      ],
      "execution_count": 0,
      "outputs": [
        {
          "output_type": "stream",
          "text": [
            "(4179,)\n",
            "(1393,)\n",
            "(4179,)\n",
            "(1393,)\n"
          ],
          "name": "stdout"
        }
      ]
    },
    {
      "cell_type": "markdown",
      "metadata": {
        "id": "D_G1o-6VTveD",
        "colab_type": "text"
      },
      "source": [
        "In spam filtering, we will use the CountVectorizer API of scikit-learn to generate the features. First, we perform some basic text analysis that will help us understand our data. Here, we\n",
        "have converted the text data to a vector format using scikit-learn API, Count\n",
        "Vectorizer().\n",
        "\n",
        "__Word Counts with CountVectorizer__<br>\n",
        "CountVectorizer provides a simple way to both tokenize a collection of text documents and build a vocabulary of known words, but also to encode new documents using that vocabulary.\n",
        "\n",
        "You can use it as follows:\n",
        "\n",
        "*  Create an instance of the CountVectorizer class.\n",
        "*  Call the fit() function in order to learn a vocabulary from one or more documents.\n",
        "*  Call the transform() function on one or more documents as needed to encode each as a vector."
      ]
    },
    {
      "cell_type": "code",
      "metadata": {
        "id": "knatkX1onXmc",
        "colab_type": "code",
        "colab": {}
      },
      "source": [
        "# import and instantiate CountVectorizer (with the default parameters)\n",
        "from sklearn.feature_extraction.text import CountVectorizer\n",
        "# instantiate the vectorizer\n",
        "vect = CountVectorizer()\n",
        "# learn training data vocabulary, then use it to create a document-term matrix\n",
        "vect.fit(X_train)\n",
        "X_train_dtm = vect.transform(X_train)"
      ],
      "execution_count": 0,
      "outputs": []
    },
    {
      "cell_type": "code",
      "metadata": {
        "id": "LncarEywnKhJ",
        "colab_type": "code",
        "colab": {}
      },
      "source": [
        "# equivalently: combine fit and transform into a single step\n",
        "X_train_dtm = vect.fit_transform(X_train)"
      ],
      "execution_count": 0,
      "outputs": []
    },
    {
      "cell_type": "code",
      "metadata": {
        "id": "KaQleFTrngqS",
        "colab_type": "code",
        "outputId": "504149cb-451f-43fb-a0f3-f7d516340680",
        "colab": {
          "base_uri": "https://localhost:8080/",
          "height": 51
        }
      },
      "source": [
        "# examine the document-term matrix\n",
        "X_train_dtm"
      ],
      "execution_count": 0,
      "outputs": [
        {
          "output_type": "execute_result",
          "data": {
            "text/plain": [
              "<4179x7456 sparse matrix of type '<class 'numpy.int64'>'\n",
              "\twith 55209 stored elements in Compressed Sparse Row format>"
            ]
          },
          "metadata": {
            "tags": []
          },
          "execution_count": 14
        }
      ]
    },
    {
      "cell_type": "code",
      "metadata": {
        "id": "rKjp5SH9nmR1",
        "colab_type": "code",
        "outputId": "8d5909c6-49d0-4f86-ae75-086dcbb07591",
        "colab": {
          "base_uri": "https://localhost:8080/",
          "height": 51
        }
      },
      "source": [
        "# transform testing data (using fitted vocabulary) into a document-term matrix\n",
        "X_test_dtm = vect.transform(X_test)\n",
        "X_test_dtm"
      ],
      "execution_count": 0,
      "outputs": [
        {
          "output_type": "execute_result",
          "data": {
            "text/plain": [
              "<1393x7456 sparse matrix of type '<class 'numpy.int64'>'\n",
              "\twith 17604 stored elements in Compressed Sparse Row format>"
            ]
          },
          "metadata": {
            "tags": []
          },
          "execution_count": 15
        }
      ]
    },
    {
      "cell_type": "markdown",
      "metadata": {
        "id": "FNlL9s7FVL17",
        "colab_type": "text"
      },
      "source": [
        "# Decision Tree\n",
        "but how does a decision tree recognize using\n",
        "which features and which feature value should it split the data? So, decision tree uses the concept of entropy to decide where to split\n",
        "the data. Let's understand entropy.\n",
        "\n",
        "**Entropy** is the measure of the impurity in a tree branch.\n",
        " otherwise,\n",
        "\n",
        "*  If Entropy E = 0, all data points in a tree branch belong to the same class, then entropy E = 0; otherwise, entropy E > 0 and E <= 1.\n",
        "*   If Entropy E = 1, then it indicates that the tree branch is highly\n",
        "impure or data points are evenly split between all the available classes.\n",
        "\n",
        "How to know on which variable or\n",
        "using which feature we need to perform a split? \n",
        "information gain. Decision tree uses information gain \n",
        " for this. \n",
        " \n",
        "\n",
        "*Information Gain (IG) = Entropy (Parent Node) - [Weight Average] Entropy (Children)*\n",
        "\n",
        "We are calculating the entropy of the parent node and\n",
        "subtracting the weighted entropy of the children. This calculation is done for all the\n",
        "available features, so the decision tree knows exactly where to split. "
      ]
    },
    {
      "cell_type": "markdown",
      "metadata": {
        "id": "cy34o3sIZRVx",
        "colab_type": "text"
      },
      "source": [
        "**Advantages of decision tree**\n",
        "\n",
        "The following are the advantages that decision tree provide:\n",
        " \n",
        "\n",
        "*  simple and easy to develop\n",
        "*  Decision tree can be interpreted by humans easily and it's a white box algorithm\n",
        "It helps us determine the worst, best, and expected values for different scenarios\n",
        "\n",
        "**Disadvantages of decision tree**\n",
        "\n",
        "\n",
        "*   If you have a lot of features, then decision tree may have overfitting issues\n",
        "*   You need to be careful about the parameters that you are passing while training\n",
        "\n",
        "\n"
      ]
    },
    {
      "cell_type": "code",
      "metadata": {
        "id": "z0H_6dZTnq2e",
        "colab_type": "code",
        "colab": {}
      },
      "source": [
        "from sklearn import tree\n",
        "clf = tree.DecisionTreeClassifier(criterion='entropy')"
      ],
      "execution_count": 0,
      "outputs": []
    },
    {
      "cell_type": "code",
      "metadata": {
        "id": "RCRBM9KonyEw",
        "colab_type": "code",
        "outputId": "38a0a09b-54c0-4a27-f17c-e8832ae00d62",
        "colab": {
          "base_uri": "https://localhost:8080/",
          "height": 153
        }
      },
      "source": [
        "# train the model using X_train_dtm (timing it with an IPython \"magic command\")\n",
        "%time clf.fit(X_train_dtm, y_train)"
      ],
      "execution_count": 0,
      "outputs": [
        {
          "output_type": "stream",
          "text": [
            "CPU times: user 115 ms, sys: 880 µs, total: 116 ms\n",
            "Wall time: 126 ms\n"
          ],
          "name": "stdout"
        },
        {
          "output_type": "execute_result",
          "data": {
            "text/plain": [
              "DecisionTreeClassifier(class_weight=None, criterion='entropy', max_depth=None,\n",
              "                       max_features=None, max_leaf_nodes=None,\n",
              "                       min_impurity_decrease=0.0, min_impurity_split=None,\n",
              "                       min_samples_leaf=1, min_samples_split=2,\n",
              "                       min_weight_fraction_leaf=0.0, presort=False,\n",
              "                       random_state=None, splitter='best')"
            ]
          },
          "metadata": {
            "tags": []
          },
          "execution_count": 17
        }
      ]
    },
    {
      "cell_type": "code",
      "metadata": {
        "id": "vn35ktY2n4jk",
        "colab_type": "code",
        "colab": {}
      },
      "source": [
        "# make class predictions for X_test_dtm\n",
        "y_pred_class = clf.predict(X_test_dtm)"
      ],
      "execution_count": 0,
      "outputs": []
    },
    {
      "cell_type": "code",
      "metadata": {
        "id": "toNxdyt8n9yC",
        "colab_type": "code",
        "outputId": "40f9006b-a1ce-4e75-991a-8dcbcf49b08c",
        "colab": {
          "base_uri": "https://localhost:8080/",
          "height": 34
        }
      },
      "source": [
        "# calculate accuracy of class predictions\n",
        "from sklearn import metrics\n",
        "metrics.accuracy_score(y_test, y_pred_class)"
      ],
      "execution_count": 0,
      "outputs": [
        {
          "output_type": "execute_result",
          "data": {
            "text/plain": [
              "0.9669777458722182"
            ]
          },
          "metadata": {
            "tags": []
          },
          "execution_count": 19
        }
      ]
    },
    {
      "cell_type": "markdown",
      "metadata": {
        "id": "oYNgKt7Db3KY",
        "colab_type": "text"
      },
      "source": [
        "**Why you need Confusion matrix?**\n",
        "\n",
        "The confusion matrix visualizes the accuracy of a classifier by comparing the actual and predicted classes.\n",
        "\n",
        "![alt text](https://www.guru99.com/images/r_programming/032918_0938_DecisionTre2.png)\n",
        "\n",
        "\n",
        "Here are pros/benefits of using a confusion matrix.\n",
        "\n",
        "*  It shows how any classification model is confused when it makes predictions\n",
        "*   Confusion matrix not only gives you insight into the errors being made by your classifier but also types of errors that are being made.\n",
        "\n",
        "*   This breakdown helps you to overcomes the limitation of using classification accuracy alone."
      ]
    },
    {
      "cell_type": "code",
      "metadata": {
        "id": "faGz7mSioE5o",
        "colab_type": "code",
        "outputId": "0ccd11e4-2657-4e2d-e6a2-f704b1930ffb",
        "colab": {
          "base_uri": "https://localhost:8080/",
          "height": 51
        }
      },
      "source": [
        "\n",
        "# print the confusion matrix\n",
        "metrics.confusion_matrix(y_test, y_pred_class)"
      ],
      "execution_count": 0,
      "outputs": [
        {
          "output_type": "execute_result",
          "data": {
            "text/plain": [
              "array([[1182,   26],\n",
              "       [  20,  165]])"
            ]
          },
          "metadata": {
            "tags": []
          },
          "execution_count": 20
        }
      ]
    },
    {
      "cell_type": "code",
      "metadata": {
        "id": "AGjB2EBPoKmx",
        "colab_type": "code",
        "outputId": "67fb6587-21e8-4cf7-b710-f00abb94f928",
        "colab": {
          "base_uri": "https://localhost:8080/",
          "height": 476
        }
      },
      "source": [
        "# print message text for the false positives (ham incorrectly classified as spam)\n",
        "X_test[y_test < y_pred_class]"
      ],
      "execution_count": 0,
      "outputs": [
        {
          "output_type": "execute_result",
          "data": {
            "text/plain": [
              "1827    Dude. What's up. How Teresa. Hope you have bee...\n",
              "574                                Waiting for your call.\n",
              "1973    Yes but can we meet in town cos will go to gep...\n",
              "3242      Ok i've sent u da latest version of da project.\n",
              "1791    Am not working but am up to eyes in philosophy...\n",
              "2900    Aight, I should be there by 8 at the latest, p...\n",
              "2497    HCL chennai requires FRESHERS for voice proces...\n",
              "745       Men like shorter ladies. Gaze up into his eyes.\n",
              "2340    Cheers for the message Zogtorius. Ive been st...\n",
              "1832    Hello- thanx for taking that call. I got a job...\n",
              "566     Ill call u 2mrw at ninish, with my address tha...\n",
              "3544             I'm e person who's doing e sms survey...\n",
              "987     I'm in office now . I will call you  &lt;#&gt;...\n",
              "867     Same here, but I consider walls and bunkers an...\n",
              "1537    How's it feel? Mr. Your not my real Valentine ...\n",
              "705     True dear..i sat to pray evening and felt so.s...\n",
              "988     Geeee ... I miss you already, you know ? Your ...\n",
              "100     Please don't text me anymore. I have nothing e...\n",
              "1364    Yetunde, i'm sorry but moji and i seem too bus...\n",
              "4766    if you text on your way to cup stop that shoul...\n",
              "5094    Hi Shanil,Rakhesh here.thanks,i have exchanged...\n",
              "3826    Hi. I'm always online on yahoo and would like ...\n",
              "3237    Aight text me when you're back at mu and I'll ...\n",
              "4814            i can call in  &lt;#&gt;  min if thats ok\n",
              "4958              I'm vivek:)i got call from your number.\n",
              "330     I'm reading the text i just sent you. Its mean...\n",
              "Name: message, dtype: object"
            ]
          },
          "metadata": {
            "tags": []
          },
          "execution_count": 21
        }
      ]
    },
    {
      "cell_type": "code",
      "metadata": {
        "id": "W4wB4M4aoQte",
        "colab_type": "code",
        "outputId": "6a7014ef-9828-4027-90d0-e9af29d3f93c",
        "colab": {
          "base_uri": "https://localhost:8080/",
          "height": 374
        }
      },
      "source": [
        "# print message text for the false negatives (spam incorrectly classified as ham)\n",
        "X_test[y_test > y_pred_class]"
      ],
      "execution_count": 0,
      "outputs": [
        {
          "output_type": "execute_result",
          "data": {
            "text/plain": [
              "3642    You can stop further club tones by replying \"S...\n",
              "1777                    Call FREEPHONE 0800 542 0578 now!\n",
              "2680    New Tones This week include: 1)McFly-All Ab..,...\n",
              "763     Urgent Ur £500 guaranteed award is still uncla...\n",
              "4574    URGENT! This is the 2nd attempt to contact U!U...\n",
              "881     Reminder: You have not downloaded the content ...\n",
              "3132    LookAtMe!: Thanks for your purchase of a video...\n",
              "2514    U have won a nokia 6230 plus a free digital ca...\n",
              "4499    Latest Nokia Mobile or iPOD MP3 Player +£400 p...\n",
              "5       FreeMsg Hey there darling it's been 3 week's n...\n",
              "3530    Xmas & New Years Eve tickets are now on sale f...\n",
              "4768    Your unique user ID is 1172. For removal send ...\n",
              "4298    thesmszone.com lets you send free anonymous an...\n",
              "4949    Hi this is Amy, we will be sending you a free ...\n",
              "761     Romantic Paris. 2 nights, 2 flights from £79 B...\n",
              "3564    Auction round 4. The highest bid is now £54. N...\n",
              "2863    Adult 18 Content Your video will be with you s...\n",
              "2247    Hi ya babe x u 4goten bout me?' scammers getti...\n",
              "4514    Money i have won wining number 946 wot do i do...\n",
              "789     5 Free Top Polyphonic Tones call 087018728737,...\n",
              "Name: message, dtype: object"
            ]
          },
          "metadata": {
            "tags": []
          },
          "execution_count": 22
        }
      ]
    },
    {
      "cell_type": "code",
      "metadata": {
        "id": "MOqMPUSfoVUO",
        "colab_type": "code",
        "outputId": "2fbc0b00-90e9-4b41-cc93-ca6d6e78990c",
        "colab": {
          "base_uri": "https://localhost:8080/",
          "height": 34
        }
      },
      "source": [
        "# example false negative\n",
        "X_test[761]"
      ],
      "execution_count": 0,
      "outputs": [
        {
          "output_type": "execute_result",
          "data": {
            "text/plain": [
              "'Romantic Paris. 2 nights, 2 flights from £79 Book now 4 next year. Call 08704439680Ts&Cs apply.'"
            ]
          },
          "metadata": {
            "tags": []
          },
          "execution_count": 23
        }
      ]
    },
    {
      "cell_type": "code",
      "metadata": {
        "id": "vOX5f0rFoaPs",
        "colab_type": "code",
        "outputId": "88f3b845-6435-45e6-9eae-a45158d6baad",
        "colab": {
          "base_uri": "https://localhost:8080/",
          "height": 34
        }
      },
      "source": [
        "# calculate predicted probabilities for X_test_dtm (poorly calibrated)\n",
        "y_pred_prob = clf.predict_proba(X_test_dtm)[:, 1]\n",
        "y_pred_prob"
      ],
      "execution_count": 0,
      "outputs": [
        {
          "output_type": "execute_result",
          "data": {
            "text/plain": [
              "array([0., 0., 0., ..., 0., 1., 0.])"
            ]
          },
          "metadata": {
            "tags": []
          },
          "execution_count": 24
        }
      ]
    },
    {
      "cell_type": "code",
      "metadata": {
        "id": "sW9c2Phnof19",
        "colab_type": "code",
        "outputId": "0bc4b02c-09ca-425e-fe8c-89e406721aff",
        "colab": {
          "base_uri": "https://localhost:8080/",
          "height": 34
        }
      },
      "source": [
        "# calculate AUC\n",
        "metrics.roc_auc_score(y_test, y_pred_prob)"
      ],
      "execution_count": 0,
      "outputs": [
        {
          "output_type": "execute_result",
          "data": {
            "text/plain": [
              "0.9351843565419724"
            ]
          },
          "metadata": {
            "tags": []
          },
          "execution_count": 25
        }
      ]
    },
    {
      "cell_type": "markdown",
      "metadata": {
        "id": "nCNaVWNyymkQ",
        "colab_type": "text"
      },
      "source": [
        "*  ROC Curves summarize the trade-off between the true positive rate and false positive rate for a predictive model using different probability thresholds.\n",
        "*  ROC curves are appropriate when the observations are balanced between each class, whereas precision-recall curves are appropriate for imbalanced datasets.\n",
        "\n"
      ]
    }
  ]
}