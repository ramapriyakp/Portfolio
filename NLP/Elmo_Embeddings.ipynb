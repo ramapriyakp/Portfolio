{
  "nbformat": 4,
  "nbformat_minor": 0,
  "metadata": {
    "colab": {
      "name": "Elmo Embeddings.ipynb",
      "provenance": [],
      "collapsed_sections": [],
      "include_colab_link": true
    },
    "kernelspec": {
      "name": "python3",
      "display_name": "Python 3"
    },
    "accelerator": "GPU"
  },
  "cells": [
    {
      "cell_type": "markdown",
      "metadata": {
        "id": "view-in-github",
        "colab_type": "text"
      },
      "source": [
        "<a href=\"https://colab.research.google.com/github/ramapriyakp/Portfolio/blob/master/NLP/Elmo_Embeddings.ipynb\" target=\"_parent\"><img src=\"https://colab.research.google.com/assets/colab-badge.svg\" alt=\"Open In Colab\"/></a>"
      ]
    },
    {
      "cell_type": "markdown",
      "metadata": {
        "id": "QkUHjnnzNyuK",
        "colab_type": "text"
      },
      "source": [
        "#Keras sentiment analysis with Elmo Embeddings\n",
        "\n",
        " One of the recent trends in Natural Language Processing is transfer learning. Transfer learning allows NLP models to learn more from fewer examples. In this notebook, we experiment with so-called ELMo Embeddings, a new approach to word embeddings that relies on a large unlabelled text corpus to understand word meaning in context. \n",
        " \n",
        "##Preparation\n",
        "\n",
        "Let's first install and import all the required libraries."
      ]
    },
    {
      "cell_type": "code",
      "metadata": {
        "id": "r51hHH_oOQbm",
        "colab_type": "code",
        "outputId": "1b18e01d-d158-4125-f86d-ab9d0ae33e29",
        "colab": {
          "base_uri": "https://localhost:8080/",
          "height": 122
        }
      },
      "source": [
        "from google.colab import drive\n",
        "drive.mount('/content/drive')"
      ],
      "execution_count": 0,
      "outputs": [
        {
          "output_type": "stream",
          "text": [
            "Go to this URL in a browser: https://accounts.google.com/o/oauth2/auth?client_id=947318989803-6bn6qk8qdgf4n4g3pfee6491hc0brc4i.apps.googleusercontent.com&redirect_uri=urn%3Aietf%3Awg%3Aoauth%3A2.0%3Aoob&scope=email%20https%3A%2F%2Fwww.googleapis.com%2Fauth%2Fdocs.test%20https%3A%2F%2Fwww.googleapis.com%2Fauth%2Fdrive%20https%3A%2F%2Fwww.googleapis.com%2Fauth%2Fdrive.photos.readonly%20https%3A%2F%2Fwww.googleapis.com%2Fauth%2Fpeopleapi.readonly&response_type=code\n",
            "\n",
            "Enter your authorization code:\n",
            "··········\n",
            "Mounted at /content/drive\n"
          ],
          "name": "stdout"
        }
      ]
    },
    {
      "cell_type": "code",
      "metadata": {
        "id": "4RKcUR3eOPdn",
        "colab_type": "code",
        "outputId": "bf6c68ac-e913-4f64-cfad-e63b172ba980",
        "colab": {
          "base_uri": "https://localhost:8080/",
          "height": 34
        }
      },
      "source": [
        "cd /content/drive/My Drive/NLP"
      ],
      "execution_count": 0,
      "outputs": [
        {
          "output_type": "stream",
          "text": [
            "/content/drive/My Drive/NLP\n"
          ],
          "name": "stdout"
        }
      ]
    },
    {
      "cell_type": "code",
      "metadata": {
        "id": "7CZzLoL-O8jF",
        "colab_type": "code",
        "colab": {}
      },
      "source": [
        "import tensorflow as tf\n",
        "import tensorflow_hub as hub"
      ],
      "execution_count": 0,
      "outputs": []
    },
    {
      "cell_type": "code",
      "metadata": {
        "id": "ukayAM2QPBVX",
        "colab_type": "code",
        "outputId": "25943418-cf9c-4754-fc9e-7f662325a84d",
        "colab": {
          "base_uri": "https://localhost:8080/",
          "height": 34
        }
      },
      "source": [
        "from keras import backend\n",
        "\n",
        "sess = tf.Session()\n",
        "backend.set_session(sess)"
      ],
      "execution_count": 0,
      "outputs": [
        {
          "output_type": "stream",
          "text": [
            "Using TensorFlow backend.\n"
          ],
          "name": "stderr"
        }
      ]
    },
    {
      "cell_type": "code",
      "metadata": {
        "id": "Dx27mALrPGmy",
        "colab_type": "code",
        "colab": {}
      },
      "source": [
        "elmo_model = hub.Module(\"https://alpha.tfhub.dev/google/elmo/2\", trainable=True)\n",
        "sess.run(tf.global_variables_initializer())\n",
        "sess.run(tf.tables_initializer())"
      ],
      "execution_count": 0,
      "outputs": []
    },
    {
      "cell_type": "markdown",
      "metadata": {
        "id": "7H4BLGBy1TVZ",
        "colab_type": "text"
      },
      "source": [
        "## ELMo Embeddings\n",
        "A quick example will illustrate how ELMo Embeddings work. When we pass to our model a list of sentences (either as strings or as lists of tokens), we get back a list of 1024-dimensional embeddings for every sentence. These are the ELMo embeddings of the tokens in the sentence."
      ]
    },
    {
      "cell_type": "code",
      "metadata": {
        "id": "t8pfcdMjPNSq",
        "colab_type": "code",
        "colab": {}
      },
      "source": [
        "embeddings = elmo_model(\n",
        "    [\"the cat is on the mat\", \"dogs are in the fog\"],\n",
        "    signature=\"default\",\n",
        "    as_dict=True)[\"elmo\"]"
      ],
      "execution_count": 0,
      "outputs": []
    },
    {
      "cell_type": "markdown",
      "metadata": {
        "id": "KMTMwK-71a0V",
        "colab_type": "text"
      },
      "source": [
        "## Sentiment analysis\n",
        "In this experiment, we're going to build a simple neural network for sentiment analysis. As our training and test data, we use the IMDB movie reviews that come pre-packaged with Keras. We shuffle the reviews and pad all texts to a maximum length of 500."
      ]
    },
    {
      "cell_type": "code",
      "metadata": {
        "id": "CuDMhKAbPSv9",
        "colab_type": "code",
        "outputId": "34f495e9-2966-42af-91ff-f5101a9a2836",
        "colab": {
          "base_uri": "https://localhost:8080/",
          "height": 51
        }
      },
      "source": [
        "import random\n",
        "import numpy as np\n",
        "from keras.datasets import imdb\n",
        "from keras.preprocessing import sequence\n",
        "\n",
        "VOCABULARY_SIZE = 50000\n",
        "INDEX_FROM = 3\n",
        "START_INDEX = 1\n",
        "OOV_INDEX = 2\n",
        "EMBEDDING_DIM = 300\n",
        "SEQ_LENGTH = 500\n",
        "\n",
        "(X_train, y_train), (X_test, y_test) = imdb.load_data(path=\"imdb.npz\",\n",
        "                                                      num_words=VOCABULARY_SIZE,\n",
        "                                                      skip_top=0,\n",
        "                                                      maxlen=None,\n",
        "                                                      seed=113,\n",
        "                                                      start_char=START_INDEX,\n",
        "                                                      oov_char=OOV_INDEX,\n",
        "                                                      index_from=INDEX_FROM)\n",
        "\n",
        "train = list(zip(X_train, y_train))\n",
        "random.shuffle(train)\n",
        "X_train, y_train = zip(*train)\n",
        "y_train = np.array(y_train)\n",
        "\n",
        "X_train = sequence.pad_sequences(X_train, maxlen=SEQ_LENGTH)\n",
        "X_test = sequence.pad_sequences(X_test, maxlen=SEQ_LENGTH)"
      ],
      "execution_count": 0,
      "outputs": [
        {
          "output_type": "stream",
          "text": [
            "Downloading data from https://s3.amazonaws.com/text-datasets/imdb.npz\n",
            "17465344/17464789 [==============================] - 1s 0us/step\n"
          ],
          "name": "stdout"
        }
      ]
    },
    {
      "cell_type": "markdown",
      "metadata": {
        "id": "sxSxKdcO1ldQ",
        "colab_type": "text"
      },
      "source": [
        "## Simple embeddings\n",
        "For our baseline, we're going to work with standard word embeddings. These map every token to a 300-dimensional embedding, irrespective of the context in which the token occurs. We'll use the English word embeddings from Facebook Research's MUSE project."
      ]
    },
    {
      "cell_type": "code",
      "metadata": {
        "id": "9pv2Go8hQrWq",
        "colab_type": "code",
        "colab": {}
      },
      "source": [
        "# English fastText Wikipedia embeddings\n",
        "#!wget https://dl.fbaipublicfiles.com/arrival/vectors/wiki.multi.en.vec\n",
        "# see https://github.com/facebookresearch/MUSE  Multilingual word Embeddings"
      ],
      "execution_count": 0,
      "outputs": []
    },
    {
      "cell_type": "markdown",
      "metadata": {
        "id": "tV5AHkBb1wfw",
        "colab_type": "text"
      },
      "source": [
        "We load these embeddings and put the ones we need in an embedding matrix, where their row indices correspond to the token indices that Keras has assigned to the tokens in the IMDB corpus."
      ]
    },
    {
      "cell_type": "code",
      "metadata": {
        "id": "f6-ZcFCRTDf-",
        "colab_type": "code",
        "outputId": "3f3a924a-e9e8-4fed-b602-ad0db38937e8",
        "colab": {
          "base_uri": "https://localhost:8080/",
          "height": 34
        }
      },
      "source": [
        "import numpy as np\n",
        "\n",
        "def load_vectors(embedding_file_path):\n",
        "    print(\"Loading vectors from\", embedding_file_path)\n",
        "    embeddings = []\n",
        "    word2id = {}\n",
        "    with open(embedding_file_path, 'r', encoding='utf-8') as f:\n",
        "        next(f)\n",
        "        for i, line in enumerate(f):\n",
        "            word, emb = line.rstrip().split(' ', 1)\n",
        "            emb = np.fromstring(emb, sep=' ')\n",
        "            assert word not in word2id, 'word found twice'\n",
        "            embeddings.append(emb)\n",
        "            word2id[word] = len(word2id)\n",
        "\n",
        "    embeddings = np.vstack(embeddings)\n",
        "    return embeddings, word2id\n",
        "\n",
        "embeddings_en, embedding_word2id_en = load_vectors(\"wiki.multi.en.vec\")"
      ],
      "execution_count": 0,
      "outputs": [
        {
          "output_type": "stream",
          "text": [
            "Loading vectors from wiki.multi.en.vec\n"
          ],
          "name": "stdout"
        }
      ]
    },
    {
      "cell_type": "code",
      "metadata": {
        "id": "Z2IlqjsRTFyK",
        "colab_type": "code",
        "outputId": "3b89d925-1630-423a-dbfe-6b6ab6b8dc11",
        "colab": {
          "base_uri": "https://localhost:8080/",
          "height": 51
        }
      },
      "source": [
        "def create_embedding_matrix(target_word2id, embedding_word2id, embeddings, num_rows, num_columns):\n",
        "    embedding_matrix = np.zeros((num_rows, num_columns))\n",
        "    for word, i in target_word2id.items():\n",
        "        if i >= num_rows:\n",
        "            continue\n",
        "        if word in embedding_word2id: \n",
        "            embedding_matrix[i] = embeddings[embedding_word2id[word]]\n",
        "    return embedding_matrix\n",
        "\n",
        "word2id_en = imdb.get_word_index()\n",
        "word2id_en = {k:(v+INDEX_FROM) for k,v in word2id_en.items()}\n",
        "word2id_en[\"<PAD>\"] = 0\n",
        "word2id_en[\"<START>\"] = START_INDEX\n",
        "word2id_en[\"<UNK>\"] = OOV_INDEX\n",
        "\n",
        "embedding_matrix_en = create_embedding_matrix(word2id_en, embedding_word2id_en, \n",
        "                                              embeddings_en, VOCABULARY_SIZE+INDEX_FROM-1, EMBEDDING_DIM)"
      ],
      "execution_count": 0,
      "outputs": [
        {
          "output_type": "stream",
          "text": [
            "Downloading data from https://s3.amazonaws.com/text-datasets/imdb_word_index.json\n",
            "1646592/1641221 [==============================] - 1s 0us/step\n"
          ],
          "name": "stdout"
        }
      ]
    },
    {
      "cell_type": "markdown",
      "metadata": {
        "id": "ifIuoWx818Gm",
        "colab_type": "text"
      },
      "source": [
        "## Models\n",
        "We build two models for text classification, which are identical apart from the first layer. Our basic model has a simple embedding layer, were tokens are mapped to their static embeddings. Our ELMo model has a more complex first layer, where the static embedding for each token is concatenated to the ELMo embedding for that token in the relevant context. This results in a 1,324-dimensional embedding for each token in context. In both models, this embedding layer is followed by a simple convolution with kernel size 3, a maximum pooling operation, a dense layer, and finally a final layer that predicts the sentiment of each text as a number between 0 and 1."
      ]
    },
    {
      "cell_type": "markdown",
      "metadata": {
        "id": "AFtOryxTMUDQ",
        "colab_type": "text"
      },
      "source": [
        "**ELMo (Embeddings from Language Models)** design uses a deep bidirectional LSTM language model for learning words and their context. The deep BiLSTM architecture allows ELMo to learn more context-dependent aspects of word meanings in the higher layers along with syntax aspects in lower layers. This results in better word embeddings, and different representations of a word depending on the context it appears in (especially useful for homographs).\n",
        "\n",
        "**BERT (Bidirectional Encoder Representations from Transformers)** builds on top of the bidirectional idea from ELMo, but uses the relatively new transformer architecture to compute word embeddings. It has been shown to produce excellent word embeddings, achieving state-of-the-art results on various NLP tasks."
      ]
    },
    {
      "cell_type": "markdown",
      "metadata": {
        "id": "Zd4e0q6LLO7C",
        "colab_type": "text"
      },
      "source": [
        "ELMo representations are:\n",
        "\n",
        "*  __Contextual__: The representation for each word depends on the entire context in which it is used.\n",
        "*  __Deep__: The word representations combine all layers of a deep pre-trained neural network.\n",
        "*  __Character based__: ELMo representations are purely character based, allowing the network to use morphological clues to form robust representations for out-of-vocabulary tokens unseen in training."
      ]
    },
    {
      "cell_type": "code",
      "metadata": {
        "id": "nlwrYkiTTao0",
        "colab_type": "code",
        "colab": {}
      },
      "source": [
        "import numpy as np\n",
        "from keras.models import Sequential\n",
        "from keras.layers import Dense, Lambda, Input\n",
        "from keras.layers import Flatten, Concatenate\n",
        "from keras.layers.convolutional import Conv1D\n",
        "from keras.layers.convolutional import MaxPooling1D\n",
        "from keras.layers.embeddings import Embedding\n",
        "from keras.callbacks import EarlyStopping, ModelCheckpoint\n",
        "from keras.models import Model\n",
        "from keras.optimizers import Adam\n",
        "\n",
        "ELMO_EMBEDDING_DIM = 1024\n",
        "\n",
        "def ElmoEmbedding(x):\n",
        "    y = elmo_model(tf.squeeze(x), signature=\"default\", as_dict=True)[\"elmo\"]\n",
        "    return y\n",
        "\n",
        "def create_basic_model():\n",
        "    sequence = Input(shape=(500,))\n",
        "    embedding = Embedding(VOCABULARY_SIZE+INDEX_FROM-1, EMBEDDING_DIM, input_length=SEQ_LENGTH, \n",
        "                              weights=[embedding_matrix_en], trainable=False)(sequence)\n",
        "        \n",
        "    conv = Conv1D(filters=64, kernel_size=3, padding='same', activation='relu')(embedding)\n",
        "    pool = MaxPooling1D(pool_size=SEQ_LENGTH)(conv)\n",
        "    flat = Flatten()(pool)\n",
        "    dense = Dense(250, activation='relu')(flat)\n",
        "    prediction = Dense(1, activation='sigmoid')(dense)\n",
        "\n",
        "    model = Model(inputs=sequence, outputs=prediction)\n",
        "    optimizer = Adam(lr=0.0001, decay=1e-3)\n",
        "    model.compile(loss='binary_crossentropy', optimizer='adam', metrics=['accuracy'])\n",
        "\n",
        "    #print(model.summary())\n",
        "    \n",
        "    return model"
      ],
      "execution_count": 0,
      "outputs": []
    },
    {
      "cell_type": "code",
      "metadata": {
        "id": "TbCGG0CvVNu8",
        "colab_type": "code",
        "colab": {}
      },
      "source": [
        "def create_elmo_model(): \n",
        "    token_sequence = Input(shape=(1,), dtype=\"string\", name=\"elmo_input\")\n",
        "    index_sequence = Input(shape=(SEQ_LENGTH,), name=\"standard_input\")\n",
        "\n",
        "    embedding1 = Lambda(ElmoEmbedding, output_shape=(SEQ_LENGTH, ELMO_EMBEDDING_DIM,))(token_sequence)\n",
        "    embedding2 = Embedding(VOCABULARY_SIZE+INDEX_FROM-1, EMBEDDING_DIM, input_length=SEQ_LENGTH, \n",
        "                          weights=[embedding_matrix_en], trainable=False)(index_sequence)\n",
        "    embedding = Concatenate()([embedding1, embedding2])\n",
        "        \n",
        "    conv = Conv1D(filters=64, kernel_size=3, padding='same', activation='relu')(embedding)\n",
        "    pool = MaxPooling1D(pool_size=SEQ_LENGTH)(conv)\n",
        "    flat = Flatten()(pool)\n",
        "    dense = Dense(250, activation='relu')(flat)\n",
        "    prediction = Dense(1, activation='sigmoid')(dense)\n",
        "\n",
        "    model = Model(inputs=[index_sequence, token_sequence], outputs=prediction)\n",
        "    optimizer = Adam(lr=0.00001, decay=1e-3)\n",
        "    model.compile(loss='binary_crossentropy', optimizer='adam', metrics=['accuracy'])\n",
        "\n",
        "    #print(model.summary())\n",
        "    \n",
        "    return model"
      ],
      "execution_count": 0,
      "outputs": []
    },
    {
      "cell_type": "markdown",
      "metadata": {
        "id": "34T7ckpV2D6n",
        "colab_type": "text"
      },
      "source": [
        "## Training\n",
        "We train both models for a maximum of 100 epochs, but we stop earlier when the validation loss hasn't improved for two epochs. We save and evaluate the model with the lowest validation loss. Although we didn't make a big effort to tune the learning rate, we did find that the ELMo model benefits from having a much smaller initial learning rate than the basic model. We use the same decay rate for both models"
      ]
    },
    {
      "cell_type": "code",
      "metadata": {
        "id": "1em7bl3gVPwE",
        "colab_type": "code",
        "colab": {}
      },
      "source": [
        "import math\n",
        "from keras.models import load_model\n",
        "\n",
        "def train_basic_model(model, X_train, y_train, X_val, y_val, X_test, y_test): \n",
        "    batch_size = 16\n",
        "    earlystop = EarlyStopping(monitor='val_loss', patience=2) \n",
        "    checkpoint = ModelCheckpoint('basic_model.hdf5', save_best_only=True, monitor='val_loss', mode='min')\n",
        "\n",
        "    model.fit(X_train, y_train, validation_data=(X_val, y_val), \n",
        "              epochs=100, batch_size=batch_size, callbacks=[earlystop, checkpoint])\n",
        "    model.load_weights(\"basic_model.hdf5\")\n",
        "    scores = model.evaluate(X_test, y_test, batch_size=batch_size)\n",
        "    print(\"Accuracy: %.2f%%\" % (scores[1]*100))\n",
        "    return scores[1]*100\n",
        "\n",
        "\n",
        "def train_elmo_model(model, X_train, E_train, y_train, X_val, E_val, y_val, X_test, E_test, y_test): \n",
        "    batch_size = 16\n",
        "    earlystop = EarlyStopping(monitor='val_loss', patience=2)        \n",
        "    checkpoint = ModelCheckpoint('elmo_model.hdf5', save_best_only=True, monitor='val_loss', mode='min')\n",
        "\n",
        "    model.fit([X_train, E_train], y_train, validation_data=([X_val, E_val], y_val), \n",
        "              epochs=100, batch_size=batch_size, callbacks=[earlystop, checkpoint])\n",
        "    model.load_weights('elmo_model.hdf5')\n",
        "    scores = model.evaluate([X_test, E_test], y_test, batch_size=batch_size)\n",
        "    print(\"Accuracy: %.2f%%\" % (scores[1]*100))\n",
        "    return scores[1]*100"
      ],
      "execution_count": 0,
      "outputs": []
    },
    {
      "cell_type": "markdown",
      "metadata": {
        "id": "ManOaARd2Jue",
        "colab_type": "text"
      },
      "source": [
        "Because the ELMo model is quite slow, we chose to work with relatively small datasets. We train on just 200 training examples, validate the model on another 200 examples after each epoch, and test its final performance on 500 test examples. We repeat this process 10 times, and choose the training and validation examples randomly from the larger IMDB training set on each iteration. The ELMo model is trained, validated and tested on exactly the same examples as the basic model."
      ]
    },
    {
      "cell_type": "code",
      "metadata": {
        "id": "XbYJ7B6LVXG4",
        "colab_type": "code",
        "outputId": "bda7b7e6-e06a-442f-abf6-6c42a2dfc969",
        "colab": {
          "base_uri": "https://localhost:8080/",
          "height": 1000
        }
      },
      "source": [
        "\n",
        "elmo_accuracies = []\n",
        "basic_accuracies = []\n",
        "\n",
        "test_size = 500\n",
        "validation_size = 200\n",
        "training_size = 200\n",
        "id2word_en = {v:k for k,v in word2id_en.items()}\n",
        "\n",
        "for i in range(10):     \n",
        "    \n",
        "    train = list(zip(X_train, y_train))\n",
        "    test = list(zip(X_test, y_test))\n",
        "    random.shuffle(train)\n",
        "    X_train, y_train = zip(*train)\n",
        "    X_test, y_test = zip(*test)\n",
        "    \n",
        "    X_train = np.array(X_train)\n",
        "    y_train = np.array(y_train)\n",
        "    \n",
        "    X_test = np.array(X_test)\n",
        "    y_test = np.array(y_test)\n",
        "            \n",
        "    train_texts = [\" \".join([id2word_en[idx] for idx in seq]) for seq in X_train[:training_size]]\n",
        "    test_texts = [\" \".join([id2word_en[idx] for idx in seq]) for seq in X_test[:test_size]]\n",
        "    val_texts = [\" \".join([id2word_en[idx] for idx in seq]) for seq in X_test[test_size:test_size+validation_size]]\n",
        " \n",
        "    E_train = np.array(train_texts)\n",
        "    E_test = np.array(test_texts)\n",
        "    E_val = np.array(val_texts)\n",
        "        \n",
        "    model_baseline = create_basic_model()\n",
        "    basic_acc = train_basic_model(model_baseline, X_train[:training_size], y_train[:training_size], \n",
        "                                  X_test[test_size:test_size+validation_size],\n",
        "                                  y_test[test_size:test_size+validation_size], \n",
        "                                  X_test[:test_size], y_test[:test_size])\n",
        "    basic_accuracies.append(basic_acc)\n",
        "\n",
        "    model_elmo = create_elmo_model()\n",
        "    elmo_acc = train_elmo_model(model_elmo, X_train[:training_size], E_train, y_train[:training_size],\n",
        "                                X_test[test_size:test_size+validation_size], \n",
        "                                E_val, y_test[test_size:test_size+validation_size], \n",
        "                                X_test[:test_size], E_test, y_test[:test_size])\n",
        "    elmo_accuracies.append(elmo_acc)\n",
        "        \n",
        "    print(basic_accuracies)\n",
        "    print(elmo_accuracies)\n",
        "    \n",
        "print(np.mean(basic_accuracies))\n",
        "print(np.mean(elmo_accuracies))"
      ],
      "execution_count": 0,
      "outputs": [
        {
          "output_type": "stream",
          "text": [
            "Train on 200 samples, validate on 200 samples\n",
            "Epoch 1/100\n",
            "200/200 [==============================] - 2s 8ms/step - loss: 0.6888 - acc: 0.5600 - val_loss: 0.6950 - val_acc: 0.5150\n",
            "Epoch 2/100\n",
            "200/200 [==============================] - 0s 1ms/step - loss: 0.6679 - acc: 0.5600 - val_loss: 0.6933 - val_acc: 0.5150\n",
            "Epoch 3/100\n",
            "200/200 [==============================] - 0s 1ms/step - loss: 0.6426 - acc: 0.5650 - val_loss: 0.6839 - val_acc: 0.5400\n",
            "Epoch 4/100\n",
            "200/200 [==============================] - 0s 1ms/step - loss: 0.6053 - acc: 0.7400 - val_loss: 0.6743 - val_acc: 0.6150\n",
            "Epoch 5/100\n",
            "200/200 [==============================] - 0s 1ms/step - loss: 0.5348 - acc: 0.9450 - val_loss: 0.6717 - val_acc: 0.5500\n",
            "Epoch 6/100\n",
            "200/200 [==============================] - 0s 1ms/step - loss: 0.4289 - acc: 0.9650 - val_loss: 0.6894 - val_acc: 0.5300\n",
            "Epoch 7/100\n",
            "200/200 [==============================] - 0s 1ms/step - loss: 0.3072 - acc: 0.9900 - val_loss: 0.6261 - val_acc: 0.6500\n",
            "Epoch 8/100\n",
            "200/200 [==============================] - 0s 1ms/step - loss: 0.1792 - acc: 1.0000 - val_loss: 0.5878 - val_acc: 0.7000\n",
            "Epoch 9/100\n",
            "200/200 [==============================] - 0s 1ms/step - loss: 0.1004 - acc: 1.0000 - val_loss: 0.5764 - val_acc: 0.6850\n",
            "Epoch 10/100\n",
            "200/200 [==============================] - 0s 1ms/step - loss: 0.0556 - acc: 1.0000 - val_loss: 0.5779 - val_acc: 0.7150\n",
            "Epoch 11/100\n",
            "200/200 [==============================] - 0s 1ms/step - loss: 0.0340 - acc: 1.0000 - val_loss: 0.6298 - val_acc: 0.6550\n",
            "500/500 [==============================] - 0s 406us/step\n",
            "Accuracy: 73.20%\n",
            "Train on 200 samples, validate on 200 samples\n",
            "Epoch 1/100\n",
            "200/200 [==============================] - 117s 583ms/step - loss: 0.7253 - acc: 0.5000 - val_loss: 0.6653 - val_acc: 0.5800\n",
            "Epoch 2/100\n",
            "200/200 [==============================] - 114s 569ms/step - loss: 0.4489 - acc: 0.8350 - val_loss: 0.7231 - val_acc: 0.5500\n",
            "Epoch 3/100\n",
            "200/200 [==============================] - 114s 570ms/step - loss: 0.2443 - acc: 0.9250 - val_loss: 0.6034 - val_acc: 0.6700\n",
            "Epoch 4/100\n",
            "200/200 [==============================] - 114s 572ms/step - loss: 0.0746 - acc: 1.0000 - val_loss: 0.5566 - val_acc: 0.7300\n",
            "Epoch 5/100\n",
            "200/200 [==============================] - 114s 572ms/step - loss: 0.0313 - acc: 1.0000 - val_loss: 0.6144 - val_acc: 0.7000\n",
            "Epoch 6/100\n",
            "200/200 [==============================] - 114s 569ms/step - loss: 0.0116 - acc: 1.0000 - val_loss: 0.9426 - val_acc: 0.6150\n",
            "500/500 [==============================] - 141s 281ms/step\n",
            "Accuracy: 72.40%\n",
            "[73.2]\n",
            "[72.39999999999999]\n",
            "Train on 200 samples, validate on 200 samples\n",
            "Epoch 1/100\n",
            "200/200 [==============================] - 2s 9ms/step - loss: 0.7079 - acc: 0.4650 - val_loss: 0.6911 - val_acc: 0.5150\n",
            "Epoch 2/100\n",
            "200/200 [==============================] - 0s 1ms/step - loss: 0.6933 - acc: 0.5050 - val_loss: 0.6942 - val_acc: 0.5150\n",
            "Epoch 3/100\n",
            "200/200 [==============================] - 0s 1ms/step - loss: 0.6733 - acc: 0.7200 - val_loss: 0.6886 - val_acc: 0.6500\n",
            "Epoch 4/100\n",
            "200/200 [==============================] - 0s 1ms/step - loss: 0.6581 - acc: 0.6250 - val_loss: 0.6837 - val_acc: 0.6100\n",
            "Epoch 5/100\n",
            "200/200 [==============================] - 0s 1ms/step - loss: 0.6448 - acc: 0.5650 - val_loss: 0.6801 - val_acc: 0.6400\n",
            "Epoch 6/100\n",
            "200/200 [==============================] - 0s 1ms/step - loss: 0.5948 - acc: 0.7900 - val_loss: 0.6711 - val_acc: 0.5800\n",
            "Epoch 7/100\n",
            "200/200 [==============================] - 0s 1ms/step - loss: 0.5051 - acc: 0.9950 - val_loss: 0.6529 - val_acc: 0.6400\n",
            "Epoch 8/100\n",
            "200/200 [==============================] - 0s 1ms/step - loss: 0.3951 - acc: 0.9950 - val_loss: 0.6514 - val_acc: 0.5400\n",
            "Epoch 9/100\n",
            "200/200 [==============================] - 0s 1ms/step - loss: 0.2687 - acc: 0.9950 - val_loss: 0.6283 - val_acc: 0.6100\n",
            "Epoch 10/100\n",
            "200/200 [==============================] - 0s 1ms/step - loss: 0.1599 - acc: 1.0000 - val_loss: 0.5858 - val_acc: 0.7200\n",
            "Epoch 11/100\n",
            "200/200 [==============================] - 0s 1ms/step - loss: 0.0849 - acc: 1.0000 - val_loss: 0.5562 - val_acc: 0.7800\n",
            "Epoch 12/100\n",
            "200/200 [==============================] - 0s 1ms/step - loss: 0.0456 - acc: 1.0000 - val_loss: 0.5786 - val_acc: 0.6800\n",
            "Epoch 13/100\n",
            "200/200 [==============================] - 0s 1ms/step - loss: 0.0277 - acc: 1.0000 - val_loss: 0.5349 - val_acc: 0.7700\n",
            "Epoch 14/100\n",
            "200/200 [==============================] - 0s 1ms/step - loss: 0.0180 - acc: 1.0000 - val_loss: 0.5258 - val_acc: 0.7600\n",
            "Epoch 15/100\n",
            "200/200 [==============================] - 0s 1ms/step - loss: 0.0132 - acc: 1.0000 - val_loss: 0.5308 - val_acc: 0.7450\n",
            "Epoch 16/100\n",
            "200/200 [==============================] - 0s 1ms/step - loss: 0.0096 - acc: 1.0000 - val_loss: 0.5195 - val_acc: 0.7600\n",
            "Epoch 17/100\n",
            "200/200 [==============================] - 0s 1ms/step - loss: 0.0076 - acc: 1.0000 - val_loss: 0.5177 - val_acc: 0.7650\n",
            "Epoch 18/100\n",
            "200/200 [==============================] - 0s 1ms/step - loss: 0.0062 - acc: 1.0000 - val_loss: 0.5182 - val_acc: 0.7650\n",
            "Epoch 19/100\n",
            "200/200 [==============================] - 0s 1ms/step - loss: 0.0052 - acc: 1.0000 - val_loss: 0.5103 - val_acc: 0.7650\n",
            "Epoch 20/100\n",
            "200/200 [==============================] - 0s 1ms/step - loss: 0.0044 - acc: 1.0000 - val_loss: 0.5132 - val_acc: 0.7750\n",
            "Epoch 21/100\n",
            "200/200 [==============================] - 0s 1ms/step - loss: 0.0038 - acc: 1.0000 - val_loss: 0.5093 - val_acc: 0.7700\n",
            "Epoch 22/100\n",
            "200/200 [==============================] - 0s 1ms/step - loss: 0.0033 - acc: 1.0000 - val_loss: 0.5105 - val_acc: 0.7750\n",
            "Epoch 23/100\n",
            "200/200 [==============================] - 0s 1ms/step - loss: 0.0029 - acc: 1.0000 - val_loss: 0.5113 - val_acc: 0.7650\n",
            "500/500 [==============================] - 0s 358us/step\n",
            "Accuracy: 74.40%\n",
            "Train on 200 samples, validate on 200 samples\n",
            "Epoch 1/100\n",
            "200/200 [==============================] - 117s 585ms/step - loss: 0.7294 - acc: 0.5800 - val_loss: 0.6776 - val_acc: 0.5350\n",
            "Epoch 2/100\n",
            "200/200 [==============================] - 114s 571ms/step - loss: 0.4669 - acc: 0.7250 - val_loss: 0.6362 - val_acc: 0.5500\n",
            "Epoch 3/100\n",
            "200/200 [==============================] - 114s 572ms/step - loss: 0.2460 - acc: 0.9350 - val_loss: 0.5454 - val_acc: 0.7350\n",
            "Epoch 4/100\n",
            "200/200 [==============================] - 114s 572ms/step - loss: 0.0878 - acc: 1.0000 - val_loss: 0.4900 - val_acc: 0.7950\n",
            "Epoch 5/100\n",
            "200/200 [==============================] - 115s 573ms/step - loss: 0.0312 - acc: 1.0000 - val_loss: 0.4642 - val_acc: 0.7800\n",
            "Epoch 6/100\n",
            "200/200 [==============================] - 114s 570ms/step - loss: 0.0111 - acc: 1.0000 - val_loss: 0.4529 - val_acc: 0.8000\n",
            "Epoch 7/100\n",
            "200/200 [==============================] - 114s 570ms/step - loss: 0.0050 - acc: 1.0000 - val_loss: 0.4518 - val_acc: 0.7850\n",
            "Epoch 8/100\n",
            "200/200 [==============================] - 113s 567ms/step - loss: 0.0031 - acc: 1.0000 - val_loss: 0.4527 - val_acc: 0.8000\n",
            "Epoch 9/100\n",
            "200/200 [==============================] - 114s 569ms/step - loss: 0.0021 - acc: 1.0000 - val_loss: 0.4536 - val_acc: 0.7850\n",
            "500/500 [==============================] - 141s 281ms/step\n",
            "Accuracy: 77.80%\n",
            "[73.2, 74.4]\n",
            "[72.39999999999999, 77.8]\n",
            "Train on 200 samples, validate on 200 samples\n",
            "Epoch 1/100\n",
            "200/200 [==============================] - 2s 9ms/step - loss: 0.6922 - acc: 0.5200 - val_loss: 0.6916 - val_acc: 0.5250\n",
            "Epoch 2/100\n",
            "200/200 [==============================] - 0s 1ms/step - loss: 0.6693 - acc: 0.6000 - val_loss: 0.6946 - val_acc: 0.4850\n",
            "Epoch 3/100\n",
            "200/200 [==============================] - 0s 1ms/step - loss: 0.6440 - acc: 0.6300 - val_loss: 0.6836 - val_acc: 0.6000\n",
            "Epoch 4/100\n",
            "200/200 [==============================] - 0s 1ms/step - loss: 0.5909 - acc: 0.8500 - val_loss: 0.6924 - val_acc: 0.4950\n",
            "Epoch 5/100\n",
            "200/200 [==============================] - 0s 1ms/step - loss: 0.5358 - acc: 0.9100 - val_loss: 0.7283 - val_acc: 0.4850\n",
            "500/500 [==============================] - 0s 356us/step\n",
            "Accuracy: 61.80%\n",
            "Train on 200 samples, validate on 200 samples\n",
            "Epoch 1/100\n",
            "200/200 [==============================] - 117s 585ms/step - loss: 0.7724 - acc: 0.5050 - val_loss: 0.6812 - val_acc: 0.5150\n",
            "Epoch 2/100\n",
            "200/200 [==============================] - 114s 572ms/step - loss: 0.5119 - acc: 0.7450 - val_loss: 0.6039 - val_acc: 0.6900\n",
            "Epoch 3/100\n",
            "200/200 [==============================] - 114s 571ms/step - loss: 0.2792 - acc: 0.9950 - val_loss: 0.5649 - val_acc: 0.6750\n",
            "Epoch 4/100\n",
            "200/200 [==============================] - 114s 568ms/step - loss: 0.1011 - acc: 0.9950 - val_loss: 0.7657 - val_acc: 0.5850\n",
            "Epoch 5/100\n",
            "200/200 [==============================] - 114s 568ms/step - loss: 0.0320 - acc: 1.0000 - val_loss: 0.5542 - val_acc: 0.7000\n",
            "Epoch 6/100\n",
            "200/200 [==============================] - 114s 569ms/step - loss: 0.0137 - acc: 1.0000 - val_loss: 0.5179 - val_acc: 0.7650\n",
            "Epoch 7/100\n",
            "200/200 [==============================] - 114s 572ms/step - loss: 0.0057 - acc: 1.0000 - val_loss: 0.5416 - val_acc: 0.7250\n",
            "Epoch 8/100\n",
            "200/200 [==============================] - 114s 572ms/step - loss: 0.0030 - acc: 1.0000 - val_loss: 0.5190 - val_acc: 0.7600\n",
            "500/500 [==============================] - 138s 277ms/step\n",
            "Accuracy: 75.60%\n",
            "[73.2, 74.4, 61.8]\n",
            "[72.39999999999999, 77.8, 75.6]\n",
            "Train on 200 samples, validate on 200 samples\n",
            "Epoch 1/100\n",
            "200/200 [==============================] - 3s 14ms/step - loss: 0.6960 - acc: 0.5300 - val_loss: 0.6941 - val_acc: 0.4850\n",
            "Epoch 2/100\n",
            "200/200 [==============================] - 0s 1ms/step - loss: 0.6791 - acc: 0.6200 - val_loss: 0.6935 - val_acc: 0.4850\n",
            "Epoch 3/100\n",
            "200/200 [==============================] - 0s 1ms/step - loss: 0.6554 - acc: 0.5900 - val_loss: 0.6899 - val_acc: 0.4900\n",
            "Epoch 4/100\n",
            "200/200 [==============================] - 0s 1ms/step - loss: 0.6357 - acc: 0.6550 - val_loss: 0.6820 - val_acc: 0.5150\n",
            "Epoch 5/100\n",
            "200/200 [==============================] - 0s 1ms/step - loss: 0.5734 - acc: 0.7600 - val_loss: 0.7023 - val_acc: 0.4850\n",
            "Epoch 6/100\n",
            "200/200 [==============================] - 0s 1ms/step - loss: 0.4955 - acc: 0.9350 - val_loss: 0.6776 - val_acc: 0.5100\n",
            "Epoch 7/100\n",
            "200/200 [==============================] - 0s 1ms/step - loss: 0.3803 - acc: 0.9600 - val_loss: 0.6250 - val_acc: 0.6800\n",
            "Epoch 8/100\n",
            "200/200 [==============================] - 0s 1ms/step - loss: 0.2447 - acc: 1.0000 - val_loss: 0.5968 - val_acc: 0.6550\n",
            "Epoch 9/100\n",
            "200/200 [==============================] - 0s 1ms/step - loss: 0.1489 - acc: 1.0000 - val_loss: 0.5760 - val_acc: 0.7250\n",
            "Epoch 10/100\n",
            "200/200 [==============================] - 0s 1ms/step - loss: 0.0786 - acc: 1.0000 - val_loss: 0.5558 - val_acc: 0.7250\n",
            "Epoch 11/100\n",
            "200/200 [==============================] - 0s 1ms/step - loss: 0.0437 - acc: 1.0000 - val_loss: 0.5464 - val_acc: 0.7150\n",
            "Epoch 12/100\n",
            "200/200 [==============================] - 0s 1ms/step - loss: 0.0246 - acc: 1.0000 - val_loss: 0.5359 - val_acc: 0.7000\n",
            "Epoch 13/100\n",
            "200/200 [==============================] - 0s 1ms/step - loss: 0.0163 - acc: 1.0000 - val_loss: 0.5373 - val_acc: 0.7350\n",
            "Epoch 14/100\n",
            "200/200 [==============================] - 0s 1ms/step - loss: 0.0120 - acc: 1.0000 - val_loss: 0.5330 - val_acc: 0.7350\n",
            "Epoch 15/100\n",
            "200/200 [==============================] - 0s 1ms/step - loss: 0.0092 - acc: 1.0000 - val_loss: 0.5314 - val_acc: 0.7000\n",
            "Epoch 16/100\n",
            "200/200 [==============================] - 0s 1ms/step - loss: 0.0075 - acc: 1.0000 - val_loss: 0.5314 - val_acc: 0.7200\n",
            "Epoch 17/100\n",
            "200/200 [==============================] - 0s 1ms/step - loss: 0.0064 - acc: 1.0000 - val_loss: 0.5378 - val_acc: 0.7250\n",
            "Epoch 18/100\n",
            "200/200 [==============================] - 0s 1ms/step - loss: 0.0052 - acc: 1.0000 - val_loss: 0.5318 - val_acc: 0.7000\n",
            "500/500 [==============================] - 0s 347us/step\n",
            "Accuracy: 74.20%\n",
            "Train on 200 samples, validate on 200 samples\n",
            "Epoch 1/100\n",
            "200/200 [==============================] - 116s 579ms/step - loss: 0.7873 - acc: 0.5450 - val_loss: 0.6815 - val_acc: 0.5200\n",
            "Epoch 2/100\n",
            "200/200 [==============================] - 113s 563ms/step - loss: 0.5541 - acc: 0.7400 - val_loss: 0.6531 - val_acc: 0.5950\n",
            "Epoch 3/100\n",
            "200/200 [==============================] - 113s 563ms/step - loss: 0.3841 - acc: 0.8400 - val_loss: 0.8612 - val_acc: 0.5200\n",
            "Epoch 4/100\n",
            "200/200 [==============================] - 112s 561ms/step - loss: 0.2471 - acc: 0.9100 - val_loss: 0.5491 - val_acc: 0.7250\n",
            "Epoch 5/100\n",
            "200/200 [==============================] - 112s 561ms/step - loss: 0.1060 - acc: 0.9900 - val_loss: 0.5655 - val_acc: 0.6800\n",
            "Epoch 6/100\n",
            "200/200 [==============================] - 115s 573ms/step - loss: 0.0395 - acc: 1.0000 - val_loss: 0.6088 - val_acc: 0.6550\n",
            "500/500 [==============================] - 141s 282ms/step\n",
            "Accuracy: 70.80%\n",
            "[73.2, 74.4, 61.8, 74.2]\n",
            "[72.39999999999999, 77.8, 75.6, 70.8]\n",
            "Train on 200 samples, validate on 200 samples\n",
            "Epoch 1/100\n",
            "200/200 [==============================] - 3s 15ms/step - loss: 0.6951 - acc: 0.5250 - val_loss: 0.6968 - val_acc: 0.5150\n",
            "Epoch 2/100\n",
            "200/200 [==============================] - 0s 1ms/step - loss: 0.6796 - acc: 0.5350 - val_loss: 0.6922 - val_acc: 0.5150\n",
            "Epoch 3/100\n",
            "200/200 [==============================] - 0s 1ms/step - loss: 0.6576 - acc: 0.6800 - val_loss: 0.6854 - val_acc: 0.6150\n",
            "Epoch 4/100\n",
            "200/200 [==============================] - 0s 1ms/step - loss: 0.6302 - acc: 0.7600 - val_loss: 0.6831 - val_acc: 0.5150\n",
            "Epoch 5/100\n",
            "200/200 [==============================] - 0s 1ms/step - loss: 0.5817 - acc: 0.8050 - val_loss: 0.6708 - val_acc: 0.5950\n",
            "Epoch 6/100\n",
            "200/200 [==============================] - 0s 1ms/step - loss: 0.4975 - acc: 0.9850 - val_loss: 0.6663 - val_acc: 0.5300\n",
            "Epoch 7/100\n",
            "200/200 [==============================] - 0s 1ms/step - loss: 0.3856 - acc: 1.0000 - val_loss: 0.6475 - val_acc: 0.5650\n",
            "Epoch 8/100\n",
            "200/200 [==============================] - 0s 1ms/step - loss: 0.2566 - acc: 1.0000 - val_loss: 0.6334 - val_acc: 0.5750\n",
            "Epoch 9/100\n",
            "200/200 [==============================] - 0s 1ms/step - loss: 0.1407 - acc: 1.0000 - val_loss: 0.5967 - val_acc: 0.6850\n",
            "Epoch 10/100\n",
            "200/200 [==============================] - 0s 1ms/step - loss: 0.0737 - acc: 1.0000 - val_loss: 0.5765 - val_acc: 0.7000\n",
            "Epoch 11/100\n",
            "200/200 [==============================] - 0s 1ms/step - loss: 0.0396 - acc: 1.0000 - val_loss: 0.5686 - val_acc: 0.6950\n",
            "Epoch 12/100\n",
            "200/200 [==============================] - 0s 1ms/step - loss: 0.0236 - acc: 1.0000 - val_loss: 0.5603 - val_acc: 0.7150\n",
            "Epoch 13/100\n",
            "200/200 [==============================] - 0s 1ms/step - loss: 0.0154 - acc: 1.0000 - val_loss: 0.5795 - val_acc: 0.6850\n",
            "Epoch 14/100\n",
            "200/200 [==============================] - 0s 1ms/step - loss: 0.0110 - acc: 1.0000 - val_loss: 0.5594 - val_acc: 0.6850\n",
            "Epoch 15/100\n",
            "200/200 [==============================] - 0s 1ms/step - loss: 0.0085 - acc: 1.0000 - val_loss: 0.6174 - val_acc: 0.6500\n",
            "Epoch 16/100\n",
            "200/200 [==============================] - 0s 1ms/step - loss: 0.0068 - acc: 1.0000 - val_loss: 0.5561 - val_acc: 0.6850\n",
            "Epoch 17/100\n",
            "200/200 [==============================] - 0s 1ms/step - loss: 0.0054 - acc: 1.0000 - val_loss: 0.5776 - val_acc: 0.6800\n",
            "Epoch 18/100\n",
            "200/200 [==============================] - 0s 1ms/step - loss: 0.0045 - acc: 1.0000 - val_loss: 0.5793 - val_acc: 0.6800\n",
            "500/500 [==============================] - 0s 346us/step\n",
            "Accuracy: 72.60%\n",
            "Train on 200 samples, validate on 200 samples\n",
            "Epoch 1/100\n",
            "200/200 [==============================] - 118s 591ms/step - loss: 0.7347 - acc: 0.5200 - val_loss: 0.7212 - val_acc: 0.4850\n",
            "Epoch 2/100\n",
            "200/200 [==============================] - 114s 572ms/step - loss: 0.5703 - acc: 0.7100 - val_loss: 0.7233 - val_acc: 0.4900\n",
            "Epoch 3/100\n",
            "200/200 [==============================] - 115s 573ms/step - loss: 0.4170 - acc: 0.7900 - val_loss: 0.5768 - val_acc: 0.6850\n",
            "Epoch 4/100\n",
            "200/200 [==============================] - 115s 573ms/step - loss: 0.1791 - acc: 0.9850 - val_loss: 0.5518 - val_acc: 0.7050\n",
            "Epoch 5/100\n",
            "200/200 [==============================] - 114s 569ms/step - loss: 0.0636 - acc: 1.0000 - val_loss: 0.4964 - val_acc: 0.7450\n",
            "Epoch 6/100\n",
            "200/200 [==============================] - 114s 569ms/step - loss: 0.0179 - acc: 1.0000 - val_loss: 0.4820 - val_acc: 0.7700\n",
            "Epoch 7/100\n",
            "200/200 [==============================] - 114s 570ms/step - loss: 0.0068 - acc: 1.0000 - val_loss: 0.4877 - val_acc: 0.7900\n",
            "Epoch 8/100\n",
            "200/200 [==============================] - 114s 568ms/step - loss: 0.0037 - acc: 1.0000 - val_loss: 0.4921 - val_acc: 0.7850\n",
            "500/500 [==============================] - 140s 280ms/step\n",
            "Accuracy: 75.60%\n",
            "[73.2, 74.4, 61.8, 74.2, 72.6]\n",
            "[72.39999999999999, 77.8, 75.6, 70.8, 75.6]\n",
            "Train on 200 samples, validate on 200 samples\n",
            "Epoch 1/100\n",
            "200/200 [==============================] - 4s 18ms/step - loss: 0.6944 - acc: 0.5250 - val_loss: 0.6954 - val_acc: 0.5150\n",
            "Epoch 2/100\n",
            "200/200 [==============================] - 0s 1ms/step - loss: 0.6750 - acc: 0.5650 - val_loss: 0.6906 - val_acc: 0.5150\n",
            "Epoch 3/100\n",
            "200/200 [==============================] - 0s 1ms/step - loss: 0.6518 - acc: 0.5800 - val_loss: 0.6881 - val_acc: 0.5150\n",
            "Epoch 4/100\n",
            "200/200 [==============================] - 0s 1ms/step - loss: 0.6200 - acc: 0.5650 - val_loss: 0.6738 - val_acc: 0.5150\n",
            "Epoch 5/100\n",
            "200/200 [==============================] - 0s 1ms/step - loss: 0.5629 - acc: 0.9650 - val_loss: 0.6529 - val_acc: 0.5800\n",
            "Epoch 6/100\n",
            "200/200 [==============================] - 0s 1ms/step - loss: 0.4883 - acc: 0.9350 - val_loss: 0.6331 - val_acc: 0.6150\n",
            "Epoch 7/100\n",
            "200/200 [==============================] - 0s 1ms/step - loss: 0.3855 - acc: 0.9250 - val_loss: 0.5934 - val_acc: 0.7600\n",
            "Epoch 8/100\n",
            "200/200 [==============================] - 0s 1ms/step - loss: 0.2520 - acc: 0.9950 - val_loss: 0.5919 - val_acc: 0.6850\n",
            "Epoch 9/100\n",
            "200/200 [==============================] - 0s 1ms/step - loss: 0.1654 - acc: 1.0000 - val_loss: 0.5417 - val_acc: 0.7550\n",
            "Epoch 10/100\n",
            "200/200 [==============================] - 0s 1ms/step - loss: 0.0872 - acc: 1.0000 - val_loss: 0.5360 - val_acc: 0.7350\n",
            "Epoch 11/100\n",
            "200/200 [==============================] - 0s 1ms/step - loss: 0.0519 - acc: 1.0000 - val_loss: 0.5081 - val_acc: 0.7550\n",
            "Epoch 12/100\n",
            "200/200 [==============================] - 0s 1ms/step - loss: 0.0314 - acc: 1.0000 - val_loss: 0.5045 - val_acc: 0.7650\n",
            "Epoch 13/100\n",
            "200/200 [==============================] - 0s 1ms/step - loss: 0.0211 - acc: 1.0000 - val_loss: 0.5542 - val_acc: 0.7200\n",
            "Epoch 14/100\n",
            "200/200 [==============================] - 0s 1ms/step - loss: 0.0144 - acc: 1.0000 - val_loss: 0.5279 - val_acc: 0.7450\n",
            "500/500 [==============================] - 0s 381us/step\n",
            "Accuracy: 74.20%\n",
            "Train on 200 samples, validate on 200 samples\n",
            "Epoch 1/100\n",
            "200/200 [==============================] - 118s 590ms/step - loss: 0.7443 - acc: 0.5250 - val_loss: 0.7119 - val_acc: 0.5050\n",
            "Epoch 2/100\n",
            "200/200 [==============================] - 114s 569ms/step - loss: 0.4538 - acc: 0.7650 - val_loss: 0.6192 - val_acc: 0.6800\n",
            "Epoch 3/100\n",
            "200/200 [==============================] - 113s 567ms/step - loss: 0.2499 - acc: 0.9350 - val_loss: 0.5797 - val_acc: 0.6500\n",
            "Epoch 4/100\n",
            "200/200 [==============================] - 113s 567ms/step - loss: 0.0952 - acc: 1.0000 - val_loss: 0.6723 - val_acc: 0.6550\n",
            "Epoch 5/100\n",
            "200/200 [==============================] - 114s 569ms/step - loss: 0.0328 - acc: 1.0000 - val_loss: 0.5275 - val_acc: 0.6950\n",
            "Epoch 6/100\n",
            "200/200 [==============================] - 113s 567ms/step - loss: 0.0095 - acc: 1.0000 - val_loss: 0.5994 - val_acc: 0.6750\n",
            "Epoch 7/100\n",
            "200/200 [==============================] - 114s 568ms/step - loss: 0.0047 - acc: 1.0000 - val_loss: 0.5614 - val_acc: 0.6900\n",
            "500/500 [==============================] - 140s 279ms/step\n",
            "Accuracy: 73.20%\n",
            "[73.2, 74.4, 61.8, 74.2, 72.6, 74.2]\n",
            "[72.39999999999999, 77.8, 75.6, 70.8, 75.6, 73.2]\n",
            "Train on 200 samples, validate on 200 samples\n",
            "Epoch 1/100\n",
            "200/200 [==============================] - 4s 20ms/step - loss: 0.6916 - acc: 0.5500 - val_loss: 0.6996 - val_acc: 0.5150\n",
            "Epoch 2/100\n",
            "200/200 [==============================] - 0s 1ms/step - loss: 0.6757 - acc: 0.5600 - val_loss: 0.6949 - val_acc: 0.5150\n",
            "Epoch 3/100\n",
            "200/200 [==============================] - 0s 1ms/step - loss: 0.6570 - acc: 0.5600 - val_loss: 0.6893 - val_acc: 0.5150\n",
            "Epoch 4/100\n",
            "200/200 [==============================] - 0s 1ms/step - loss: 0.6329 - acc: 0.6600 - val_loss: 0.6826 - val_acc: 0.5150\n",
            "Epoch 5/100\n",
            "200/200 [==============================] - 0s 1ms/step - loss: 0.5856 - acc: 0.7850 - val_loss: 0.6664 - val_acc: 0.5400\n",
            "Epoch 6/100\n",
            "200/200 [==============================] - 0s 1ms/step - loss: 0.5185 - acc: 0.7700 - val_loss: 0.6470 - val_acc: 0.6400\n",
            "Epoch 7/100\n",
            "200/200 [==============================] - 0s 1ms/step - loss: 0.4108 - acc: 1.0000 - val_loss: 0.6370 - val_acc: 0.5500\n",
            "Epoch 8/100\n",
            "200/200 [==============================] - 0s 1ms/step - loss: 0.2923 - acc: 1.0000 - val_loss: 0.5929 - val_acc: 0.6500\n",
            "Epoch 9/100\n",
            "200/200 [==============================] - 0s 1ms/step - loss: 0.1753 - acc: 1.0000 - val_loss: 0.5443 - val_acc: 0.8050\n",
            "Epoch 10/100\n",
            "200/200 [==============================] - 0s 1ms/step - loss: 0.1030 - acc: 1.0000 - val_loss: 0.5220 - val_acc: 0.7850\n",
            "Epoch 11/100\n",
            "200/200 [==============================] - 0s 1ms/step - loss: 0.0597 - acc: 1.0000 - val_loss: 0.4998 - val_acc: 0.7900\n",
            "Epoch 12/100\n",
            "200/200 [==============================] - 0s 1ms/step - loss: 0.0338 - acc: 1.0000 - val_loss: 0.5313 - val_acc: 0.7150\n",
            "Epoch 13/100\n",
            "200/200 [==============================] - 0s 1ms/step - loss: 0.0202 - acc: 1.0000 - val_loss: 0.5166 - val_acc: 0.7300\n",
            "500/500 [==============================] - 0s 372us/step\n",
            "Accuracy: 77.60%\n",
            "Train on 200 samples, validate on 200 samples\n",
            "Epoch 1/100\n",
            "200/200 [==============================] - 119s 594ms/step - loss: 0.7163 - acc: 0.5650 - val_loss: 0.7031 - val_acc: 0.5250\n",
            "Epoch 2/100\n",
            "200/200 [==============================] - 113s 563ms/step - loss: 0.4836 - acc: 0.8350 - val_loss: 0.6242 - val_acc: 0.5950\n",
            "Epoch 3/100\n",
            "200/200 [==============================] - 112s 559ms/step - loss: 0.2497 - acc: 0.9700 - val_loss: 0.5391 - val_acc: 0.7350\n",
            "Epoch 4/100\n",
            "200/200 [==============================] - 112s 561ms/step - loss: 0.0873 - acc: 1.0000 - val_loss: 0.4924 - val_acc: 0.7750\n",
            "Epoch 5/100\n",
            "200/200 [==============================] - 113s 563ms/step - loss: 0.0256 - acc: 1.0000 - val_loss: 0.4766 - val_acc: 0.7750\n",
            "Epoch 6/100\n",
            "200/200 [==============================] - 112s 561ms/step - loss: 0.0096 - acc: 1.0000 - val_loss: 0.4752 - val_acc: 0.7800\n",
            "Epoch 7/100\n",
            "200/200 [==============================] - 113s 563ms/step - loss: 0.0049 - acc: 1.0000 - val_loss: 0.4877 - val_acc: 0.7750\n",
            "Epoch 8/100\n",
            "200/200 [==============================] - 113s 563ms/step - loss: 0.0031 - acc: 1.0000 - val_loss: 0.4887 - val_acc: 0.7750\n",
            "500/500 [==============================] - 138s 277ms/step\n",
            "Accuracy: 78.60%\n",
            "[73.2, 74.4, 61.8, 74.2, 72.6, 74.2, 77.60000000000001]\n",
            "[72.39999999999999, 77.8, 75.6, 70.8, 75.6, 73.2, 78.60000000000001]\n",
            "Train on 200 samples, validate on 200 samples\n",
            "Epoch 1/100\n",
            "200/200 [==============================] - 4s 21ms/step - loss: 0.6950 - acc: 0.5350 - val_loss: 0.6927 - val_acc: 0.5150\n",
            "Epoch 2/100\n",
            "200/200 [==============================] - 0s 1ms/step - loss: 0.6750 - acc: 0.5450 - val_loss: 0.6898 - val_acc: 0.5150\n",
            "Epoch 3/100\n",
            "200/200 [==============================] - 0s 1ms/step - loss: 0.6518 - acc: 0.6600 - val_loss: 0.6855 - val_acc: 0.5150\n",
            "Epoch 4/100\n",
            "200/200 [==============================] - 0s 1ms/step - loss: 0.6173 - acc: 0.6900 - val_loss: 0.6770 - val_acc: 0.5200\n",
            "Epoch 5/100\n",
            "200/200 [==============================] - 0s 1ms/step - loss: 0.5537 - acc: 0.9300 - val_loss: 0.6901 - val_acc: 0.5150\n",
            "Epoch 6/100\n",
            "200/200 [==============================] - 0s 1ms/step - loss: 0.4643 - acc: 0.9500 - val_loss: 0.6510 - val_acc: 0.5500\n",
            "Epoch 7/100\n",
            "200/200 [==============================] - 0s 1ms/step - loss: 0.3344 - acc: 0.9950 - val_loss: 0.6937 - val_acc: 0.5200\n",
            "Epoch 8/100\n",
            "200/200 [==============================] - 0s 1ms/step - loss: 0.2338 - acc: 0.9950 - val_loss: 0.6697 - val_acc: 0.5250\n",
            "500/500 [==============================] - 0s 364us/step\n",
            "Accuracy: 57.80%\n",
            "Train on 200 samples, validate on 200 samples\n",
            "Epoch 1/100\n",
            "200/200 [==============================] - 118s 589ms/step - loss: 0.7010 - acc: 0.5600 - val_loss: 0.6456 - val_acc: 0.6650\n",
            "Epoch 2/100\n",
            "200/200 [==============================] - 112s 562ms/step - loss: 0.4091 - acc: 0.9000 - val_loss: 0.5758 - val_acc: 0.7200\n",
            "Epoch 3/100\n",
            "200/200 [==============================] - 113s 563ms/step - loss: 0.1695 - acc: 0.9900 - val_loss: 0.6555 - val_acc: 0.5700\n",
            "Epoch 4/100\n",
            "200/200 [==============================] - 112s 561ms/step - loss: 0.0805 - acc: 1.0000 - val_loss: 0.5207 - val_acc: 0.7400\n",
            "Epoch 5/100\n",
            "200/200 [==============================] - 113s 563ms/step - loss: 0.0245 - acc: 1.0000 - val_loss: 0.4747 - val_acc: 0.7900\n",
            "Epoch 6/100\n",
            "200/200 [==============================] - 113s 563ms/step - loss: 0.0069 - acc: 1.0000 - val_loss: 0.4672 - val_acc: 0.7950\n",
            "Epoch 7/100\n",
            "200/200 [==============================] - 113s 564ms/step - loss: 0.0031 - acc: 1.0000 - val_loss: 0.5140 - val_acc: 0.7550\n",
            "Epoch 8/100\n",
            "200/200 [==============================] - 113s 563ms/step - loss: 0.0020 - acc: 1.0000 - val_loss: 0.4831 - val_acc: 0.8000\n",
            "500/500 [==============================] - 138s 277ms/step\n",
            "Accuracy: 77.60%\n",
            "[73.2, 74.4, 61.8, 74.2, 72.6, 74.2, 77.60000000000001, 57.8]\n",
            "[72.39999999999999, 77.8, 75.6, 70.8, 75.6, 73.2, 78.60000000000001, 77.60000000000001]\n",
            "Train on 200 samples, validate on 200 samples\n",
            "Epoch 1/100\n",
            "200/200 [==============================] - 5s 24ms/step - loss: 0.6991 - acc: 0.4950 - val_loss: 0.6949 - val_acc: 0.4850\n",
            "Epoch 2/100\n",
            "200/200 [==============================] - 0s 1ms/step - loss: 0.6794 - acc: 0.6050 - val_loss: 0.6898 - val_acc: 0.5600\n",
            "Epoch 3/100\n",
            "200/200 [==============================] - 0s 1ms/step - loss: 0.6533 - acc: 0.6900 - val_loss: 0.6864 - val_acc: 0.5150\n",
            "Epoch 4/100\n",
            "200/200 [==============================] - 0s 1ms/step - loss: 0.6231 - acc: 0.8050 - val_loss: 0.6809 - val_acc: 0.5950\n",
            "Epoch 5/100\n",
            "200/200 [==============================] - 0s 1ms/step - loss: 0.5738 - acc: 0.7450 - val_loss: 0.6953 - val_acc: 0.4850\n",
            "Epoch 6/100\n",
            "200/200 [==============================] - 0s 1ms/step - loss: 0.5139 - acc: 0.7550 - val_loss: 0.6854 - val_acc: 0.5150\n",
            "500/500 [==============================] - 0s 424us/step\n",
            "Accuracy: 62.00%\n",
            "Train on 200 samples, validate on 200 samples\n",
            "Epoch 1/100\n",
            "200/200 [==============================] - 118s 591ms/step - loss: 0.7614 - acc: 0.4950 - val_loss: 0.6507 - val_acc: 0.6050\n",
            "Epoch 2/100\n",
            "200/200 [==============================] - 113s 565ms/step - loss: 0.5141 - acc: 0.7450 - val_loss: 0.5969 - val_acc: 0.7050\n",
            "Epoch 3/100\n",
            "200/200 [==============================] - 112s 561ms/step - loss: 0.2730 - acc: 0.9650 - val_loss: 0.5349 - val_acc: 0.7700\n",
            "Epoch 4/100\n",
            "200/200 [==============================] - 112s 562ms/step - loss: 0.0970 - acc: 1.0000 - val_loss: 0.4882 - val_acc: 0.7750\n",
            "Epoch 5/100\n",
            "200/200 [==============================] - 112s 560ms/step - loss: 0.0272 - acc: 1.0000 - val_loss: 0.4777 - val_acc: 0.7800\n",
            "Epoch 6/100\n",
            "200/200 [==============================] - 112s 561ms/step - loss: 0.0121 - acc: 1.0000 - val_loss: 0.5000 - val_acc: 0.7500\n",
            "Epoch 7/100\n",
            "200/200 [==============================] - 112s 560ms/step - loss: 0.0051 - acc: 1.0000 - val_loss: 0.4803 - val_acc: 0.7800\n",
            "500/500 [==============================] - 138s 275ms/step\n",
            "Accuracy: 76.60%\n",
            "[73.2, 74.4, 61.8, 74.2, 72.6, 74.2, 77.60000000000001, 57.8, 62.0]\n",
            "[72.39999999999999, 77.8, 75.6, 70.8, 75.6, 73.2, 78.60000000000001, 77.60000000000001, 76.6]\n",
            "Train on 200 samples, validate on 200 samples\n",
            "Epoch 1/100\n",
            "200/200 [==============================] - 5s 26ms/step - loss: 0.6940 - acc: 0.5350 - val_loss: 0.6960 - val_acc: 0.5150\n",
            "Epoch 2/100\n",
            "200/200 [==============================] - 0s 1ms/step - loss: 0.6752 - acc: 0.5400 - val_loss: 0.6896 - val_acc: 0.6350\n",
            "Epoch 3/100\n",
            "200/200 [==============================] - 0s 1ms/step - loss: 0.6525 - acc: 0.8550 - val_loss: 0.6853 - val_acc: 0.5300\n",
            "Epoch 4/100\n",
            "200/200 [==============================] - 0s 1ms/step - loss: 0.6186 - acc: 0.7700 - val_loss: 0.6812 - val_acc: 0.6050\n",
            "Epoch 5/100\n",
            "200/200 [==============================] - 0s 1ms/step - loss: 0.5481 - acc: 0.9600 - val_loss: 0.6776 - val_acc: 0.5250\n",
            "Epoch 6/100\n",
            "200/200 [==============================] - 0s 1ms/step - loss: 0.4435 - acc: 0.9950 - val_loss: 0.6661 - val_acc: 0.5450\n",
            "Epoch 7/100\n",
            "200/200 [==============================] - 0s 1ms/step - loss: 0.3249 - acc: 1.0000 - val_loss: 0.6434 - val_acc: 0.6300\n",
            "Epoch 8/100\n",
            "200/200 [==============================] - 0s 1ms/step - loss: 0.1989 - acc: 1.0000 - val_loss: 0.6183 - val_acc: 0.6750\n",
            "Epoch 9/100\n",
            "200/200 [==============================] - 0s 1ms/step - loss: 0.1101 - acc: 1.0000 - val_loss: 0.5996 - val_acc: 0.7500\n",
            "Epoch 10/100\n",
            "200/200 [==============================] - 0s 1ms/step - loss: 0.0600 - acc: 1.0000 - val_loss: 0.5938 - val_acc: 0.6800\n",
            "Epoch 11/100\n",
            "200/200 [==============================] - 0s 1ms/step - loss: 0.0344 - acc: 1.0000 - val_loss: 0.5839 - val_acc: 0.7500\n",
            "Epoch 12/100\n",
            "200/200 [==============================] - 0s 1ms/step - loss: 0.0217 - acc: 1.0000 - val_loss: 0.5849 - val_acc: 0.7400\n",
            "Epoch 13/100\n",
            "200/200 [==============================] - 0s 1ms/step - loss: 0.0144 - acc: 1.0000 - val_loss: 0.5760 - val_acc: 0.7300\n",
            "Epoch 14/100\n",
            "200/200 [==============================] - 0s 1ms/step - loss: 0.0106 - acc: 1.0000 - val_loss: 0.5799 - val_acc: 0.7400\n",
            "Epoch 15/100\n",
            "200/200 [==============================] - 0s 1ms/step - loss: 0.0083 - acc: 1.0000 - val_loss: 0.5735 - val_acc: 0.7250\n",
            "Epoch 16/100\n",
            "200/200 [==============================] - 0s 1ms/step - loss: 0.0066 - acc: 1.0000 - val_loss: 0.5737 - val_acc: 0.7400\n",
            "Epoch 17/100\n",
            "200/200 [==============================] - 0s 1ms/step - loss: 0.0053 - acc: 1.0000 - val_loss: 0.5736 - val_acc: 0.7350\n",
            "500/500 [==============================] - 0s 390us/step\n",
            "Accuracy: 73.20%\n",
            "Train on 200 samples, validate on 200 samples\n",
            "Epoch 1/100\n",
            "200/200 [==============================] - 118s 591ms/step - loss: 0.7362 - acc: 0.5300 - val_loss: 0.6282 - val_acc: 0.7600\n",
            "Epoch 2/100\n",
            "200/200 [==============================] - 112s 560ms/step - loss: 0.4706 - acc: 0.8250 - val_loss: 0.5717 - val_acc: 0.7200\n",
            "Epoch 3/100\n",
            "200/200 [==============================] - 112s 560ms/step - loss: 0.2491 - acc: 0.9500 - val_loss: 0.5208 - val_acc: 0.7600\n",
            "Epoch 4/100\n",
            "200/200 [==============================] - 112s 560ms/step - loss: 0.1166 - acc: 0.9900 - val_loss: 0.6014 - val_acc: 0.6350\n",
            "Epoch 5/100\n",
            "200/200 [==============================] - 112s 560ms/step - loss: 0.0327 - acc: 1.0000 - val_loss: 0.5091 - val_acc: 0.7800\n",
            "Epoch 6/100\n",
            "200/200 [==============================] - 112s 561ms/step - loss: 0.0127 - acc: 1.0000 - val_loss: 0.5216 - val_acc: 0.7750\n",
            "Epoch 7/100\n",
            "200/200 [==============================] - 112s 561ms/step - loss: 0.0053 - acc: 1.0000 - val_loss: 0.4785 - val_acc: 0.8150\n",
            "Epoch 8/100\n",
            "200/200 [==============================] - 112s 562ms/step - loss: 0.0031 - acc: 1.0000 - val_loss: 0.4971 - val_acc: 0.7950\n",
            "Epoch 9/100\n",
            "200/200 [==============================] - 112s 561ms/step - loss: 0.0021 - acc: 1.0000 - val_loss: 0.4830 - val_acc: 0.8200\n",
            "500/500 [==============================] - 138s 275ms/step\n",
            "Accuracy: 75.00%\n",
            "[73.2, 74.4, 61.8, 74.2, 72.6, 74.2, 77.60000000000001, 57.8, 62.0, 73.2]\n",
            "[72.39999999999999, 77.8, 75.6, 70.8, 75.6, 73.2, 78.60000000000001, 77.60000000000001, 76.6, 75.0]\n",
            "70.10000000000001\n",
            "75.32\n"
          ],
          "name": "stdout"
        }
      ]
    },
    {
      "cell_type": "markdown",
      "metadata": {
        "id": "n7CSaLcu2YLU",
        "colab_type": "text"
      },
      "source": [
        "## Results\n",
        "When we train a basic sentiment analysis model on just 200 training examples, the results are hit and miss: the accuracies on unseen texts range from just 48% to 78%. When we replace the simple embedding layer by an ELMo embedding layer, however, the model performs about 10% better on average. Its accuracies were also much more consistent, between 73% and 78%."
      ]
    },
    {
      "cell_type": "code",
      "metadata": {
        "id": "ZIqe_TEnVvLd",
        "colab_type": "code",
        "outputId": "ff4935a0-4ba8-46f4-c2c3-45c424ae30e6",
        "colab": {
          "base_uri": "https://localhost:8080/",
          "height": 395
        }
      },
      "source": [
        "\n",
        "%matplotlib inline\n",
        "import pandas as pd\n",
        "import matplotlib\n",
        "import matplotlib.pyplot as plt\n",
        "\n",
        "accuracies = pd.DataFrame({'basic' : basic_accuracies, 'elmo': elmo_accuracies})\n",
        "plt.rcParams['figure.figsize'] = (10,6)\n",
        "accuracies.boxplot()"
      ],
      "execution_count": 0,
      "outputs": [
        {
          "output_type": "execute_result",
          "data": {
            "text/plain": [
              "<matplotlib.axes._subplots.AxesSubplot at 0x7fbf1d0a4d30>"
            ]
          },
          "metadata": {
            "tags": []
          },
          "execution_count": 26
        },
        {
          "output_type": "display_data",
          "data": {
            "image/png": "[encoded data removed]",
            "text/plain": [
              "<Figure size 720x432 with 1 Axes>"
            ]
          },
          "metadata": {
            "tags": []
          }
        }
      ]
    },
    {
      "cell_type": "code",
      "metadata": {
        "id": "kIIjbzFhVxCX",
        "colab_type": "code",
        "outputId": "290600cd-d7b9-4f5e-94c5-6bc557717d9c",
        "colab": {
          "base_uri": "https://localhost:8080/",
          "height": 378
        }
      },
      "source": [
        "# Pair plot\n",
        "plt.scatter(np.zeros(len(basic_accuracies)), basic_accuracies)\n",
        "plt.scatter(np.ones(len(elmo_accuracies)), elmo_accuracies)\n",
        "\n",
        "for i in range(len(basic_accuracies)):\n",
        "    plt.plot( [0,1], [basic_accuracies[i], elmo_accuracies[i]], c='k')\n",
        "\n",
        "plt.xticks([0,1], ['basic', 'elmo'])\n",
        "\n",
        "plt.show()"
      ],
      "execution_count": 0,
      "outputs": [
        {
          "output_type": "display_data",
          "data": {
            "image/png": "[encoded data removed]",
            "text/plain": [
              "<Figure size 720x432 with 1 Axes>"
            ]
          },
          "metadata": {
            "tags": []
          }
        }
      ]
    }
  ]
}