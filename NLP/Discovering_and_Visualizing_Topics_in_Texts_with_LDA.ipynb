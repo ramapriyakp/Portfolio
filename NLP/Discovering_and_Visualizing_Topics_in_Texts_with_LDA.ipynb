{
  "nbformat": 4,
  "nbformat_minor": 0,
  "metadata": {
    "colab": {
      "name": "Discovering and Visualizing Topics in Texts with LDA.ipynb",
      "provenance": [],
      "collapsed_sections": [],
      "include_colab_link": true
    },
    "kernelspec": {
      "name": "python3",
      "display_name": "Python 3"
    },
    "accelerator": "GPU"
  },
  "cells": [
    {
      "cell_type": "markdown",
      "metadata": {
        "id": "view-in-github",
        "colab_type": "text"
      },
      "source": [
        "<a href=\"https://colab.research.google.com/github/ramapriyakp/Portfolio/blob/master/NLP/Discovering_and_Visualizing_Topics_in_Texts_with_LDA.ipynb\" target=\"_parent\"><img src=\"https://colab.research.google.com/assets/colab-badge.svg\" alt=\"Open In Colab\"/></a>"
      ]
    },
    {
      "cell_type": "markdown",
      "metadata": {
        "id": "s6G8qwAP9cue",
        "colab_type": "text"
      },
      "source": [
        "# Discovering and Visualizing Topics in Texts\n",
        "The most classic applications of Natural Language Processing involve supervised Machine Learning. In the most typical cases of text classification, named entity recognition, question answering, etc., NLPers have access to a collection of texts with their labels. However, in real-life scenario's, we're often less lucky. Many text collections do not come with metadata labels that tell you what the texts are about. When people answer open-ended survey questions, for example, they don't tag their answer with the topics they discuss. In such cases, we can make use of unsupervised techniques we call topic models.\n",
        "\n",
        "Topic models are a family of models that are able to discover the topics in a collection of texts. In this context, \"topics\" refers to groups of related words that often occur together in the same text. For example, in a collection of newspaper articles a topic model may identify one topic that is made up of words such as \"politician\", \"law\", and \"parliament\", and another characterized by words such as \"player\", \"match\" and \"penalty\". Topic models can only find such clusters of related words; it is our task as humans to interpret these topics and give them labels such as \"politics\" and \"football\".\n",
        "\n",
        "One of the most popular such models is Latent Dirichlet Allocation (LDA). LDA is a generative model that sees every text as a mixture of topics. Each of these topics are responsible for some of the words in the text. For example, the \"football\" topic will generate the word \"penalty\" with a high probability, while the \"politics\" topic will have a much higher probability for \"politician\" than for \"penalty\". Other words, such as \"the\" and \"an\", will have similar probabilities in all topics. LDA takes its name from the Dirichlet probability distribution. This is the prior distribution it assumes the topics in a text will have.\n",
        "\n",
        "## Data\n",
        "One of the contexts where topic modelling is extremely useful is that of open-ended survey questions. It allows us to explore the variation in topics that people's answers contain. As our example data set, let's therefore take a look at an extensive set of answers from the Grand Débat National in France, the public debate organized by president Macron. The goal of the debate was to better understand the French people's needs and opinions after the mass demonstrations of the Yellow vests movement. The results of this debate are now available as open data. For our experiments, we'll download one of the csv files about the ecological transition and load the contents into a pandas dataframe"
      ]
    },
    {
      "cell_type": "code",
      "metadata": {
        "id": "irki_YdlrLjR",
        "colab_type": "code",
        "outputId": "d470f376-4b0a-4326-f629-75725348cfc0",
        "colab": {
          "base_uri": "https://localhost:8080/",
          "height": 122
        }
      },
      "source": [
        "from google.colab import drive\n",
        "drive.mount('/content/drive')"
      ],
      "execution_count": 0,
      "outputs": [
        {
          "output_type": "stream",
          "text": [
            "Go to this URL in a browser: https://accounts.google.com/o/oauth2/auth?client_id=947318989803-6bn6qk8qdgf4n4g3pfee6491hc0brc4i.apps.googleusercontent.com&redirect_uri=urn%3Aietf%3Awg%3Aoauth%3A2.0%3Aoob&scope=email%20https%3A%2F%2Fwww.googleapis.com%2Fauth%2Fdocs.test%20https%3A%2F%2Fwww.googleapis.com%2Fauth%2Fdrive%20https%3A%2F%2Fwww.googleapis.com%2Fauth%2Fdrive.photos.readonly%20https%3A%2F%2Fwww.googleapis.com%2Fauth%2Fpeopleapi.readonly&response_type=code\n",
            "\n",
            "Enter your authorization code:\n",
            "··········\n",
            "Mounted at /content/drive\n"
          ],
          "name": "stdout"
        }
      ]
    },
    {
      "cell_type": "code",
      "metadata": {
        "id": "eK4B7H0frfTZ",
        "colab_type": "code",
        "outputId": "1b3b2416-0c60-49bf-e7ab-95e2863efad6",
        "colab": {
          "base_uri": "https://localhost:8080/",
          "height": 34
        }
      },
      "source": [
        "cd /content/drive/My Drive/NLP"
      ],
      "execution_count": 0,
      "outputs": [
        {
          "output_type": "stream",
          "text": [
            "/content/drive/My Drive/NLP\n"
          ],
          "name": "stdout"
        }
      ]
    },
    {
      "cell_type": "code",
      "metadata": {
        "id": "juYYaT5tqyvQ",
        "colab_type": "code",
        "outputId": "c548cdb6-ab0c-407c-feea-6cceea13e3b8",
        "colab": {
          "base_uri": "https://localhost:8080/",
          "height": 224
        }
      },
      "source": [
        "!wget http://opendata.auth-6f31f706db6f4a24b55f42a6a79c5086.storage.sbg5.cloud.ovh.net/2019-01-31/LA_TRANSITION_ECOLOGIQUE.csv"
      ],
      "execution_count": 0,
      "outputs": [
        {
          "output_type": "stream",
          "text": [
            "--2019-09-05 04:28:21--  http://opendata.auth-6f31f706db6f4a24b55f42a6a79c5086.storage.sbg5.cloud.ovh.net/2019-01-31/LA_TRANSITION_ECOLOGIQUE.csv\n",
            "Resolving opendata.auth-6f31f706db6f4a24b55f42a6a79c5086.storage.sbg5.cloud.ovh.net (opendata.auth-6f31f706db6f4a24b55f42a6a79c5086.storage.sbg5.cloud.ovh.net)... 164.132.114.175\n",
            "Connecting to opendata.auth-6f31f706db6f4a24b55f42a6a79c5086.storage.sbg5.cloud.ovh.net (opendata.auth-6f31f706db6f4a24b55f42a6a79c5086.storage.sbg5.cloud.ovh.net)|164.132.114.175|:80... connected.\n",
            "HTTP request sent, awaiting response... 200 OK\n",
            "Length: 64239619 (61M) [text/csv]\n",
            "Saving to: ‘LA_TRANSITION_ECOLOGIQUE.csv’\n",
            "\n",
            "LA_TRANSITION_ECOLO 100%[===================>]  61.26M  45.7MB/s    in 1.3s    \n",
            "\n",
            "2019-09-05 04:28:23 (45.7 MB/s) - ‘LA_TRANSITION_ECOLOGIQUE.csv’ saved [64239619/64239619]\n",
            "\n"
          ],
          "name": "stdout"
        }
      ]
    },
    {
      "cell_type": "code",
      "metadata": {
        "id": "pjLdSd63rqew",
        "colab_type": "code",
        "outputId": "c03c47b2-3cda-4293-8527-45ce10dd0f08",
        "colab": {
          "base_uri": "https://localhost:8080/",
          "height": 88
        }
      },
      "source": [
        "%pylab inline\n",
        "import pandas as pd\n",
        "\n",
        "f = \"LA_TRANSITION_ECOLOGIQUE.csv\"\n",
        "df = pd.read_csv(f)"
      ],
      "execution_count": 0,
      "outputs": [
        {
          "output_type": "stream",
          "text": [
            "Populating the interactive namespace from numpy and matplotlib\n"
          ],
          "name": "stdout"
        },
        {
          "output_type": "stream",
          "text": [
            "/usr/local/lib/python3.6/dist-packages/IPython/core/interactiveshell.py:2718: DtypeWarning: Columns (6) have mixed types. Specify dtype option on import or set low_memory=False.\n",
            "  interactivity=interactivity, compiler=compiler, result=result)\n"
          ],
          "name": "stderr"
        }
      ]
    },
    {
      "cell_type": "markdown",
      "metadata": {
        "id": "fa4js36b9t_e",
        "colab_type": "text"
      },
      "source": [
        "Each of the rows in this data frame contains some metadata and a respondent's answers to a list of questions about the ecological transition. \n",
        "Some of these questions are multiple choice, while other ones are open-ended."
      ]
    },
    {
      "cell_type": "code",
      "metadata": {
        "id": "5FtfD42Yr-oM",
        "colab_type": "code",
        "outputId": "c0a2096a-dc6a-40a1-94bd-2d43f87a877c",
        "colab": {
          "base_uri": "https://localhost:8080/",
          "height": 360
        }
      },
      "source": [
        "df.columns"
      ],
      "execution_count": 0,
      "outputs": [
        {
          "output_type": "execute_result",
          "data": {
            "text/plain": [
              "Index(['reference', 'title', 'createdAt', 'publishedAt', 'updatedAt',\n",
              "       'trashed', 'trashedStatus', 'authorId', 'authorType', 'authorZipCode',\n",
              "       'Quel est aujourd'hui pour vous le problème concret le plus important dans le domaine de l'environnement ?',\n",
              "       'Que faudrait-il faire selon vous pour apporter des réponses à ce problème ?',\n",
              "       'Diriez-vous que votre vie quotidienne est aujourd'hui touchée par le changement climatique ?',\n",
              "       'Si oui, de quelle manière votre vie quotidienne est-elle touchée par le changement climatique ?',\n",
              "       'À titre personnel, pensez-vous pouvoir contribuer à protéger l'environnement ?',\n",
              "       'Si oui, que faites-vous aujourd'hui pour protéger l'environnement et/ou que pourriez-vous faire ?',\n",
              "       'Qu'est-ce qui pourrait vous inciter à changer vos comportements comme par exemple mieux entretenir et régler votre chauffage, modifier votre manière de conduire ou renoncer à prendre votre véhicule pour de très petites distances ?',\n",
              "       'Quelles seraient pour vous les solutions les plus simples et les plus supportables sur un plan financier pour vous inciter à changer vos comportements ?',\n",
              "       'Par rapport à votre mode de chauffage actuel, pensez-vous qu'il existe des solutions alternatives plus écologiques ?',\n",
              "       'Si oui, que faudrait-il faire pour vous convaincre ou vous aider à changer de mode de chauffage ?',\n",
              "       'Avez-vous pour vos déplacements quotidiens la possibilité de recourir à des solutions de mobilité alternatives à la voiture individuelle comme les transports en commun, le covoiturage, l'auto-partage, le transport à la demande, le vélo, etc. ?',\n",
              "       'Si oui, que faudrait-il faire pour vous convaincre ou vous aider à utiliser ces solutions alternatives ?',\n",
              "       'Si non, quelles sont les solutions de mobilité alternatives que vous souhaiteriez pouvoir utiliser ?',\n",
              "       'Et qui doit selon vous se charger de vous proposer ce type de solutions alternatives ?',\n",
              "       'Que pourrait faire la France pour faire partager ses choix en matière d'environnement au niveau européen et international ?',\n",
              "       'Y a-t-il d'autres points sur la transition écologique sur lesquels vous souhaiteriez vous exprimer ?'],\n",
              "      dtype='object')"
            ]
          },
          "metadata": {
            "tags": []
          },
          "execution_count": 5
        }
      ]
    },
    {
      "cell_type": "markdown",
      "metadata": {
        "id": "dWfnq0r1-FNg",
        "colab_type": "text"
      },
      "source": [
        "We'll focus on the last of the questions, which gives the most freedom to the respondents: it asks them whether they have any additional comments about the ecological transition. We hope LDA will help us analyze what topics their answers focus on. The first few answers to this question already give us an idea of the variety of topics people bring up: alternative energy sources (\"les centrales géothermiques\"), politics (\"une vrai politique écologique\") and education (\"pédagogie\")."
      ]
    },
    {
      "cell_type": "code",
      "metadata": {
        "id": "xpD4kYGMsEWy",
        "colab_type": "code",
        "outputId": "cb3db82e-8ee5-46a7-d17e-bb1c805a7a06",
        "colab": {
          "base_uri": "https://localhost:8080/",
          "height": 224
        }
      },
      "source": [
        "question = \"Y a-t-il d'autres points sur la transition écologique sur lesquels vous souhaiteriez vous exprimer ?\"\n",
        "df[question].head(10)"
      ],
      "execution_count": 0,
      "outputs": [
        {
          "output_type": "execute_result",
          "data": {
            "text/plain": [
              "0               Multiplier les centrales géothermiques\n",
              "1    Les problèmes auxquels se trouve confronté l’e...\n",
              "2                                                  NaN\n",
              "3                                                  NaN\n",
              "4      Une vrai politique écologique et non économique\n",
              "5    Les bonnes idées ne grandissent que par le par...\n",
              "6    Pédagogie dans ce sens là dés la petite école ...\n",
              "7                                                  NaN\n",
              "8    faire de l'écologie incitative et non punitive...\n",
              "9    Développer le ferroutage pour les poids lourds...\n",
              "Name: Y a-t-il d'autres points sur la transition écologique sur lesquels vous souhaiteriez vous exprimer ?, dtype: object"
            ]
          },
          "metadata": {
            "tags": []
          },
          "execution_count": 6
        }
      ]
    },
    {
      "cell_type": "markdown",
      "metadata": {
        "id": "pBUFATPP-Kin",
        "colab_type": "text"
      },
      "source": [
        "## Preprocessing\n",
        "Before we train a topic model, we need to tokenize our texts. Let's do this with the spaCy NLP library. Because we're only going to do some basic preprocessing, we don't need to download any of its statistical models. We'll just initialize a blank model for French instead."
      ]
    },
    {
      "cell_type": "code",
      "metadata": {
        "id": "b74cQ2qzsPJr",
        "colab_type": "code",
        "colab": {}
      },
      "source": [
        "import spacy\n",
        "nlp = spacy.blank(\"fr\")"
      ],
      "execution_count": 0,
      "outputs": []
    },
    {
      "cell_type": "markdown",
      "metadata": {
        "id": "VxVz8FkJ-QY9",
        "colab_type": "text"
      },
      "source": [
        "First we remove all the rows from the data frame that don't have a response for our target question (the NaNs above), then we take all the texts in the target column. Next, we use spaCy to perform our first preprocessing pass."
      ]
    },
    {
      "cell_type": "code",
      "metadata": {
        "id": "F-AVKpw_sT9L",
        "colab_type": "code",
        "outputId": "d26891ea-385a-4671-81a5-5e0a57c7be6a",
        "colab": {
          "base_uri": "https://localhost:8080/",
          "height": 51
        }
      },
      "source": [
        "texts = df[df[question].notnull()][question]\n",
        "%time spacy_docs = list(nlp.pipe(texts))"
      ],
      "execution_count": 0,
      "outputs": [
        {
          "output_type": "stream",
          "text": [
            "CPU times: user 21.4 s, sys: 320 ms, total: 21.8 s\n",
            "Wall time: 21.8 s\n"
          ],
          "name": "stdout"
        }
      ]
    },
    {
      "cell_type": "markdown",
      "metadata": {
        "id": "iOcOLqIm-Vu3",
        "colab_type": "text"
      },
      "source": [
        "Now that we have a list of spaCy documents, we transform them to lists of tokens. Instead of the original tokens, we're going to work with the lemmas instead. This will allow our model to generalize better, as it will be able to see that \"géothermiques\" and \"géothermique\" are actually just two forms of the same words. This is the full list of our initial preprocessing steps:\n",
        "\n",
        "\n",
        "*   we remove all words shorter than 3 characters (these are often fairly uninteresting from a topical point of view),\n",
        "*   we drop all stopwords, and\n",
        "*   we take them lemmas of the remaining words and lowercase them.\n",
        "\n"
      ]
    },
    {
      "cell_type": "code",
      "metadata": {
        "id": "pcc4NsF0shKJ",
        "colab_type": "code",
        "outputId": "43393d0d-0beb-4424-adb5-feef05b6b95d",
        "colab": {
          "base_uri": "https://localhost:8080/",
          "height": 54
        }
      },
      "source": [
        "docs = [[t.lemma_.lower() for t in doc if len(t.orth_) > 3 and not t.is_stop] for doc in spacy_docs]\n",
        "print(docs[:3])"
      ],
      "execution_count": 0,
      "outputs": [
        {
          "output_type": "stream",
          "text": [
            "[['multiplier', 'central', 'géothermique'], ['problème', 'trouver', 'confronter', 'ensemble', 'planète', 'dénoncer', 'parfait', 'désordre', 'gilet', 'jaune', 'france', 'surpopulation', 'mondial', 'population', 'passée', 'd’1,5', 'milliard', 'habitant', '1900', 'milliard', '2020', 'monter', 'bientôt', 'milliard', '2040', 'progrès', 'communication', 'village', 'mondial', 'individu', 'fond', 'asie', 'fond', 'afrique', 'passant', 'quartier', 'campagne', 'pays', 'aspirer', 'vivre', 'blâmer', 'lotir', 'concitoyen', 'logement', 'nourriture', 'bien', 'consommation', 'déplacement', 'mère', 'problème', 'solution', 'problème', 'stabilisation', 'croissance', 'démographique', 'partage', 'richesse', 'partage', 'terrer', 'partage', 'protection', 'biodiversité', 'règlement', 'conflit', 'lutte', 'déforestation', 'lutte', 'dérèglement', 'climatique', 'règlement', 'conflit', 'stabilisation', 'migration', 'concurrence', 'commerciale', 'mondial', 'etc.', 'français', 'européen', 'mondial', 'france', 'jouer', 'rôle', 'moteur', 'autour', 'dérouler', 'grand', 'débat', 'paraître', 'anecdotique'], ['vrai', 'politique', 'écologique', 'économique']]\n"
          ],
          "name": "stdout"
        }
      ]
    },
    {
      "cell_type": "markdown",
      "metadata": {
        "id": "3dlm0DaZ-ve4",
        "colab_type": "text"
      },
      "source": [
        "Next, we also want to take frequent bigrams into account. After all, French has many multiword units, such as \"poids lourds\" (trucks) that actually form one word rather than two. This is the first step where we use the Gensim library, a great NLP library for topic modelling. First we identify the frequent bigrams in the corpus, then we append them to the list of tokens for the documents in which they appear. This means the bigrams will not be in their correct position in the text, but that's fine: topic models are bag-of-word models that ignore word position anyway."
      ]
    },
    {
      "cell_type": "code",
      "metadata": {
        "id": "EY41spggsmYX",
        "colab_type": "code",
        "outputId": "21ecb07b-855b-477e-935d-0208b7bcec10",
        "colab": {
          "base_uri": "https://localhost:8080/",
          "height": 71
        }
      },
      "source": [
        "import re\n",
        "from gensim.models import Phrases\n",
        "\n",
        "bigram = Phrases(docs, min_count=10)\n",
        "\n",
        "for idx in range(len(docs)):\n",
        "    for token in bigram[docs[idx]]:\n",
        "        if '_' in token:  # bigrams can be recognized by the \"_\" that joins the invidual words\n",
        "            docs[idx].append(token)"
      ],
      "execution_count": 0,
      "outputs": [
        {
          "output_type": "stream",
          "text": [
            "/usr/local/lib/python3.6/dist-packages/gensim/models/phrases.py:598: UserWarning: For a faster implementation, use the gensim.models.phrases.Phraser class\n",
            "  warnings.warn(\"For a faster implementation, use the gensim.models.phrases.Phraser class\")\n"
          ],
          "name": "stderr"
        }
      ]
    },
    {
      "cell_type": "code",
      "metadata": {
        "id": "I72clAmDsu36",
        "colab_type": "code",
        "outputId": "aed17b24-d91c-4e60-f9c8-e1019b7e2233",
        "colab": {
          "base_uri": "https://localhost:8080/",
          "height": 34
        }
      },
      "source": [
        "docs[2]"
      ],
      "execution_count": 0,
      "outputs": [
        {
          "output_type": "execute_result",
          "data": {
            "text/plain": [
              "['vrai', 'politique', 'écologique', 'économique', 'vrai_politique']"
            ]
          },
          "metadata": {
            "tags": []
          },
          "execution_count": 11
        }
      ]
    },
    {
      "cell_type": "markdown",
      "metadata": {
        "id": "dVvh6KPl_Hcx",
        "colab_type": "text"
      },
      "source": [
        "Next, we move on to the final Gensim-specific preprocessing steps. First, we create a dictionary representation of the documents. This dictionary will map each word to a unique ID and help us create bag-of-word representations of each document. These bag-of-word representations contain the ids of the words in the document, together with their frequency. Additionally, we can remove the least and most frequent words from the vocabulary. This improves the quality of our topic model and speeds up its training. The minimum frequency of a word is expressed as an absolute number, the maximum frequency is the proportion of documents a word is allowed to occur in."
      ]
    },
    {
      "cell_type": "code",
      "metadata": {
        "id": "rNxbqEFEszj0",
        "colab_type": "code",
        "outputId": "e3d8cff2-cc0c-4207-ff92-ee8491283082",
        "colab": {
          "base_uri": "https://localhost:8080/",
          "height": 68
        }
      },
      "source": [
        "from gensim.corpora import Dictionary\n",
        "\n",
        "dictionary = Dictionary(docs)\n",
        "print('Number of unique words in original documents:', len(dictionary))\n",
        "\n",
        "dictionary.filter_extremes(no_below=3, no_above=0.25)\n",
        "print('Number of unique words after removing rare and common words:', len(dictionary))\n",
        "\n",
        "print(\"Example representation of document 3:\", dictionary.doc2bow(docs[2]))"
      ],
      "execution_count": 0,
      "outputs": [
        {
          "output_type": "stream",
          "text": [
            "Number of unique words in original documents: 31035\n",
            "Number of unique words after removing rare and common words: 12076\n",
            "Example representation of document 3: [(85, 1), (86, 1), (87, 1), (88, 1), (89, 1)]\n"
          ],
          "name": "stdout"
        }
      ]
    },
    {
      "cell_type": "code",
      "metadata": {
        "id": "qIfxKm-Hs-Bh",
        "colab_type": "code",
        "colab": {}
      },
      "source": [
        "corpus = [dictionary.doc2bow(doc) for doc in docs]"
      ],
      "execution_count": 0,
      "outputs": []
    },
    {
      "cell_type": "markdown",
      "metadata": {
        "id": "fnv68iZ5_NX0",
        "colab_type": "text"
      },
      "source": [
        "##Training\n",
        "Now it's time to train our topic model. We do this with the following parameters:\n",
        "\n",
        "\n",
        "*   corpus: the bag-of-word representations of our documents\n",
        "*   id2token: the mapping from indices to words\n",
        "*   num_topics: the number of topics we want the model to identify\n",
        "*   chunksize: the number of documents the model sees for every update\n",
        "*   passes: the number of times we show the total corpus to the model during training\n",
        "*   random_state: we use a seed to ensure reproducibility.\n",
        "\n",
        "\n",
        "On a corpus of this size, the training will typically take one or two minutes."
      ]
    },
    {
      "cell_type": "code",
      "metadata": {
        "id": "juzWUTQctC1k",
        "colab_type": "code",
        "outputId": "5405e985-7f05-4992-d74d-15eb932024cd",
        "colab": {
          "base_uri": "https://localhost:8080/",
          "height": 51
        }
      },
      "source": [
        "from gensim.models import LdaModel\n",
        "\n",
        "%time model = LdaModel(corpus=corpus, id2word=dictionary, num_topics=10, chunksize=1000, passes=5, random_state=1)"
      ],
      "execution_count": 0,
      "outputs": [
        {
          "output_type": "stream",
          "text": [
            "CPU times: user 44 s, sys: 994 ms, total: 45 s\n",
            "Wall time: 43.9 s\n"
          ],
          "name": "stdout"
        }
      ]
    },
    {
      "cell_type": "markdown",
      "metadata": {
        "id": "yUUgeCaA_3hB",
        "colab_type": "text"
      },
      "source": [
        "## Results\n",
        "Let's take a look at what the model has learnt. We do this by printing out the ten words that are most characteristic for each of the topics. This shows some interesting patterns already: while some topics are more general (such as 3), others point to some very relevant recurring themes: electric vehicles (topic 1), (alternative) energy (topic 2), agriculture (topic 6), waste and recycling (topic 7) and taxes (topic 9)."
      ]
    },
    {
      "cell_type": "code",
      "metadata": {
        "id": "MY-4fnW3tJQ5",
        "colab_type": "code",
        "outputId": "3f619ae1-5b29-4911-89d7-62e0d745f730",
        "colab": {
          "base_uri": "https://localhost:8080/",
          "height": 207
        }
      },
      "source": [
        "for (topic, words) in model.print_topics():\n",
        "    print(topic+1, \":\", words)"
      ],
      "execution_count": 0,
      "outputs": [
        {
          "output_type": "stream",
          "text": [
            "1 : 0.030*\"emballage\" + 0.027*\"plastique\" + 0.023*\"déchet\" + 0.010*\"espace\" + 0.009*\"consigne\" + 0.009*\"industriel\" + 0.009*\"recyclable\" + 0.009*\"falloir\" + 0.008*\"interdire\" + 0.008*\"gaspillage\"\n",
            "2 : 0.061*\"produit\" + 0.022*\"agriculture\" + 0.016*\"interdire\" + 0.013*\"pesticide\" + 0.012*\"production\" + 0.012*\"agricole\" + 0.012*\"agriculteur\" + 0.012*\"favoriser\" + 0.011*\"santé\" + 0.010*\"local\"\n",
            "3 : 0.040*\"transport\" + 0.019*\"taxer\" + 0.018*\"ville\" + 0.014*\"router\" + 0.013*\"camion\" + 0.010*\"vitesse\" + 0.009*\"voiture\" + 0.009*\"développer\" + 0.009*\"grand\" + 0.008*\"centre\"\n",
            "4 : 0.012*\"politique\" + 0.011*\"pays\" + 0.011*\"terme\" + 0.011*\"france\" + 0.010*\"climatique\" + 0.009*\"problème\" + 0.009*\"mondial\" + 0.008*\"question\" + 0.007*\"grand\" + 0.006*\"long\"\n",
            "5 : 0.039*\"voiture\" + 0.037*\"électrique\" + 0.035*\"véhicule\" + 0.014*\"voiture_électrique\" + 0.014*\"diesel\" + 0.012*\"batterie\" + 0.011*\"solution\" + 0.010*\"automobile\" + 0.009*\"polluant\" + 0.009*\"moteur\"\n",
            "6 : 0.016*\"public\" + 0.014*\"pouvoir\" + 0.013*\"travail\" + 0.010*\"logement\" + 0.009*\"service\" + 0.008*\"permettre\" + 0.007*\"chauffage\" + 0.007*\"proposition\" + 0.006*\"achat\" + 0.006*\"isolation\"\n",
            "7 : 0.038*\"écologique\" + 0.034*\"transition\" + 0.022*\"transition_écologique\" + 0.014*\"entreprise\" + 0.012*\"faire\" + 0.011*\"falloir\" + 0.010*\"investissement\" + 0.009*\"citoyen\" + 0.008*\"état\" + 0.007*\"environnement\"\n",
            "8 : 0.039*\"faire\" + 0.036*\"falloir\" + 0.020*\"changer\" + 0.014*\"planète\" + 0.012*\"écologie\" + 0.012*\"pouvoir\" + 0.012*\"arrêter\" + 0.011*\"monde\" + 0.010*\"enfant\" + 0.010*\"prendre\"\n",
            "9 : 0.064*\"énergie\" + 0.039*\"nucléaire\" + 0.017*\"solaire\" + 0.016*\"renouvelable\" + 0.016*\"éolienne\" + 0.015*\"développer\" + 0.015*\"production\" + 0.015*\"central\" + 0.013*\"panneau\" + 0.012*\"falloir\"\n",
            "10 : 0.037*\"animal\" + 0.029*\"taxe\" + 0.023*\"pollueur\" + 0.015*\"poids\" + 0.015*\"carbone\" + 0.014*\"gros\" + 0.013*\"chasse\" + 0.013*\"payer\" + 0.011*\"lourd\" + 0.009*\"espèce\"\n"
          ],
          "name": "stdout"
        }
      ]
    },
    {
      "cell_type": "code",
      "metadata": {
        "id": "VVcL58Dot-a7",
        "colab_type": "code",
        "outputId": "6e1c883c-e7e6-44bc-b2f3-3ea2e1ac3a10",
        "colab": {
          "base_uri": "https://localhost:8080/",
          "height": 564
        }
      },
      "source": [
        "!pip install pyLDAvis"
      ],
      "execution_count": 0,
      "outputs": [
        {
          "output_type": "stream",
          "text": [
            "Collecting pyLDAvis\n",
            "\u001b[?25l  Downloading https://files.pythonhosted.org/packages/a5/3a/af82e070a8a96e13217c8f362f9a73e82d61ac8fff3a2561946a97f96266/pyLDAvis-2.1.2.tar.gz (1.6MB)\n",
            "\r\u001b[K     |▏                               | 10kB 15.1MB/s eta 0:00:01\r\u001b[K     |▍                               | 20kB 4.1MB/s eta 0:00:01\r\u001b[K     |▋                               | 30kB 5.9MB/s eta 0:00:01\r\u001b[K     |▉                               | 40kB 3.9MB/s eta 0:00:01\r\u001b[K     |█                               | 51kB 4.7MB/s eta 0:00:01\r\u001b[K     |█▏                              | 61kB 5.6MB/s eta 0:00:01\r\u001b[K     |█▍                              | 71kB 6.4MB/s eta 0:00:01\r\u001b[K     |█▋                              | 81kB 7.2MB/s eta 0:00:01\r\u001b[K     |█▉                              | 92kB 8.0MB/s eta 0:00:01\r\u001b[K     |██                              | 102kB 6.3MB/s eta 0:00:01\r\u001b[K     |██▎                             | 112kB 6.3MB/s eta 0:00:01\r\u001b[K     |██▍                             | 122kB 6.3MB/s eta 0:00:01\r\u001b[K     |██▋                             | 133kB 6.3MB/s eta 0:00:01\r\u001b[K     |██▉                             | 143kB 6.3MB/s eta 0:00:01\r\u001b[K     |███                             | 153kB 6.3MB/s eta 0:00:01\r\u001b[K     |███▎                            | 163kB 6.3MB/s eta 0:00:01\r\u001b[K     |███▌                            | 174kB 6.3MB/s eta 0:00:01\r\u001b[K     |███▋                            | 184kB 6.3MB/s eta 0:00:01\r\u001b[K     |███▉                            | 194kB 6.3MB/s eta 0:00:01\r\u001b[K     |████                            | 204kB 6.3MB/s eta 0:00:01\r\u001b[K     |████▎                           | 215kB 6.3MB/s eta 0:00:01\r\u001b[K     |████▌                           | 225kB 6.3MB/s eta 0:00:01\r\u001b[K     |████▊                           | 235kB 6.3MB/s eta 0:00:01\r\u001b[K     |████▉                           | 245kB 6.3MB/s eta 0:00:01\r\u001b[K     |█████                           | 256kB 6.3MB/s eta 0:00:01\r\u001b[K     |█████▎                          | 266kB 6.3MB/s eta 0:00:01\r\u001b[K     |█████▌                          | 276kB 6.3MB/s eta 0:00:01\r\u001b[K     |█████▊                          | 286kB 6.3MB/s eta 0:00:01\r\u001b[K     |█████▉                          | 296kB 6.3MB/s eta 0:00:01\r\u001b[K     |██████                          | 307kB 6.3MB/s eta 0:00:01\r\u001b[K     |██████▎                         | 317kB 6.3MB/s eta 0:00:01\r\u001b[K     |██████▌                         | 327kB 6.3MB/s eta 0:00:01\r\u001b[K     |██████▊                         | 337kB 6.3MB/s eta 0:00:01\r\u001b[K     |███████                         | 348kB 6.3MB/s eta 0:00:01\r\u001b[K     |███████                         | 358kB 6.3MB/s eta 0:00:01\r\u001b[K     |███████▎                        | 368kB 6.3MB/s eta 0:00:01\r\u001b[K     |███████▌                        | 378kB 6.3MB/s eta 0:00:01\r\u001b[K     |███████▊                        | 389kB 6.3MB/s eta 0:00:01\r\u001b[K     |████████                        | 399kB 6.3MB/s eta 0:00:01\r\u001b[K     |████████▏                       | 409kB 6.3MB/s eta 0:00:01\r\u001b[K     |████████▎                       | 419kB 6.3MB/s eta 0:00:01\r\u001b[K     |████████▌                       | 430kB 6.3MB/s eta 0:00:01\r\u001b[K     |████████▊                       | 440kB 6.3MB/s eta 0:00:01\r\u001b[K     |█████████                       | 450kB 6.3MB/s eta 0:00:01\r\u001b[K     |█████████▏                      | 460kB 6.3MB/s eta 0:00:01\r\u001b[K     |█████████▍                      | 471kB 6.3MB/s eta 0:00:01\r\u001b[K     |█████████▌                      | 481kB 6.3MB/s eta 0:00:01\r\u001b[K     |█████████▊                      | 491kB 6.3MB/s eta 0:00:01\r\u001b[K     |██████████                      | 501kB 6.3MB/s eta 0:00:01\r\u001b[K     |██████████▏                     | 512kB 6.3MB/s eta 0:00:01\r\u001b[K     |██████████▍                     | 522kB 6.3MB/s eta 0:00:01\r\u001b[K     |██████████▋                     | 532kB 6.3MB/s eta 0:00:01\r\u001b[K     |██████████▊                     | 542kB 6.3MB/s eta 0:00:01\r\u001b[K     |███████████                     | 552kB 6.3MB/s eta 0:00:01\r\u001b[K     |███████████▏                    | 563kB 6.3MB/s eta 0:00:01\r\u001b[K     |███████████▍                    | 573kB 6.3MB/s eta 0:00:01\r\u001b[K     |███████████▋                    | 583kB 6.3MB/s eta 0:00:01\r\u001b[K     |███████████▊                    | 593kB 6.3MB/s eta 0:00:01\r\u001b[K     |████████████                    | 604kB 6.3MB/s eta 0:00:01\r\u001b[K     |████████████▏                   | 614kB 6.3MB/s eta 0:00:01\r\u001b[K     |████████████▍                   | 624kB 6.3MB/s eta 0:00:01\r\u001b[K     |████████████▋                   | 634kB 6.3MB/s eta 0:00:01\r\u001b[K     |████████████▉                   | 645kB 6.3MB/s eta 0:00:01\r\u001b[K     |█████████████                   | 655kB 6.3MB/s eta 0:00:01\r\u001b[K     |█████████████▏                  | 665kB 6.3MB/s eta 0:00:01\r\u001b[K     |█████████████▍                  | 675kB 6.3MB/s eta 0:00:01\r\u001b[K     |█████████████▋                  | 686kB 6.3MB/s eta 0:00:01\r\u001b[K     |█████████████▉                  | 696kB 6.3MB/s eta 0:00:01\r\u001b[K     |██████████████                  | 706kB 6.3MB/s eta 0:00:01\r\u001b[K     |██████████████▏                 | 716kB 6.3MB/s eta 0:00:01\r\u001b[K     |██████████████▍                 | 727kB 6.3MB/s eta 0:00:01\r\u001b[K     |██████████████▋                 | 737kB 6.3MB/s eta 0:00:01\r\u001b[K     |██████████████▉                 | 747kB 6.3MB/s eta 0:00:01\r\u001b[K     |███████████████                 | 757kB 6.3MB/s eta 0:00:01\r\u001b[K     |███████████████▎                | 768kB 6.3MB/s eta 0:00:01\r\u001b[K     |███████████████▍                | 778kB 6.3MB/s eta 0:00:01\r\u001b[K     |███████████████▋                | 788kB 6.3MB/s eta 0:00:01\r\u001b[K     |███████████████▉                | 798kB 6.3MB/s eta 0:00:01\r\u001b[K     |████████████████                | 808kB 6.3MB/s eta 0:00:01\r\u001b[K     |████████████████▎               | 819kB 6.3MB/s eta 0:00:01\r\u001b[K     |████████████████▌               | 829kB 6.3MB/s eta 0:00:01\r\u001b[K     |████████████████▋               | 839kB 6.3MB/s eta 0:00:01\r\u001b[K     |████████████████▉               | 849kB 6.3MB/s eta 0:00:01\r\u001b[K     |█████████████████               | 860kB 6.3MB/s eta 0:00:01\r\u001b[K     |█████████████████▎              | 870kB 6.3MB/s eta 0:00:01\r\u001b[K     |█████████████████▌              | 880kB 6.3MB/s eta 0:00:01\r\u001b[K     |█████████████████▋              | 890kB 6.3MB/s eta 0:00:01\r\u001b[K     |█████████████████▉              | 901kB 6.3MB/s eta 0:00:01\r\u001b[K     |██████████████████              | 911kB 6.3MB/s eta 0:00:01\r\u001b[K     |██████████████████▎             | 921kB 6.3MB/s eta 0:00:01\r\u001b[K     |██████████████████▌             | 931kB 6.3MB/s eta 0:00:01\r\u001b[K     |██████████████████▊             | 942kB 6.3MB/s eta 0:00:01\r\u001b[K     |██████████████████▉             | 952kB 6.3MB/s eta 0:00:01\r\u001b[K     |███████████████████             | 962kB 6.3MB/s eta 0:00:01\r\u001b[K     |███████████████████▎            | 972kB 6.3MB/s eta 0:00:01\r\u001b[K     |███████████████████▌            | 983kB 6.3MB/s eta 0:00:01\r\u001b[K     |███████████████████▊            | 993kB 6.3MB/s eta 0:00:01\r\u001b[K     |████████████████████            | 1.0MB 6.3MB/s eta 0:00:01\r\u001b[K     |████████████████████            | 1.0MB 6.3MB/s eta 0:00:01\r\u001b[K     |████████████████████▎           | 1.0MB 6.3MB/s eta 0:00:01\r\u001b[K     |████████████████████▌           | 1.0MB 6.3MB/s eta 0:00:01\r\u001b[K     |████████████████████▊           | 1.0MB 6.3MB/s eta 0:00:01\r\u001b[K     |█████████████████████           | 1.1MB 6.3MB/s eta 0:00:01\r\u001b[K     |█████████████████████▏          | 1.1MB 6.3MB/s eta 0:00:01\r\u001b[K     |█████████████████████▎          | 1.1MB 6.3MB/s eta 0:00:01\r\u001b[K     |█████████████████████▌          | 1.1MB 6.3MB/s eta 0:00:01\r\u001b[K     |█████████████████████▊          | 1.1MB 6.3MB/s eta 0:00:01\r\u001b[K     |██████████████████████          | 1.1MB 6.3MB/s eta 0:00:01\r\u001b[K     |██████████████████████▏         | 1.1MB 6.3MB/s eta 0:00:01\r\u001b[K     |██████████████████████▍         | 1.1MB 6.3MB/s eta 0:00:01\r\u001b[K     |██████████████████████▌         | 1.1MB 6.3MB/s eta 0:00:01\r\u001b[K     |██████████████████████▊         | 1.1MB 6.3MB/s eta 0:00:01\r\u001b[K     |███████████████████████         | 1.2MB 6.3MB/s eta 0:00:01\r\u001b[K     |███████████████████████▏        | 1.2MB 6.3MB/s eta 0:00:01\r\u001b[K     |███████████████████████▍        | 1.2MB 6.3MB/s eta 0:00:01\r\u001b[K     |███████████████████████▌        | 1.2MB 6.3MB/s eta 0:00:01\r\u001b[K     |███████████████████████▊        | 1.2MB 6.3MB/s eta 0:00:01\r\u001b[K     |████████████████████████        | 1.2MB 6.3MB/s eta 0:00:01\r\u001b[K     |████████████████████████▏       | 1.2MB 6.3MB/s eta 0:00:01\r\u001b[K     |████████████████████████▍       | 1.2MB 6.3MB/s eta 0:00:01\r\u001b[K     |████████████████████████▋       | 1.2MB 6.3MB/s eta 0:00:01\r\u001b[K     |████████████████████████▊       | 1.2MB 6.3MB/s eta 0:00:01\r\u001b[K     |█████████████████████████       | 1.3MB 6.3MB/s eta 0:00:01\r\u001b[K     |█████████████████████████▏      | 1.3MB 6.3MB/s eta 0:00:01\r\u001b[K     |█████████████████████████▍      | 1.3MB 6.3MB/s eta 0:00:01\r\u001b[K     |█████████████████████████▋      | 1.3MB 6.3MB/s eta 0:00:01\r\u001b[K     |█████████████████████████▉      | 1.3MB 6.3MB/s eta 0:00:01\r\u001b[K     |██████████████████████████      | 1.3MB 6.3MB/s eta 0:00:01\r\u001b[K     |██████████████████████████▏     | 1.3MB 6.3MB/s eta 0:00:01\r\u001b[K     |██████████████████████████▍     | 1.3MB 6.3MB/s eta 0:00:01\r\u001b[K     |██████████████████████████▋     | 1.3MB 6.3MB/s eta 0:00:01\r\u001b[K     |██████████████████████████▉     | 1.4MB 6.3MB/s eta 0:00:01\r\u001b[K     |███████████████████████████     | 1.4MB 6.3MB/s eta 0:00:01\r\u001b[K     |███████████████████████████▏    | 1.4MB 6.3MB/s eta 0:00:01\r\u001b[K     |███████████████████████████▍    | 1.4MB 6.3MB/s eta 0:00:01\r\u001b[K     |███████████████████████████▋    | 1.4MB 6.3MB/s eta 0:00:01\r\u001b[K     |███████████████████████████▉    | 1.4MB 6.3MB/s eta 0:00:01\r\u001b[K     |████████████████████████████    | 1.4MB 6.3MB/s eta 0:00:01\r\u001b[K     |████████████████████████████▏   | 1.4MB 6.3MB/s eta 0:00:01\r\u001b[K     |████████████████████████████▍   | 1.4MB 6.3MB/s eta 0:00:01\r\u001b[K     |████████████████████████████▋   | 1.4MB 6.3MB/s eta 0:00:01\r\u001b[K     |████████████████████████████▉   | 1.5MB 6.3MB/s eta 0:00:01\r\u001b[K     |█████████████████████████████   | 1.5MB 6.3MB/s eta 0:00:01\r\u001b[K     |█████████████████████████████▎  | 1.5MB 6.3MB/s eta 0:00:01\r\u001b[K     |█████████████████████████████▍  | 1.5MB 6.3MB/s eta 0:00:01\r\u001b[K     |█████████████████████████████▋  | 1.5MB 6.3MB/s eta 0:00:01\r\u001b[K     |█████████████████████████████▉  | 1.5MB 6.3MB/s eta 0:00:01\r\u001b[K     |██████████████████████████████  | 1.5MB 6.3MB/s eta 0:00:01\r\u001b[K     |██████████████████████████████▎ | 1.5MB 6.3MB/s eta 0:00:01\r\u001b[K     |██████████████████████████████▌ | 1.5MB 6.3MB/s eta 0:00:01\r\u001b[K     |██████████████████████████████▋ | 1.5MB 6.3MB/s eta 0:00:01\r\u001b[K     |██████████████████████████████▉ | 1.6MB 6.3MB/s eta 0:00:01\r\u001b[K     |███████████████████████████████ | 1.6MB 6.3MB/s eta 0:00:01\r\u001b[K     |███████████████████████████████▎| 1.6MB 6.3MB/s eta 0:00:01\r\u001b[K     |███████████████████████████████▌| 1.6MB 6.3MB/s eta 0:00:01\r\u001b[K     |███████████████████████████████▊| 1.6MB 6.3MB/s eta 0:00:01\r\u001b[K     |███████████████████████████████▉| 1.6MB 6.3MB/s eta 0:00:01\r\u001b[K     |████████████████████████████████| 1.6MB 6.3MB/s \n",
            "\u001b[?25hRequirement already satisfied: wheel>=0.23.0 in /usr/local/lib/python3.6/dist-packages (from pyLDAvis) (0.33.6)\n",
            "Requirement already satisfied: numpy>=1.9.2 in /usr/local/lib/python3.6/dist-packages (from pyLDAvis) (1.16.4)\n",
            "Requirement already satisfied: scipy>=0.18.0 in /usr/local/lib/python3.6/dist-packages (from pyLDAvis) (1.3.1)\n",
            "Requirement already satisfied: pandas>=0.17.0 in /usr/local/lib/python3.6/dist-packages (from pyLDAvis) (0.24.2)\n",
            "Requirement already satisfied: joblib>=0.8.4 in /usr/local/lib/python3.6/dist-packages (from pyLDAvis) (0.13.2)\n",
            "Requirement already satisfied: jinja2>=2.7.2 in /usr/local/lib/python3.6/dist-packages (from pyLDAvis) (2.10.1)\n",
            "Requirement already satisfied: numexpr in /usr/local/lib/python3.6/dist-packages (from pyLDAvis) (2.7.0)\n",
            "Requirement already satisfied: pytest in /usr/local/lib/python3.6/dist-packages (from pyLDAvis) (3.6.4)\n",
            "Requirement already satisfied: future in /usr/local/lib/python3.6/dist-packages (from pyLDAvis) (0.16.0)\n",
            "Collecting funcy (from pyLDAvis)\n",
            "  Downloading https://files.pythonhosted.org/packages/eb/3a/fc8323f913e8a9c6f33f7203547f8a2171223da5ed965f2541dafb10aa09/funcy-1.13-py2.py3-none-any.whl\n",
            "Requirement already satisfied: pytz>=2011k in /usr/local/lib/python3.6/dist-packages (from pandas>=0.17.0->pyLDAvis) (2018.9)\n",
            "Requirement already satisfied: python-dateutil>=2.5.0 in /usr/local/lib/python3.6/dist-packages (from pandas>=0.17.0->pyLDAvis) (2.5.3)\n",
            "Requirement already satisfied: MarkupSafe>=0.23 in /usr/local/lib/python3.6/dist-packages (from jinja2>=2.7.2->pyLDAvis) (1.1.1)\n",
            "Requirement already satisfied: py>=1.5.0 in /usr/local/lib/python3.6/dist-packages (from pytest->pyLDAvis) (1.8.0)\n",
            "Requirement already satisfied: pluggy<0.8,>=0.5 in /usr/local/lib/python3.6/dist-packages (from pytest->pyLDAvis) (0.7.1)\n",
            "Requirement already satisfied: six>=1.10.0 in /usr/local/lib/python3.6/dist-packages (from pytest->pyLDAvis) (1.12.0)\n",
            "Requirement already satisfied: atomicwrites>=1.0 in /usr/local/lib/python3.6/dist-packages (from pytest->pyLDAvis) (1.3.0)\n",
            "Requirement already satisfied: attrs>=17.4.0 in /usr/local/lib/python3.6/dist-packages (from pytest->pyLDAvis) (19.1.0)\n",
            "Requirement already satisfied: more-itertools>=4.0.0 in /usr/local/lib/python3.6/dist-packages (from pytest->pyLDAvis) (7.2.0)\n",
            "Requirement already satisfied: setuptools in /usr/local/lib/python3.6/dist-packages (from pytest->pyLDAvis) (41.2.0)\n",
            "Building wheels for collected packages: pyLDAvis\n",
            "  Building wheel for pyLDAvis (setup.py) ... \u001b[?25l\u001b[?25hdone\n",
            "  Created wheel for pyLDAvis: filename=pyLDAvis-2.1.2-py2.py3-none-any.whl size=97711 sha256=2e8a828ba1ccff4309a766ce6874027109babc776ff073f6f613fda91954dda3\n",
            "  Stored in directory: /root/.cache/pip/wheels/98/71/24/513a99e58bb6b8465bae4d2d5e9dba8f0bef8179e3051ac414\n",
            "Successfully built pyLDAvis\n",
            "Installing collected packages: funcy, pyLDAvis\n",
            "Successfully installed funcy-1.13 pyLDAvis-2.1.2\n"
          ],
          "name": "stdout"
        }
      ]
    },
    {
      "cell_type": "markdown",
      "metadata": {
        "id": "mfL2l-F9__js",
        "colab_type": "text"
      },
      "source": [
        "Another way of inspecting the topics is by visualizing them. This can be done with the pyLDAvis library. PyLDAvis will show us how popular the topics are in our corpus, how similar the topics are, and which are the most salient words for this topic. Note it's important to set sort_topics=False on the call to pyLDAvis. If you don't, it will order the topics differently than Gensim."
      ]
    },
    {
      "cell_type": "code",
      "metadata": {
        "id": "8QfGD4R_tZ3n",
        "colab_type": "code",
        "outputId": "705730f9-e2ce-4077-f5d9-e0e1071298d5",
        "colab": {
          "base_uri": "https://localhost:8080/",
          "height": 1000
        }
      },
      "source": [
        "import pyLDAvis.gensim\n",
        "import warnings\n",
        "\n",
        "pyLDAvis.enable_notebook()\n",
        "warnings.filterwarnings(\"ignore\", category=DeprecationWarning) \n",
        "\n",
        "pyLDAvis.gensim.prepare(model, corpus, dictionary, sort_topics=False)"
      ],
      "execution_count": 0,
      "outputs": [
        {
          "output_type": "stream",
          "text": [
            "/usr/local/lib/python3.6/dist-packages/pyLDAvis/_prepare.py:257: FutureWarning: Sorting because non-concatenation axis is not aligned. A future version\n",
            "of pandas will change to not sort by default.\n",
            "\n",
            "To accept the future behavior, pass 'sort=False'.\n",
            "\n",
            "To retain the current behavior and silence the warning, pass 'sort=True'.\n",
            "\n",
            "  return pd.concat([default_term_info] + list(topic_dfs))\n"
          ],
          "name": "stderr"
        },
        {
          "output_type": "execute_result",
          "data": {
            "text/html": [
              "\n",
              "<link rel=\"stylesheet\" type=\"text/css\" href=\"https://cdn.rawgit.com/bmabey/pyLDAvis/files/ldavis.v1.0.0.css\">\n",
              "\n",
              "\n",
              "<div id=\"ldavis_el1201404150854649361641154142\"></div>\n",
              "<script type=\"text/javascript\">\n",
              "\n",
              "var ldavis_el1201404150854649361641154142_data = {\"mdsDat\": {\"x\": [-0.18173787117548543, -0.17696991552905345, -0.1221572581833598, 0.24185958894687368, 0.07040933156056728, 0.04070846163919889, 0.11334204656186167, 0.21076261536470364, 0.007686006964573799, -0.20390300614987925], \"y\": [0.13355123368216398, 0.019171074394312648, -0.06759505620357084, 0.1270691464516656, -0.0588803712603542, -0.2383799734134564, -0.025149345908117175, 0.16709402775574653, -0.19585675396804103, 0.13897601846965046], \"topics\": [1, 2, 3, 4, 5, 6, 7, 8, 9, 10], \"cluster\": [1, 1, 1, 1, 1, 1, 1, 1, 1, 1], \"Freq\": [5.531366348266602, 9.642430305480957, 9.807093620300293, 11.707785606384277, 10.792009353637695, 8.697709083557129, 16.69098663330078, 10.278959274291992, 10.556249618530273, 6.295412063598633]}, \"tinfo\": {\"Category\": [\"Default\", \"Default\", \"Default\", \"Default\", \"Default\", \"Default\", \"Default\", \"Default\", \"Default\", \"Default\", \"Default\", \"Default\", \"Default\", \"Default\", \"Default\", \"Default\", \"Default\", \"Default\", \"Default\", \"Default\", \"Default\", \"Default\", \"Default\", \"Default\", \"Default\", \"Default\", \"Default\", \"Default\", \"Default\", \"Default\", \"Topic1\", \"Topic1\", \"Topic1\", \"Topic1\", \"Topic1\", \"Topic1\", \"Topic1\", \"Topic1\", \"Topic1\", \"Topic1\", \"Topic1\", \"Topic1\", \"Topic1\", \"Topic1\", \"Topic1\", \"Topic1\", \"Topic1\", \"Topic1\", \"Topic1\", \"Topic1\", \"Topic1\", \"Topic1\", \"Topic1\", \"Topic1\", \"Topic1\", \"Topic1\", \"Topic1\", \"Topic1\", \"Topic1\", \"Topic1\", \"Topic1\", \"Topic1\", \"Topic1\", \"Topic1\", \"Topic1\", \"Topic1\", \"Topic1\", \"Topic1\", \"Topic1\", \"Topic1\", \"Topic1\", \"Topic1\", \"Topic1\", \"Topic1\", \"Topic1\", \"Topic1\", \"Topic1\", \"Topic1\", \"Topic1\", \"Topic1\", \"Topic1\", \"Topic1\", \"Topic1\", \"Topic1\", \"Topic1\", \"Topic1\", \"Topic1\", \"Topic1\", \"Topic2\", \"Topic2\", \"Topic2\", \"Topic2\", \"Topic2\", \"Topic2\", \"Topic2\", \"Topic2\", \"Topic2\", \"Topic2\", \"Topic2\", \"Topic2\", \"Topic2\", \"Topic2\", \"Topic2\", \"Topic2\", \"Topic2\", \"Topic2\", \"Topic2\", \"Topic2\", \"Topic2\", \"Topic2\", \"Topic2\", \"Topic2\", \"Topic2\", \"Topic2\", \"Topic2\", \"Topic2\", \"Topic2\", \"Topic2\", \"Topic2\", \"Topic2\", \"Topic2\", \"Topic2\", \"Topic2\", \"Topic2\", \"Topic2\", \"Topic2\", \"Topic2\", \"Topic2\", \"Topic2\", \"Topic2\", \"Topic2\", \"Topic2\", \"Topic2\", \"Topic2\", \"Topic2\", \"Topic2\", \"Topic2\", \"Topic2\", \"Topic2\", \"Topic2\", \"Topic2\", \"Topic2\", \"Topic2\", \"Topic2\", \"Topic2\", \"Topic2\", \"Topic3\", \"Topic3\", \"Topic3\", \"Topic3\", \"Topic3\", \"Topic3\", \"Topic3\", \"Topic3\", \"Topic3\", \"Topic3\", \"Topic3\", \"Topic3\", \"Topic3\", \"Topic3\", \"Topic3\", \"Topic3\", \"Topic3\", \"Topic3\", \"Topic3\", \"Topic3\", \"Topic3\", \"Topic3\", \"Topic3\", \"Topic3\", \"Topic3\", \"Topic3\", \"Topic3\", \"Topic3\", \"Topic3\", \"Topic3\", \"Topic3\", \"Topic3\", \"Topic3\", \"Topic3\", \"Topic3\", \"Topic3\", \"Topic3\", \"Topic3\", \"Topic3\", \"Topic3\", \"Topic3\", \"Topic3\", \"Topic3\", \"Topic3\", \"Topic3\", \"Topic3\", \"Topic3\", \"Topic3\", \"Topic3\", \"Topic3\", \"Topic3\", \"Topic3\", \"Topic3\", \"Topic3\", \"Topic3\", \"Topic3\", \"Topic3\", \"Topic4\", \"Topic4\", \"Topic4\", \"Topic4\", \"Topic4\", \"Topic4\", \"Topic4\", \"Topic4\", \"Topic4\", \"Topic4\", \"Topic4\", \"Topic4\", \"Topic4\", \"Topic4\", \"Topic4\", \"Topic4\", \"Topic4\", \"Topic4\", \"Topic4\", \"Topic4\", \"Topic4\", \"Topic4\", \"Topic4\", \"Topic4\", \"Topic4\", \"Topic4\", \"Topic4\", \"Topic4\", \"Topic4\", \"Topic4\", \"Topic4\", \"Topic4\", \"Topic4\", \"Topic4\", \"Topic4\", \"Topic4\", \"Topic4\", \"Topic4\", \"Topic4\", \"Topic4\", \"Topic4\", \"Topic4\", \"Topic4\", \"Topic4\", \"Topic4\", \"Topic4\", \"Topic4\", \"Topic4\", \"Topic4\", \"Topic4\", \"Topic4\", \"Topic4\", \"Topic4\", \"Topic4\", \"Topic4\", \"Topic4\", \"Topic4\", \"Topic4\", \"Topic4\", \"Topic4\", \"Topic4\", \"Topic4\", \"Topic4\", \"Topic5\", \"Topic5\", \"Topic5\", \"Topic5\", \"Topic5\", \"Topic5\", \"Topic5\", \"Topic5\", \"Topic5\", \"Topic5\", \"Topic5\", \"Topic5\", \"Topic5\", \"Topic5\", \"Topic5\", \"Topic5\", \"Topic5\", \"Topic5\", \"Topic5\", \"Topic5\", \"Topic5\", \"Topic5\", \"Topic5\", \"Topic5\", \"Topic5\", \"Topic5\", \"Topic5\", \"Topic5\", \"Topic5\", \"Topic5\", \"Topic5\", \"Topic5\", \"Topic5\", \"Topic5\", \"Topic5\", \"Topic5\", \"Topic5\", \"Topic5\", \"Topic5\", \"Topic5\", \"Topic5\", \"Topic5\", \"Topic5\", \"Topic5\", \"Topic5\", \"Topic5\", \"Topic5\", \"Topic5\", \"Topic5\", \"Topic5\", \"Topic5\", \"Topic5\", \"Topic5\", \"Topic5\", \"Topic5\", \"Topic6\", \"Topic6\", \"Topic6\", \"Topic6\", \"Topic6\", \"Topic6\", \"Topic6\", \"Topic6\", \"Topic6\", \"Topic6\", \"Topic6\", \"Topic6\", \"Topic6\", \"Topic6\", \"Topic6\", \"Topic6\", \"Topic6\", \"Topic6\", \"Topic6\", \"Topic6\", \"Topic6\", \"Topic6\", \"Topic6\", \"Topic6\", \"Topic6\", \"Topic6\", \"Topic6\", \"Topic6\", \"Topic6\", \"Topic6\", \"Topic6\", \"Topic6\", \"Topic6\", \"Topic6\", \"Topic6\", \"Topic6\", \"Topic6\", \"Topic6\", \"Topic6\", \"Topic6\", \"Topic6\", \"Topic6\", \"Topic6\", \"Topic6\", \"Topic6\", \"Topic6\", \"Topic6\", \"Topic6\", \"Topic6\", \"Topic6\", \"Topic6\", \"Topic6\", \"Topic6\", \"Topic6\", \"Topic6\", \"Topic6\", \"Topic6\", \"Topic6\", \"Topic6\", \"Topic6\", \"Topic6\", \"Topic6\", \"Topic6\", \"Topic6\", \"Topic6\", \"Topic6\", \"Topic6\", \"Topic7\", \"Topic7\", \"Topic7\", \"Topic7\", \"Topic7\", \"Topic7\", \"Topic7\", \"Topic7\", \"Topic7\", \"Topic7\", \"Topic7\", \"Topic7\", \"Topic7\", \"Topic7\", \"Topic7\", \"Topic7\", \"Topic7\", \"Topic7\", \"Topic7\", \"Topic7\", \"Topic7\", \"Topic7\", \"Topic7\", \"Topic7\", \"Topic7\", \"Topic7\", \"Topic7\", \"Topic7\", \"Topic7\", \"Topic7\", \"Topic7\", \"Topic7\", \"Topic7\", \"Topic7\", \"Topic7\", \"Topic7\", \"Topic7\", \"Topic7\", \"Topic7\", \"Topic7\", \"Topic7\", \"Topic7\", \"Topic7\", \"Topic7\", \"Topic7\", \"Topic7\", \"Topic7\", \"Topic7\", \"Topic7\", \"Topic7\", \"Topic7\", \"Topic7\", \"Topic7\", \"Topic7\", \"Topic7\", \"Topic7\", \"Topic7\", \"Topic7\", \"Topic7\", \"Topic7\", \"Topic7\", \"Topic7\", \"Topic7\", \"Topic7\", \"Topic7\", \"Topic7\", \"Topic7\", \"Topic7\", \"Topic7\", \"Topic7\", \"Topic7\", \"Topic7\", \"Topic7\", \"Topic7\", \"Topic7\", \"Topic7\", \"Topic8\", \"Topic8\", \"Topic8\", \"Topic8\", \"Topic8\", \"Topic8\", \"Topic8\", \"Topic8\", \"Topic8\", \"Topic8\", \"Topic8\", \"Topic8\", \"Topic8\", \"Topic8\", \"Topic8\", \"Topic8\", \"Topic8\", \"Topic8\", \"Topic8\", \"Topic8\", \"Topic8\", \"Topic8\", \"Topic8\", \"Topic8\", \"Topic8\", \"Topic8\", \"Topic8\", \"Topic8\", \"Topic8\", \"Topic8\", \"Topic8\", \"Topic8\", \"Topic8\", \"Topic8\", \"Topic8\", \"Topic8\", \"Topic8\", \"Topic8\", \"Topic8\", \"Topic8\", \"Topic8\", \"Topic8\", \"Topic8\", \"Topic8\", \"Topic8\", \"Topic8\", \"Topic8\", \"Topic8\", \"Topic8\", \"Topic8\", \"Topic8\", \"Topic8\", \"Topic8\", \"Topic8\", \"Topic8\", \"Topic8\", \"Topic8\", \"Topic8\", \"Topic8\", \"Topic8\", \"Topic8\", \"Topic8\", \"Topic8\", \"Topic8\", \"Topic8\", \"Topic8\", \"Topic8\", \"Topic8\", \"Topic8\", \"Topic9\", \"Topic9\", \"Topic9\", \"Topic9\", \"Topic9\", \"Topic9\", \"Topic9\", \"Topic9\", \"Topic9\", \"Topic9\", \"Topic9\", \"Topic9\", \"Topic9\", \"Topic9\", \"Topic9\", \"Topic9\", \"Topic9\", \"Topic9\", \"Topic9\", \"Topic9\", \"Topic9\", \"Topic9\", \"Topic9\", \"Topic9\", \"Topic9\", \"Topic9\", \"Topic9\", \"Topic9\", \"Topic9\", \"Topic9\", \"Topic9\", \"Topic9\", \"Topic9\", \"Topic9\", \"Topic9\", \"Topic9\", \"Topic9\", \"Topic9\", \"Topic9\", \"Topic9\", \"Topic9\", \"Topic9\", \"Topic9\", \"Topic9\", \"Topic9\", \"Topic9\", \"Topic9\", \"Topic9\", \"Topic9\", \"Topic9\", \"Topic9\", \"Topic9\", \"Topic9\", \"Topic9\", \"Topic9\", \"Topic9\", \"Topic9\", \"Topic10\", \"Topic10\", \"Topic10\", \"Topic10\", \"Topic10\", \"Topic10\", \"Topic10\", \"Topic10\", \"Topic10\", \"Topic10\", \"Topic10\", \"Topic10\", \"Topic10\", \"Topic10\", \"Topic10\", \"Topic10\", \"Topic10\", \"Topic10\", \"Topic10\", \"Topic10\", \"Topic10\", \"Topic10\", \"Topic10\", \"Topic10\", \"Topic10\", \"Topic10\", \"Topic10\", \"Topic10\", \"Topic10\", \"Topic10\", \"Topic10\", \"Topic10\", \"Topic10\", \"Topic10\", \"Topic10\", \"Topic10\", \"Topic10\", \"Topic10\", \"Topic10\", \"Topic10\", \"Topic10\", \"Topic10\", \"Topic10\", \"Topic10\", \"Topic10\", \"Topic10\", \"Topic10\", \"Topic10\", \"Topic10\", \"Topic10\", \"Topic10\", \"Topic10\", \"Topic10\", \"Topic10\"], \"Freq\": [5106.0, 4646.0, 4520.0, 3138.0, 3913.0, 3033.0, 3184.0, 5873.0, 2924.0, 1832.0, 2782.0, 2736.0, 6491.0, 1567.0, 1260.0, 1703.0, 1826.0, 1118.0, 7213.0, 2843.0, 1115.0, 1328.0, 1310.0, 2384.0, 1660.0, 1253.0, 2027.0, 2519.0, 2126.0, 1202.0, 1117.89306640625, 377.37713623046875, 357.80206298828125, 281.9657287597656, 279.5364685058594, 278.9449157714844, 185.39450073242188, 180.08665466308594, 157.4678497314453, 155.41510009765625, 149.2439422607422, 136.49290466308594, 134.18655395507812, 121.92186737060547, 120.51632690429688, 119.53217315673828, 118.85050964355469, 113.73067474365234, 111.68550872802734, 110.2899398803711, 1249.74609375, 106.75228118896484, 106.27909851074219, 96.95771789550781, 93.1505126953125, 92.94291687011719, 87.46379089355469, 86.22428131103516, 85.49342346191406, 85.28388214111328, 239.9367218017578, 283.8257751464844, 431.9442138671875, 331.9454345703125, 176.6949005126953, 942.37646484375, 182.82493591308594, 261.292236328125, 266.52001953125, 173.7679901123047, 159.58766174316406, 161.6297607421875, 319.8736572265625, 288.5279541015625, 193.2583465576172, 370.04852294921875, 289.5034484863281, 193.15835571289062, 339.41131591796875, 272.1922607421875, 321.33673095703125, 209.92343139648438, 355.2397766113281, 247.39047241210938, 227.3204345703125, 203.8917999267578, 213.7306671142578, 215.70944213867188, 1566.643798828125, 979.702392578125, 863.3154296875, 548.2565307617188, 486.7847900390625, 466.96112060546875, 420.42388916015625, 339.1451110839844, 336.94268798828125, 292.1478576660156, 289.3835144042969, 892.51904296875, 287.7925720214844, 247.9632110595703, 245.4744415283203, 227.8226318359375, 203.3851318359375, 195.76773071289062, 171.7036590576172, 192.76486206054688, 171.13063049316406, 166.69808959960938, 165.7511749267578, 157.71917724609375, 148.36611938476562, 148.9265899658203, 137.8160400390625, 137.05682373046875, 148.52439880371094, 130.7997589111328, 4435.23828125, 507.7144775390625, 383.5922546386719, 823.2033081054688, 344.60107421875, 406.6910705566406, 475.0072937011719, 1167.9676513671875, 362.0851745605469, 276.3280334472656, 859.2658081054688, 739.6915283203125, 542.3246459960938, 304.54443359375, 342.09906005859375, 902.612548828125, 687.9876098632812, 606.520263671875, 434.53277587890625, 607.9642944335938, 678.4497680664062, 388.6753845214844, 478.72674560546875, 437.533447265625, 396.48876953125, 426.2501220703125, 409.1332092285156, 384.606201171875, 978.6453857421875, 714.0193481445312, 586.6417846679688, 498.0318603515625, 492.4056701660156, 462.7171630859375, 433.4635314941406, 382.257080078125, 365.0091857910156, 344.1544189453125, 307.6168518066406, 438.0312805175781, 267.3813171386719, 247.16635131835938, 224.6786651611328, 224.6647491455078, 222.1417694091797, 204.98020935058594, 196.71343994140625, 192.60885620117188, 189.47360229492188, 187.98094177246094, 183.36007690429688, 172.27178955078125, 171.51597595214844, 167.55026245117188, 165.26116943359375, 164.70985412597656, 1035.84228515625, 161.55441284179688, 183.67633056640625, 2928.375244140625, 542.374755859375, 1307.2335205078125, 587.4634399414062, 306.33642578125, 486.4570007324219, 326.4697570800781, 605.7957153320312, 300.07012939453125, 247.411865234375, 390.17828369140625, 1409.352294921875, 310.85650634765625, 374.95263671875, 341.6209716796875, 404.28594970703125, 527.5850219726562, 672.4127197265625, 698.0660400390625, 630.914306640625, 543.28466796875, 592.3409423828125, 472.0536193847656, 414.6958923339844, 414.871337890625, 390.4510498046875, 765.874267578125, 392.2026672363281, 387.9000549316406, 387.5136413574219, 303.9263000488281, 283.2664794921875, 273.0785217285156, 254.34825134277344, 234.94581604003906, 229.63330078125, 224.36520385742188, 216.89010620117188, 189.8625946044922, 174.77133178710938, 162.73081970214844, 153.65025329589844, 148.95816040039062, 140.74620056152344, 136.2129669189453, 136.1845703125, 132.0486297607422, 127.76290130615234, 119.43171691894531, 112.47900390625, 111.45105743408203, 107.60061645507812, 106.36302947998047, 106.13104248046875, 100.10099029541016, 97.40882110595703, 875.606689453125, 197.36190795898438, 226.95994567871094, 335.51544189453125, 145.94264221191406, 540.1585083007812, 979.5010375976562, 714.5023193359375, 317.261474609375, 211.20008850097656, 1073.624267578125, 388.5086975097656, 983.2760009765625, 795.0235595703125, 502.23846435546875, 486.31884765625, 217.15109252929688, 529.4164428710938, 315.11053466796875, 947.9581909179688, 457.921142578125, 412.5044860839844, 646.8038940429688, 372.8899230957031, 470.9407958984375, 441.3988952636719, 295.2375793457031, 415.415283203125, 369.1993713378906, 381.5051574707031, 357.35260009765625, 358.0378112792969, 319.56390380859375, 3032.1865234375, 1146.51416015625, 1114.900146484375, 986.2176513671875, 788.2630615234375, 715.6209716796875, 658.6043701171875, 536.9512939453125, 467.74285888671875, 441.20440673828125, 335.25738525390625, 264.03045654296875, 222.0675506591797, 211.16250610351562, 210.8305206298828, 182.32949829101562, 250.86529541015625, 171.853515625, 168.22142028808594, 163.09906005859375, 151.30384826660156, 149.42929077148438, 140.23475646972656, 137.1770477294922, 134.70150756835938, 123.8518295288086, 112.34864044189453, 109.47506713867188, 108.86076354980469, 104.14547729492188, 2856.283203125, 164.58319091796875, 3214.652099609375, 372.5977783203125, 223.67379760742188, 582.0382080078125, 269.7757568359375, 495.0409240722656, 673.8679809570312, 378.5065612792969, 739.2128295898438, 596.6531372070312, 866.164794921875, 617.481201171875, 590.5564575195312, 395.1438293457031, 647.455810546875, 296.21649169921875, 628.7015380859375, 327.8673400878906, 381.99005126953125, 384.77288818359375, 489.7099304199219, 365.5143737792969, 340.91009521484375, 178.08506774902344, 174.43800354003906, 162.9644317626953, 160.87899780273438, 149.95399475097656, 149.89935302734375, 147.1291961669922, 144.0380096435547, 142.90591430664062, 126.88162231445312, 126.70496368408203, 123.34750366210938, 113.19844818115234, 112.61345672607422, 107.24053192138672, 106.44283294677734, 103.13959503173828, 100.88723754882812, 98.3957748413086, 98.37980651855469, 96.85359954833984, 94.24715423583984, 93.44924926757812, 93.28179931640625, 90.22708129882812, 86.43070983886719, 84.66348266601562, 84.51958465576172, 84.1669692993164, 83.92201232910156, 229.8728485107422, 289.76544189453125, 654.6722412109375, 201.77957153320312, 403.14056396484375, 151.28233337402344, 468.21624755859375, 162.72927856445312, 836.47119140625, 621.537841796875, 300.02813720703125, 146.6825714111328, 1082.0035400390625, 367.9533996582031, 395.87152099609375, 388.8087158203125, 347.9499816894531, 302.85394287109375, 336.8177490234375, 491.6728820800781, 249.50021362304688, 291.7088928222656, 201.63055419921875, 417.452880859375, 905.7045288085938, 256.642822265625, 523.9451293945312, 297.2828369140625, 308.5657653808594, 361.65802001953125, 361.3229675292969, 303.0082092285156, 306.9499816894531, 280.0296630859375, 346.7419738769531, 291.3754577636719, 269.9339294433594, 283.9201965332031, 231.1127471923828, 205.03298950195312, 201.7047882080078, 157.8942413330078, 154.06227111816406, 151.10743713378906, 147.70880126953125, 144.99472045898438, 146.05560302734375, 144.90420532226562, 158.23179626464844, 121.2314453125, 125.42742156982422, 114.45277404785156, 109.17372131347656, 108.62843322753906, 2758.268798828125, 105.9188461303711, 102.4037857055664, 99.24113464355469, 98.4017333984375, 96.05725860595703, 95.4669418334961, 94.64161682128906, 93.42376708984375, 91.25873565673828, 89.98957824707031, 89.6776351928711, 87.92703247070312, 4331.625, 140.77784729003906, 299.1913146972656, 246.0838623046875, 4723.271484375, 1267.5362548828125, 309.1519470214844, 438.25933837890625, 789.8922729492188, 564.1685180664062, 257.5081481933594, 208.1351776123047, 165.15231323242188, 159.8702392578125, 780.0427856445312, 690.32373046875, 230.90023803710938, 1797.3714599609375, 331.1910095214844, 719.4398193359375, 526.072021484375, 294.4041748046875, 390.298095703125, 963.7509765625, 490.9355163574219, 1071.9093017578125, 273.41107177734375, 335.5172424316406, 908.5620727539062, 488.58380126953125, 715.5839233398438, 900.0547485351562, 638.9191284179688, 1448.3828125, 783.551513671875, 709.4026489257812, 725.070556640625, 854.0573120117188, 1346.5098876953125, 664.134765625, 709.321044921875, 696.8568115234375, 669.5729370117188, 630.0972900390625, 516.0639038085938, 523.7946166992188, 299.1601257324219, 248.4853973388672, 218.77655029296875, 227.6698455810547, 215.86630249023438, 181.38320922851562, 171.10501098632812, 169.7640838623047, 155.88389587402344, 133.6623992919922, 125.66004180908203, 119.9610595703125, 115.8504638671875, 113.36163330078125, 111.95538330078125, 110.29476928710938, 109.01351165771484, 109.05201721191406, 104.652587890625, 104.33642578125, 101.35647583007812, 98.25914001464844, 93.16104125976562, 90.86148834228516, 89.44603729248047, 80.33118438720703, 76.77094268798828, 68.67504119873047, 62.605743408203125, 60.89461898803711, 360.0572814941406, 715.9020385742188, 1576.71630859375, 151.75009155273438, 790.7821044921875, 450.3240661621094, 237.01666259765625, 597.9201049804688, 1082.067138671875, 396.1031799316406, 297.1612243652344, 960.0979614257812, 2991.661376953125, 220.26824951171875, 173.26016235351562, 861.645263671875, 553.3394165039062, 2783.578125, 371.2452697753906, 751.1448364257812, 474.5080261230469, 899.2999877929688, 603.0352172851562, 421.8320007324219, 441.7596435546875, 442.852294921875, 903.9133911132812, 362.3463134765625, 616.7066650390625, 557.0960083007812, 494.46258544921875, 412.8572082519531, 403.41461181640625, 455.114501953125, 367.68927001953125, 424.78118896484375, 439.96343994140625, 394.561767578125, 390.2132873535156, 5103.59765625, 1327.3677978515625, 1309.5528564453125, 1252.8155517578125, 852.0404663085938, 851.6080322265625, 621.9234619140625, 390.134765625, 360.48419189453125, 304.8185119628906, 238.1661834716797, 189.61936950683594, 185.70668029785156, 1017.2015380859375, 163.6493377685547, 160.33157348632812, 140.78684997558594, 137.27853393554688, 135.25099182128906, 134.58253479003906, 132.82029724121094, 121.83938598632812, 120.37266540527344, 120.05094146728516, 119.656005859375, 118.82279968261719, 118.8678970336914, 112.70328521728516, 112.06780242919922, 108.49547576904297, 3107.847412109375, 301.5030822753906, 1168.9808349609375, 394.8907775878906, 183.02561950683594, 779.9896240234375, 439.8925476074219, 935.1808471679688, 161.0148162841797, 195.75088500976562, 716.4845581054688, 517.4680786132812, 331.98565673828125, 320.9658203125, 1209.693603515625, 1219.2747802734375, 429.1357116699219, 406.8975830078125, 588.350830078125, 577.2021484375, 581.824462890625, 667.266845703125, 816.0241088867188, 986.3480834960938, 525.590576171875, 391.8562927246094, 366.2250671386719, 732.2080688476562, 415.11474609375, 405.9132080078125, 387.5308837890625, 287.3802185058594, 260.317138671875, 251.7394256591797, 202.47830200195312, 192.87510681152344, 1110.0697021484375, 181.5252227783203, 166.1575164794922, 164.51171875, 158.3643341064453, 141.4166717529297, 140.04991149902344, 131.62136840820312, 130.68499755859375, 126.75777435302734, 125.80107879638672, 113.21430206298828, 111.57232666015625, 111.5239028930664, 109.86599731445312, 99.93246459960938, 97.16847229003906, 96.42118835449219, 95.6170425415039, 95.3025894165039, 90.59870910644531, 1777.613037109375, 616.5127563476562, 446.6671142578125, 695.8223266601562, 512.0857543945312, 216.45591735839844, 1398.381591796875, 646.4497680664062, 615.3218383789062, 185.50242614746094, 230.4789581298828, 161.63645935058594, 286.15057373046875, 393.0412902832031, 384.8391418457031, 260.9916687011719, 392.8737487792969, 355.3590087890625, 344.4233093261719, 237.1988067626953, 237.2257080078125, 226.15895080566406, 345.98870849609375, 229.33087158203125], \"Term\": [\"\\u00e9nergie\", \"produit\", \"transition\", \"nucl\\u00e9aire\", \"voiture\", \"\\u00e9lectrique\", \"transport\", \"\\u00e9cologique\", \"v\\u00e9hicule\", \"animal\", \"transition_\\u00e9cologique\", \"taxe\", \"faire\", \"agriculture\", \"emballage\", \"changer\", \"d\\u00e9chet\", \"plastique\", \"falloir\", \"taxer\", \"pollueur\", \"solaire\", \"renouvelable\", \"production\", \"ville\", \"\\u00e9olienne\", \"interdire\", \"d\\u00e9velopper\", \"public\", \"central\", \"plastique\", \"consigne\", \"recyclable\", \"bouteille\", \"arbre\", \"verre\", \"oc\\u00e9an\", \"papier\", \"chasseur\", \"tonne\", \"\\u00e9tendre\", \"emballage_plastique\", \"montre_exemple\", \"passer_\\u00e9levage\", \"industriel_mise\", \"place_pratique\", \"production_respectueux\", \"b\\u00eate\", \"porteur\", \"vrac\", \"emballage\", \"photovoltaique\", \"unit\\u00e9\", \"tire\", \"soutenir_financi\\u00e8rement\", \"distributeur\", \"mer\", \"espace_vert\", \"empoisonner\", \"honte\", \"poubelle\", \"jeter\", \"espace\", \"gaspillage\", \"montre\", \"d\\u00e9chet\", \"for\\u00eat\", \"vert\", \"recycler\", \"terrestre\", \"naturel\", \"publicit\\u00e9\", \"recyclage\", \"nature\", \"partout\", \"industriel\", \"obliger\", \"inutile\", \"interdire\", \"limiter\", \"exemple\", \"campagne\", \"falloir\", \"ville\", \"r\\u00e9duire\", \"\\u00e9viter\", \"place\", \"faire\", \"agriculture\", \"pesticide\", \"agriculteur\", \"glyphosate\", \"circuit\", \"chimique\", \"alimentation\", \"circuit_court\", \"biologique\", \"intensif\", \"grand_distribution\", \"agricole\", \"programmer\", \"r\\u00e9paration\", \"nocif\", \"cantine\", \"huile\", \"agriculture_biologique\", \"produit_chimique\", \"obsolescence\", \"l\\u00e9gume\", \"toxique\", \"palme\", \"huile_palme\", \"aliment\", \"ajout\", \"m\\u00e9thanisation\", \"chimie\", \"paysan\", \"obsolescence_programmer\", \"produit\", \"importer\", \"importation\", \"sant\\u00e9\", \"culture\", \"producteur\", \"alimentaire\", \"interdire\", \"sanitaire\", \"viande\", \"favoriser\", \"local\", \"court\", \"nourrir\", \"distribution\", \"production\", \"aider\", \"industriel\", \"industrie\", \"consommation\", \"taxer\", \"interdiction\", \"d\\u00e9velopper\", \"polluant\", \"utilisation\", \"grand\", \"arr\\u00eater\", \"produire\", \"camion\", \"vitesse\", \"train\", \"routier\", \"transport_commun\", \"a\\u00e9rien\", \"limitation\", \"avion\", \"ferroviaire\", \"marchandise\", \"ligner\", \"ferroutage\", \"rail\", \"fret\", \"conducteur\", \"transport_routier\", \"limitation_vitesse\", \"moyen_transport\", \"fluvial\", \"radar\", \"t\\u00e9l\\u00e9travail\", \"faire_course\", \"co\\u00fbt_environnemental\", \"centre_ville\", \"centre_commercial\", \"grand_ville\", \"d\\u00e9passement\", \"transport_a\\u00e9rien\", \"router\", \"transport_marchandise\", \"zone_rural\", \"transport\", \"d\\u00e9placement\", \"ville\", \"commun\", \"v\\u00e9lo\", \"avions\", \"circulation\", \"centre\", \"traverser\", \"trajet\", \"bateau\", \"taxer\", \"maritime\", \"autoroute\", \"nuit\", \"commerce\", \"lieu\", \"d\\u00e9velopper\", \"voiture\", \"grand\", \"pollution\", \"falloir\", \"france\", \"mettre\", \"entreprise\", \"faire\", \"mondial\", \"d\\u00e9bat\", \"r\\u00e9chauffement\", \"long_terme\", \"d\\u00e9sordre\", \"hulot\", \"court_terme\", \"r\\u00e9chauffement_climatique\", \"nette\", \"nicolas\", \"nicolas_hulot\", \"reparation\", \"vision\", \"niveau_mondial\", \"guerre\", \"d\\u00e9mographie\", \"surpopulation\", \"conduit\", \"si\\u00e8cle\", \"strat\\u00e9gie\", \"r\\u00e9union\", \"d\\u00e9mographique\", \"faut\", \"voix\", \"gilet\", \"esp\\u00e9rer\", \"lib\\u00e9ral\", \"gisement\", \"d\\u00e9connecter\", \"d\\u00e9r\\u00e8glement\", \"climatique\", \"\\u00e9couter\", \"pr\\u00e9sident\", \"dommage\", \"aspect\", \"long\", \"terme\", \"question\", \"scientifique\", \"catastrophe\", \"politique\", \"cause\", \"pays\", \"probl\\u00e8me\", \"humain\", \"sujet\", \"face\", \"gouvernement\", \"homme\", \"france\", \"sommes\", \"ann\\u00e9e\", \"grand\", \"population\", \"temps\", \"voir\", \"d\\u00e9cision\", \"monde\", \"\\u00e9conomique\", \"niveau\", \"plan\\u00e8te\", \"fran\\u00e7ais\", \"devoir\", \"\\u00e9lectrique\", \"voiture_\\u00e9lectrique\", \"diesel\", \"batterie\", \"automobile\", \"moteur\", \"essence\", \"constructeur\", \"v\\u00e9hicule_\\u00e9lectrique\", \"hybride\", \"pile\", \"borne\", \"constructeur_automobile\", \"pomper\", \"cout\", \"electrique\", \"pile_combustible\", \"r\\u00e9cent\", \"particule\", \"al\\u00e9atoire\", \"pomper_chaleur\", \"recharge\", \"elec\", \"voiture_hydrog\\u00e8ne\", \"l\\u00e9ger\", \"couts\", \"amende\", \"v\\u00e9hicule_polluant\", \"recharger\", \"mobile\", \"v\\u00e9hicule\", \"d\\u00e9mant\\u00e8lement\", \"voiture\", \"combustible\", \"auto\", \"hydrog\\u00e8ne\", \"autonomie\", \"acheter\", \"carburant\", \"prime\", \"polluant\", \"polluer\", \"solution\", \"prix\", \"pollution\", \"vouloir\", \"\\u00e9cologique\", \"euro\", \"faire\", \"achat\", \"utiliser\", \"moyen\", \"falloir\", \"probl\\u00e8me\", \"exemple\", \"faible_revenu\", \"s\\u00e9cheresse\", \"\\n     \", \"administratif\", \"niveau_national\", \"developper\", \"trafic\", \"visuel\", \"introduire\", \"remboursement\", \"am\\u00e9nagement\", \"\\n    \", \"pollution_visuel\", \"bassin\", \"cyclable\", \"combler\", \"gasoil\", \"appel_offre\", \"garanti\", \"d\\u00e9favoriser\", \"\\u00e9videment\", \"    \", \"restauration\", \"donner_prime\", \"fonctionnaire\", \"endettement\", \"faux_bon\", \"donn\\u00e9\", \"territorial\", \"bloquer\", \"pouvoir_achat\", \"service_public\", \"logement\", \"immobilier\", \"isolation\", \"piste\", \"proposition\", \"immeuble\", \"travail\", \"service\", \"gestion\", \"isoler\", \"public\", \"revenu\", \"b\\u00e2timent\", \"territoire\", \"commune\", \"taux\", \"r\\u00e9gion\", \"chauffage\", \"diminution\", \"maison\", \"propri\\u00e9taire\", \"achat\", \"pouvoir\", \"collectif\", \"permettre\", \"urbain\", \"euro\", \"construction\", \"zone\", \"national\", \"construire\", \"aide\", \"aider\", \"niveau\", \"co\\u00fbt\", \"banque\", \"d\\u00e9pense_public\", \"incitatif\", \"condamner\", \"crise\", \"crit\\u00e8re\", \"d\\u00e9veloppement_durable\", \"retarder\", \"principe_pollueur\", \"satisfaisant\", \"d\\u00e9cemment\", \"faveur\", \"financement_transition\", \"r\\u00e9f\\u00e9rendum\", \"prenant\", \"classe_moyenne\", \"financer_transition\", \"transition_\\u00e9cologique\", \"mode_consommation\", \"consacrer\", \"mutation\", \"d\\u00e9passer\", \"associ\\u00e9\", \"p\\u00e9dagogie\", \"concurrent\", \"succ\\u00e8s\", \"joue\", \"brut\", \"regretter\", \"transparence\", \"transition\", \"responsabiliser\", \"fiscalit\\u00e9\", \"impliquer\", \"\\u00e9cologique\", \"investissement\", \"b\\u00e9n\\u00e9fice\", \"financement\", \"imp\\u00f4t\", \"financier\", \"d\\u00e9finir\", \"montrer_exemple\", \"protection_environnement\", \"voiture_hybride\", \"environnemental\", \"d\\u00e9pense\", \"concret\", \"entreprise\", \"marge\", \"etat\", \"action\", \"vertueux\", \"durable\", \"\\u00e9tat\", \"financer\", \"citoyen\", \"budget\", \"supporter\", \"environnement\", \"priorit\\u00e9\", \"\\u00e9conomie\", \"exemple\", \"co\\u00fbt\", \"faire\", \"public\", \"place\", \"aider\", \"taxe\", \"falloir\", \"moyen\", \"mettre\", \"devoir\", \"solution\", \"pouvoir\", \"\\u00e9conomique\", \"fran\\u00e7ais\", \"r\\u00e9parateur\", \"tard\", \"habitude\", \"pauvre\", \"mentalit\\u00e9\", \"confort\", \"changer_mentalit\\u00e9\", \"majorit\\u00e9_fran\\u00e7ais\", \"vivre_d\\u00e9cemment\", \"prendre_conscience\", \"civilisation\", \"changer_habitude\", \"peur\", \"syst\\u00e8me_\\u00e9conomique\", \"faire_croire\", \"changer_mod\\u00e8le\", \"geste\", \"expression\", \"tabou\", \"conditionnement\", \"superflu\", \"aborder\", \"urgent_agir\", \"mod\\u00e8le_\\u00e9conomique\", \"d\\u00e9localisation\", \"fausser\", \"lobbying\", \"radical\", \"changer_comportement\", \"changer_mode\", \"sauver\", \"vivre\", \"changer\", \"\\u00e9cologiste\", \"enfant\", \"croire\", \"\\u00e9duquer\", \"chose\", \"plan\\u00e8te\", \"comprendre\", \"conscience\", \"\\u00e9cologie\", \"faire\", \"course\", \"aimer\", \"monde\", \"agir\", \"falloir\", \"penser\", \"prendre\", \"sens\", \"arr\\u00eater\", \"vouloir\", \"vraiment\", \"argent\", \"consommer\", \"pouvoir\", \"croissance\", \"citoyen\", \"temps\", \"petit\", \"mod\\u00e8le\", \"aller\", \"voir\", \"changement\", \"fran\\u00e7ais\", \"\\u00e9cologique\", \"politique\", \"environnement\", \"\\u00e9nergie\", \"solaire\", \"renouvelable\", \"\\u00e9olienne\", \"\\u00e9olien\", \"\\u00e9nergie_renouvelable\", \"\\u00e9nergie_fossile\", \"stockage\", \"panneau_solaire\", \"energie\", \"massivement\", \"eolien\", \"vent\", \"panneau\", \"ind\\u00e9pendance\", \"r\\u00e9acteur\", \"science\", \"\\u00e9nergie_propre\", \"biomasse\", \"energies\", \"stockage_\\u00e9nergie\", \"fusion\", \"facteur\", \"barrage\", \"\\u00e9olien_solaire\", \"fermer_central\", \"recyclage_d\\u00e9chet\", \"financer_recherche\", \"limiter_emballage\", \"centime\", \"nucl\\u00e9aire\", \"charbon\", \"central\", \"central_nucl\\u00e9aire\", \"centrale\", \"fossile\", \"photovolta\\u00efque\", \"\\u00e9lectricit\\u00e9\", \"production_\\u00e9lectricit\\u00e9\", \"courant\", \"recherche\", \"p\\u00e9trole\", \"technologie\", \"fili\\u00e8re\", \"production\", \"d\\u00e9velopper\", \"source\", \"investir\", \"\\u00e9nerg\\u00e9tique\", \"nouveau\", \"d\\u00e9veloppement\", \"d\\u00e9chet\", \"france\", \"falloir\", \"solution\", \"produire\", \"propre\", \"poids\", \"payeur\", \"poids_lourd\", \"taxe_carbone\", \"gros_pollueur\", \"faire_payer\", \"sauvage\", \"ordure\", \"sanction\", \"pollueur\", \"produit_issus\", \"v\\u00e9g\\u00e9tal\", \"faune\", \"amender\", \"ordure_m\\u00e9nager\", \"niveau_europ\\u00e9en\", \"pollueur_payeur\", \"soleil\", \"excellent\", \"m\\u00e9got\", \"productivit\\u00e9\", \"pr\\u00e9dateur\", \"esp\\u00e8ce_animal\", \"navire\", \"haie\", \"occasionner\", \"eau_pluvial\", \"agriculture_raisonner\", \"lever\", \"indigne\", \"animal\", \"chasse\", \"esp\\u00e8ce\", \"carbone\", \"lourd\", \"dispara\\u00eetre\", \"taxe\", \"gros\", \"payer\", \"issus\", \"appliquer\", \"m\\u00e9nager\", \"biodiversit\\u00e9\", \"place\", \"interdire\", \"europ\\u00e9en\", \"taxer\", \"pollution\", \"mettre\", \"protection\", \"respecter\", \"principe\", \"faire\", \"mettre_place\"], \"Total\": [5106.0, 4646.0, 4520.0, 3138.0, 3913.0, 3033.0, 3184.0, 5873.0, 2924.0, 1832.0, 2782.0, 2736.0, 6491.0, 1567.0, 1260.0, 1703.0, 1826.0, 1118.0, 7213.0, 2843.0, 1115.0, 1328.0, 1310.0, 2384.0, 1660.0, 1253.0, 2027.0, 2519.0, 2126.0, 1202.0, 1118.8299560546875, 378.29644775390625, 358.7242431640625, 282.885009765625, 280.4557800292969, 279.86419677734375, 186.3151397705078, 181.00595092773438, 158.3872833251953, 156.33453369140625, 150.16380310058594, 137.4121856689453, 135.10598754882812, 122.84207153320312, 121.43586730957031, 120.45207214355469, 119.76998901367188, 114.650146484375, 112.60599517822266, 111.20931243896484, 1260.3685302734375, 107.67224884033203, 107.19863891601562, 97.88817596435547, 94.0708999633789, 93.86235809326172, 88.38314056396484, 87.1435546875, 86.412841796875, 86.20329284667969, 243.26100158691406, 295.8681945800781, 502.58880615234375, 388.7553405761719, 211.5163116455078, 1826.6676025390625, 229.43910217285156, 396.14447021484375, 415.5983581542969, 222.41293334960938, 198.55126953125, 218.82249450683594, 785.3242797851562, 730.938232421875, 345.5473327636719, 1601.5430908203125, 1010.0061645507812, 363.0809326171875, 2027.7777099609375, 1208.881591796875, 2339.900390625, 562.8406982421875, 7213.37060546875, 1660.1727294921875, 1291.263427734375, 666.79931640625, 1843.33154296875, 6491.50244140625, 1567.5770263671875, 980.6357421875, 864.2532348632812, 549.1906127929688, 487.7182312011719, 467.89447021484375, 421.46832275390625, 340.07843017578125, 337.8760070800781, 293.0812072753906, 290.3171691894531, 895.4081420898438, 288.72637939453125, 248.89886474609375, 246.40780639648438, 228.76882934570312, 204.31846618652344, 196.7010040283203, 172.636962890625, 193.8147430419922, 172.06423950195312, 167.6314239501953, 166.68455505371094, 158.65249633789062, 149.29942321777344, 149.87152099609375, 138.74966430664062, 137.99038696289062, 149.56578063964844, 131.73304748535156, 4646.16845703125, 525.2900390625, 408.6521301269531, 1077.671875, 393.7706604003906, 478.861328125, 581.795166015625, 2027.7777099609375, 458.3429870605469, 325.2940368652344, 1532.992919921875, 1290.0792236328125, 877.9628295898438, 389.65765380859375, 471.5379638671875, 2384.944580078125, 1935.7098388671875, 1601.5430908203125, 865.4564819335938, 1957.4788818359375, 2843.822265625, 693.575927734375, 2519.245361328125, 1681.702880859375, 1047.583740234375, 2961.0888671875, 2235.77099609375, 1084.8226318359375, 979.5677490234375, 714.9415893554688, 587.5640258789062, 498.95770263671875, 493.3278503417969, 463.63934326171875, 434.3857727050781, 383.17926025390625, 365.9313659667969, 345.07666015625, 308.53924560546875, 439.44903564453125, 268.30352783203125, 248.08851623535156, 225.60076904296875, 225.5869140625, 223.0638885498047, 205.902587890625, 197.6356201171875, 193.53103637695312, 190.395751953125, 188.90576171875, 184.2857208251953, 173.1939239501953, 172.438232421875, 168.47247314453125, 166.18338012695312, 165.63198852539062, 1041.7171630859375, 162.47654724121094, 184.7517852783203, 3184.610107421875, 589.0833740234375, 1660.1727294921875, 698.0244140625, 333.71844482421875, 572.0068969726562, 362.9048767089844, 764.0311889648438, 331.4720153808594, 268.2433166503906, 490.4503479003906, 2843.822265625, 366.4728088378906, 484.7525329589844, 423.3283996582031, 582.3327026367188, 1067.697021484375, 2519.245361328125, 3913.54150390625, 2961.0888671875, 2269.11181640625, 7213.37060546875, 3483.6630859375, 2264.95458984375, 2686.66357421875, 6491.50244140625, 766.8042602539062, 393.13226318359375, 388.8296203613281, 388.443359375, 304.8576965332031, 284.1960754394531, 274.00823974609375, 255.27780151367188, 235.87664794921875, 230.56289672851562, 225.29476928710938, 217.837646484375, 190.792236328125, 175.7009735107422, 163.6604461669922, 154.5798797607422, 149.8877410888672, 141.69046020507812, 137.14259338378906, 137.1146697998047, 132.9784698486328, 128.69259643554688, 120.36136627197266, 113.40930938720703, 112.38065338134766, 108.53023529052734, 107.2927474975586, 107.06317138671875, 101.03095245361328, 98.3383560180664, 884.2593994140625, 201.74769592285156, 237.87884521484375, 376.4961853027344, 151.3921661376953, 682.4285278320312, 1355.322509765625, 966.1744384765625, 380.2021179199219, 242.87574768066406, 2094.034912109375, 559.2440185546875, 1980.1016845703125, 1530.9483642578125, 863.1784057617188, 859.2927856445312, 258.6213684082031, 1072.328369140625, 473.1583251953125, 3483.6630859375, 950.7975463867188, 820.2382202148438, 2961.0888671875, 838.5399169921875, 1652.9559326171875, 1642.1220703125, 486.49871826171875, 1542.2962646484375, 1263.7674560546875, 1500.293701171875, 1446.396484375, 2288.359130859375, 2179.8671875, 3033.1220703125, 1147.448486328125, 1115.83447265625, 987.1526489257812, 789.2344970703125, 716.5554809570312, 659.5387573242188, 537.8856811523438, 468.67718505859375, 442.1387634277344, 336.26654052734375, 264.96484375, 223.001953125, 212.09689331054688, 211.7652587890625, 183.26388549804688, 252.18197631835938, 172.80653381347656, 169.15574645996094, 164.03982543945312, 152.2382354736328, 150.3636016845703, 141.170654296875, 138.11138916015625, 135.63600158691406, 124.78701782226562, 113.28339385986328, 110.41229248046875, 109.7950668334961, 105.08676147460938, 2924.89404296875, 166.8931121826172, 3913.54150390625, 464.2666320800781, 255.7022247314453, 856.5484619140625, 324.54248046875, 743.119140625, 1150.75146484375, 548.7809448242188, 1681.702880859375, 1292.5496826171875, 2380.5927734375, 1385.227783203125, 2269.11181640625, 1281.11572265625, 5873.66552734375, 606.8489990234375, 6491.50244140625, 846.1825561523438, 1814.777587890625, 1880.4168701171875, 7213.37060546875, 1530.9483642578125, 2339.900390625, 179.0111846923828, 175.36361694335938, 163.8907928466797, 161.80465698242188, 150.87957763671875, 150.8250732421875, 148.0548553466797, 144.9639129638672, 143.8317108154297, 127.80733489990234, 127.63050079345703, 124.27310180664062, 114.12413787841797, 113.5400619506836, 108.16608428955078, 107.36871337890625, 104.06526947021484, 101.81362915039062, 99.32178497314453, 99.3056640625, 97.7806167602539, 95.1731948852539, 94.37499237060547, 94.20845794677734, 91.15262603759766, 87.35840606689453, 85.58980560302734, 85.4451904296875, 85.09253692626953, 84.84965515136719, 236.4906005859375, 305.75518798828125, 754.6531372070312, 218.66136169433594, 474.3458251953125, 163.5319061279297, 623.2996215820312, 181.59649658203125, 1281.974853515625, 954.8858032226562, 389.4786071777344, 162.41290283203125, 2126.160888671875, 546.9679565429688, 640.5595703125, 630.6328735351562, 544.8270263671875, 462.0610046386719, 548.4052124023438, 962.3560791015625, 354.8345947265625, 452.1427917480469, 259.08416748046875, 846.1825561523438, 3098.25732421875, 391.3135070800781, 1605.89013671875, 563.0951538085938, 606.8489990234375, 845.7508544921875, 954.7875366210938, 699.3399047851562, 776.5733032226562, 763.7015380859375, 1935.7098388671875, 1500.293701171875, 1428.4339599609375, 284.8609313964844, 232.05368041992188, 205.97373962402344, 202.64784240722656, 158.83531188964844, 155.0030517578125, 152.04812622070312, 148.65040588378906, 145.93577575683594, 147.00439453125, 145.84576416015625, 159.36944580078125, 122.172119140625, 126.40731811523438, 115.39363861083984, 110.11443328857422, 109.56908416748047, 2782.481689453125, 106.85997009277344, 103.34469604492188, 100.1820297241211, 99.34256744384766, 96.9981689453125, 96.40771484375, 95.58639526367188, 94.36466979980469, 92.20002746582031, 90.93061065673828, 90.61858367919922, 88.86792755126953, 4520.8671875, 142.96131896972656, 311.96356201171875, 260.4036560058594, 5873.66552734375, 1483.2763671875, 333.6600341796875, 484.5027770996094, 908.2183227539062, 643.4088745117188, 277.9979248046875, 223.23143005371094, 173.96261596679688, 167.93258666992188, 985.9223022460938, 859.4519653320312, 253.9116973876953, 2686.66357421875, 386.1810302734375, 973.5076293945312, 676.872802734375, 345.4611511230469, 513.2241821289062, 1658.362548828125, 697.4471435546875, 1945.872802734375, 338.4061279296875, 465.9250183105469, 2139.73779296875, 847.4037475585938, 1555.4227294921875, 2339.900390625, 1428.4339599609375, 6491.50244140625, 2126.160888671875, 1843.33154296875, 1935.7098388671875, 2736.88720703125, 7213.37060546875, 1880.4168701171875, 2264.95458984375, 2179.8671875, 2380.5927734375, 3098.25732421875, 1263.7674560546875, 2288.359130859375, 300.0982666015625, 249.41519165039062, 219.70626831054688, 228.64028930664062, 216.79603576660156, 182.31759643554688, 172.0348663330078, 170.69410705566406, 156.8140106201172, 134.59210205078125, 126.58984375, 120.89080810546875, 116.78018951416016, 114.2921371459961, 112.88501739501953, 111.2244644165039, 109.94324493408203, 109.98243713378906, 105.58287048339844, 105.26652526855469, 102.28657531738281, 99.18882751464844, 94.09078979492188, 91.7911376953125, 90.37602996826172, 81.26148223876953, 77.70079803466797, 69.60470581054688, 63.53538513183594, 61.824275970458984, 367.73260498046875, 741.5444946289062, 1703.44921875, 157.25311279296875, 888.5413818359375, 491.8734436035156, 254.68821716308594, 736.6416625976562, 1446.396484375, 515.0612182617188, 368.79364013671875, 1543.9556884765625, 6491.50244140625, 265.4271545410156, 196.934814453125, 1542.2962646484375, 879.3367919921875, 7213.37060546875, 571.1017456054688, 1587.4287109375, 830.3645629882812, 2235.77099609375, 1281.11572265625, 771.013671875, 850.914306640625, 856.743408203125, 3098.25732421875, 659.729736328125, 1945.872802734375, 1652.9559326171875, 1284.84423828125, 933.431396484375, 986.1039428710938, 1642.1220703125, 788.7720336914062, 2288.359130859375, 5873.66552734375, 2094.034912109375, 2139.73779296875, 5106.25390625, 1328.305419921875, 1310.4903564453125, 1253.753173828125, 852.9779663085938, 852.5455322265625, 622.8611450195312, 391.07232666015625, 361.42230224609375, 305.756103515625, 239.1038818359375, 190.5569305419922, 186.6442108154297, 1022.6104125976562, 164.58692932128906, 161.26907348632812, 141.7252655029297, 138.2160186767578, 136.1885223388672, 135.5200653076172, 133.75778198242188, 122.77686309814453, 121.31056213378906, 120.98873138427734, 120.59349060058594, 119.76030731201172, 119.8059310913086, 113.64096069335938, 113.00637817382812, 109.4341812133789, 3138.822021484375, 305.22821044921875, 1202.9769287109375, 404.46954345703125, 186.80406188964844, 872.0372924804688, 520.4519653320312, 1271.2890625, 169.65380859375, 213.4475860595703, 1009.7440795898438, 725.6067504882812, 419.68487548828125, 411.87738037109375, 2384.944580078125, 2519.245361328125, 618.4297485351562, 616.1334228515625, 1079.8917236328125, 1089.3494873046875, 1268.2178955078125, 1826.6676025390625, 3483.6630859375, 7213.37060546875, 2380.5927734375, 1084.8226318359375, 936.603271484375, 733.1360473632812, 416.04156494140625, 406.84002685546875, 388.4576721191406, 288.3069763183594, 261.2439270019531, 252.66636657714844, 203.40512084960938, 193.80316162109375, 1115.4935302734375, 182.4521942138672, 167.08433532714844, 165.4407501220703, 159.29115295410156, 142.34353637695312, 140.9767608642578, 132.548095703125, 131.61199951171875, 127.68501281738281, 126.72789764404297, 114.14147186279297, 112.49943542480469, 112.4507064819336, 110.79276275634766, 100.8592300415039, 98.09561157226562, 97.34855651855469, 96.54391479492188, 96.22969055175781, 91.52583312988281, 1832.9970703125, 666.5848999023438, 526.7612915039062, 961.9500122070312, 703.6484375, 259.26690673828125, 2736.88720703125, 1151.8016357421875, 1210.7142333984375, 240.16928100585938, 378.9958190917969, 217.42039489746094, 819.428955078125, 1843.33154296875, 2027.7777099609375, 807.5067138671875, 2843.822265625, 2269.11181640625, 2264.95458984375, 672.0972290039062, 684.4509887695312, 572.6036376953125, 6491.50244140625, 760.9541625976562], \"loglift\": [30.0, 29.0, 28.0, 27.0, 26.0, 25.0, 24.0, 23.0, 22.0, 21.0, 20.0, 19.0, 18.0, 17.0, 16.0, 15.0, 14.0, 13.0, 12.0, 11.0, 10.0, 9.0, 8.0, 7.0, 6.0, 5.0, 4.0, 3.0, 2.0, 1.0, 2.893899917602539, 2.8922998905181885, 2.892199993133545, 2.8914999961853027, 2.8914999961853027, 2.891400098800659, 2.8898000717163086, 2.8896000385284424, 2.8889000415802, 2.8887999057769775, 2.8886001110076904, 2.888000011444092, 2.8879001140594482, 2.887200117111206, 2.8870999813079834, 2.8870999813079834, 2.88700008392334, 2.886699914932251, 2.8864998817443848, 2.886399984359741, 2.8863000869750977, 2.886199951171875, 2.8861000537872314, 2.885200023651123, 2.8849000930786133, 2.8849000930786133, 2.8842999935150146, 2.8840999603271484, 2.884000062942505, 2.884000062942505, 2.88100004196167, 2.8531999588012695, 2.743299961090088, 2.736799955368042, 2.714900016784668, 2.2328999042510986, 2.66759991645813, 2.478600025177002, 2.450500011444092, 2.647900104522705, 2.676300048828125, 2.5917999744415283, 1.9966000318527222, 1.9651999473571777, 2.3136000633239746, 1.4296000003814697, 1.6452000141143799, 2.2636001110076904, 1.107300043106079, 1.4038000106811523, 0.9093999862670898, 1.9084999561309814, -0.11620000004768372, 0.9909999966621399, 1.1576999425888062, 1.7098000049591064, 0.7401000261306763, -0.5095999836921692, 2.338399887084961, 2.3380000591278076, 2.337899923324585, 2.3373000621795654, 2.337100028991699, 2.3369998931884766, 2.3364999294281006, 2.336199998855591, 2.336199998855591, 2.3357999324798584, 2.3357999324798584, 2.3357999324798584, 2.3357999324798584, 2.335200071334839, 2.335200071334839, 2.33489990234375, 2.334399938583374, 2.334199905395508, 2.3336000442504883, 2.3336000442504883, 2.3336000442504883, 2.333400011062622, 2.333400011062622, 2.3331000804901123, 2.33270001411438, 2.33270001411438, 2.332200050354004, 2.332200050354004, 2.3320000171661377, 2.331899881362915, 2.2925000190734863, 2.305000066757202, 2.275700092315674, 2.0696001052856445, 2.2056000232696533, 2.175600051879883, 2.136199951171875, 1.7872999906539917, 2.103300094604492, 2.1758999824523926, 1.76010000705719, 1.7827999591827393, 1.857300043106079, 2.0924999713897705, 2.0181000232696533, 1.367400050163269, 1.3044999837875366, 1.3680000305175781, 1.649999976158142, 1.169700026512146, 0.9059000015258789, 1.7598999738693237, 0.6783999800682068, 0.9926000237464905, 1.367400050163269, 0.40070000290870667, 0.6406999826431274, 1.3020000457763672, 2.3210999965667725, 2.3208000659942627, 2.320499897003174, 2.320199966430664, 2.320199966430664, 2.3201000690460205, 2.3199000358581543, 2.319700002670288, 2.319499969482422, 2.3194000720977783, 2.3190999031066895, 2.3187999725341797, 2.3185999393463135, 2.3183000087738037, 2.318000078201294, 2.318000078201294, 2.3178999423980713, 2.3176000118255615, 2.3173999786376953, 2.3173000812530518, 2.317199945449829, 2.317199945449829, 2.316999912261963, 2.316699981689453, 2.316699981689453, 2.3166000843048096, 2.316499948501587, 2.316499948501587, 2.3164000511169434, 2.3164000511169434, 2.316200017929077, 2.2381999492645264, 2.239500045776367, 2.0831000804901123, 2.149600028991699, 2.2365000247955322, 2.160099983215332, 2.2163000106811523, 2.0899999141693115, 2.2225000858306885, 2.2411999702453613, 2.0933001041412354, 1.6200000047683716, 2.1575000286102295, 2.065200090408325, 2.107599973678589, 1.9571000337600708, 1.6171000003814697, 1.0011999607086182, 0.5982000231742859, 0.7759000062942505, 0.8925999999046326, -0.17749999463558197, 0.32330000400543213, 0.6243000030517578, 0.45399999618530273, -0.48890000581741333, 2.143699884414673, 2.1424999237060547, 2.1424999237060547, 2.1424999237060547, 2.141900062561035, 2.1415998935699463, 2.1414999961853027, 2.1412999629974365, 2.1410000324249268, 2.140899896621704, 2.1407999992370605, 2.1405999660491943, 2.140000104904175, 2.1396000385284424, 2.13919997215271, 2.1389000415802, 2.138700008392334, 2.138200044631958, 2.1380999088287354, 2.1380999088287354, 2.1379001140594482, 2.137700080871582, 2.137200117111206, 2.136699914932251, 2.1366000175476074, 2.1363000869750977, 2.136199951171875, 2.136199951171875, 2.135699987411499, 2.1354000568389893, 2.1350998878479004, 2.1229000091552734, 2.097899913787842, 2.0297000408172607, 2.108299970626831, 1.9111000299453735, 1.820199966430664, 1.8431999683380127, 1.9638999700546265, 2.005199909210205, 1.4768999814987183, 1.7805999517440796, 1.4449000358581543, 1.4895999431610107, 1.6033999919891357, 1.575700044631958, 1.9701000452041626, 1.4391000270843506, 1.7383999824523926, 0.8434000015258789, 1.4142999649047852, 1.4575999975204468, 0.6236000061035156, 1.3344999551773071, 0.8892999887466431, 0.8310999870300293, 1.6454999446868896, 0.8331999778747559, 0.9143999814987183, 0.775600016117096, 0.7468000054359436, 0.28999999165534973, 0.2249000072479248, 2.226099967956543, 2.2255001068115234, 2.2255001068115234, 2.225399971008301, 2.225100040435791, 2.225100040435791, 2.224900007247925, 2.224600076675415, 2.224400043487549, 2.2242000102996826, 2.223400115966797, 2.2228000164031982, 2.2221999168395996, 2.22189998626709, 2.22189998626709, 2.221299886703491, 2.221100091934204, 2.2207999229431152, 2.2207999229431152, 2.220599889755249, 2.2202000617980957, 2.220099925994873, 2.2197000980377197, 2.219599962234497, 2.2195000648498535, 2.2188000679016113, 2.218100070953369, 2.2177999019622803, 2.2177999019622803, 2.217400074005127, 2.2026000022888184, 2.212399959564209, 2.029599905014038, 2.0064001083374023, 2.0924999713897705, 1.840000033378601, 2.0415000915527344, 1.820099949836731, 1.6912000179290771, 1.8549000024795532, 1.4043999910354614, 1.4532999992370605, 1.2152999639511108, 1.4184000492095947, 0.880299985408783, 1.0500999689102173, 0.021199999377131462, 1.5091999769210815, -0.10819999873638153, 1.2782000303268433, 0.6679999828338623, 0.6398000121116638, -0.4634999930858612, 0.7940000295639038, 0.3000999987125397, 2.4368999004364014, 2.436800003051758, 2.4363999366760254, 2.4363999366760254, 2.436000108718872, 2.436000108718872, 2.435800075531006, 2.435699939727783, 2.435699939727783, 2.434799909591675, 2.434799909591675, 2.4346001148223877, 2.434000015258789, 2.4339001178741455, 2.433500051498413, 2.4333999156951904, 2.433199882507324, 2.433000087738037, 2.4326999187469482, 2.4326999187469482, 2.4326000213623047, 2.432300090789795, 2.432300090789795, 2.4321999549865723, 2.4319000244140625, 2.4314000606536865, 2.4312000274658203, 2.4312000274658203, 2.4312000274658203, 2.4310998916625977, 2.4137001037597656, 2.388400077819824, 2.299999952316284, 2.361799955368042, 2.2795000076293945, 2.364300012588501, 2.1559998989105225, 2.33240008354187, 2.0151000022888184, 2.012700080871582, 2.1812000274658203, 2.3401999473571777, 1.7666000127792358, 2.0457000732421875, 1.9608999490737915, 1.9585000276565552, 1.9937000274658203, 2.019700050354004, 1.9545999765396118, 1.7704999446868896, 2.089900016784668, 2.0039000511169434, 2.1914000511169434, 1.7354999780654907, 1.2122000455856323, 2.0202999114990234, 1.322100043296814, 1.8033000230789185, 1.7657999992370605, 1.5925999879837036, 1.4703999757766724, 1.6057000160217285, 1.5139000415802002, 1.4387999773025513, 0.7225000262260437, 0.8033000230789185, 0.7760000228881836, 1.7869999408721924, 1.7862000465393066, 1.7856999635696411, 1.785599946975708, 1.7843999862670898, 1.7841999530792236, 1.78410005569458, 1.7839000225067139, 1.7838000059127808, 1.7838000059127808, 1.7838000059127808, 1.7831000089645386, 1.7826000452041626, 1.7825000286102295, 1.782099962234497, 1.7817000150680542, 1.7817000150680542, 1.781599998474121, 1.781499981880188, 1.7812000513076782, 1.780900001525879, 1.7807999849319458, 1.7805999517440796, 1.780500054359436, 1.780400037765503, 1.7803000211715698, 1.7799999713897705, 1.7798999547958374, 1.7798999547958374, 1.7797000408172607, 1.747499942779541, 1.774899959564209, 1.7484999895095825, 1.7337000370025635, 1.5722999572753906, 1.6331000328063965, 1.7139999866485596, 1.690000057220459, 1.6506999731063843, 1.6589000225067139, 1.7137000560760498, 1.7202999591827393, 1.7382999658584595, 1.7410999536514282, 1.5561000108718872, 1.5712000131607056, 1.6952999830245972, 1.3882999420166016, 1.6367000341415405, 1.4879000186920166, 1.5383000373840332, 1.6303999423980713, 1.5164999961853027, 1.247499942779541, 1.4392000436782837, 1.194000005722046, 1.5770000219345093, 1.4620000123977661, 0.9337000250816345, 1.2395999431610107, 1.0139000415802002, 0.8349000215530396, 0.9857000112533569, 0.29030001163482666, 0.7921000123023987, 0.8353999853134155, 0.8083000183105469, 0.6256999969482422, 0.11190000176429749, 0.7494999766349792, 0.6292999982833862, 0.6499000191688538, 0.5217999815940857, 0.19760000705718994, 0.8946999907493591, 0.3158000111579895, 2.271899938583374, 2.2713000774383545, 2.2708001136779785, 2.2708001136779785, 2.2708001136779785, 2.26990008354187, 2.269700050354004, 2.2695999145507812, 2.2690999507904053, 2.2681000232696533, 2.267699956893921, 2.267400026321411, 2.2671000957489014, 2.266900062561035, 2.2667999267578125, 2.266700029373169, 2.2665998935699463, 2.2665998935699463, 2.266200065612793, 2.266200065612793, 2.265899896621704, 2.265700101852417, 2.2651000022888184, 2.264899969100952, 2.264699935913086, 2.2636001110076904, 2.263000011444092, 2.2616000175476074, 2.2602999210357666, 2.2599000930786133, 2.253999948501587, 2.2399001121520996, 2.1977999210357666, 2.2393999099731445, 2.1584999561309814, 2.186800003051758, 2.203200101852417, 2.0664000511169434, 1.9848999977111816, 2.012500047683716, 2.0590999126434326, 1.7999999523162842, 1.5003999471664429, 2.088599920272827, 2.1470000743865967, 1.6928999423980713, 1.811900019645691, 1.3229000568389893, 1.8444000482559204, 1.5268000364303589, 1.715499997138977, 1.364300012588501, 1.5216000080108643, 1.6720000505447388, 1.6195000410079956, 1.6152000427246094, 1.0432000160217285, 1.6757999658584595, 1.1260000467300415, 1.1875, 1.320199966430664, 1.4593000411987305, 1.3812999725341797, 0.9919000267982483, 1.5118000507354736, 0.5910999774932861, -0.3165000081062317, 0.6060000061988831, 0.5733000040054321, 2.2479000091552734, 2.2476999759674072, 2.2476999759674072, 2.2476999759674072, 2.2474000453948975, 2.2474000453948975, 2.2469000816345215, 2.2460999488830566, 2.2458999156951904, 2.2453999519348145, 2.244499921798706, 2.243499994277954, 2.2434000968933105, 2.2430999279022217, 2.2427000999450684, 2.2425999641418457, 2.24180006980896, 2.2416000366210938, 2.241499900817871, 2.241499900817871, 2.2414000034332275, 2.240799903869629, 2.2407000064849854, 2.2407000064849854, 2.240600109100342, 2.240600109100342, 2.240600109100342, 2.2402000427246094, 2.2400999069213867, 2.239799976348877, 2.2385001182556152, 2.2362000942230225, 2.2197999954223633, 2.2244999408721924, 2.2279999256134033, 2.136899948120117, 2.0803000926971436, 1.9414000511169434, 2.196199893951416, 2.161900043487549, 1.905400037765503, 1.9104000329971313, 2.0139999389648438, 1.9990999698638916, 1.569599986076355, 1.5226999521255493, 1.8830000162124634, 1.8336000442504883, 1.6411999464035034, 1.6132999658584595, 1.4693000316619873, 1.2414000034332275, 0.7971000075340271, 0.2587999999523163, 0.7379000186920166, 1.2302000522613525, 1.309399962425232, 2.7641000747680664, 2.7630999088287354, 2.7630999088287354, 2.763000011444092, 2.7620999813079834, 2.7618000507354736, 2.761699914932251, 2.7607998847961426, 2.760499954223633, 2.760499954223633, 2.7602999210357666, 2.7597999572753906, 2.759700059890747, 2.759500026702881, 2.7588000297546387, 2.7588000297546387, 2.7583000659942627, 2.7583000659942627, 2.7581000328063965, 2.757999897003174, 2.757200002670288, 2.7571001052856445, 2.7571001052856445, 2.7569000720977783, 2.7560999393463135, 2.7558999061584473, 2.7558000087738037, 2.75570011138916, 2.75570011138916, 2.755199909210205, 2.7346999645233154, 2.687299966812134, 2.600399971008301, 2.441499948501587, 2.4475998878479004, 2.58489990234375, 2.0938000679016113, 2.1877999305725098, 2.0885000228881836, 2.5071001052856445, 2.2679998874664307, 2.468899965286255, 1.7132999897003174, 1.2199000120162964, 1.1035000085830688, 1.6359000205993652, 0.7858999967575073, 0.911300003528595, 0.8819000124931335, 1.7237999439239502, 1.7057000398635864, 1.836400032043457, -0.1665000021457672, 1.5658999681472778], \"logprob\": [30.0, 29.0, 28.0, 27.0, 26.0, 25.0, 24.0, 23.0, 22.0, 21.0, 20.0, 19.0, 18.0, 17.0, 16.0, 15.0, 14.0, 13.0, 12.0, 11.0, 10.0, 9.0, 8.0, 7.0, 6.0, 5.0, 4.0, 3.0, 2.0, 1.0, -3.6196999549865723, -4.705599784851074, -4.758900165557861, -4.997099876403809, -5.00570011138916, -5.007800102233887, -5.416399955749512, -5.445400238037109, -5.579599857330322, -5.592800140380859, -5.633299827575684, -5.722599983215332, -5.73960018157959, -5.8354997634887695, -5.847099781036377, -5.855299949645996, -5.861000061035156, -5.90500020980835, -5.9232001304626465, -5.935699939727783, -3.50819993019104, -5.968299865722656, -5.972799777984619, -6.064599990844727, -6.104599952697754, -6.106900215148926, -6.167600154876709, -6.1819000244140625, -6.190400123596191, -6.19290018081665, -5.1585001945495605, -4.990499973297119, -4.5706000328063965, -4.833899974822998, -5.464399814605713, -3.7904999256134033, -5.430300235748291, -5.073200225830078, -5.053400039672852, -5.481100082397461, -5.566299915313721, -5.553500175476074, -4.8709001541137695, -4.974100112915039, -5.374800205230713, -4.725200176239014, -4.970699787139893, -5.37529993057251, -4.811600208282471, -5.032299995422363, -4.866399765014648, -5.292099952697754, -4.76609992980957, -5.127900123596191, -5.212500095367432, -5.321300029754639, -5.274099826812744, -5.264900207519531, -3.837899923324585, -4.307300090789795, -4.433800220489502, -4.887899875640869, -5.006800174713135, -5.048299789428711, -5.153299808502197, -5.368199825286865, -5.37470006942749, -5.517300128936768, -5.526800155639648, -4.4004998207092285, -5.532400131225586, -5.681300163269043, -5.691400051116943, -5.765999794006348, -5.879499912261963, -5.917699813842773, -6.048799991607666, -5.93310022354126, -6.052199840545654, -6.078400135040283, -6.084099769592285, -6.133800029754639, -6.194900035858154, -6.191100120544434, -6.268700122833252, -6.274199962615967, -6.19379997253418, -6.320899963378906, -2.797300100326538, -4.964700222015381, -5.244999885559082, -4.481400012969971, -5.352200031280518, -5.186500072479248, -5.031300067901611, -4.1315999031066895, -5.302700042724609, -5.572999954223633, -4.438499927520752, -4.588399887084961, -4.89870023727417, -5.475800037384033, -5.359499931335449, -4.3892998695373535, -4.660799980163574, -4.786900043487549, -5.120299816131592, -4.7845001220703125, -4.674799919128418, -5.231900215148926, -5.023499965667725, -5.113399982452393, -5.211900234222412, -5.139599800109863, -5.180600166320801, -5.242400169372559, -4.325399875640869, -4.640600204467773, -4.837100028991699, -5.000899791717529, -5.012199878692627, -5.074399948120117, -5.139699935913086, -5.265399932861328, -5.311600208282471, -5.3703999519348145, -5.482699871063232, -5.129199981689453, -5.622900009155273, -5.701499938964844, -5.796899795532227, -5.796899795532227, -5.808199882507324, -5.888599872589111, -5.929800033569336, -5.950900077819824, -5.967299938201904, -5.975200176239014, -6.000100135803223, -6.0625, -6.06689977645874, -6.090199947357178, -6.104000091552734, -6.1072998046875, -4.268599987030029, -6.126699924468994, -5.9984002113342285, -3.229300022125244, -4.915599822998047, -4.035900115966797, -4.835700035095215, -5.486800193786621, -5.024400234222412, -5.4232001304626465, -4.804999828338623, -5.507500171661377, -5.700500011444092, -5.244900226593018, -3.960599899291992, -5.4721999168396, -5.2846999168396, -5.377799987792969, -5.209400177001953, -4.94320011138916, -4.700699806213379, -4.6631999015808105, -4.764400005340576, -4.913899898529053, -4.827400207519531, -5.0543999671936035, -5.184000015258789, -5.183599948883057, -5.244200229644775, -4.747700214385986, -5.416900157928467, -5.4278998374938965, -5.428899765014648, -5.671899795532227, -5.742300033569336, -5.778900146484375, -5.849999904632568, -5.929299831390381, -5.952199935913086, -5.975399971008301, -6.009300231933594, -6.142399787902832, -6.225200176239014, -6.296599864959717, -6.354000091552734, -6.385000228881836, -6.441699981689453, -6.4745001792907715, -6.474699974060059, -6.505499839782715, -6.53849983215332, -6.605899810791016, -6.665900230407715, -6.675099849700928, -6.71019983291626, -6.721799850463867, -6.723999977111816, -6.78249979019165, -6.809800148010254, -4.613800048828125, -6.103600025177002, -5.963900089263916, -5.572999954223633, -6.4054999351501465, -5.096799850463867, -4.5015997886657715, -4.8171000480651855, -5.629000186920166, -6.035900115966797, -4.409900188446045, -5.426400184631348, -4.497799873352051, -4.710299968719482, -5.169600009918213, -5.2017998695373535, -6.0081000328063965, -5.1168999671936035, -5.635799884796143, -4.53439998626709, -5.26200008392334, -5.366399765014648, -4.916600227355957, -5.467400074005127, -5.23390007019043, -5.298699855804443, -5.700900077819824, -5.359399795532227, -5.47730016708374, -5.4446001052856445, -5.510000228881836, -5.507999897003174, -5.621699810028076, -3.2901999950408936, -4.262700080871582, -4.2906999588012695, -4.413400173187256, -4.637400150299072, -4.734099864959717, -4.8171000480651855, -5.021299839019775, -5.159299850463867, -5.217700004577637, -5.492300033569336, -5.731200218200684, -5.904200077056885, -5.954599857330322, -5.956200122833252, -6.101399898529053, -5.782299995422363, -6.160600185394287, -6.1819000244140625, -6.212900161743164, -6.287899971008301, -6.3003997802734375, -6.363900184631348, -6.386000156402588, -6.404200077056885, -6.488100051879883, -6.585599899291992, -6.611499786376953, -6.617199897766113, -6.661399841308594, -3.3499999046325684, -6.203800201416016, -3.231800079345703, -5.38670015335083, -5.896999835968018, -4.940700054168701, -5.70959997177124, -5.10260009765625, -4.7941999435424805, -5.370999813079834, -4.701600074768066, -4.915900230407715, -4.5432000160217285, -4.8815999031066895, -4.926199913024902, -5.328000068664551, -4.834199905395508, -5.616099834442139, -4.86359977722168, -5.514599800109863, -5.361800193786621, -5.354599952697754, -5.113399982452393, -5.405900001525879, -5.475599765777588, -5.909200191497803, -5.929900169372559, -5.998000144958496, -6.010799884796143, -6.081200122833252, -6.081500053405762, -6.100200176239014, -6.121399879455566, -6.129300117492676, -6.248199939727783, -6.249599933624268, -6.276500225067139, -6.362299919128418, -6.367499828338623, -6.416399955749512, -6.423900127410889, -6.455399990081787, -6.477499961853027, -6.502500057220459, -6.502600193023682, -6.5183000564575195, -6.545599937438965, -6.554100036621094, -6.5559000968933105, -6.589200019836426, -6.6321001052856445, -6.6528000831604, -6.6545000076293945, -6.658699989318848, -6.661600112915039, -5.6539998054504395, -5.422399997711182, -4.6072998046875, -5.784299850463867, -5.092199802398682, -6.072299957275391, -4.942599773406982, -5.9994001388549805, -4.362299919128418, -4.659299850463867, -5.387599945068359, -6.1031999588012695, -4.104899883270264, -5.183499813079834, -5.110400199890137, -5.128399848937988, -5.2393999099731445, -5.378200054168701, -5.271900177001953, -4.893700122833252, -5.572000026702881, -5.4156999588012695, -5.784999847412109, -5.057300090789795, -4.282800197601318, -5.543799877166748, -4.830100059509277, -5.3968000411987305, -5.359499931335449, -5.200799942016602, -5.201700210571289, -5.377699851989746, -5.364799976348877, -5.456600189208984, -5.2428998947143555, -5.416900157928467, -5.493299961090088, -6.094600200653076, -6.3003997802734375, -6.420100212097168, -6.436500072479248, -6.681399822235107, -6.705900192260742, -6.725299835205078, -6.748000144958496, -6.766600131988525, -6.759300231933594, -6.767199993133545, -6.679200172424316, -6.9456000328063965, -6.911600112915039, -7.0030999183654785, -7.0503997802734375, -7.0553998947143555, -3.8208999633789062, -7.080599784851074, -7.1143999099731445, -7.145699977874756, -7.154200077056885, -7.178299903869629, -7.184500217437744, -7.19320011138916, -7.206099987030029, -7.229599952697754, -7.243599891662598, -7.247099876403809, -7.2667999267578125, -3.3696000576019287, -6.79610013961792, -6.042200088500977, -6.237599849700928, -3.2829999923706055, -4.598499774932861, -6.009500026702881, -5.6605000495910645, -5.071400165557861, -5.407899856567383, -6.192200183868408, -6.405099868774414, -6.63640022277832, -6.668900012969971, -5.083899974822998, -5.206099987030029, -6.301300048828125, -4.249199867248535, -5.9405999183654785, -5.16480016708374, -5.47790002822876, -6.058300018310547, -5.776400089263916, -4.872499942779541, -5.546999931335449, -4.76609992980957, -6.132299900054932, -5.927599906921387, -4.931399822235107, -5.551799774169922, -5.170199871063232, -4.940800189971924, -5.2835001945495605, -4.465099811553955, -5.079500198364258, -5.178899765014648, -5.1570000648498535, -4.993299961090088, -4.538000106811523, -5.244800090789795, -5.178999900817871, -5.196700096130371, -5.236700057983398, -5.297399997711182, -5.497099876403809, -5.4822001457214355, -5.557499885559082, -5.743100166320801, -5.870500087738037, -5.830599784851074, -5.883900165557861, -6.0578999519348145, -6.116199970245361, -6.124100208282471, -6.209400177001953, -6.3632001876831055, -6.424900054931641, -6.471399784088135, -6.506199836730957, -6.527900218963623, -6.54040002822876, -6.5553998947143555, -6.566999912261963, -6.566699981689453, -6.607900142669678, -6.610899925231934, -6.639900207519531, -6.670899868011475, -6.7241997718811035, -6.749199867248535, -6.764900207519531, -6.872399806976318, -6.917699813842773, -7.029099941253662, -7.121699810028076, -7.149400234222412, -5.372300148010254, -4.684999942779541, -3.895400047302246, -6.236299991607666, -4.5854997634887695, -5.148600101470947, -5.79040002822876, -4.865099906921387, -4.271900177001953, -5.276800155639648, -5.564199924468994, -4.391499996185303, -3.2548999786376953, -5.863699913024902, -6.103700160980225, -4.49970006942749, -4.942500114440918, -3.3269999027252197, -5.341700077056885, -4.636899948120117, -5.096199989318848, -4.456900119781494, -4.856500148773193, -5.213900089263916, -5.167799949645996, -5.165299892425537, -4.4517998695373535, -5.365900039672852, -4.834099769592285, -4.935800075531006, -5.054999828338623, -5.235400199890137, -5.258600234985352, -5.138000011444092, -5.35129976272583, -5.206900119781494, -5.171800136566162, -5.280700206756592, -5.291800022125244, -2.7474000453948975, -4.094200134277344, -4.107699871063232, -4.1519999504089355, -4.537499904632568, -4.538000106811523, -4.85230016708374, -5.318600177764893, -5.39769983291626, -5.565400123596191, -5.81220006942749, -6.04010009765625, -6.060999870300293, -4.360300064086914, -6.187399864196777, -6.207900047302246, -6.337900161743164, -6.363100051879883, -6.377999782562256, -6.382999897003174, -6.396100044250488, -6.482399940490723, -6.494500160217285, -6.497200012207031, -6.500500202178955, -6.507500171661377, -6.5071001052856445, -6.560400009155273, -6.565999984741211, -6.598400115966797, -3.243499994277954, -5.576399803161621, -4.22130012512207, -5.30649995803833, -6.075500011444092, -4.625899791717529, -5.198599815368652, -4.444399833679199, -6.20359992980957, -6.008299827575684, -4.7108001708984375, -5.036200046539307, -5.480000019073486, -5.513800144195557, -4.186999797821045, -4.179100036621094, -5.223400115966797, -5.276599884033203, -4.907800197601318, -4.9268999099731445, -4.919000148773193, -4.7820000648498535, -4.580699920654297, -4.39109992980957, -5.020599842071533, -5.314199924468994, -5.381899833679199, -4.1722002029418945, -4.739699840545654, -4.7621002197265625, -4.8084001541137695, -5.107399940490723, -5.206299781799316, -5.239799976348877, -5.457600116729736, -5.506199836730957, -3.7560999393463135, -5.566800117492676, -5.655300140380859, -5.665299892425537, -5.7032999992370605, -5.816500186920166, -5.826200008392334, -5.888299942016602, -5.895500183105469, -5.926000118255615, -5.933499813079834, -6.039000034332275, -6.053599834442139, -6.053999900817871, -6.068999767303467, -6.163700103759766, -6.191800117492676, -6.19950008392334, -6.207900047302246, -6.21120023727417, -6.2617998123168945, -3.2852001190185547, -4.344200134277344, -4.666399955749512, -4.223100185394287, -4.529799938201904, -5.390900135040283, -3.5251998901367188, -4.2967000007629395, -4.346099853515625, -5.545199871063232, -5.328100204467773, -5.6828999519348145, -5.111700057983398, -4.794300079345703, -4.815400123596191, -5.203800201416016, -4.7947998046875, -4.895100116729736, -4.926400184631348, -5.299300193786621, -5.299200057983398, -5.3470001220703125, -4.921800136566162, -5.333099842071533]}, \"token.table\": {\"Topic\": [6, 6, 6, 8, 1, 2, 3, 5, 6, 7, 10, 1, 2, 5, 8, 4, 7, 8, 6, 1, 2, 4, 7, 8, 1, 2, 2, 2, 2, 10, 2, 5, 6, 7, 9, 2, 5, 6, 7, 8, 9, 1, 6, 8, 2, 2, 1, 2, 2, 1, 3, 4, 5, 6, 7, 8, 5, 5, 10, 6, 1, 2, 10, 3, 4, 5, 6, 7, 8, 9, 10, 6, 3, 4, 5, 6, 7, 10, 1, 1, 4, 7, 8, 9, 1, 2, 3, 4, 5, 7, 8, 9, 10, 4, 8, 7, 3, 5, 6, 5, 5, 6, 9, 3, 6, 10, 3, 3, 5, 10, 3, 7, 9, 6, 3, 10, 5, 1, 2, 4, 7, 8, 10, 2, 9, 6, 5, 1, 7, 5, 6, 7, 9, 2, 6, 7, 9, 2, 3, 7, 1, 3, 1, 2, 3, 5, 6, 8, 10, 2, 5, 6, 7, 9, 10, 3, 5, 10, 1, 4, 5, 4, 5, 7, 8, 10, 9, 5, 9, 5, 9, 5, 6, 9, 3, 6, 3, 3, 4, 5, 6, 7, 8, 5, 7, 8, 8, 8, 8, 8, 8, 5, 9, 1, 10, 1, 5, 6, 7, 9, 2, 2, 1, 4, 5, 7, 8, 2, 2, 3, 5, 1, 3, 4, 5, 6, 7, 8, 8, 7, 4, 8, 2, 3, 4, 6, 7, 8, 6, 5, 9, 2, 3, 7, 3, 4, 6, 7, 1, 3, 6, 7, 9, 10, 4, 5, 7, 8, 9, 7, 8, 7, 7, 8, 3, 4, 8, 7, 4, 8, 1, 1, 2, 3, 5, 6, 7, 8, 9, 10, 1, 2, 3, 5, 8, 9, 5, 5, 1, 2, 3, 5, 6, 9, 10, 1, 2, 3, 4, 5, 6, 7, 9, 5, 9, 3, 8, 2, 3, 4, 7, 4, 5, 5, 2, 3, 4, 5, 6, 7, 9, 10, 3, 7, 7, 5, 8, 4, 8, 1, 2, 4, 8, 10, 6, 6, 1, 2, 3, 4, 5, 6, 7, 8, 9, 10, 5, 2, 6, 7, 10, 1, 4, 5, 10, 1, 1, 2, 3, 5, 6, 4, 5, 6, 6, 1, 2, 4, 7, 9, 4, 7, 1, 2, 6, 9, 10, 4, 7, 8, 4, 6, 7, 9, 8, 2, 5, 4, 4, 3, 7, 6, 7, 9, 7, 3, 5, 6, 4, 4, 2, 3, 4, 5, 6, 7, 9, 7, 1, 2, 3, 5, 6, 7, 9, 10, 10, 5, 5, 1, 2, 1, 1, 6, 9, 9, 1, 4, 8, 1, 2, 3, 6, 7, 8, 9, 10, 1, 2, 4, 6, 7, 8, 10, 2, 4, 6, 7, 10, 9, 1, 3, 6, 1, 4, 10, 10, 4, 5, 4, 5, 6, 7, 9, 4, 5, 6, 2, 3, 4, 7, 9, 10, 10, 1, 2, 3, 4, 5, 6, 7, 8, 9, 10, 8, 4, 8, 9, 6, 1, 2, 3, 4, 5, 6, 7, 8, 9, 10, 3, 8, 10, 1, 2, 3, 4, 5, 6, 7, 8, 9, 10, 10, 8, 4, 6, 7, 1, 2, 3, 5, 6, 7, 9, 10, 9, 3, 10, 3, 2, 7, 9, 7, 9, 7, 3, 5, 6, 7, 9, 10, 9, 7, 2, 4, 7, 9, 3, 7, 3, 6, 1, 2, 10, 5, 7, 9, 1, 2, 3, 4, 5, 6, 7, 8, 9, 10, 2, 3, 4, 5, 6, 7, 8, 9, 10, 3, 9, 6, 6, 1, 6, 8, 8, 2, 6, 7, 9, 10, 4, 4, 2, 3, 4, 5, 7, 8, 1, 2, 3, 4, 5, 6, 7, 8, 9, 10, 2, 3, 1, 2, 3, 4, 5, 7, 8, 10, 10, 4, 8, 10, 1, 2, 4, 8, 1, 2, 2, 4, 2, 4, 8, 10, 5, 5, 9, 2, 5, 6, 2, 3, 6, 7, 7, 9, 2, 10, 2, 9, 6, 7, 7, 10, 2, 4, 5, 7, 8, 9, 10, 1, 2, 4, 7, 8, 9, 10, 1, 9, 2, 1, 2, 3, 5, 10, 1, 2, 3, 5, 10, 6, 1, 2, 3, 5, 7, 8, 9, 4, 5, 7, 9, 7, 9, 6, 7, 9, 6, 7, 9, 9, 10, 1, 10, 7, 10, 4, 1, 2, 3, 4, 5, 6, 7, 8, 9, 10, 3, 3, 3, 1, 2, 3, 4, 5, 6, 7, 8, 9, 10, 9, 8, 2, 3, 6, 7, 3, 6, 7, 9, 2, 3, 4, 5, 6, 4, 3, 5, 10, 5, 2, 5, 6, 9, 8, 3, 2, 3, 7, 3, 9, 10, 9, 8, 1, 1, 2, 3, 4, 5, 6, 7, 8, 9, 10, 2, 3, 6, 7, 9, 10, 5, 7, 2, 4, 5, 6, 7, 8, 9, 8, 1, 2, 3, 4, 5, 7, 8, 4, 1, 5, 1, 3, 7, 5, 3, 4, 5, 6, 7, 8, 9, 3, 7, 10, 2, 10, 2, 2, 3, 4, 6, 7, 1, 2, 4, 8, 10, 1, 2, 10, 4, 4, 4, 2, 3, 4, 5, 6, 7, 8, 9, 10, 10, 4, 6, 2, 1, 2, 7, 8, 2, 3, 4, 5, 6, 7, 8, 9, 10, 5, 9, 1, 3, 6, 1, 2, 3, 5, 6, 7, 9, 10, 2, 2, 10, 1, 10, 10, 2, 5, 9, 9, 1, 5, 1, 2, 3, 4, 6, 8, 9, 10, 1, 8, 3, 4, 5, 6, 7, 8, 10, 10, 1, 2, 3, 4, 5, 6, 7, 8, 9, 10, 2, 1, 4, 5, 6, 7, 8, 1, 2, 3, 4, 5, 6, 7, 8, 9, 10, 2, 1, 2, 3, 4, 5, 6, 7, 8, 9, 10, 8, 1, 5, 9, 5, 5, 6, 9, 1, 2, 3, 4, 5, 6, 7, 9, 10, 1, 4, 5, 8, 10, 1, 10, 10, 3, 4, 7, 8, 9, 10, 2, 3, 5, 7, 9, 10, 1, 2, 3, 4, 5, 8, 10, 3, 8, 10, 10, 1, 2, 3, 4, 5, 6, 7, 8, 10, 6, 5, 5, 1, 2, 4, 6, 7, 8, 9, 1, 1, 10, 1, 2, 3, 4, 5, 6, 7, 8, 9, 10, 6, 8, 7, 3, 4, 5, 6, 7, 8, 8, 5, 6, 7, 2, 4, 7, 9, 10, 7, 2, 4, 7, 8, 9, 2, 3, 5, 6, 7, 8, 9, 10, 2, 4, 5, 8, 9, 2, 5, 7, 9, 1, 2, 5, 7, 9, 1, 5, 9, 10, 1, 2, 5, 8, 9, 1, 2, 7, 10, 2, 10, 2, 1, 3, 4, 5, 6, 7, 1, 2, 3, 5, 7, 8, 9, 5, 6, 10, 1, 4, 7, 10, 7, 10, 10, 3, 4, 7, 1, 2, 3, 4, 6, 7, 9, 1, 3, 8, 7, 2, 4, 5, 8, 9, 10, 4, 5, 7, 8, 9, 3, 8, 3, 5, 5, 2, 4, 5, 7, 9, 1, 1, 2, 5, 9, 9, 1, 2, 5, 7, 6, 9, 4, 1, 2, 3, 7, 8, 10, 4, 7, 6, 7, 6, 7, 3, 10, 3, 9, 5, 4, 4, 1, 2, 3, 5, 6, 7, 9, 10, 7, 2, 3, 6, 7, 9, 10, 8, 2, 4, 10, 2, 7, 2, 4, 7, 8, 7, 10, 4, 8, 9, 4, 8, 1, 2, 3, 4, 5, 6, 7, 8, 9, 3, 4, 6, 7, 3, 6, 4, 9, 10, 2, 3, 4, 5, 7, 8, 9, 4, 5, 8, 9, 1, 2, 3, 4, 5, 6, 8, 9, 10, 1, 9, 9, 4, 7, 4, 7, 8, 8, 4, 5, 6, 7, 4, 8, 6, 8, 8, 6, 7, 3, 5, 7, 10, 10, 2, 3, 5, 7, 8, 10, 5, 9, 3, 4, 5, 6, 7, 8, 9, 2, 3, 4, 5, 7, 9, 1, 7, 2, 3, 6, 7, 9, 10, 6, 1, 1, 2, 6, 3, 3, 5, 7, 8, 9, 7, 8, 7, 2, 3, 5, 7, 9, 3, 3, 3, 3, 3, 4, 6, 7, 8, 3, 10, 3, 1, 3, 6, 8, 1, 2, 3, 5, 6, 7, 9, 10, 1, 2, 3, 5, 6, 7, 9, 10, 9, 1, 1, 2, 5, 7, 8, 9, 2, 4, 7, 9, 1, 2, 1, 3, 5, 6, 4, 6, 3, 4, 7, 8, 8, 1, 2, 3, 4, 5, 6, 7, 8, 9, 10, 3, 5, 2, 7, 5, 5, 4, 3, 4, 5, 7, 8, 9, 1, 1, 2, 3, 4, 5, 7, 8, 10, 3, 5, 5, 5, 3, 5, 6, 1, 2, 3, 6, 9, 10, 3, 4, 7, 8, 4, 5, 7, 8, 9, 5, 8, 2, 4, 6, 7, 8, 9, 4, 7, 8, 9, 1, 4, 1, 8, 5, 9, 5, 5, 9, 9, 9, 9, 6, 7, 9, 9, 9, 9, 2, 3, 4, 5, 6, 7, 8, 9, 10, 1, 6, 1, 2, 3, 4, 6, 7, 8, 9, 10], \"Freq\": [0.9897556304931641, 0.9945647120475769, 0.9876730442047119, 0.9880145192146301, 0.01772667095065117, 0.04845290258526802, 0.005908890627324581, 0.38762322068214417, 0.4928014576435089, 0.043725788593292236, 0.00354533432982862, 0.06862964481115341, 0.15340743958950043, 0.6661112308502197, 0.11034569889307022, 0.128532275557518, 0.7771031856536865, 0.09307509660720825, 0.9950270056724548, 0.009097765199840069, 0.006823324132710695, 0.24905133247375488, 0.10462430119514465, 0.6288830637931824, 0.0022336181718856096, 0.9973105788230896, 0.9985499382019043, 0.9996318817138672, 0.9964361786842346, 0.9943661689758301, 0.07987413555383682, 0.2134341597557068, 0.36663538217544556, 0.3090212345123291, 0.030116477981209755, 0.3554251790046692, 0.06767543405294418, 0.17926239967346191, 0.3745396137237549, 0.0030996380373835564, 0.01963104121387005, 0.025389112532138824, 0.09140080213546753, 0.8784632682800293, 0.9941848516464233, 0.9912965297698975, 0.18219470977783203, 0.8164385557174683, 0.9965161681175232, 0.019267745316028595, 0.1612406075000763, 0.01521137822419405, 0.17138153314590454, 0.13183194398880005, 0.09126827120780945, 0.4086790382862091, 0.9936611652374268, 0.9886709451675415, 0.9918943643569946, 0.9950599670410156, 0.02945994958281517, 0.0005455546197481453, 0.9699960947036743, 0.002438316121697426, 0.5035122632980347, 0.2121334969997406, 0.121915802359581, 0.010972422547638416, 0.05851958319544792, 0.0804644301533699, 0.010972422547638416, 0.992008626461029, 0.0765179917216301, 0.029024066403508186, 0.021108413115143776, 0.029024066403508186, 0.2348310798406601, 0.6068668365478516, 0.998374879360199, 0.0011752065038308501, 0.018803304061293602, 0.42777514457702637, 0.5194412469863892, 0.03173057362437248, 0.04383275285363197, 0.18293465673923492, 0.06440731137990952, 0.003578183939680457, 0.12926189601421356, 0.00044727299246005714, 0.4020984172821045, 0.152520090341568, 0.02012728527188301, 0.9643827676773071, 0.0330268070101738, 0.9897093772888184, 0.04692958667874336, 0.8760190010070801, 0.07430518418550491, 0.9984358549118042, 0.8319404125213623, 0.02465008571743965, 0.14173799753189087, 0.7735905647277832, 0.22073118388652802, 0.004125816281884909, 0.9969224333763123, 0.8496401309967041, 0.024475229904055595, 0.12412437796592712, 0.9986210465431213, 0.996977686882019, 0.9918279051780701, 0.9952434301376343, 0.7951875329017639, 0.20185530185699463, 0.9988323450088501, 0.06467919051647186, 0.3758715093135834, 0.17451177537441254, 0.008542533963918686, 0.026847966015338898, 0.3490235507488251, 0.9974073171615601, 0.9912729859352112, 0.9899863600730896, 0.9963585734367371, 0.9968714714050293, 0.9897657036781311, 0.05023549869656563, 0.04728046804666519, 0.8067229986190796, 0.09456093609333038, 0.018733620643615723, 0.6182094812393188, 0.003122270107269287, 0.359061062335968, 0.03596474975347519, 0.03596474975347519, 0.9260923266410828, 0.9943292737007141, 0.9994204044342041, 0.37310734391212463, 0.007106806617230177, 0.16700994968414307, 0.0035534033086150885, 0.3073693811893463, 0.0994952917098999, 0.04264083877205849, 0.9966392517089844, 0.009355995804071426, 0.053017307072877884, 0.010395550169050694, 0.2037527859210968, 0.7235302925109863, 0.30675607919692993, 0.5857042074203491, 0.10688667744398117, 0.016469325870275497, 0.8687569499015808, 0.10705062001943588, 0.69558185338974, 0.0017881281673908234, 0.07867763936519623, 0.17344842851161957, 0.04827946051955223, 0.9868945479393005, 0.027431948110461235, 0.9717559814453125, 0.022251365706324577, 0.9765877723693848, 0.005353202577680349, 0.010706405155360699, 0.9796360731124878, 0.7931613326072693, 0.20548899471759796, 0.9974586367607117, 0.9931064248085022, 0.24595192074775696, 0.02535586804151535, 0.019016901031136513, 0.24088075757026672, 0.46654799580574036, 0.06751008331775665, 0.006457486189901829, 0.9257687330245972, 0.9915734529495239, 0.9926313161849976, 0.993984580039978, 0.9866674542427063, 0.9889910221099854, 0.009828711859881878, 0.9894236326217651, 0.07350901514291763, 0.925613522529602, 0.9912412166595459, 0.24107500910758972, 0.5112452507019043, 0.12053750455379486, 0.12781131267547607, 0.9928227663040161, 0.9980883002281189, 0.0013575120829045773, 0.09909838438034058, 0.05837302282452583, 0.027150243520736694, 0.811792254447937, 0.9985273480415344, 0.9968288540840149, 0.8983070254325867, 0.09919954836368561, 0.0005139082204550505, 0.0668080672621727, 0.06372461467981339, 0.0005139082204550505, 0.001027816440910101, 0.5509095788002014, 0.31708136200904846, 0.9953405261039734, 0.989879310131073, 0.9906595349311829, 0.009047118946909904, 0.038332436233758926, 0.08433135598897934, 0.0025554958265274763, 0.656762421131134, 0.12010829895734787, 0.09966433048248291, 0.9872522354125977, 0.8034176230430603, 0.19600805640220642, 0.3039499521255493, 0.6937614679336548, 0.0017172313528135419, 0.8409448266029358, 0.03868059441447258, 0.03151752054691315, 0.0873894914984703, 0.16702549159526825, 0.0881013572216034, 0.6387348175048828, 0.08259502053260803, 0.014683559536933899, 0.009177224710583687, 0.1067834198474884, 0.052420951426029205, 0.04853792116045952, 0.7688406705856323, 0.02135668508708477, 0.9097651243209839, 0.08664429187774658, 0.9938653111457825, 0.9968031048774719, 0.987968385219574, 0.9973370432853699, 0.9951269626617432, 0.9927730560302734, 0.9869882464408875, 0.19251959025859833, 0.8053284287452698, 0.9965729117393494, 0.09757448732852936, 0.31060361862182617, 0.02962994948029518, 0.11903066188097, 0.010728085413575172, 0.11392204463481903, 0.19157294929027557, 0.12516099214553833, 0.0015325836138799787, 0.02567863278090954, 0.23577654361724854, 0.004668842535465956, 0.19492417573928833, 0.5170742869377136, 0.021009791642427444, 0.9983534216880798, 0.995507001876831, 0.011823813430964947, 0.04729525372385979, 0.009459050372242928, 0.0638485923409462, 0.42802202701568604, 0.4008272588253021, 0.03901858255267143, 0.05794687941670418, 0.00901395920664072, 0.06567312777042389, 0.03090500272810459, 0.09013959020376205, 0.39532649517059326, 0.0012877084081992507, 0.3489689826965332, 0.07964484393596649, 0.9182581901550293, 0.1657705307006836, 0.828852653503418, 0.6173381805419922, 0.055811017751693726, 0.323476105928421, 0.0011390004074200988, 0.9963204264640808, 0.9963862895965576, 0.9936931133270264, 0.023102223873138428, 0.05180498585104942, 0.007700740825384855, 0.1127108484506607, 0.18901818990707397, 0.44734305143356323, 0.1652158945798874, 0.003500336781144142, 0.9930232167243958, 0.9947410225868225, 0.9935288429260254, 0.08335477113723755, 0.914869487285614, 0.45018434524536133, 0.548709511756897, 0.010158197022974491, 0.876144528388977, 0.05840963497757912, 0.02539549209177494, 0.030474592000246048, 0.9892194867134094, 0.9945296049118042, 0.07202273607254028, 0.13624683022499084, 0.045874353498220444, 0.14679794013500214, 0.0504617914557457, 0.03532325476408005, 0.3197442591190338, 0.10184106975793839, 0.06147163361310959, 0.0302770733833313, 0.9992521405220032, 0.1831839382648468, 0.7045536041259766, 0.008454643189907074, 0.10427393764257431, 0.0038570291362702847, 0.14656710624694824, 0.011571086943149567, 0.8331182599067688, 0.9908125400543213, 0.00212071998976171, 0.7252862453460693, 0.025448640808463097, 0.10391528159379959, 0.14208823442459106, 0.8924393057823181, 0.10624277591705322, 0.9871724843978882, 0.9947897791862488, 0.009742331691086292, 0.14223803579807281, 0.0019484662916511297, 0.7599018216133118, 0.08573251217603683, 0.9971199035644531, 0.9942009449005127, 0.515693187713623, 0.10346709936857224, 0.0016423349734395742, 0.36514580249786377, 0.013686124235391617, 0.60637366771698, 0.33915814757347107, 0.053443100303411484, 0.9897956848144531, 0.9868520498275757, 0.9280644655227661, 0.07194298505783081, 0.9847744107246399, 0.005991858895868063, 0.988656759262085, 0.9962486624717712, 0.9946182370185852, 0.9928790926933289, 0.986485481262207, 0.19547340273857117, 0.8028371930122375, 0.0011635321425274014, 0.9954593181610107, 0.9200735092163086, 0.07469231635332108, 0.0033951052464544773, 0.9863902926445007, 0.997186541557312, 0.14114293456077576, 0.07175423204898834, 0.032328829169273376, 0.05204153060913086, 0.03390584513545036, 0.20895463228225708, 0.4589116871356964, 0.9931066036224365, 0.0023816656321287155, 0.19013629853725433, 0.26674655079841614, 0.032549429684877396, 0.00039694426232017577, 0.023419711738824844, 0.4838750660419464, 0.00039694426232017577, 0.9861471056938171, 0.9917075037956238, 0.9931034445762634, 0.9917734265327454, 0.007934187538921833, 0.9897229671478271, 0.9836500883102417, 0.9844502210617065, 0.9975271224975586, 0.996162474155426, 0.061899200081825256, 0.04726848006248474, 0.8902230262756348, 0.017121607437729836, 0.11129044741392136, 0.1544666737318039, 0.0011166265467181802, 0.6688593029975891, 0.00781638640910387, 0.002977670868858695, 0.03610425814986229, 0.06122245639562607, 0.17198368906974792, 0.10702245682477951, 0.0014020409435033798, 0.42481839656829834, 0.18226532638072968, 0.050940822809934616, 0.04158542677760124, 0.15011325478553772, 0.013185623101890087, 0.7911373972892761, 0.003042836207896471, 0.9970773458480835, 0.8595495820045471, 0.10545399785041809, 0.0338248685002327, 0.9868773221969604, 0.1499730497598648, 0.8485817313194275, 0.9959919452667236, 0.9951143860816956, 0.9991831183433533, 0.09142198413610458, 0.04827902466058731, 0.11710231751203537, 0.7385663986206055, 0.004108853172510862, 0.001647856435738504, 0.48776549100875854, 0.509187638759613, 0.06315737217664719, 0.02105245739221573, 0.20433266460895538, 0.3046414256095886, 0.08297144621610641, 0.32321712374687195, 0.9946351647377014, 0.13718532025814056, 0.040600020438432693, 0.10128635913133621, 0.03034317120909691, 0.14573270082473755, 0.06068634241819382, 0.3846317529678345, 0.07308003306388855, 0.017522113397717476, 0.008547372184693813, 0.9910673499107361, 0.8390644788742065, 0.1546662598848343, 0.9891966581344604, 0.9943512678146362, 0.033274270594120026, 0.01186166051775217, 0.060078542679548264, 0.04790878668427467, 0.09689590334892273, 0.003543093567714095, 0.22306084632873535, 0.46091026067733765, 0.009088804945349693, 0.05330045148730278, 0.9952052235603333, 0.9921600222587585, 0.9952384233474731, 0.049214161932468414, 0.04658016562461853, 0.08206981420516968, 0.039094068109989166, 0.06792940944433212, 0.001524945953860879, 0.1867365539073944, 0.3859499394893646, 0.13669060170650482, 0.004436206072568893, 0.9973359107971191, 0.9844762682914734, 0.9886893630027771, 0.9931089282035828, 0.9914070963859558, 0.0006523187621496618, 0.5603417754173279, 0.21591749787330627, 0.03522521257400513, 0.00587086845189333, 0.05088086053729057, 0.12785446643829346, 0.002609275048598647, 0.9936514496803284, 0.9967026114463806, 0.002275576815009117, 0.997454822063446, 0.1845209300518036, 0.03399069979786873, 0.7793581485748291, 0.9040195941925049, 0.09287872165441513, 0.9904059767723083, 0.017205605283379555, 0.01863940618932247, 0.011470403522253036, 0.7039960026741028, 0.15628424286842346, 0.09319702535867691, 0.9943597912788391, 0.994806170463562, 0.0015542216133326292, 0.0808195248246193, 0.8765810132026672, 0.04040976241230965, 0.03846603259444237, 0.9584452509880066, 0.9967838525772095, 0.9873549938201904, 0.7975972890853882, 0.0043584550730884075, 0.19613046944141388, 0.0882989764213562, 0.016054360195994377, 0.8944571614265442, 0.011195112019777298, 0.09673725068569183, 0.1354895681142807, 0.2721273601055145, 0.07922694832086563, 0.0005741083296015859, 0.07405997812747955, 0.036742933094501495, 0.2342361956834793, 0.05942021310329437, 0.07472603023052216, 0.09002083539962769, 0.15644396841526031, 0.13940119743347168, 0.01223584171384573, 0.2289850413799286, 0.18572258949279785, 0.09089482575654984, 0.02184971794486046, 0.995612382888794, 0.9936725497245789, 0.9866918921470642, 0.9897634387016296, 0.8540075421333313, 0.09517554193735123, 0.04887392744421959, 0.9914206266403198, 0.02310781553387642, 0.7702605128288269, 0.015405210666358471, 0.13094429671764374, 0.05905330926179886, 0.9877144694328308, 0.9900696873664856, 0.9978320598602295, 0.2275422364473343, 0.493319034576416, 0.05502045899629593, 0.11004091799259186, 0.11377111822366714, 0.05437188968062401, 0.14386600255966187, 0.21309728920459747, 0.21850070357322693, 0.004052563104778528, 0.045591335743665695, 0.15771225094795227, 0.08375297486782074, 0.06146387755870819, 0.017561107873916626, 0.9954630136489868, 0.9971955418586731, 0.11981229484081268, 0.043410252779722214, 0.06424717605113983, 0.0017364100785925984, 0.05382871255278587, 0.06511537730693817, 0.09029332548379898, 0.5608604550361633, 0.9954667091369629, 0.995964527130127, 0.9967854022979736, 0.9914808869361877, 0.0021134575363248587, 0.046496063470840454, 0.665739119052887, 0.2832033038139343, 0.986041247844696, 0.9935470223426819, 0.995887279510498, 0.9957913756370544, 0.1077413409948349, 0.5815715193748474, 0.26761558651924133, 0.041706327348947525, 0.9974244236946106, 0.6794711947441101, 0.31988850235939026, 0.016520142555236816, 0.08260071277618408, 0.8975943922996521, 0.02286640927195549, 0.018293127417564392, 0.92380291223526, 0.032012972980737686, 0.9446871876716614, 0.04992249235510826, 0.9396745562553406, 0.058729659765958786, 0.9670847654342651, 0.03236307203769684, 0.1288236528635025, 0.8698348999023438, 0.9952725172042847, 0.9942548274993896, 0.5026249289512634, 0.0023109191097319126, 0.1016804426908493, 0.062394820153713226, 0.09128130972385406, 0.18602900207042694, 0.05315114185214043, 0.23102718591690063, 0.379009485244751, 0.023102719336748123, 0.2091732621192932, 0.06431297212839127, 0.05869339406490326, 0.034341879189014435, 0.9964107275009155, 0.9964339137077332, 0.9963108897209167, 0.02451065368950367, 0.5608614683151245, 0.18310901522636414, 0.004325409419834614, 0.22780491411685944, 0.16717809438705444, 0.5760000348091125, 0.06065753474831581, 0.005917808506637812, 0.18986302614212036, 0.9942174553871155, 0.5315619111061096, 0.08538041263818741, 0.18728606402873993, 0.052329931408166885, 0.005508413538336754, 0.1266935169696808, 0.00826262030750513, 0.004869075026363134, 0.04869075119495392, 0.28565242886543274, 0.6605712175369263, 0.8548642992973328, 0.14494939148426056, 0.8495911359786987, 0.065353162586689, 0.08432666212320328, 0.9051005244255066, 0.030785731971263885, 0.06157146394252777, 0.2248414158821106, 0.7744537591934204, 0.959886908531189, 0.03717871755361557, 0.9869845509529114, 0.9872213006019592, 0.9879512190818787, 0.0149855250492692, 0.01779531128704548, 0.4945223033428192, 0.0618152879178524, 0.032780833542346954, 0.21635350584983826, 0.013112333603203297, 0.07492762058973312, 0.032780833542346954, 0.04121019318699837, 0.998252272605896, 0.9968098402023315, 0.9952305555343628, 0.22500136494636536, 0.24154557287693024, 0.30027756094932556, 0.03474285826086998, 0.0008272108971141279, 0.07279455661773682, 0.006617687176913023, 0.020680271089076996, 0.06700408458709717, 0.028952380642294884, 0.9910945296287537, 0.9909808039665222, 0.5736081600189209, 0.10231930017471313, 0.17905877530574799, 0.14495234191417694, 0.005300448276102543, 0.8679484128952026, 0.09408295899629593, 0.031802691519260406, 0.002930709859356284, 0.1582583338022232, 0.7912916541099548, 0.033703163266181946, 0.0131881944835186, 0.998858630657196, 0.10942965000867844, 0.1620127260684967, 0.7276360988616943, 0.9953109622001648, 0.9938148856163025, 0.039810433983802795, 0.6458137035369873, 0.31184837222099304, 0.9959335923194885, 0.9968799352645874, 0.12429404258728027, 0.015536755323410034, 0.8571109771728516, 0.8486304879188538, 0.12279219180345535, 0.027287153527140617, 0.9953832626342773, 0.9963281750679016, 0.9843506217002869, 0.03796985745429993, 0.06755102425813675, 0.18322663009166718, 0.03355475515127182, 0.048566095530986786, 0.019426438957452774, 0.31303057074546814, 0.06622648984193802, 0.07858876883983612, 0.1518794298171997, 0.0354817695915699, 0.16295331716537476, 0.003942418843507767, 0.4914882183074951, 0.0026282791513949633, 0.3009379804134369, 0.9896584153175354, 0.9919523596763611, 0.10498896986246109, 0.17676714062690735, 0.018212372437119484, 0.051423169672489166, 0.19283688068389893, 0.4424535036087036, 0.011784476228058338, 0.9913811087608337, 0.006483838427811861, 0.03890303149819374, 0.0019451515981927514, 0.2690792977809906, 0.1218961626291275, 0.0019451515981927514, 0.5589069128036499, 0.9989511370658875, 0.8368148803710938, 0.1607441008090973, 0.9918138980865479, 0.06271518021821976, 0.9317684173583984, 0.9992247819900513, 0.11539994180202484, 0.055838681757450104, 0.20474183559417725, 0.017017502337694168, 0.35311320424079895, 0.0765787661075592, 0.1770883947610855, 0.9956164360046387, 0.9882012009620667, 0.9942561984062195, 0.25296613574028015, 0.7451003193855286, 0.9945970177650452, 0.011439358815550804, 0.11582350730895996, 0.09151487052440643, 0.43326571583747864, 0.34604060649871826, 0.39538225531578064, 0.03146640583872795, 0.07114144414663315, 0.3406580686569214, 0.16143634915351868, 0.8058372139930725, 0.19138634204864502, 0.9928446412086487, 0.9962834715843201, 0.99755859375, 0.9942529797554016, 0.0033326807897537947, 0.011997651308774948, 0.2546168267726898, 0.011331114917993546, 0.19396202266216278, 0.21262504160404205, 0.08798277378082275, 0.11331114917993546, 0.11064500361680984, 0.9930714964866638, 0.996010422706604, 0.9941703081130981, 0.9942866563796997, 0.023097198456525803, 0.7827383875846863, 0.005132710561156273, 0.18991029262542725, 0.034883204847574234, 0.007343832403421402, 0.029375329613685608, 0.09087992459535599, 0.08170013129711151, 0.18543176352977753, 0.039473097771406174, 0.5296739339828491, 0.0009179790504276752, 0.009557725861668587, 0.9901803731918335, 0.18425410985946655, 0.8078834414482117, 0.007086696568876505, 0.28712695837020874, 0.087128184735775, 0.1673257052898407, 0.20098887383937836, 0.09702911227941513, 0.0950489267706871, 0.002970278961583972, 0.06336595118045807, 0.995796263217926, 0.9944353699684143, 0.9888311624526978, 0.9929413199424744, 0.9930920004844666, 0.990561306476593, 0.995893120765686, 0.004889447707682848, 0.9945136308670044, 0.9960647225379944, 0.9944424629211426, 0.9931675791740417, 0.5585342049598694, 0.04919731244444847, 0.06945502758026123, 0.014469797722995281, 0.1244402602314949, 0.1244402602314949, 0.05498523265123367, 0.005787919275462627, 0.9931451082229614, 0.9971995949745178, 0.05038348212838173, 0.0016519174678251147, 0.05451327562332153, 0.02064896933734417, 0.14702065289020538, 0.21722714602947235, 0.5079646110534668, 0.997496485710144, 0.009595466777682304, 0.028281375765800476, 0.054542653262615204, 0.4964391589164734, 0.03282659873366356, 0.0005050245672464371, 0.016665810719132423, 0.1565576195716858, 0.10757023096084595, 0.09696471691131592, 0.9962171912193298, 0.0017510014586150646, 0.26089921593666077, 0.06303605437278748, 0.019261015579104424, 0.0035020029172301292, 0.6496215462684631, 0.0037362456787377596, 0.03736245632171631, 0.05293014645576477, 0.008717906661331654, 0.02490830421447754, 0.3262987732887268, 0.31695815920829773, 0.041721411049366, 0.18681228160858154, 0.0006227075937204063, 0.9993516802787781, 0.05058978870511055, 0.1330900639295578, 0.2840811312198639, 0.061486050486564636, 0.05837283283472061, 0.004669826943427324, 0.011674567125737667, 0.38448241353034973, 0.007004740182310343, 0.0038915222976356745, 0.9933191537857056, 0.9937565326690674, 0.15371255576610565, 0.8454190492630005, 0.9962335228919983, 0.9953129887580872, 0.9233672022819519, 0.06726516038179398, 0.11609414219856262, 0.01410489622503519, 0.1356240063905716, 0.009764928370714188, 0.01410489622503519, 0.005967455916106701, 0.38462966680526733, 0.10687171667814255, 0.21320092678070068, 0.996246874332428, 0.24682028591632843, 0.0034568668343126774, 0.7480659484863281, 0.0006913733668625355, 0.9992582201957703, 0.9984503984451294, 0.9979352355003357, 0.09455429762601852, 0.5128854513168335, 0.20009218156337738, 0.18863104283809662, 0.0019101877696812153, 0.0019101877696812153, 0.2604502737522125, 0.17482279241085052, 0.43943554162979126, 0.05530108883976936, 0.027947861701250076, 0.04162447527050972, 0.018567951396107674, 0.04100422561168671, 0.1671115607023239, 0.0007736646803095937, 0.4618777930736542, 0.21817342936992645, 0.09283975511789322, 0.0008964641601778567, 0.0035858566407114267, 0.9950752258300781, 0.9958649277687073, 0.04362940415740013, 0.10973456501960754, 0.2393006831407547, 0.12295559793710709, 0.26045432686805725, 0.02776416763663292, 0.0026442063972353935, 0.03701889142394066, 0.15644888579845428, 0.9901498556137085, 0.9948283433914185, 0.9918664693832397, 0.02623607963323593, 0.004770196508616209, 0.4448207914829254, 0.12760275602340698, 0.17172706127166748, 0.22300668060779572, 0.0011925491271540523, 0.9946184754371643, 0.9865946173667908, 0.0123324329033494, 0.007423528004437685, 0.01484705600887537, 0.002259334549307823, 0.10070177167654037, 0.05551508069038391, 0.29242244362831116, 0.20334011316299438, 0.2917769253253937, 0.030985159799456596, 0.0012910483637824655, 0.9725545048713684, 0.025370987132191658, 0.987922728061676, 0.11843051761388779, 0.12284015864133835, 0.11276096850633621, 0.01007919292896986, 0.16252698004245758, 0.47309210896492004, 0.9956007599830627, 0.6906216740608215, 0.23324425518512726, 0.07653327286243439, 0.12748783826828003, 0.07509557902812958, 0.3981812000274658, 0.0034928175155073404, 0.39468836784362793, 0.9935877323150635, 0.030681950971484184, 0.16521050035953522, 0.5770567059516907, 0.1793714016675949, 0.04838307574391365, 0.13716155290603638, 0.08662835508584976, 0.44541409611701965, 0.15304341912269592, 0.036817047744989395, 0.039704661816358566, 0.018047573044896126, 0.0822969377040863, 0.007838279008865356, 0.5192859768867493, 0.23906749486923218, 0.23122921586036682, 0.002612759592011571, 0.8499329090118408, 0.025059446692466736, 0.0396774560213089, 0.08353149145841599, 0.02306133322417736, 0.37862515449523926, 0.05241211876273155, 0.038575321435928345, 0.5073493123054504, 0.9935711026191711, 0.047154851257801056, 0.9489913582801819, 0.9899994730949402, 0.013827145099639893, 0.3548967242240906, 0.16131669282913208, 0.10969535261392593, 0.3613494038581848, 0.0032284667249768972, 0.9545499682426453, 0.03551313281059265, 0.0064569334499537945, 0.9963104128837585, 0.9975215792655945, 0.9974842071533203, 0.008021824061870575, 0.01443928387016058, 0.1588321179151535, 0.01925237849354744, 0.7508427500724792, 0.046526581048965454, 0.011744567193090916, 0.055519770830869675, 0.03523370251059532, 0.30962949991226196, 0.09929497539997101, 0.09609191119670868, 0.3907737731933594, 0.07719498872756958, 0.7796694040298462, 0.14281073212623596, 0.07588187605142593, 0.022318199276924133, 0.5475398302078247, 0.35262754559516907, 0.9484796524047852, 0.04598689079284668, 0.9955605268478394, 0.02101910300552845, 0.9542672634124756, 0.02101910300552845, 0.0009406625758856535, 0.013639607466757298, 0.07007936388254166, 0.0042329817079007626, 0.5088984370231628, 0.3687397241592407, 0.0338638536632061, 0.7403261065483093, 0.13252751529216766, 0.12795759737491608, 0.9853982925415039, 0.0027563138864934444, 0.04134470969438553, 0.22326143085956573, 0.00413447106257081, 0.7125071287155151, 0.01378156989812851, 0.7400320172309875, 0.023805225268006325, 0.037260353565216064, 0.19768686592578888, 0.0010350097436457872, 0.9972560405731201, 0.9913122653961182, 0.9951415657997131, 0.9909313321113586, 0.9927586317062378, 0.08715079724788666, 0.029710497707128525, 0.06932449340820312, 0.10299639403820038, 0.7090905904769897, 0.997981071472168, 0.40747499465942383, 0.18463709950447083, 0.28141242265701294, 0.1260625720024109, 0.9932730197906494, 0.6424471735954285, 0.06737273931503296, 0.29114648699760437, 0.9931737780570984, 0.9936831593513489, 0.9996258020401001, 0.9961547255516052, 0.05697997286915779, 0.22207580506801605, 0.09204457700252533, 0.2323029786348343, 0.04967484995722771, 0.34626293182373047, 0.006994898896664381, 0.9862807989120483, 0.9854305386543274, 0.9956246018409729, 0.6727999448776245, 0.32543039321899414, 0.9945117831230164, 0.004799767397344112, 0.9980806112289429, 0.992130696773529, 0.9953327178955078, 0.9978663921356201, 0.9949944615364075, 0.17579682171344757, 0.15333819389343262, 0.26795461773872375, 0.009293223731219769, 0.07434578984975815, 0.08906006067991257, 0.22845841944217682, 0.0015488705830648541, 0.9888668060302734, 0.005470407661050558, 0.182346910238266, 0.614509105682373, 0.0018234691815450788, 0.1367601901292801, 0.05835101380944252, 0.9963403344154358, 0.9963886141777039, 0.9926418662071228, 0.9958558082580566, 0.7898015379905701, 0.2072683572769165, 0.7636832594871521, 0.10578358918428421, 0.06681068986654282, 0.06217105686664581, 0.9931675791740417, 0.9973626732826233, 0.019035570323467255, 0.9789721965789795, 0.9948825836181641, 0.8337670564651489, 0.1630711555480957, 0.039741579443216324, 0.007225742097944021, 0.0036128710489720106, 0.16137489676475525, 0.05780593678355217, 0.02769867703318596, 0.13006335496902466, 0.5720378756523132, 0.0012042903108522296, 0.2220160812139511, 0.001047245692461729, 0.6513867974281311, 0.1256694793701172, 0.049058858305215836, 0.9484712481498718, 0.9916685819625854, 0.9990172386169434, 0.9953499436378479, 0.00042006344301626086, 0.0008401268860325217, 0.05670856684446335, 0.36377495527267456, 0.2814424932003021, 0.07603148370981216, 0.22095337510108948, 0.4817008674144745, 0.1356755644083023, 0.35443928837776184, 0.028397211804986, 0.0016169985756278038, 0.0016169985756278038, 0.021020980551838875, 0.10025390982627869, 0.09863691031932831, 0.07923293113708496, 0.0032339971512556076, 0.6936923861503601, 0.0016169985756278038, 0.9886160492897034, 0.9972580075263977, 0.9943346977233887, 0.9918705224990845, 0.9855383634567261, 0.5655813813209534, 0.10008230060338974, 0.33283182978630066, 0.9874218702316284, 0.2532596290111542, 0.00643880432471633, 0.0193164125084877, 0.7211461067199707, 0.9940772652626038, 0.988694429397583, 0.9922240376472473, 0.9944794774055481, 0.9943259358406067, 0.6557575464248657, 0.34194618463516235, 0.08586397022008896, 0.09097927063703537, 0.3120333254337311, 0.5107992887496948, 0.9988217949867249, 0.2384115308523178, 0.4954599440097809, 0.03762541711330414, 0.08896477520465851, 0.0010549182770773768, 0.13819429278373718, 0.2072983980178833, 0.791069746017456, 0.11252568662166595, 0.284944087266922, 0.15063922107219696, 0.009074651636183262, 0.06775740534067154, 0.33697208762168884, 0.037508562207221985, 0.0022134953178465366, 0.00664048595353961, 0.7230751514434814, 0.05681304633617401, 0.13945020735263824, 0.0723075121641159, 0.7823286056518555, 0.21581478416919708, 0.019028503447771072, 0.2045564204454422, 0.616840660572052, 0.014271377585828304, 0.036471299827098846, 0.10782818496227264, 0.9871606230735779, 0.9909266233444214, 0.9914636015892029, 0.9962332844734192, 0.9928752183914185, 0.9990400671958923, 0.920805811882019, 0.07455917447805405, 0.9582232236862183, 0.04136374592781067, 0.0004423930076882243, 0.9912015199661255, 0.00826600193977356, 0.9902335405349731, 0.0018840611446648836, 0.9194217920303345, 0.001570050953887403, 0.037367213517427444, 0.03956528380513191, 0.9961844086647034, 0.9973083734512329, 0.9970669746398926, 0.9973982572555542, 0.1271475851535797, 0.0015600930200889707, 0.6521188616752625, 0.1840909719467163, 0.034322045743465424, 0.9050537943840027, 0.09352222084999084, 0.9926692247390747, 0.9888185262680054, 0.47061318159103394, 0.5274419188499451, 0.9884070754051208, 0.10213980823755264, 0.3780127465724945, 0.07254789769649506, 0.22241657972335815, 0.0009545776410959661, 0.03150106221437454, 0.18805178999900818, 0.0038183105643838644, 0.07934856414794922, 0.17302395403385162, 0.19341212511062622, 0.21049411594867706, 0.09202229231595993, 0.07714443653821945, 0.1686156988143921, 0.006061348598450422, 0.9965484738349915, 0.9969120621681213, 0.6588505506515503, 0.06058395653963089, 0.03534064069390297, 0.02271898463368416, 0.02271898463368416, 0.20194652676582336, 0.10420853644609451, 0.0028946814127266407, 0.8510363698005676, 0.03763085976243019, 0.1475588083267212, 0.8484631180763245, 0.1487797051668167, 0.7872675061225891, 0.0006023469613865018, 0.06264408677816391, 0.9958476424217224, 0.9933506846427917, 0.998682975769043, 0.03101634606719017, 0.0026970733888447285, 0.9655523300170898, 0.994809091091156, 0.028621502220630646, 0.01278833020478487, 0.034102216362953186, 0.2685549557209015, 0.10535148531198502, 0.11753084510564804, 0.11326806992292404, 0.2770805060863495, 0.02983943745493889, 0.01278833020478487, 0.17835508286952972, 0.8215065598487854, 0.041683394461870193, 0.9527632594108582, 0.9919529557228088, 0.9996091723442078, 0.9875732660293579, 0.0039028481114655733, 0.18577556312084198, 0.30832499265670776, 0.018733670935034752, 0.4706834852695465, 0.012489113956689835, 0.9891257882118225, 0.01037595048546791, 0.02983085811138153, 0.02853386476635933, 0.06484968960285187, 0.08430460095405579, 0.23475588858127594, 0.5473313927650452, 0.9935102462768555, 0.02324870601296425, 0.9764456152915955, 0.987208902835846, 0.9985551238059998, 0.9169406294822693, 0.03595845773816109, 0.044948071241378784, 0.07959885895252228, 0.17490802705287933, 0.30477985739707947, 0.3780945837497711, 0.03351530805230141, 0.029325896874070168, 0.9959308505058289, 0.12370821088552475, 0.25389328598976135, 0.6217795014381409, 0.010215085931122303, 0.11015267670154572, 0.8040975332260132, 0.07491063326597214, 0.00034050288377329707, 0.03179587423801422, 0.9665945172309875, 0.025073569267988205, 0.017358625307679176, 0.14144064486026764, 0.4603250324726105, 0.2205188274383545, 0.13501152396202087, 0.29198411107063293, 0.4083029627799988, 0.2816973924636841, 0.016616981476545334, 0.019826743751764297, 0.9764671325683594, 0.06674827635288239, 0.9305495023727417, 0.2635120749473572, 0.7354739308357239, 0.9996300339698792, 0.00039167655631899834, 0.9995586276054382, 0.99861741065979, 0.9912020564079285, 0.9993600845336914, 0.06482131034135818, 0.3889278769493103, 0.5444990396499634, 0.9988534450531006, 0.9950785636901855, 0.9993992447853088, 0.0024120179004967213, 0.0018090133089572191, 0.04884336143732071, 0.08984766155481339, 0.10733479261398315, 0.5812962651252747, 0.10793779790401459, 0.05969744175672531, 0.0012060089502483606, 0.9922497868537903, 0.9920166730880737, 0.3059391379356384, 0.10347940772771835, 0.22195583581924438, 0.016496717929840088, 0.15746866166591644, 0.10947821289300919, 0.03149373456835747, 0.03899224102497101, 0.013497314415872097], \"Term\": [\"\\n    \", \"\\n     \", \"    \", \"aborder\", \"achat\", \"achat\", \"achat\", \"achat\", \"achat\", \"achat\", \"achat\", \"acheter\", \"acheter\", \"acheter\", \"acheter\", \"action\", \"action\", \"action\", \"administratif\", \"agir\", \"agir\", \"agir\", \"agir\", \"agir\", \"agricole\", \"agricole\", \"agriculteur\", \"agriculture\", \"agriculture_biologique\", \"agriculture_raisonner\", \"aide\", \"aide\", \"aide\", \"aide\", \"aide\", \"aider\", \"aider\", \"aider\", \"aider\", \"aider\", \"aider\", \"aimer\", \"aimer\", \"aimer\", \"ajout\", \"aliment\", \"alimentaire\", \"alimentaire\", \"alimentation\", \"aller\", \"aller\", \"aller\", \"aller\", \"aller\", \"aller\", \"aller\", \"al\\u00e9atoire\", \"amende\", \"amender\", \"am\\u00e9nagement\", \"animal\", \"animal\", \"animal\", \"ann\\u00e9e\", \"ann\\u00e9e\", \"ann\\u00e9e\", \"ann\\u00e9e\", \"ann\\u00e9e\", \"ann\\u00e9e\", \"ann\\u00e9e\", \"ann\\u00e9e\", \"appel_offre\", \"appliquer\", \"appliquer\", \"appliquer\", \"appliquer\", \"appliquer\", \"appliquer\", \"arbre\", \"argent\", \"argent\", \"argent\", \"argent\", \"argent\", \"arr\\u00eater\", \"arr\\u00eater\", \"arr\\u00eater\", \"arr\\u00eater\", \"arr\\u00eater\", \"arr\\u00eater\", \"arr\\u00eater\", \"arr\\u00eater\", \"arr\\u00eater\", \"aspect\", \"aspect\", \"associ\\u00e9\", \"auto\", \"auto\", \"auto\", \"automobile\", \"autonomie\", \"autonomie\", \"autonomie\", \"autoroute\", \"autoroute\", \"autoroute\", \"avion\", \"avions\", \"avions\", \"avions\", \"a\\u00e9rien\", \"banque\", \"barrage\", \"bassin\", \"bateau\", \"bateau\", \"batterie\", \"biodiversit\\u00e9\", \"biodiversit\\u00e9\", \"biodiversit\\u00e9\", \"biodiversit\\u00e9\", \"biodiversit\\u00e9\", \"biodiversit\\u00e9\", \"biologique\", \"biomasse\", \"bloquer\", \"borne\", \"bouteille\", \"brut\", \"budget\", \"budget\", \"budget\", \"budget\", \"b\\u00e2timent\", \"b\\u00e2timent\", \"b\\u00e2timent\", \"b\\u00e2timent\", \"b\\u00e9n\\u00e9fice\", \"b\\u00e9n\\u00e9fice\", \"b\\u00e9n\\u00e9fice\", \"b\\u00eate\", \"camion\", \"campagne\", \"campagne\", \"campagne\", \"campagne\", \"campagne\", \"campagne\", \"campagne\", \"cantine\", \"carbone\", \"carbone\", \"carbone\", \"carbone\", \"carbone\", \"carburant\", \"carburant\", \"carburant\", \"catastrophe\", \"catastrophe\", \"catastrophe\", \"cause\", \"cause\", \"cause\", \"cause\", \"cause\", \"centime\", \"central\", \"central\", \"central_nucl\\u00e9aire\", \"central_nucl\\u00e9aire\", \"centrale\", \"centrale\", \"centrale\", \"centre\", \"centre\", \"centre_commercial\", \"centre_ville\", \"changement\", \"changement\", \"changement\", \"changement\", \"changement\", \"changer\", \"changer\", \"changer\", \"changer_comportement\", \"changer_habitude\", \"changer_mentalit\\u00e9\", \"changer_mode\", \"changer_mod\\u00e8le\", \"charbon\", \"charbon\", \"chasse\", \"chasse\", \"chasseur\", \"chauffage\", \"chauffage\", \"chauffage\", \"chauffage\", \"chimie\", \"chimique\", \"chose\", \"chose\", \"chose\", \"chose\", \"chose\", \"circuit\", \"circuit_court\", \"circulation\", \"circulation\", \"citoyen\", \"citoyen\", \"citoyen\", \"citoyen\", \"citoyen\", \"citoyen\", \"citoyen\", \"civilisation\", \"classe_moyenne\", \"climatique\", \"climatique\", \"collectif\", \"collectif\", \"collectif\", \"collectif\", \"collectif\", \"collectif\", \"combler\", \"combustible\", \"combustible\", \"commerce\", \"commerce\", \"commerce\", \"commun\", \"commun\", \"commun\", \"commun\", \"commune\", \"commune\", \"commune\", \"commune\", \"commune\", \"commune\", \"comprendre\", \"comprendre\", \"comprendre\", \"comprendre\", \"comprendre\", \"concret\", \"concret\", \"concurrent\", \"condamner\", \"conditionnement\", \"conducteur\", \"conduit\", \"confort\", \"consacrer\", \"conscience\", \"conscience\", \"consigne\", \"consommation\", \"consommation\", \"consommation\", \"consommation\", \"consommation\", \"consommation\", \"consommation\", \"consommation\", \"consommation\", \"consommer\", \"consommer\", \"consommer\", \"consommer\", \"consommer\", \"consommer\", \"constructeur\", \"constructeur_automobile\", \"construction\", \"construction\", \"construction\", \"construction\", \"construction\", \"construction\", \"construction\", \"construire\", \"construire\", \"construire\", \"construire\", \"construire\", \"construire\", \"construire\", \"construire\", \"courant\", \"courant\", \"course\", \"course\", \"court\", \"court\", \"court\", \"court\", \"court_terme\", \"cout\", \"couts\", \"co\\u00fbt\", \"co\\u00fbt\", \"co\\u00fbt\", \"co\\u00fbt\", \"co\\u00fbt\", \"co\\u00fbt\", \"co\\u00fbt\", \"co\\u00fbt\", \"co\\u00fbt_environnemental\", \"crise\", \"crit\\u00e8re\", \"croire\", \"croire\", \"croissance\", \"croissance\", \"culture\", \"culture\", \"culture\", \"culture\", \"culture\", \"cyclable\", \"developper\", \"devoir\", \"devoir\", \"devoir\", \"devoir\", \"devoir\", \"devoir\", \"devoir\", \"devoir\", \"devoir\", \"devoir\", \"diesel\", \"diminution\", \"diminution\", \"diminution\", \"diminution\", \"dispara\\u00eetre\", \"dispara\\u00eetre\", \"dispara\\u00eetre\", \"dispara\\u00eetre\", \"distributeur\", \"distribution\", \"distribution\", \"distribution\", \"distribution\", \"distribution\", \"dommage\", \"dommage\", \"donner_prime\", \"donn\\u00e9\", \"durable\", \"durable\", \"durable\", \"durable\", \"durable\", \"d\\u00e9bat\", \"d\\u00e9cemment\", \"d\\u00e9chet\", \"d\\u00e9chet\", \"d\\u00e9chet\", \"d\\u00e9chet\", \"d\\u00e9chet\", \"d\\u00e9cision\", \"d\\u00e9cision\", \"d\\u00e9cision\", \"d\\u00e9connecter\", \"d\\u00e9favoriser\", \"d\\u00e9finir\", \"d\\u00e9finir\", \"d\\u00e9localisation\", \"d\\u00e9mant\\u00e8lement\", \"d\\u00e9mant\\u00e8lement\", \"d\\u00e9mographie\", \"d\\u00e9mographique\", \"d\\u00e9passement\", \"d\\u00e9passer\", \"d\\u00e9pense\", \"d\\u00e9pense\", \"d\\u00e9pense\", \"d\\u00e9pense_public\", \"d\\u00e9placement\", \"d\\u00e9placement\", \"d\\u00e9placement\", \"d\\u00e9r\\u00e8glement\", \"d\\u00e9sordre\", \"d\\u00e9veloppement\", \"d\\u00e9veloppement\", \"d\\u00e9veloppement\", \"d\\u00e9veloppement\", \"d\\u00e9veloppement\", \"d\\u00e9veloppement\", \"d\\u00e9veloppement\", \"d\\u00e9veloppement_durable\", \"d\\u00e9velopper\", \"d\\u00e9velopper\", \"d\\u00e9velopper\", \"d\\u00e9velopper\", \"d\\u00e9velopper\", \"d\\u00e9velopper\", \"d\\u00e9velopper\", \"d\\u00e9velopper\", \"eau_pluvial\", \"elec\", \"electrique\", \"emballage\", \"emballage\", \"emballage_plastique\", \"empoisonner\", \"endettement\", \"energie\", \"energies\", \"enfant\", \"enfant\", \"enfant\", \"entreprise\", \"entreprise\", \"entreprise\", \"entreprise\", \"entreprise\", \"entreprise\", \"entreprise\", \"entreprise\", \"environnement\", \"environnement\", \"environnement\", \"environnement\", \"environnement\", \"environnement\", \"environnement\", \"environnemental\", \"environnemental\", \"environnemental\", \"environnemental\", \"environnemental\", \"eolien\", \"espace\", \"espace\", \"espace\", \"espace_vert\", \"esp\\u00e8ce\", \"esp\\u00e8ce\", \"esp\\u00e8ce_animal\", \"esp\\u00e9rer\", \"essence\", \"etat\", \"etat\", \"etat\", \"etat\", \"etat\", \"euro\", \"euro\", \"euro\", \"europ\\u00e9en\", \"europ\\u00e9en\", \"europ\\u00e9en\", \"europ\\u00e9en\", \"europ\\u00e9en\", \"europ\\u00e9en\", \"excellent\", \"exemple\", \"exemple\", \"exemple\", \"exemple\", \"exemple\", \"exemple\", \"exemple\", \"exemple\", \"exemple\", \"exemple\", \"expression\", \"face\", \"face\", \"facteur\", \"faible_revenu\", \"faire\", \"faire\", \"faire\", \"faire\", \"faire\", \"faire\", \"faire\", \"faire\", \"faire\", \"faire\", \"faire_course\", \"faire_croire\", \"faire_payer\", \"falloir\", \"falloir\", \"falloir\", \"falloir\", \"falloir\", \"falloir\", \"falloir\", \"falloir\", \"falloir\", \"falloir\", \"faune\", \"fausser\", \"faut\", \"faux_bon\", \"faveur\", \"favoriser\", \"favoriser\", \"favoriser\", \"favoriser\", \"favoriser\", \"favoriser\", \"favoriser\", \"favoriser\", \"fermer_central\", \"ferroutage\", \"ferroutage\", \"ferroviaire\", \"fili\\u00e8re\", \"fili\\u00e8re\", \"fili\\u00e8re\", \"financement\", \"financement\", \"financement_transition\", \"financer\", \"financer\", \"financer\", \"financer\", \"financer\", \"financer\", \"financer_recherche\", \"financer_transition\", \"financier\", \"financier\", \"financier\", \"financier\", \"fiscalit\\u00e9\", \"fiscalit\\u00e9\", \"fluvial\", \"fonctionnaire\", \"for\\u00eat\", \"for\\u00eat\", \"for\\u00eat\", \"fossile\", \"fossile\", \"fossile\", \"france\", \"france\", \"france\", \"france\", \"france\", \"france\", \"france\", \"france\", \"france\", \"france\", \"fran\\u00e7ais\", \"fran\\u00e7ais\", \"fran\\u00e7ais\", \"fran\\u00e7ais\", \"fran\\u00e7ais\", \"fran\\u00e7ais\", \"fran\\u00e7ais\", \"fran\\u00e7ais\", \"fran\\u00e7ais\", \"fret\", \"fusion\", \"garanti\", \"gasoil\", \"gaspillage\", \"gaspillage\", \"gaspillage\", \"geste\", \"gestion\", \"gestion\", \"gestion\", \"gestion\", \"gestion\", \"gilet\", \"gisement\", \"glyphosate\", \"gouvernement\", \"gouvernement\", \"gouvernement\", \"gouvernement\", \"gouvernement\", \"grand\", \"grand\", \"grand\", \"grand\", \"grand\", \"grand\", \"grand\", \"grand\", \"grand\", \"grand\", \"grand_distribution\", \"grand_ville\", \"gros\", \"gros\", \"gros\", \"gros\", \"gros\", \"gros\", \"gros\", \"gros\", \"gros_pollueur\", \"guerre\", \"habitude\", \"haie\", \"homme\", \"homme\", \"homme\", \"homme\", \"honte\", \"huile\", \"huile_palme\", \"hulot\", \"humain\", \"humain\", \"humain\", \"humain\", \"hybride\", \"hydrog\\u00e8ne\", \"hydrog\\u00e8ne\", \"immeuble\", \"immeuble\", \"immeuble\", \"immobilier\", \"immobilier\", \"immobilier\", \"immobilier\", \"impliquer\", \"impliquer\", \"importation\", \"importation\", \"importer\", \"importer\", \"imp\\u00f4t\", \"imp\\u00f4t\", \"incitatif\", \"indigne\", \"industrie\", \"industrie\", \"industrie\", \"industrie\", \"industrie\", \"industrie\", \"industrie\", \"industriel\", \"industriel\", \"industriel\", \"industriel\", \"industriel\", \"industriel\", \"industriel\", \"industriel_mise\", \"ind\\u00e9pendance\", \"intensif\", \"interdiction\", \"interdiction\", \"interdiction\", \"interdiction\", \"interdiction\", \"interdire\", \"interdire\", \"interdire\", \"interdire\", \"interdire\", \"introduire\", \"inutile\", \"inutile\", \"inutile\", \"inutile\", \"inutile\", \"inutile\", \"inutile\", \"investir\", \"investir\", \"investir\", \"investir\", \"investissement\", \"investissement\", \"isolation\", \"isolation\", \"isolation\", \"isoler\", \"isoler\", \"isoler\", \"issus\", \"issus\", \"jeter\", \"jeter\", \"joue\", \"lever\", \"lib\\u00e9ral\", \"lieu\", \"lieu\", \"lieu\", \"lieu\", \"lieu\", \"lieu\", \"lieu\", \"lieu\", \"lieu\", \"lieu\", \"ligner\", \"limitation\", \"limitation_vitesse\", \"limiter\", \"limiter\", \"limiter\", \"limiter\", \"limiter\", \"limiter\", \"limiter\", \"limiter\", \"limiter\", \"limiter\", \"limiter_emballage\", \"lobbying\", \"local\", \"local\", \"local\", \"local\", \"logement\", \"logement\", \"logement\", \"logement\", \"long\", \"long\", \"long\", \"long\", \"long\", \"long_terme\", \"lourd\", \"lourd\", \"lourd\", \"l\\u00e9ger\", \"l\\u00e9gume\", \"maison\", \"maison\", \"maison\", \"majorit\\u00e9_fran\\u00e7ais\", \"marchandise\", \"marge\", \"marge\", \"marge\", \"maritime\", \"maritime\", \"maritime\", \"massivement\", \"mentalit\\u00e9\", \"mer\", \"mettre\", \"mettre\", \"mettre\", \"mettre\", \"mettre\", \"mettre\", \"mettre\", \"mettre\", \"mettre\", \"mettre\", \"mettre_place\", \"mettre_place\", \"mettre_place\", \"mettre_place\", \"mettre_place\", \"mettre_place\", \"mobile\", \"mode_consommation\", \"mod\\u00e8le\", \"mod\\u00e8le\", \"mod\\u00e8le\", \"mod\\u00e8le\", \"mod\\u00e8le\", \"mod\\u00e8le\", \"mod\\u00e8le\", \"mod\\u00e8le_\\u00e9conomique\", \"monde\", \"monde\", \"monde\", \"monde\", \"monde\", \"monde\", \"monde\", \"mondial\", \"montre\", \"montre\", \"montre_exemple\", \"montrer_exemple\", \"montrer_exemple\", \"moteur\", \"moyen\", \"moyen\", \"moyen\", \"moyen\", \"moyen\", \"moyen\", \"moyen\", \"moyen_transport\", \"mutation\", \"m\\u00e9got\", \"m\\u00e9nager\", \"m\\u00e9nager\", \"m\\u00e9thanisation\", \"national\", \"national\", \"national\", \"national\", \"national\", \"nature\", \"nature\", \"nature\", \"nature\", \"nature\", \"naturel\", \"naturel\", \"navire\", \"nette\", \"nicolas\", \"nicolas_hulot\", \"niveau\", \"niveau\", \"niveau\", \"niveau\", \"niveau\", \"niveau\", \"niveau\", \"niveau\", \"niveau\", \"niveau_europ\\u00e9en\", \"niveau_mondial\", \"niveau_national\", \"nocif\", \"nourrir\", \"nourrir\", \"nourrir\", \"nourrir\", \"nouveau\", \"nouveau\", \"nouveau\", \"nouveau\", \"nouveau\", \"nouveau\", \"nouveau\", \"nouveau\", \"nouveau\", \"nucl\\u00e9aire\", \"nucl\\u00e9aire\", \"nuit\", \"nuit\", \"nuit\", \"obliger\", \"obliger\", \"obliger\", \"obliger\", \"obliger\", \"obliger\", \"obliger\", \"obliger\", \"obsolescence\", \"obsolescence_programmer\", \"occasionner\", \"oc\\u00e9an\", \"ordure\", \"ordure_m\\u00e9nager\", \"palme\", \"panneau\", \"panneau\", \"panneau_solaire\", \"papier\", \"particule\", \"partout\", \"partout\", \"partout\", \"partout\", \"partout\", \"partout\", \"partout\", \"partout\", \"passer_\\u00e9levage\", \"pauvre\", \"payer\", \"payer\", \"payer\", \"payer\", \"payer\", \"payer\", \"payer\", \"payeur\", \"pays\", \"pays\", \"pays\", \"pays\", \"pays\", \"pays\", \"pays\", \"pays\", \"pays\", \"pays\", \"paysan\", \"penser\", \"penser\", \"penser\", \"penser\", \"penser\", \"penser\", \"permettre\", \"permettre\", \"permettre\", \"permettre\", \"permettre\", \"permettre\", \"permettre\", \"permettre\", \"permettre\", \"permettre\", \"pesticide\", \"petit\", \"petit\", \"petit\", \"petit\", \"petit\", \"petit\", \"petit\", \"petit\", \"petit\", \"petit\", \"peur\", \"photovoltaique\", \"photovolta\\u00efque\", \"photovolta\\u00efque\", \"pile\", \"pile_combustible\", \"piste\", \"piste\", \"place\", \"place\", \"place\", \"place\", \"place\", \"place\", \"place\", \"place\", \"place\", \"place_pratique\", \"plan\\u00e8te\", \"plan\\u00e8te\", \"plan\\u00e8te\", \"plan\\u00e8te\", \"plastique\", \"poids\", \"poids_lourd\", \"politique\", \"politique\", \"politique\", \"politique\", \"politique\", \"politique\", \"polluant\", \"polluant\", \"polluant\", \"polluant\", \"polluant\", \"polluant\", \"polluer\", \"polluer\", \"polluer\", \"polluer\", \"polluer\", \"polluer\", \"polluer\", \"pollueur\", \"pollueur\", \"pollueur\", \"pollueur_payeur\", \"pollution\", \"pollution\", \"pollution\", \"pollution\", \"pollution\", \"pollution\", \"pollution\", \"pollution\", \"pollution\", \"pollution_visuel\", \"pomper\", \"pomper_chaleur\", \"population\", \"population\", \"population\", \"population\", \"population\", \"population\", \"population\", \"porteur\", \"poubelle\", \"poubelle\", \"pouvoir\", \"pouvoir\", \"pouvoir\", \"pouvoir\", \"pouvoir\", \"pouvoir\", \"pouvoir\", \"pouvoir\", \"pouvoir\", \"pouvoir\", \"pouvoir_achat\", \"pouvoir_achat\", \"prenant\", \"prendre\", \"prendre\", \"prendre\", \"prendre\", \"prendre\", \"prendre\", \"prendre_conscience\", \"prime\", \"prime\", \"prime\", \"principe\", \"principe\", \"principe\", \"principe\", \"principe\", \"principe_pollueur\", \"priorit\\u00e9\", \"priorit\\u00e9\", \"priorit\\u00e9\", \"priorit\\u00e9\", \"priorit\\u00e9\", \"prix\", \"prix\", \"prix\", \"prix\", \"prix\", \"prix\", \"prix\", \"prix\", \"probl\\u00e8me\", \"probl\\u00e8me\", \"probl\\u00e8me\", \"probl\\u00e8me\", \"probl\\u00e8me\", \"producteur\", \"producteur\", \"producteur\", \"producteur\", \"production\", \"production\", \"production\", \"production\", \"production\", \"production_respectueux\", \"production_\\u00e9lectricit\\u00e9\", \"production_\\u00e9lectricit\\u00e9\", \"productivit\\u00e9\", \"produire\", \"produire\", \"produire\", \"produire\", \"produire\", \"produit\", \"produit\", \"produit\", \"produit\", \"produit_chimique\", \"produit_issus\", \"programmer\", \"proposition\", \"proposition\", \"proposition\", \"proposition\", \"proposition\", \"proposition\", \"propre\", \"propre\", \"propre\", \"propre\", \"propre\", \"propre\", \"propre\", \"propri\\u00e9taire\", \"propri\\u00e9taire\", \"propri\\u00e9taire\", \"protection\", \"protection\", \"protection\", \"protection\", \"protection_environnement\", \"protection_environnement\", \"pr\\u00e9dateur\", \"pr\\u00e9sident\", \"pr\\u00e9sident\", \"pr\\u00e9sident\", \"public\", \"public\", \"public\", \"public\", \"public\", \"public\", \"public\", \"publicit\\u00e9\", \"publicit\\u00e9\", \"publicit\\u00e9\", \"p\\u00e9dagogie\", \"p\\u00e9trole\", \"p\\u00e9trole\", \"p\\u00e9trole\", \"p\\u00e9trole\", \"p\\u00e9trole\", \"p\\u00e9trole\", \"question\", \"question\", \"question\", \"question\", \"question\", \"radar\", \"radical\", \"rail\", \"recharge\", \"recharger\", \"recherche\", \"recherche\", \"recherche\", \"recherche\", \"recherche\", \"recyclable\", \"recyclage\", \"recyclage\", \"recyclage\", \"recyclage\", \"recyclage_d\\u00e9chet\", \"recycler\", \"recycler\", \"recycler\", \"regretter\", \"remboursement\", \"renouvelable\", \"reparation\", \"respecter\", \"respecter\", \"respecter\", \"respecter\", \"respecter\", \"respecter\", \"responsabiliser\", \"responsabiliser\", \"restauration\", \"retarder\", \"revenu\", \"revenu\", \"router\", \"router\", \"routier\", \"r\\u00e9acteur\", \"r\\u00e9cent\", \"r\\u00e9chauffement\", \"r\\u00e9chauffement_climatique\", \"r\\u00e9duire\", \"r\\u00e9duire\", \"r\\u00e9duire\", \"r\\u00e9duire\", \"r\\u00e9duire\", \"r\\u00e9duire\", \"r\\u00e9duire\", \"r\\u00e9duire\", \"r\\u00e9f\\u00e9rendum\", \"r\\u00e9gion\", \"r\\u00e9gion\", \"r\\u00e9gion\", \"r\\u00e9gion\", \"r\\u00e9gion\", \"r\\u00e9gion\", \"r\\u00e9parateur\", \"r\\u00e9paration\", \"r\\u00e9union\", \"sanction\", \"sanitaire\", \"sanitaire\", \"sant\\u00e9\", \"sant\\u00e9\", \"sant\\u00e9\", \"sant\\u00e9\", \"satisfaisant\", \"sauvage\", \"sauver\", \"sauver\", \"science\", \"scientifique\", \"scientifique\", \"sens\", \"sens\", \"sens\", \"sens\", \"sens\", \"sens\", \"sens\", \"sens\", \"sens\", \"service\", \"service\", \"service\", \"service\", \"service_public\", \"service_public\", \"si\\u00e8cle\", \"solaire\", \"soleil\", \"solution\", \"solution\", \"solution\", \"solution\", \"solution\", \"solution\", \"solution\", \"sommes\", \"sommes\", \"sommes\", \"sommes\", \"source\", \"source\", \"source\", \"source\", \"source\", \"source\", \"source\", \"source\", \"source\", \"soutenir_financi\\u00e8rement\", \"stockage\", \"stockage_\\u00e9nergie\", \"strat\\u00e9gie\", \"succ\\u00e8s\", \"sujet\", \"sujet\", \"sujet\", \"superflu\", \"supporter\", \"supporter\", \"supporter\", \"supporter\", \"surpopulation\", \"syst\\u00e8me_\\u00e9conomique\", \"s\\u00e9cheresse\", \"tabou\", \"tard\", \"taux\", \"taux\", \"taxe\", \"taxe\", \"taxe\", \"taxe\", \"taxe_carbone\", \"taxer\", \"taxer\", \"taxer\", \"taxer\", \"taxer\", \"taxer\", \"technologie\", \"technologie\", \"temps\", \"temps\", \"temps\", \"temps\", \"temps\", \"temps\", \"temps\", \"terme\", \"terme\", \"terme\", \"terme\", \"terme\", \"terme\", \"terrestre\", \"terrestre\", \"territoire\", \"territoire\", \"territoire\", \"territoire\", \"territoire\", \"territoire\", \"territorial\", \"tire\", \"tonne\", \"toxique\", \"trafic\", \"train\", \"trajet\", \"trajet\", \"transition\", \"transition\", \"transition\", \"transition_\\u00e9cologique\", \"transition_\\u00e9cologique\", \"transparence\", \"transport\", \"transport\", \"transport\", \"transport\", \"transport\", \"transport_a\\u00e9rien\", \"transport_commun\", \"transport_marchandise\", \"transport_routier\", \"travail\", \"travail\", \"travail\", \"travail\", \"travail\", \"traverser\", \"traverser\", \"t\\u00e9l\\u00e9travail\", \"unit\\u00e9\", \"urbain\", \"urbain\", \"urgent_agir\", \"utilisation\", \"utilisation\", \"utilisation\", \"utilisation\", \"utilisation\", \"utilisation\", \"utilisation\", \"utilisation\", \"utiliser\", \"utiliser\", \"utiliser\", \"utiliser\", \"utiliser\", \"utiliser\", \"utiliser\", \"utiliser\", \"vent\", \"verre\", \"vert\", \"vert\", \"vert\", \"vert\", \"vert\", \"vert\", \"vertueux\", \"vertueux\", \"vertueux\", \"vertueux\", \"viande\", \"viande\", \"ville\", \"ville\", \"ville\", \"ville\", \"vision\", \"visuel\", \"vitesse\", \"vivre\", \"vivre\", \"vivre\", \"vivre_d\\u00e9cemment\", \"voir\", \"voir\", \"voir\", \"voir\", \"voir\", \"voir\", \"voir\", \"voir\", \"voir\", \"voir\", \"voiture\", \"voiture\", \"voiture_hybride\", \"voiture_hybride\", \"voiture_hydrog\\u00e8ne\", \"voiture_\\u00e9lectrique\", \"voix\", \"vouloir\", \"vouloir\", \"vouloir\", \"vouloir\", \"vouloir\", \"vouloir\", \"vrac\", \"vraiment\", \"vraiment\", \"vraiment\", \"vraiment\", \"vraiment\", \"vraiment\", \"vraiment\", \"v\\u00e9g\\u00e9tal\", \"v\\u00e9hicule\", \"v\\u00e9hicule\", \"v\\u00e9hicule_polluant\", \"v\\u00e9hicule_\\u00e9lectrique\", \"v\\u00e9lo\", \"v\\u00e9lo\", \"v\\u00e9lo\", \"zone\", \"zone\", \"zone\", \"zone\", \"zone\", \"zone\", \"zone_rural\", \"\\u00e9cologie\", \"\\u00e9cologie\", \"\\u00e9cologie\", \"\\u00e9cologique\", \"\\u00e9cologique\", \"\\u00e9cologique\", \"\\u00e9cologique\", \"\\u00e9cologique\", \"\\u00e9cologiste\", \"\\u00e9cologiste\", \"\\u00e9conomie\", \"\\u00e9conomie\", \"\\u00e9conomie\", \"\\u00e9conomie\", \"\\u00e9conomie\", \"\\u00e9conomie\", \"\\u00e9conomique\", \"\\u00e9conomique\", \"\\u00e9conomique\", \"\\u00e9conomique\", \"\\u00e9couter\", \"\\u00e9couter\", \"\\u00e9duquer\", \"\\u00e9duquer\", \"\\u00e9lectricit\\u00e9\", \"\\u00e9lectricit\\u00e9\", \"\\u00e9lectrique\", \"\\u00e9nergie\", \"\\u00e9nergie\", \"\\u00e9nergie_fossile\", \"\\u00e9nergie_propre\", \"\\u00e9nergie_renouvelable\", \"\\u00e9nerg\\u00e9tique\", \"\\u00e9nerg\\u00e9tique\", \"\\u00e9nerg\\u00e9tique\", \"\\u00e9olien\", \"\\u00e9olien_solaire\", \"\\u00e9olienne\", \"\\u00e9tat\", \"\\u00e9tat\", \"\\u00e9tat\", \"\\u00e9tat\", \"\\u00e9tat\", \"\\u00e9tat\", \"\\u00e9tat\", \"\\u00e9tat\", \"\\u00e9tat\", \"\\u00e9tendre\", \"\\u00e9videment\", \"\\u00e9viter\", \"\\u00e9viter\", \"\\u00e9viter\", \"\\u00e9viter\", \"\\u00e9viter\", \"\\u00e9viter\", \"\\u00e9viter\", \"\\u00e9viter\", \"\\u00e9viter\"]}, \"R\": 30, \"lambda.step\": 0.01, \"plot.opts\": {\"xlab\": \"PC1\", \"ylab\": \"PC2\"}, \"topic.order\": [1, 2, 3, 4, 5, 6, 7, 8, 9, 10]};\n",
              "\n",
              "function LDAvis_load_lib(url, callback){\n",
              "  var s = document.createElement('script');\n",
              "  s.src = url;\n",
              "  s.async = true;\n",
              "  s.onreadystatechange = s.onload = callback;\n",
              "  s.onerror = function(){console.warn(\"failed to load library \" + url);};\n",
              "  document.getElementsByTagName(\"head\")[0].appendChild(s);\n",
              "}\n",
              "\n",
              "if(typeof(LDAvis) !== \"undefined\"){\n",
              "   // already loaded: just create the visualization\n",
              "   !function(LDAvis){\n",
              "       new LDAvis(\"#\" + \"ldavis_el1201404150854649361641154142\", ldavis_el1201404150854649361641154142_data);\n",
              "   }(LDAvis);\n",
              "}else if(typeof define === \"function\" && define.amd){\n",
              "   // require.js is available: use it to load d3/LDAvis\n",
              "   require.config({paths: {d3: \"https://cdnjs.cloudflare.com/ajax/libs/d3/3.5.5/d3.min\"}});\n",
              "   require([\"d3\"], function(d3){\n",
              "      window.d3 = d3;\n",
              "      LDAvis_load_lib(\"https://cdn.rawgit.com/bmabey/pyLDAvis/files/ldavis.v1.0.0.js\", function(){\n",
              "        new LDAvis(\"#\" + \"ldavis_el1201404150854649361641154142\", ldavis_el1201404150854649361641154142_data);\n",
              "      });\n",
              "    });\n",
              "}else{\n",
              "    // require.js not available: dynamically load d3 & LDAvis\n",
              "    LDAvis_load_lib(\"https://cdnjs.cloudflare.com/ajax/libs/d3/3.5.5/d3.min.js\", function(){\n",
              "         LDAvis_load_lib(\"https://cdn.rawgit.com/bmabey/pyLDAvis/files/ldavis.v1.0.0.js\", function(){\n",
              "                 new LDAvis(\"#\" + \"ldavis_el1201404150854649361641154142\", ldavis_el1201404150854649361641154142_data);\n",
              "            })\n",
              "         });\n",
              "}\n",
              "</script>"
            ],
            "text/plain": [
              "PreparedData(topic_coordinates=              x         y  topics  cluster       Freq\n",
              "topic                                                \n",
              "0     -0.181738  0.133551       1        1   5.531366\n",
              "1     -0.176970  0.019171       2        1   9.642430\n",
              "2     -0.122157 -0.067595       3        1   9.807094\n",
              "3      0.241860  0.127069       4        1  11.707786\n",
              "4      0.070409 -0.058880       5        1  10.792009\n",
              "5      0.040708 -0.238380       6        1   8.697709\n",
              "6      0.113342 -0.025149       7        1  16.690987\n",
              "7      0.210763  0.167094       8        1  10.278959\n",
              "8      0.007686 -0.195857       9        1  10.556250\n",
              "9     -0.203903  0.138976      10        1   6.295412, topic_info=     Category         Freq  ...  loglift  logprob\n",
              "255   Default  5106.000000  ...  30.0000  30.0000\n",
              "533   Default  4646.000000  ...  29.0000  29.0000\n",
              "456   Default  4520.000000  ...  28.0000  28.0000\n",
              "611   Default  3138.000000  ...  27.0000  27.0000\n",
              "422   Default  3913.000000  ...  26.0000  26.0000\n",
              "167   Default  3033.000000  ...  25.0000  25.0000\n",
              "251   Default  3184.000000  ...  24.0000  24.0000\n",
              "88    Default  5873.000000  ...  23.0000  23.0000\n",
              "164   Default  2924.000000  ...  22.0000  22.0000\n",
              "266   Default  1832.000000  ...  21.0000  21.0000\n",
              "457   Default  2782.000000  ...  20.0000  20.0000\n",
              "249   Default  2736.000000  ...  19.0000  19.0000\n",
              "184   Default  6491.000000  ...  18.0000  18.0000\n",
              "464   Default  1567.000000  ...  17.0000  17.0000\n",
              "936   Default  1260.000000  ...  16.0000  16.0000\n",
              "298   Default  1703.000000  ...  15.0000  15.0000\n",
              "215   Default  1826.000000  ...  14.0000  14.0000\n",
              "362   Default  1118.000000  ...  13.0000  13.0000\n",
              "117   Default  7213.000000  ...  12.0000  12.0000\n",
              "288   Default  2843.000000  ...  11.0000  11.0000\n",
              "819   Default  1115.000000  ...  10.0000  10.0000\n",
              "247   Default  1328.000000  ...   9.0000   9.0000\n",
              "622   Default  1310.000000  ...   8.0000   8.0000\n",
              "662   Default  2384.000000  ...   7.0000   7.0000\n",
              "419   Default  1660.000000  ...   6.0000   6.0000\n",
              "257   Default  1253.000000  ...   5.0000   5.0000\n",
              "761   Default  2027.000000  ...   4.0000   4.0000\n",
              "192   Default  2519.000000  ...   3.0000   3.0000\n",
              "536   Default  2126.000000  ...   2.0000   2.0000\n",
              "0     Default  1202.000000  ...   1.0000   1.0000\n",
              "...       ...          ...  ...      ...      ...\n",
              "1972  Topic10    99.932465  ...   2.7561  -6.1637\n",
              "2975  Topic10    97.168472  ...   2.7559  -6.1918\n",
              "3528  Topic10    96.421188  ...   2.7558  -6.1995\n",
              "1474  Topic10    95.617043  ...   2.7557  -6.2079\n",
              "4387  Topic10    95.302589  ...   2.7557  -6.2112\n",
              "7099  Topic10    90.598709  ...   2.7552  -6.2618\n",
              "266   Topic10  1777.613037  ...   2.7347  -3.2852\n",
              "898   Topic10   616.512756  ...   2.6873  -4.3442\n",
              "3238  Topic10   446.667114  ...   2.6004  -4.6664\n",
              "1138  Topic10   695.822327  ...   2.4415  -4.2231\n",
              "197   Topic10   512.085754  ...   2.4476  -4.5298\n",
              "3773  Topic10   216.455917  ...   2.5849  -5.3909\n",
              "249   Topic10  1398.381592  ...   2.0938  -3.5252\n",
              "275   Topic10   646.449768  ...   2.1878  -4.2967\n",
              "331   Topic10   615.321838  ...   2.0885  -4.3461\n",
              "4693  Topic10   185.502426  ...   2.5071  -5.5452\n",
              "1962  Topic10   230.478958  ...   2.2680  -5.3281\n",
              "2336  Topic10   161.636459  ...   2.4689  -5.6829\n",
              "14    Topic10   286.150574  ...   1.7133  -5.1117\n",
              "144   Topic10   393.041290  ...   1.2199  -4.7943\n",
              "761   Topic10   384.839142  ...   1.1035  -4.8154\n",
              "37    Topic10   260.991669  ...   1.6359  -5.2038\n",
              "288   Topic10   392.873749  ...   0.7859  -4.7948\n",
              "794   Topic10   355.359009  ...   0.9113  -4.8951\n",
              "227   Topic10   344.423309  ...   0.8819  -4.9264\n",
              "71    Topic10   237.198807  ...   1.7238  -5.2993\n",
              "2853  Topic10   237.225708  ...   1.7057  -5.2992\n",
              "615   Topic10   226.158951  ...   1.8364  -5.3470\n",
              "184   Topic10   345.988708  ...  -0.1665  -4.9218\n",
              "228   Topic10   229.330872  ...   1.5659  -5.3331\n",
              "\n",
              "[644 rows x 6 columns], token_table=      Topic      Freq                    Term\n",
              "term                                         \n",
              "3715      6  0.989756                  \\n    \n",
              "8530      6  0.994565                 \\n     \n",
              "3488      6  0.987673                        \n",
              "3505      8  0.988015                 aborder\n",
              "293       1  0.017727                   achat\n",
              "293       2  0.048453                   achat\n",
              "293       3  0.005909                   achat\n",
              "293       5  0.387623                   achat\n",
              "293       6  0.492801                   achat\n",
              "293       7  0.043726                   achat\n",
              "293      10  0.003545                   achat\n",
              "461       1  0.068630                 acheter\n",
              "461       2  0.153407                 acheter\n",
              "461       5  0.666111                 acheter\n",
              "461       8  0.110346                 acheter\n",
              "862       4  0.128532                  action\n",
              "862       7  0.777103                  action\n",
              "862       8  0.093075                  action\n",
              "2468      6  0.995027           administratif\n",
              "866       1  0.009098                    agir\n",
              "866       2  0.006823                    agir\n",
              "866       4  0.249051                    agir\n",
              "866       7  0.104624                    agir\n",
              "866       8  0.628883                    agir\n",
              "463       1  0.002234                agricole\n",
              "463       2  0.997311                agricole\n",
              "259       2  0.998550             agriculteur\n",
              "464       2  0.999632             agriculture\n",
              "562       2  0.996436  agriculture_biologique\n",
              "1474     10  0.994366   agriculture_raisonner\n",
              "...     ...       ...                     ...\n",
              "255       9  0.999559                 énergie\n",
              "460       9  0.998617         énergie_fossile\n",
              "2965      9  0.991202          énergie_propre\n",
              "630       9  0.999360    énergie_renouvelable\n",
              "355       6  0.064821             énergétique\n",
              "355       7  0.388928             énergétique\n",
              "355       9  0.544499             énergétique\n",
              "721       9  0.998853                  éolien\n",
              "3821      9  0.995079          éolien_solaire\n",
              "257       9  0.999399                éolienne\n",
              "169       2  0.002412                    état\n",
              "169       3  0.001809                    état\n",
              "169       4  0.048843                    état\n",
              "169       5  0.089848                    état\n",
              "169       6  0.107335                    état\n",
              "169       7  0.581296                    état\n",
              "169       8  0.107938                    état\n",
              "169       9  0.059697                    état\n",
              "169      10  0.001206                    état\n",
              "4158      1  0.992250                 étendre\n",
              "4659      6  0.992017               évidement\n",
              "558       1  0.305939                  éviter\n",
              "558       2  0.103479                  éviter\n",
              "558       3  0.221956                  éviter\n",
              "558       4  0.016497                  éviter\n",
              "558       6  0.157469                  éviter\n",
              "558       7  0.109478                  éviter\n",
              "558       8  0.031494                  éviter\n",
              "558       9  0.038992                  éviter\n",
              "558      10  0.013497                  éviter\n",
              "\n",
              "[1467 rows x 3 columns], R=30, lambda_step=0.01, plot_opts={'xlab': 'PC1', 'ylab': 'PC2'}, topic_order=[1, 2, 3, 4, 5, 6, 7, 8, 9, 10])"
            ]
          },
          "metadata": {
            "tags": []
          },
          "execution_count": 18
        }
      ]
    },
    {
      "cell_type": "markdown",
      "metadata": {
        "id": "hztuZieWAGeg",
        "colab_type": "text"
      },
      "source": [
        "Finally, let's inspect the topics the model recognizes in some of the individual documents. Here we see how LDA tends to assign a high probability to a low number of topics for each documents, which makes its results very interpretable."
      ]
    },
    {
      "cell_type": "code",
      "metadata": {
        "id": "U44kacjNw5Bg",
        "colab_type": "code",
        "outputId": "ffeb46a2-fcbe-4c1b-c0ba-77c38f161a3d",
        "colab": {
          "base_uri": "https://localhost:8080/",
          "height": 1000
        }
      },
      "source": [
        "for (text, doc) in zip(texts[:20], docs[:20]):\n",
        "    print(text)\n",
        "    print([(topic+1, prob) for (topic, prob) in model[dictionary.doc2bow(doc)] if prob > 0.1])"
      ],
      "execution_count": 0,
      "outputs": [
        {
          "output_type": "stream",
          "text": [
            "Multiplier les centrales géothermiques\n",
            "[(5, 0.30585632), (9, 0.49412858)]\n",
            "Les problèmes auxquels se trouve confronté l’ensemble de la planète et que dénoncent, dans le plus parfait désordre, les gilets jaunes de France ne sont-ils pas dus, avant tout, à la surpopulation mondiale ? Cette population est passée d’1,5 milliards d’habitants en 1900 à 7 milliards en 2020 et montera bientôt à 10 milliards vers 2040.  Avec les progrès de la communication dans ce village mondial, chaque individu, du fin fond de l’Asie au fin fond de l’Afrique, en passant par les « quartiers » et les « campagnes » de notre pays, aspire à vivre – et on ne peu l’en blâmer – comme les moins mal lotis de nos concitoyens (logement, nourriture, biens de consommation, déplacement,etc.).  Voilà la mère de tous les problèmes. Si tel est bien le cas, la solution à tous les problèmes (stabilisation de la croissance démographique, partage des richesses, partage des terres, partage de l’eau, protection de la biodiversité, règlement des conflits, lutte contre la déforestation, lutte contre dérèglement climatique, règlement des conflits, stabilisation des migrations, concurrence commerciale mondiale, etc.) ne sera ni française, ni européenne, mais mondiale. La France se doit d’y jouer un rôle moteur.  Le reste, autour duquel se déroulera « le Grand débat », paraît assez anecdotique.\n",
            "[(4, 0.5829449), (5, 0.13922064)]\n",
            "Une vrai politique écologique et non économique\n",
            "[(4, 0.5928919), (7, 0.2737681)]\n",
            "Les bonnes idées ne grandissent que par le partage.\n",
            "\n",
            "En ces jours pénibles où s'affrontent le peuple et ceux entre lesquels ils ont remis leur sort. (tous concernés puis qu’élus).\n",
            "\n",
            "Une idée qui flotte en ce moment sur la mobilité propre dans les zones non ou mal desservies et qui est encore expérimentale dans quelques communes.\n",
            "\n",
            "L'avenir  est entre vos mains et les nôtres. Pourquoi ne pas planifier l'installation de flotte de véhicules électriques partagés en location, dans ces zones isolées.\n",
            "\n",
            "En construisant un partenariat avec : état, région, département, commune ou communauté, professionnel de la location, entreprises locales, constructeurs de véhicules, les bailleurs sociaux, pour la mise en place. Avec l'apport financier de la TICPE qui baissera au fil de la décroissance de la consommation, il faudra penser à la déconnecter du budget de fonctionnement de l'état !\n",
            "\n",
            "Avec un forfait de location pour les utilisateurs, adapté à leur ressources et peut être tout simplement basé sur leurs dépenses de mobilité actuelles. Ainsi pas d'investissements inaccessibles pour eux.\n",
            "\n",
            "Tout le monde y gagnerait, cela  pourrait prendre l'image du relais de poste comme par le passé et réglerait le problème d'autonomie actuel et engendrerait quelques emplois de service, nouveaux.\n",
            "[(4, 0.1042202), (5, 0.45813265), (6, 0.29157448), (7, 0.13968857)]\n",
            "Pédagogie dans ce sens là dés la petite école pour sensibilisation via les parcs naturels . Les enfants doivent devenir des prescripteurs  pour les générations futures . Il y a urgence\n",
            "[(1, 0.105220065), (8, 0.6846088)]\n",
            "faire de l'écologie incitative et non punitive on n'est pas des gosses à qui on distribue des bonnes ou mauvaises notes\n",
            "[(7, 0.12157968), (8, 0.8056915)]\n",
            "Développer le ferroutage pour les poids lourds, Instaurer une vignette pour les poids lourds étrangers qui traversent la France\n",
            "[(3, 0.18565382), (10, 0.7672846)]\n",
            "- Favoriser le tri des déchets en mettant en place une redevance incitatrice et non punitive,\n",
            "- Arrêt d'une écologie punitive à base de taxes qui est néfaste à la compréhension d'une écologie intelligente, adaptée et durable.\n",
            "- Revoir la politique de pose des panneaux solaire en Ferme qui en fait gâche des terrains et sert plus à récolter des taxes pour les caisses des collectivités,\n",
            "- Revoir la politique de mise en place des éoliennes qui ne sont pas adaptées, peu rentable (< 30%) et qui produisent des effets néfastes par du bruit et des infra-ondes,\n",
            "- Arrêt du rachat, à des prix exorbitants, de l'énergie produite par des panneaux solaire, par des éoliennes ou par tout autre moyen dit propre (Bio-masse, hydraulique),\n",
            "- Favoriser le développement de la bio-masse,\n",
            "- Développer le stockage intelligent de l'énergie,\n",
            "- Réaliser une grande opération pour assurer l'isolation des bâtiments énergivores,\n",
            "- Éteindre les éclairages la nuit,\n",
            "- Développer les transports en site propre.\n",
            "[(5, 0.17200428), (7, 0.12881699), (9, 0.32637733)]\n",
            "aider les petits commerces ou agriculteurs  et supprimer le glysophate\n",
            "[(2, 0.62618387), (3, 0.27381143)]\n",
            "Il faut utiliser TOUS les logements vacants au lieu d'aller en construire de nouveaux sans arrêt, qui bousillent la terre et détruisent l'habitat des rares animaux restants encore (6è extinction de masse). \n",
            "Taxer de façon extrêmement sévère les piscines, l'eau au-delà du minimum nécessaire par personne et par jour, les gros SUV inutiles, les voyages en avion qui détruisent la planète et ne servent qu'à satisfaire l'occidental riche capitaliste.\n",
            "[(3, 0.21035607), (8, 0.363213), (9, 0.13411425), (10, 0.1512824)]\n",
            "non\n",
            "[(1, 0.1), (2, 0.1), (3, 0.1), (4, 0.1), (5, 0.1), (6, 0.1), (7, 0.1), (8, 0.1), (9, 0.1), (10, 0.1)]\n",
            "Dans les années 80, une société avait passé des contrats avec les organismes HLM : la société changeait toute la robinetterie à ses frais, pour une robinetterie de qualité, et se payait ensuite sur une partie des économies d'eau. Gagnant-gagnant.\n",
            "Pourquoi ne pas susciter la même chose pour la réhabilitation thermique des bâtiments ? Les propriétaires n'ont pas la capacité d'endettement pour réaliser les travaux, même avec des prêts à taux zéro et avec les crédits d'impôt. Pourquoi ne pas susciter des entreprises (peut-être les fournisseurs d'énergie) pour qu'elles réalisent à leurs frais les travaux de réhabilitation les plus urgents et se paient ensuite sur une part des économies d'énergie (conditions détaillées à préciser compte tenu des variations météorologiques) ? On peut aider cela avec l'ensemble des aides à l'efficacité énergétique. Le propriétaire ne débourserait rien et gagnerait du pouvoir d'achat. Les entreprises qui fourniraient ce service pourraient être très rentables, moyennant un temps de retour peut-être un peu long (à étudier), l'environnement y gagnerait, et ceci créerait de nombreux emplois et du chiffre d'affaires pour les fournisseurs de matériaux d'isolation, de régulation ou de chauffage, sans que L’État y consacre un euro de plus qu'actuellement.\n",
            "[(6, 0.8188492)]\n",
            "oui .\n",
            "les bouteilles plastiques vendues par les grands magasins ne pourrait il pas faire comme ailleurs?\n",
            "machines sur les parkings des magasins qui les vendent .chaque bouteille mise dans la machine=bon d achat pour le magasin\n",
            "[(1, 0.58034915), (6, 0.19780974), (10, 0.10374739)]\n",
            "Le véhicule électrique doit être amélioré dans sa conception pour réduire son impact écologique lors de sa fabrication/destruction, pour inciter les citoyens à passer au véhicule électrique, il faut retravailler l'autonomie de ces vehicules, une Renault Zoé avec 300km d'autonomie, c'est en réalité une trottinette électrique qui coûte cher, une Tesla, c'est inabordable... . Les bornes de recharges sont quasi inexistantes pour le moment, l'état doit imposer l'installation de bornes de recharges gratuites par les constructeurs automobiles sur un % de place de parking pour chaque ville/village. Après tout, plus il y aura de bornes de recharges, plus il y aura de véhicules électriques, et plus ils en vendront, les principaux intéressés (constructeurs automobiles) y gagneraient en mettant la main à la patte. \n",
            "Aujourd'hui, la location des batteries est aussi un frein à l'achat de ces véhicules, un petit rouleur verra son portefeuille encore plus emputé en passant à l'electrique, 69 euros de location de batterie + 6-10 euros en électricité pour recharge en moyenne par mois, quand avant il faisait 1 plein de citadine mensuellement, le gain n'existe pas dans cette situation.\n",
            "Les véhicules hybrides sont de par leur motorisation beaucoup plus puissants que les thermiques, ce qui permet aux assurances d'augmenter grassement leurs tarifs, et freine beaucoup de gens quand à l'achat de ce type de voiture.\n",
            "[(5, 0.8295875)]\n",
            "Limite le gaspillage alimentaire hyper consommation. Mettre de cota sur abatage des animaux massive sur péché tout les animaux tué qui ne sont pas consommé\n",
            "[(1, 0.51365584), (5, 0.267714), (10, 0.1686236)]\n",
            "Orienter l’ensemble des recettes des taxes « environnement » (TGAP, TICE, …) vers la transition écologique.\n",
            "Déchets => faire payer chaque producteur (professionnel et particuliers) en proportion de l’utilisation du service  (quantité et dangerosité).\n",
            "gratuité des transports en commun dans les villes de plus de 250 000 habitants, création de plateforme route/rail aux portes de ces villes et  péage urbain.\n",
            "Taxer au même niveau l’ensemble des énergies fossiles (avion, navire …).\n",
            "[(3, 0.34346318), (7, 0.23097302), (9, 0.12929776), (10, 0.28262642)]\n",
            "-\tAugmenter le nombre de bus qui font le trajet village-ville la plus proche de façon à ce qu’on puisse partir le matin et revenir chez nous à midi et partir en début d’après-midi et revenir vers 17h, ce qui permettrait aux gens de pouvoir se passer de voiture pour aller chez le médecin. Pour Cuts/Noyon ou Appilly/Noyon, on est obligé de partir le matin et de revenir le soir, je n’ai pas le budget pour manger en ville le midi, ni l’envie de rester une journée en ville dans le froid pour un rdv de 30 min chez le médecin\n",
            "\n",
            "-\tCréer une centrale d’achat, tous les grands groupes en ont une, mais l’état n’en a pas, résultat il paie trop cher pour toutes ses commandes et ce sont tous les citoyens qui paient trop cher, pour acheter les bus, pour entretenir les routes\n",
            "\n",
            "-\tChanger le système d’appel d’offre car au final les collectivités locales et territoriales paient trop cher leurs achats, il faut vraiment simplifier la procédure et former des acheteurs et les maires de ville et de village à la négociation, ce qui permettrait de baisser les dépenses et l’imposition\n",
            "\n",
            "-\tCréer un comité d’entreprise dans la fonction publique qui proposerait voyage, camps de vacances pour enfants, cinéma, etc…. à prix réduits, regrouper au maximum pour avoir des prix avantageux car le nombre d’acheteurs potentiels serait important\n",
            "\n",
            "-\tEncourager les ventes directes du producteur agricole au consommateur par des aides financière mais aussi par la création de site internet de commande en ligne, les chambres d’agriculture pourront s’en charger\n",
            "\n",
            "-\tFixer des prix maximum sur les fruits et légumes, de façon à ce que chacun puisse en manger à prix raisonnable ou limiter la marge sur les fruits et légumes ou supprimer les grossistes en fruits et légumes\n",
            "\n",
            "-\tFixer des prix fixes pour les produits alimentaires de base (pain, fruits et légumes, œuf, lait, viande, féculent)\n",
            "\n",
            "-\tSupprimer toutes les taxes sur les produits alimentaires, par exemple la taxe sur l’huile pour obliger les gens à acheter du beurre, on ne met pas de beurre dans les salades, et pour la santé afin d’éviter le cholestérol, tous les médecins conseillent de l’huile de pépins de raisins, or c’est l’huile la plus chère, ca veut dire que quand on est pauvre, on doit en plus être malade …..  \n",
            "\n",
            "-\tSupprimer le Conseil Constitutionnel qui bloque toutes les lois utiles au développement de la société et qui favorise les lobbyistes\n",
            "\n",
            "-\tAttribuer le CICE aux PME-PMI\n",
            "[(2, 0.23361844), (3, 0.21349986), (6, 0.30674365)]\n",
            "Ne plus faire semblant de la mettre en place\n",
            "[(10, 0.8714161)]\n",
            "non\n",
            "[(1, 0.1), (2, 0.1), (3, 0.1), (4, 0.1), (5, 0.1), (6, 0.1), (7, 0.1), (8, 0.1), (9, 0.1), (10, 0.1)]\n",
            "● Conservation et prolongement des centrales nucléaires, permettant de produire une électricité propre et peu coûteuse.\n",
            "● Enfouissement des déchets nucléaires dans des zones géologiques stables, à l'instar des USA\n",
            "● Développement de toutes les énergies renouvelables, avec incitations fiscales intéressantes.\n",
            "● Incitation à passer à la voiture électrique grâce à l'adoption d'un programme national d'équipement sur le modèle proposé en Israël, permettant aux véhicules électriques de se recharger en roulant (financé grâce à des investisseurs privés moyennant une diminution de leur impôt)\n",
            "● Développement des éoliennes offshore, et des hydroliennes.\n",
            "● Programme national pour le développement du moteur à hydrogène\n",
            "● Incitations multiples à l'agriculture biologique\n",
            "● Généralisation du principe du \"circuit court\" en facilitant aux agriculteurs la vente directe, et en mettant tout en œuvre pour promouvoir les produits locaux, plutôt que ceux venus de loin.\n",
            "● Protection du patrimoine naturel, avec interdiction des infrastructures inutiles détruisant la faune et la flore (ex : Grand contournement Ouest de Strasbourg, catastrophique et inutile)\n",
            "● Principe de l'incitation, plutôt que la taxation : l'augmentation du prix du gazole, alors que la fiscalité sur les carburants est déjà excessive, a été le détonateur de la crise des Gilets Jaunes !\n",
            "[(2, 0.3469699), (5, 0.19028042), (7, 0.19325697), (9, 0.19993033)]\n"
          ],
          "name": "stdout"
        }
      ]
    },
    {
      "cell_type": "markdown",
      "metadata": {
        "id": "zue_uX-FAPWp",
        "colab_type": "text"
      },
      "source": [
        "## Conclusions\n",
        "Many collections of unstructured texts don't come with any labels. Topic models such as Latent Dirichlet Allocation are a useful technique to discover the most prominent topics in such documents. Gensim makes training these topics model easy, and pyLDAvis presents the results in a visually attractive way. Together they form a powerful toolkit to better understand what's inside large sets of documents, and to explore subsets of related texts. While these results are often very revealing already, it's also possible to use them as a starting point, for example for a labelling exercise for supervised text classification. Although traditional topic models are lacking in more semantic information (they don't use word embeddings, for instance), they should be in every NLPer's toolkit as a really quick way of getting insights into large collections of documents."
      ]
    }
  ]
}