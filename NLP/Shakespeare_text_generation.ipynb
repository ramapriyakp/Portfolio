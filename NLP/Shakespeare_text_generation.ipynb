{
  "nbformat": 4,
  "nbformat_minor": 0,
  "metadata": {
    "colab": {
      "name": "Shakespeare-text-generation.ipynb",
      "provenance": [],
      "collapsed_sections": [],
      "include_colab_link": true
    },
    "kernelspec": {
      "name": "python3",
      "display_name": "Python 3"
    },
    "accelerator": "GPU"
  },
  "cells": [
    {
      "cell_type": "markdown",
      "metadata": {
        "id": "view-in-github",
        "colab_type": "text"
      },
      "source": [
        "<a href=\"https://colab.research.google.com/github/ramapriyakp/Portfolio/blob/master/NLP/Shakespeare_text_generation.ipynb\" target=\"_parent\"><img src=\"https://colab.research.google.com/assets/colab-badge.svg\" alt=\"Open In Colab\"/></a>"
      ]
    },
    {
      "cell_type": "markdown",
      "metadata": {
        "id": "_7sYqt_YoqKw",
        "colab_type": "text"
      },
      "source": [
        "# Text Generation using LSTMs\n",
        "Text Generation is a type of Language Modelling problem. Language Modelling is the core problem for a number of of natural language processing tasks such as speech to text, conversational system, and text summarization.\n",
        "\n",
        "A trained language model learns the likelihood of occurrence of a word based on the previous sequence of words used in the text. Language models can be operated at character level, n-gram level, sentence level or even paragraph level. In this notebook, we will create a language model for generating natural language text by implement and training state-of-the-art Recurrent Neural Network"
      ]
    },
    {
      "cell_type": "code",
      "metadata": {
        "id": "BOwsuGQQY9OL",
        "colab_type": "code",
        "colab": {}
      },
      "source": [
        "from tensorflow.keras.preprocessing.sequence import pad_sequences\n",
        "from tensorflow.keras.layers import Embedding, LSTM, Dense, Dropout, Bidirectional\n",
        "from tensorflow.keras.preprocessing.text import Tokenizer\n",
        "from tensorflow.keras.models import Sequential\n",
        "from tensorflow.keras.optimizers import Adam\n",
        " \n",
        "# Figure out how to import regularizers\n",
        "import tensorflow.keras.regularizers as regularizers\n",
        "###\n",
        "import tensorflow.keras.utils as ku \n",
        "import numpy as np "
      ],
      "execution_count": 0,
      "outputs": []
    },
    {
      "cell_type": "code",
      "metadata": {
        "id": "r791G9TYIs7F",
        "colab_type": "code",
        "outputId": "3647c882-ec6c-46dd-d172-9bf18a62f91e",
        "colab": {
          "base_uri": "https://localhost:8080/",
          "height": 122
        }
      },
      "source": [
        "from google.colab import drive\n",
        "drive.mount('/content/drive')"
      ],
      "execution_count": 0,
      "outputs": [
        {
          "output_type": "stream",
          "text": [
            "Go to this URL in a browser: https://accounts.google.com/o/oauth2/auth?client_id=947318989803-6bn6qk8qdgf4n4g3pfee6491hc0brc4i.apps.googleusercontent.com&redirect_uri=urn%3Aietf%3Awg%3Aoauth%3A2.0%3Aoob&scope=email%20https%3A%2F%2Fwww.googleapis.com%2Fauth%2Fdocs.test%20https%3A%2F%2Fwww.googleapis.com%2Fauth%2Fdrive%20https%3A%2F%2Fwww.googleapis.com%2Fauth%2Fdrive.photos.readonly%20https%3A%2F%2Fwww.googleapis.com%2Fauth%2Fpeopleapi.readonly&response_type=code\n",
            "\n",
            "Enter your authorization code:\n",
            "··········\n",
            "Mounted at /content/drive\n"
          ],
          "name": "stdout"
        }
      ]
    },
    {
      "cell_type": "markdown",
      "metadata": {
        "id": "nWt33YIxg_rF",
        "colab_type": "text"
      },
      "source": [
        "##Class Tokenizer\n",
        "Text tokenization utility class.\n",
        "\n",
        "This class allows to vectorize a text corpus, by turning each text into either a sequence of integers\n",
        "(each integer being the index of a token in a dictionary) or into a vector where the coefficient\n",
        "for each token could be binary, based on word count, based on tf-idf...\n",
        "\n",
        "**fit_on_texts(texts)**\n",
        "\n",
        "Updates internal vocabulary based on a list of texts.\n",
        "In the case where texts contains lists, we assume each entry of the lists to be a token."
      ]
    },
    {
      "cell_type": "code",
      "metadata": {
        "colab_type": "code",
        "id": "PRnDnCW-Z7qv",
        "outputId": "9e3ed636-1924-4842-d8bf-8f9ea1f487ea",
        "colab": {
          "base_uri": "https://localhost:8080/",
          "height": 204
        }
      },
      "source": [
        "tokenizer = Tokenizer()\n",
        "!wget --no-check-certificate \\\n",
        "    https://storage.googleapis.com/laurencemoroney-blog.appspot.com/sonnets.txt \\\n",
        "    -O /tmp/sonnets.txt\n",
        "data = open('/tmp/sonnets.txt').read()\n",
        "\n",
        "corpus = data.lower().split(\"\\n\")\n",
        "\n",
        "\n",
        "tokenizer.fit_on_texts(corpus)\n",
        "total_words = len(tokenizer.word_index) + 1\n",
        "\n",
        "# create input sequences using list of tokens\n",
        "input_sequences = []\n",
        "for line in corpus:\n",
        "\ttoken_list = tokenizer.texts_to_sequences([line])[0]\n",
        "\tfor i in range(1, len(token_list)):\n",
        "\t\tn_gram_sequence = token_list[:i+1]\n",
        "\t\tinput_sequences.append(n_gram_sequence)\n",
        "\n",
        "\n",
        "# pad sequences \n",
        "max_sequence_len = max([len(x) for x in input_sequences])\n",
        "input_sequences = np.array(pad_sequences(input_sequences, maxlen=max_sequence_len, padding='pre'))\n",
        "\n",
        "# create predictors and label\n",
        "predictors, label = input_sequences[:,:-1],input_sequences[:,-1]\n",
        "\n",
        "label = ku.to_categorical(label, num_classes=total_words)"
      ],
      "execution_count": 0,
      "outputs": [
        {
          "output_type": "stream",
          "text": [
            "--2019-08-30 16:14:24--  https://storage.googleapis.com/laurencemoroney-blog.appspot.com/sonnets.txt\n",
            "Resolving storage.googleapis.com (storage.googleapis.com)... 172.217.160.16, 2404:6800:4003:80d::2010\n",
            "Connecting to storage.googleapis.com (storage.googleapis.com)|172.217.160.16|:443... connected.\n",
            "HTTP request sent, awaiting response... 200 OK\n",
            "Length: 93578 (91K) [text/plain]\n",
            "Saving to: ‘/tmp/sonnets.txt’\n",
            "\n",
            "\r/tmp/sonnets.txt      0%[                    ]       0  --.-KB/s               \r/tmp/sonnets.txt    100%[===================>]  91.38K  --.-KB/s    in 0.001s  \n",
            "\n",
            "2019-08-30 16:14:25 (109 MB/s) - ‘/tmp/sonnets.txt’ saved [93578/93578]\n",
            "\n"
          ],
          "name": "stdout"
        }
      ]
    },
    {
      "cell_type": "code",
      "metadata": {
        "id": "u_kpr-VXegVX",
        "colab_type": "code",
        "colab": {}
      },
      "source": [
        "from tensorflow.keras.layers import Embedding, LSTM, Dropout, Dense, Activation"
      ],
      "execution_count": 0,
      "outputs": []
    },
    {
      "cell_type": "markdown",
      "metadata": {
        "id": "r72cyvmVyb-Q",
        "colab_type": "text"
      },
      "source": [
        "## 4. LSTMs for Text Generation\n",
        " Recurrent neural networks have shown a good performance in sequence to sequence learning and text data applications. Lets look at them in brief.\n",
        "\n",
        "\n",
        "\n",
        "![](http://www.shivambansal.com/blog/text-lstm/2.png)\n",
        "\n",
        "Unlike Feed-forward neural networks in which activation outputs are propagated only in one direction, the activation outputs from neurons propagate in both directions (from inputs to outputs and from outputs to inputs) in Recurrent Neural Networks. This creates loops in the neural network architecture which acts as a ‘memory state’ of the neurons. This state allows the neurons an ability to remember what have been learned so far.\n",
        "\n",
        "The memory state in RNNs gives an advantage over traditional neural networks but a problem called Vanishing Gradient is associated with them. In this problem, while learning with a large number of layers, it becomes really hard for the network to learn and tune the parameters of the earlier layers. To address this problem, A new type of RNNs called LSTMs (Long Short Term Memory) Models have been developed.\n",
        "\n",
        "LSTMs have an additional state called ‘cell state’ through which the network makes adjustments in the information flow. The advantage of this state is that the model can remember or forget the leanings more selectively. To learn more about LSTMs, here is a great post. Lets architecture a LSTM model in our code. I have added total three layers in the model.\n",
        "\n",
        "1. Input Layer : Takes the sequence of words as input.Keras offers an Embedding layer that can be used for neural networks on text data.\n",
        "2. LSTM Layer : Computes the output using LSTM units. I have added 100 units in the layer, but this number can be fine tuned later.\n",
        "3. Dropout Layer : A regularisation layer which randomly turns-off the activations of some neurons in the LSTM layer. It helps in preventing over fitting. (Optional Layer)\n",
        "4. Output Layer : Computes the probability of the best possible next word as output\n",
        "\n",
        "We will run this model for total 100 epoochs but it can be experimented further.\n",
        "\n",
        "\n",
        "\n",
        "\n"
      ]
    },
    {
      "cell_type": "code",
      "metadata": {
        "id": "w9vH8Y59ajYL",
        "colab_type": "code",
        "outputId": "9d51cd53-8944-42bd-bea8-463d1a14d9de",
        "colab": {
          "base_uri": "https://localhost:8080/",
          "height": 666
        }
      },
      "source": [
        "model = Sequential()\n",
        "model.add(Embedding(input_dim=total_words, output_dim=100, input_length=max_sequence_len-1))\n",
        "model.add(Bidirectional(LSTM(100, return_sequences=True)))\n",
        "model.add(Dropout(0.2))\n",
        "model.add(LSTM(50))\n",
        "model.add(Dense(total_words/2, activation='relu', kernel_regularizer=regularizers.l2(0.01)))\n",
        "model.add(Dense(total_words, activation='softmax'))\n",
        "\n",
        "print(model.summary())"
      ],
      "execution_count": 0,
      "outputs": [
        {
          "output_type": "stream",
          "text": [
            "WARNING: Logging before flag parsing goes to stderr.\n",
            "W0830 16:14:37.407517 140239690790784 deprecation.py:506] From /usr/local/lib/python3.6/dist-packages/tensorflow/python/keras/initializers.py:119: calling RandomUniform.__init__ (from tensorflow.python.ops.init_ops) with dtype is deprecated and will be removed in a future version.\n",
            "Instructions for updating:\n",
            "Call initializer instance with the dtype argument instead of passing it to the constructor\n",
            "W0830 16:14:37.434170 140239690790784 deprecation.py:506] From /usr/local/lib/python3.6/dist-packages/tensorflow/python/ops/init_ops.py:1251: calling VarianceScaling.__init__ (from tensorflow.python.ops.init_ops) with dtype is deprecated and will be removed in a future version.\n",
            "Instructions for updating:\n",
            "Call initializer instance with the dtype argument instead of passing it to the constructor\n",
            "W0830 16:14:37.440778 140239690790784 deprecation.py:506] From /usr/local/lib/python3.6/dist-packages/tensorflow/python/ops/init_ops.py:97: calling GlorotUniform.__init__ (from tensorflow.python.ops.init_ops) with dtype is deprecated and will be removed in a future version.\n",
            "Instructions for updating:\n",
            "Call initializer instance with the dtype argument instead of passing it to the constructor\n",
            "W0830 16:14:37.441781 140239690790784 deprecation.py:506] From /usr/local/lib/python3.6/dist-packages/tensorflow/python/ops/init_ops.py:97: calling Orthogonal.__init__ (from tensorflow.python.ops.init_ops) with dtype is deprecated and will be removed in a future version.\n",
            "Instructions for updating:\n",
            "Call initializer instance with the dtype argument instead of passing it to the constructor\n",
            "W0830 16:14:37.443146 140239690790784 deprecation.py:506] From /usr/local/lib/python3.6/dist-packages/tensorflow/python/ops/init_ops.py:97: calling Zeros.__init__ (from tensorflow.python.ops.init_ops) with dtype is deprecated and will be removed in a future version.\n",
            "Instructions for updating:\n",
            "Call initializer instance with the dtype argument instead of passing it to the constructor\n"
          ],
          "name": "stderr"
        },
        {
          "output_type": "stream",
          "text": [
            "Model: \"sequential\"\n",
            "_________________________________________________________________\n",
            "Layer (type)                 Output Shape              Param #   \n",
            "=================================================================\n",
            "embedding (Embedding)        (None, 10, 100)           321100    \n",
            "_________________________________________________________________\n",
            "bidirectional (Bidirectional (None, 10, 200)           160800    \n",
            "_________________________________________________________________\n",
            "dropout (Dropout)            (None, 10, 200)           0         \n",
            "_________________________________________________________________\n",
            "lstm_1 (LSTM)                (None, 50)                50200     \n",
            "_________________________________________________________________\n",
            "dense (Dense)                (None, 1605)              81855     \n",
            "_________________________________________________________________\n",
            "dense_1 (Dense)              (None, 3211)              5156866   \n",
            "=================================================================\n",
            "Total params: 5,770,821\n",
            "Trainable params: 5,770,821\n",
            "Non-trainable params: 0\n",
            "_________________________________________________________________\n",
            "None\n"
          ],
          "name": "stdout"
        }
      ]
    },
    {
      "cell_type": "code",
      "metadata": {
        "id": "KVIERhbhgFIJ",
        "colab_type": "code",
        "colab": {}
      },
      "source": [
        "# Pick an optimizer\n",
        "from tensorflow.keras.optimizers import Adam\n",
        "adam = Adam(lr=0.01)\n",
        "model.compile(optimizer='adam', loss='categorical_crossentropy', metrics=['accuracy'])\n"
      ],
      "execution_count": 0,
      "outputs": []
    },
    {
      "cell_type": "code",
      "metadata": {
        "id": "AvKsqdpBiQZT",
        "colab_type": "code",
        "colab": {}
      },
      "source": [
        "from tensorflow.keras.callbacks import History, EarlyStopping, ModelCheckpoint\n",
        "\n",
        "history_with_reg = History()\n",
        "es = EarlyStopping(patience=10, monitor='acc')\n",
        "mc = ModelCheckpoint(\"seq_model_with_reg.h5\", monitor='acc', \n",
        "                     save_best_only=True, load_weights_on_restart=True)"
      ],
      "execution_count": 0,
      "outputs": []
    },
    {
      "cell_type": "code",
      "metadata": {
        "id": "AIg2f1HBxqof",
        "colab_type": "code",
        "outputId": "cbd721ff-6035-4e9f-a533-d91485625317",
        "colab": {
          "base_uri": "https://localhost:8080/",
          "height": 1000
        }
      },
      "source": [
        "model.fit(predictors, label, epochs=100, verbose=1, callbacks=[history_with_reg, mc])"
      ],
      "execution_count": 0,
      "outputs": [
        {
          "output_type": "stream",
          "text": [
            "W0830 16:15:16.600243 140239690790784 deprecation.py:323] From /usr/local/lib/python3.6/dist-packages/tensorflow/python/ops/math_grad.py:1250: add_dispatch_support.<locals>.wrapper (from tensorflow.python.ops.array_ops) is deprecated and will be removed in a future version.\n",
            "Instructions for updating:\n",
            "Use tf.where in 2.0, which has the same broadcast rule as np.where\n"
          ],
          "name": "stderr"
        },
        {
          "output_type": "stream",
          "text": [
            "Epoch 1/100\n",
            "15462/15462 [==============================] - 26s 2ms/sample - loss: 6.8844 - acc: 0.0213\n",
            "Epoch 2/100\n",
            "15462/15462 [==============================] - 24s 2ms/sample - loss: 6.4994 - acc: 0.0219\n",
            "Epoch 3/100\n",
            "15462/15462 [==============================] - 24s 2ms/sample - loss: 6.3952 - acc: 0.0243\n",
            "Epoch 4/100\n",
            "15462/15462 [==============================] - 25s 2ms/sample - loss: 6.2692 - acc: 0.0279\n",
            "Epoch 5/100\n",
            "15462/15462 [==============================] - 25s 2ms/sample - loss: 6.1805 - acc: 0.0328\n",
            "Epoch 6/100\n",
            "15462/15462 [==============================] - 24s 2ms/sample - loss: 6.1051 - acc: 0.0369\n",
            "Epoch 7/100\n",
            "15462/15462 [==============================] - 24s 2ms/sample - loss: 6.0250 - acc: 0.0391\n",
            "Epoch 8/100\n",
            "15462/15462 [==============================] - 24s 2ms/sample - loss: 5.9548 - acc: 0.0418\n",
            "Epoch 9/100\n",
            "15462/15462 [==============================] - 24s 2ms/sample - loss: 5.8745 - acc: 0.0476\n",
            "Epoch 10/100\n",
            "15462/15462 [==============================] - 24s 2ms/sample - loss: 5.7828 - acc: 0.0523\n",
            "Epoch 11/100\n",
            "15462/15462 [==============================] - 24s 2ms/sample - loss: 5.6846 - acc: 0.0586\n",
            "Epoch 12/100\n",
            "15462/15462 [==============================] - 24s 2ms/sample - loss: 5.5835 - acc: 0.0648\n",
            "Epoch 13/100\n",
            "15462/15462 [==============================] - 24s 2ms/sample - loss: 5.4799 - acc: 0.0719\n",
            "Epoch 14/100\n",
            "15462/15462 [==============================] - 24s 2ms/sample - loss: 5.3776 - acc: 0.0790\n",
            "Epoch 15/100\n",
            "15462/15462 [==============================] - 24s 2ms/sample - loss: 5.2825 - acc: 0.0865\n",
            "Epoch 16/100\n",
            "15462/15462 [==============================] - 24s 2ms/sample - loss: 5.1810 - acc: 0.0935\n",
            "Epoch 17/100\n",
            "15462/15462 [==============================] - 24s 2ms/sample - loss: 5.0909 - acc: 0.1008\n",
            "Epoch 18/100\n",
            "15462/15462 [==============================] - 24s 2ms/sample - loss: 4.9980 - acc: 0.1079\n",
            "Epoch 19/100\n",
            "15462/15462 [==============================] - 24s 2ms/sample - loss: 4.9086 - acc: 0.1176\n",
            "Epoch 20/100\n",
            "15462/15462 [==============================] - 24s 2ms/sample - loss: 4.8209 - acc: 0.1228\n",
            "Epoch 21/100\n",
            "15462/15462 [==============================] - 24s 2ms/sample - loss: 4.7309 - acc: 0.1315\n",
            "Epoch 22/100\n",
            "15462/15462 [==============================] - 24s 2ms/sample - loss: 4.6466 - acc: 0.1366\n",
            "Epoch 23/100\n",
            "15462/15462 [==============================] - 24s 2ms/sample - loss: 4.5627 - acc: 0.1450\n",
            "Epoch 24/100\n",
            "15462/15462 [==============================] - 23s 2ms/sample - loss: 4.4765 - acc: 0.1549\n",
            "Epoch 25/100\n",
            "15462/15462 [==============================] - 24s 2ms/sample - loss: 4.3971 - acc: 0.1612\n",
            "Epoch 26/100\n",
            "15462/15462 [==============================] - 24s 2ms/sample - loss: 4.3179 - acc: 0.1706\n",
            "Epoch 27/100\n",
            "15462/15462 [==============================] - 23s 2ms/sample - loss: 4.2339 - acc: 0.1816\n",
            "Epoch 28/100\n",
            "15462/15462 [==============================] - 24s 2ms/sample - loss: 4.1549 - acc: 0.1868\n",
            "Epoch 29/100\n",
            "15462/15462 [==============================] - 24s 2ms/sample - loss: 4.0774 - acc: 0.1998\n",
            "Epoch 30/100\n",
            "15462/15462 [==============================] - 24s 2ms/sample - loss: 4.0065 - acc: 0.2051\n",
            "Epoch 31/100\n",
            "15462/15462 [==============================] - 24s 2ms/sample - loss: 3.9235 - acc: 0.2192\n",
            "Epoch 32/100\n",
            "15462/15462 [==============================] - 24s 2ms/sample - loss: 3.8505 - acc: 0.2283\n",
            "Epoch 33/100\n",
            "15462/15462 [==============================] - 24s 2ms/sample - loss: 3.7751 - acc: 0.2449\n",
            "Epoch 34/100\n",
            "15462/15462 [==============================] - 24s 2ms/sample - loss: 3.7001 - acc: 0.2588\n",
            "Epoch 35/100\n",
            "15462/15462 [==============================] - 24s 2ms/sample - loss: 3.6411 - acc: 0.2691\n",
            "Epoch 36/100\n",
            "15462/15462 [==============================] - 24s 2ms/sample - loss: 3.5625 - acc: 0.2815\n",
            "Epoch 37/100\n",
            "15462/15462 [==============================] - 24s 2ms/sample - loss: 3.5057 - acc: 0.2938\n",
            "Epoch 38/100\n",
            "15462/15462 [==============================] - 24s 2ms/sample - loss: 3.4397 - acc: 0.3153\n",
            "Epoch 39/100\n",
            "15462/15462 [==============================] - 24s 2ms/sample - loss: 3.3834 - acc: 0.3212\n",
            "Epoch 40/100\n",
            "15462/15462 [==============================] - 24s 2ms/sample - loss: 3.3141 - acc: 0.3370\n",
            "Epoch 41/100\n",
            "15462/15462 [==============================] - 24s 2ms/sample - loss: 3.2552 - acc: 0.3533\n",
            "Epoch 42/100\n",
            "15462/15462 [==============================] - 24s 2ms/sample - loss: 3.2043 - acc: 0.3604\n",
            "Epoch 43/100\n",
            "15462/15462 [==============================] - 24s 2ms/sample - loss: 3.1421 - acc: 0.3757\n",
            "Epoch 44/100\n",
            "15462/15462 [==============================] - 24s 2ms/sample - loss: 3.0933 - acc: 0.3854\n",
            "Epoch 45/100\n",
            "15462/15462 [==============================] - 24s 2ms/sample - loss: 3.0367 - acc: 0.3972\n",
            "Epoch 46/100\n",
            "15462/15462 [==============================] - 24s 2ms/sample - loss: 2.9830 - acc: 0.4124\n",
            "Epoch 47/100\n",
            "15462/15462 [==============================] - 24s 2ms/sample - loss: 2.9401 - acc: 0.4211\n",
            "Epoch 48/100\n",
            "15462/15462 [==============================] - 24s 2ms/sample - loss: 2.8945 - acc: 0.4284\n",
            "Epoch 49/100\n",
            "15462/15462 [==============================] - 24s 2ms/sample - loss: 2.8437 - acc: 0.4400\n",
            "Epoch 50/100\n",
            "15462/15462 [==============================] - 24s 2ms/sample - loss: 2.8005 - acc: 0.4494\n",
            "Epoch 51/100\n",
            "15462/15462 [==============================] - 24s 2ms/sample - loss: 2.7569 - acc: 0.4599\n",
            "Epoch 52/100\n",
            "15462/15462 [==============================] - 24s 2ms/sample - loss: 2.7137 - acc: 0.4693\n",
            "Epoch 53/100\n",
            "15462/15462 [==============================] - 24s 2ms/sample - loss: 2.6748 - acc: 0.4779\n",
            "Epoch 54/100\n",
            "15462/15462 [==============================] - 24s 2ms/sample - loss: 2.6180 - acc: 0.4880\n",
            "Epoch 55/100\n",
            "15462/15462 [==============================] - 24s 2ms/sample - loss: 2.5809 - acc: 0.4986\n",
            "Epoch 56/100\n",
            "15462/15462 [==============================] - 24s 2ms/sample - loss: 2.5517 - acc: 0.5070\n",
            "Epoch 57/100\n",
            "15462/15462 [==============================] - 24s 2ms/sample - loss: 2.5135 - acc: 0.5133\n",
            "Epoch 58/100\n",
            "15462/15462 [==============================] - 24s 2ms/sample - loss: 2.4826 - acc: 0.5160\n",
            "Epoch 59/100\n",
            "15462/15462 [==============================] - 24s 2ms/sample - loss: 2.4309 - acc: 0.5298\n",
            "Epoch 60/100\n",
            "15462/15462 [==============================] - 24s 2ms/sample - loss: 2.3974 - acc: 0.5387\n",
            "Epoch 61/100\n",
            "15462/15462 [==============================] - 24s 2ms/sample - loss: 2.3551 - acc: 0.5444\n",
            "Epoch 62/100\n",
            "15462/15462 [==============================] - 24s 2ms/sample - loss: 2.3290 - acc: 0.5511\n",
            "Epoch 63/100\n",
            "15462/15462 [==============================] - 24s 2ms/sample - loss: 2.3006 - acc: 0.5573\n",
            "Epoch 64/100\n",
            "15462/15462 [==============================] - 24s 2ms/sample - loss: 2.2611 - acc: 0.5702\n",
            "Epoch 65/100\n",
            "15462/15462 [==============================] - 24s 2ms/sample - loss: 2.2298 - acc: 0.5755\n",
            "Epoch 66/100\n",
            "15462/15462 [==============================] - 24s 2ms/sample - loss: 2.2043 - acc: 0.5776\n",
            "Epoch 67/100\n",
            "15462/15462 [==============================] - 24s 2ms/sample - loss: 2.1726 - acc: 0.5878\n",
            "Epoch 68/100\n",
            "15462/15462 [==============================] - 24s 2ms/sample - loss: 2.1497 - acc: 0.5897\n",
            "Epoch 69/100\n",
            "15462/15462 [==============================] - 24s 2ms/sample - loss: 2.1161 - acc: 0.6004\n",
            "Epoch 70/100\n",
            "15462/15462 [==============================] - 24s 2ms/sample - loss: 2.0951 - acc: 0.6050\n",
            "Epoch 71/100\n",
            "15462/15462 [==============================] - 24s 2ms/sample - loss: 2.0670 - acc: 0.6056\n",
            "Epoch 72/100\n",
            "15462/15462 [==============================] - 24s 2ms/sample - loss: 2.0390 - acc: 0.6139\n",
            "Epoch 73/100\n",
            "15462/15462 [==============================] - 24s 2ms/sample - loss: 2.0110 - acc: 0.6227\n",
            "Epoch 74/100\n",
            "15462/15462 [==============================] - 24s 2ms/sample - loss: 1.9763 - acc: 0.6283\n",
            "Epoch 75/100\n",
            "15462/15462 [==============================] - 24s 2ms/sample - loss: 1.9583 - acc: 0.6320\n",
            "Epoch 76/100\n",
            "15462/15462 [==============================] - 24s 2ms/sample - loss: 1.9283 - acc: 0.6407\n",
            "Epoch 77/100\n",
            "15462/15462 [==============================] - 24s 2ms/sample - loss: 1.9137 - acc: 0.6435\n",
            "Epoch 78/100\n",
            "15462/15462 [==============================] - 24s 2ms/sample - loss: 1.9036 - acc: 0.6438\n",
            "Epoch 79/100\n",
            "15462/15462 [==============================] - 24s 2ms/sample - loss: 1.8741 - acc: 0.6483\n",
            "Epoch 80/100\n",
            "15462/15462 [==============================] - 24s 2ms/sample - loss: 1.8502 - acc: 0.6547\n",
            "Epoch 81/100\n",
            "15462/15462 [==============================] - 24s 2ms/sample - loss: 1.8359 - acc: 0.6544\n",
            "Epoch 82/100\n",
            "15462/15462 [==============================] - 24s 2ms/sample - loss: 1.8048 - acc: 0.6653\n",
            "Epoch 83/100\n",
            "15462/15462 [==============================] - 24s 2ms/sample - loss: 1.7970 - acc: 0.6640\n",
            "Epoch 84/100\n",
            "15462/15462 [==============================] - 24s 2ms/sample - loss: 1.7801 - acc: 0.6686\n",
            "Epoch 85/100\n",
            "15462/15462 [==============================] - 24s 2ms/sample - loss: 1.7432 - acc: 0.6775\n",
            "Epoch 86/100\n",
            "15462/15462 [==============================] - 24s 2ms/sample - loss: 1.7162 - acc: 0.6811\n",
            "Epoch 87/100\n",
            "15462/15462 [==============================] - 24s 2ms/sample - loss: 1.7162 - acc: 0.6840\n",
            "Epoch 88/100\n",
            "15462/15462 [==============================] - 25s 2ms/sample - loss: 1.6956 - acc: 0.6810\n",
            "Epoch 89/100\n",
            "15462/15462 [==============================] - 26s 2ms/sample - loss: 1.6737 - acc: 0.6938\n",
            "Epoch 90/100\n",
            "15462/15462 [==============================] - 25s 2ms/sample - loss: 1.6556 - acc: 0.6951\n",
            "Epoch 91/100\n",
            "15462/15462 [==============================] - 24s 2ms/sample - loss: 1.6492 - acc: 0.6919\n",
            "Epoch 92/100\n",
            "15462/15462 [==============================] - 24s 2ms/sample - loss: 1.6252 - acc: 0.7009\n",
            "Epoch 93/100\n",
            "15462/15462 [==============================] - 24s 2ms/sample - loss: 1.5994 - acc: 0.7055\n",
            "Epoch 94/100\n",
            "15462/15462 [==============================] - 24s 2ms/sample - loss: 1.5930 - acc: 0.7072\n",
            "Epoch 95/100\n",
            "15462/15462 [==============================] - 24s 2ms/sample - loss: 1.5779 - acc: 0.7095\n",
            "Epoch 96/100\n",
            "15462/15462 [==============================] - 25s 2ms/sample - loss: 1.5648 - acc: 0.7132\n",
            "Epoch 97/100\n",
            "15462/15462 [==============================] - 24s 2ms/sample - loss: 1.5448 - acc: 0.7189\n",
            "Epoch 98/100\n",
            "15462/15462 [==============================] - 24s 2ms/sample - loss: 1.5343 - acc: 0.7171\n",
            "Epoch 99/100\n",
            "15462/15462 [==============================] - 24s 2ms/sample - loss: 1.5272 - acc: 0.7196\n",
            "Epoch 100/100\n",
            "15462/15462 [==============================] - 24s 2ms/sample - loss: 1.4927 - acc: 0.7267\n"
          ],
          "name": "stdout"
        },
        {
          "output_type": "execute_result",
          "data": {
            "text/plain": [
              "<tensorflow.python.keras.callbacks.History at 0x7f8bbc3626d8>"
            ]
          },
          "metadata": {
            "tags": []
          },
          "execution_count": 7
        }
      ]
    },
    {
      "cell_type": "code",
      "metadata": {
        "id": "1fXTEO3GJ282",
        "colab_type": "code",
        "outputId": "b6194eec-a3b7-40af-fcd5-e34c03825bd4",
        "colab": {
          "base_uri": "https://localhost:8080/",
          "height": 545
        }
      },
      "source": [
        "history = history_with_reg\n",
        "\n",
        "import matplotlib.pyplot as plt\n",
        "acc = history.history['acc']\n",
        "loss = history.history['loss']\n",
        "\n",
        "epochs = range(len(acc))\n",
        "\n",
        "plt.plot(epochs, acc, 'b', label='Training accuracy')\n",
        "plt.title('Training accuracy')\n",
        "\n",
        "plt.figure()\n",
        "\n",
        "plt.plot(epochs, loss, 'b', label='Training Loss')\n",
        "plt.title('Training loss')\n",
        "plt.legend()\n",
        "\n",
        "plt.show()"
      ],
      "execution_count": 0,
      "outputs": [
        {
          "output_type": "display_data",
          "data": {
            "image/png": "[encoded data removed]",
            "text/plain": [
              "<Figure size 432x288 with 1 Axes>"
            ]
          },
          "metadata": {
            "tags": []
          }
        },
        {
          "output_type": "display_data",
          "data": {
            "image/png": "[encoded data removed]",
            "text/plain": [
              "<Figure size 432x288 with 1 Axes>"
            ]
          },
          "metadata": {
            "tags": []
          }
        }
      ]
    },
    {
      "cell_type": "markdown",
      "metadata": {
        "id": "XMw6DVLapgZ2",
        "colab_type": "text"
      },
      "source": [
        "## 5. Generating the text \n",
        "\n",
        "Great, our model architecture is now ready and we can train it using our data. Next lets write the function to predict the next word based on the input words (or seed text). We will first tokenize the seed text, pad the sequences and pass into the trained model to get predicted word. The multiple predicted words can be appended together to get predicted sequence."
      ]
    },
    {
      "cell_type": "code",
      "metadata": {
        "id": "6Vc6PHgxa6Hm",
        "colab_type": "code",
        "outputId": "b7a707e5-f59d-4650-9c6e-88e242d78fc9",
        "colab": {
          "base_uri": "https://localhost:8080/",
          "height": 54
        }
      },
      "source": [
        "seed_text = \"Help me Obi Wan Kenobi, you're my only hope\"\n",
        "next_words = 100\n",
        "  \n",
        "for _ in range(next_words):\n",
        "\ttoken_list = tokenizer.texts_to_sequences([seed_text])[0]\n",
        "\ttoken_list = pad_sequences([token_list], maxlen=max_sequence_len-1, padding='pre')\n",
        "\tpredicted = model.predict_classes(token_list, verbose=0)\n",
        "\toutput_word = \"\"\n",
        "\tfor word, index in tokenizer.word_index.items():\n",
        "\t\tif index == predicted:\n",
        "\t\t\toutput_word = word\n",
        "\t\t\tbreak\n",
        "\tseed_text += \" \" + output_word\n",
        "print(seed_text)"
      ],
      "execution_count": 0,
      "outputs": [
        {
          "output_type": "stream",
          "text": [
            "Help me Obi Wan Kenobi, you're my only hope or this viewest survey gems wit green weep decays this ride lie in me a show good show many forth brow 'will ' ' still have behold and give stay away be much strong part bright bright show thee told thee worth told it most 'will' is loving shouldst confound dispense else mistaking seen seen strive not back of done no odours made to stay things skill give store now give harvest cross'd kill'd kill'd cross'd proceed remain need interest days can see down thence give groan new cheeks wretch suspect and mine eye be of heart so show it\n"
          ],
          "name": "stdout"
        }
      ]
    },
    {
      "cell_type": "code",
      "metadata": {
        "id": "8rJPKKlls2bY",
        "colab_type": "code",
        "colab": {}
      },
      "source": [
        ""
      ],
      "execution_count": 0,
      "outputs": []
    },
    {
      "cell_type": "code",
      "metadata": {
        "id": "UlPlIshCuFeu",
        "colab_type": "code",
        "colab": {}
      },
      "source": [
        ""
      ],
      "execution_count": 0,
      "outputs": []
    }
  ]
}